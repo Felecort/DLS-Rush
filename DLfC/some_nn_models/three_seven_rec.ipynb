{
 "cells": [
  {
   "cell_type": "code",
   "execution_count": 2,
   "metadata": {},
   "outputs": [],
   "source": [
    "from fastai.vision.all import *\n",
    "from fastbook import *\n",
    "from fastai.vision.widgets import *"
   ]
  },
  {
   "cell_type": "code",
   "execution_count": 3,
   "metadata": {},
   "outputs": [],
   "source": [
    "path = untar_data(URLs.MNIST_SAMPLE)"
   ]
  },
  {
   "cell_type": "code",
   "execution_count": 4,
   "metadata": {},
   "outputs": [
    {
     "data": {
      "text/plain": [
       "(#3) [Path('C:/Users/Vadim/.fastai/data/mnist_sample/labels.csv'),Path('C:/Users/Vadim/.fastai/data/mnist_sample/train'),Path('C:/Users/Vadim/.fastai/data/mnist_sample/valid')]"
      ]
     },
     "execution_count": 4,
     "metadata": {},
     "output_type": "execute_result"
    }
   ],
   "source": [
    "path.ls()"
   ]
  },
  {
   "cell_type": "code",
   "execution_count": 5,
   "metadata": {},
   "outputs": [
    {
     "data": {
      "text/plain": [
       "(#2) [Path('C:/Users/Vadim/.fastai/data/mnist_sample/train/3'),Path('C:/Users/Vadim/.fastai/data/mnist_sample/train/7')]"
      ]
     },
     "execution_count": 5,
     "metadata": {},
     "output_type": "execute_result"
    }
   ],
   "source": [
    "(path/'train').ls()"
   ]
  },
  {
   "cell_type": "code",
   "execution_count": 6,
   "metadata": {},
   "outputs": [
    {
     "data": {
      "text/plain": [
       "(#6131) [Path('C:/Users/Vadim/.fastai/data/mnist_sample/train/3/10.png'),Path('C:/Users/Vadim/.fastai/data/mnist_sample/train/3/10000.png'),Path('C:/Users/Vadim/.fastai/data/mnist_sample/train/3/10011.png'),Path('C:/Users/Vadim/.fastai/data/mnist_sample/train/3/10031.png'),Path('C:/Users/Vadim/.fastai/data/mnist_sample/train/3/10034.png'),Path('C:/Users/Vadim/.fastai/data/mnist_sample/train/3/10042.png'),Path('C:/Users/Vadim/.fastai/data/mnist_sample/train/3/10052.png'),Path('C:/Users/Vadim/.fastai/data/mnist_sample/train/3/1007.png'),Path('C:/Users/Vadim/.fastai/data/mnist_sample/train/3/10074.png'),Path('C:/Users/Vadim/.fastai/data/mnist_sample/train/3/10091.png')...]"
      ]
     },
     "execution_count": 6,
     "metadata": {},
     "output_type": "execute_result"
    }
   ],
   "source": [
    "threes = (path/'train'/'3').ls().sorted()\n",
    "sevens = (path/'train'/'7').ls().sorted()\n",
    "threes"
   ]
  },
  {
   "cell_type": "code",
   "execution_count": 7,
   "metadata": {},
   "outputs": [
    {
     "data": {
      "image/png": "[encoded data removed]",
      "text/plain": [
       "<PIL.PngImagePlugin.PngImageFile image mode=L size=28x28>"
      ]
     },
     "execution_count": 7,
     "metadata": {},
     "output_type": "execute_result"
    }
   ],
   "source": [
    "im3_path = threes[1]\n",
    "im3 = Image.open(im3_path)\n",
    "im3"
   ]
  },
  {
   "cell_type": "code",
   "execution_count": 8,
   "metadata": {},
   "outputs": [
    {
     "data": {
      "text/plain": [
       "array([[  0,   0,   0,   0,   0,   0],\n",
       "       [  0,   0,   0,   0,   0,  29],\n",
       "       [  0,   0,   0,  48, 166, 224],\n",
       "       [  0,  93, 244, 249, 253, 187],\n",
       "       [  0, 107, 253, 253, 230,  48],\n",
       "       [  0,   3,  20,  20,  15,   0]], dtype=uint8)"
      ]
     },
     "execution_count": 8,
     "metadata": {},
     "output_type": "execute_result"
    }
   ],
   "source": [
    "array(im3)[4:10,4:10]"
   ]
  },
  {
   "cell_type": "code",
   "execution_count": 9,
   "metadata": {},
   "outputs": [
    {
     "data": {
      "text/plain": [
       "tensor([[  0,   0,   0,   0,   0,   0],\n",
       "        [  0,   0,   0,   0,   0,  29],\n",
       "        [  0,   0,   0,  48, 166, 224],\n",
       "        [  0,  93, 244, 249, 253, 187],\n",
       "        [  0, 107, 253, 253, 230,  48],\n",
       "        [  0,   3,  20,  20,  15,   0]], dtype=torch.uint8)"
      ]
     },
     "execution_count": 9,
     "metadata": {},
     "output_type": "execute_result"
    }
   ],
   "source": [
    "tensor(im3)[4:10,4:10]"
   ]
  },
  {
   "cell_type": "code",
   "execution_count": 10,
   "metadata": {},
   "outputs": [
    {
     "data": {
      "text/html": [
       "<style type=\"text/css\">\n",
       "#T_da33a_row0_col0, #T_da33a_row0_col1, #T_da33a_row0_col2, #T_da33a_row0_col3, #T_da33a_row0_col4, #T_da33a_row0_col5, #T_da33a_row0_col6, #T_da33a_row0_col7, #T_da33a_row0_col8, #T_da33a_row0_col9, #T_da33a_row0_col10, #T_da33a_row0_col11, #T_da33a_row0_col12, #T_da33a_row0_col13, #T_da33a_row0_col14, #T_da33a_row0_col15, #T_da33a_row0_col16, #T_da33a_row0_col17, #T_da33a_row1_col0, #T_da33a_row1_col1, #T_da33a_row1_col2, #T_da33a_row1_col3, #T_da33a_row1_col4, #T_da33a_row1_col15, #T_da33a_row1_col16, #T_da33a_row1_col17, #T_da33a_row2_col0, #T_da33a_row2_col1, #T_da33a_row2_col2, #T_da33a_row2_col15, #T_da33a_row2_col16, #T_da33a_row2_col17, #T_da33a_row3_col0, #T_da33a_row3_col15, #T_da33a_row3_col16, #T_da33a_row3_col17, #T_da33a_row4_col0, #T_da33a_row4_col6, #T_da33a_row4_col7, #T_da33a_row4_col8, #T_da33a_row4_col9, #T_da33a_row4_col10, #T_da33a_row4_col15, #T_da33a_row4_col16, #T_da33a_row4_col17, #T_da33a_row5_col0, #T_da33a_row5_col5, #T_da33a_row5_col6, #T_da33a_row5_col7, #T_da33a_row5_col8, #T_da33a_row5_col9, #T_da33a_row5_col15, #T_da33a_row5_col16, #T_da33a_row5_col17, #T_da33a_row6_col0, #T_da33a_row6_col1, #T_da33a_row6_col2, #T_da33a_row6_col3, #T_da33a_row6_col4, #T_da33a_row6_col5, #T_da33a_row6_col6, #T_da33a_row6_col7, #T_da33a_row6_col8, #T_da33a_row6_col9, #T_da33a_row6_col14, #T_da33a_row6_col15, #T_da33a_row6_col16, #T_da33a_row6_col17, #T_da33a_row7_col0, #T_da33a_row7_col1, #T_da33a_row7_col2, #T_da33a_row7_col3, #T_da33a_row7_col4, #T_da33a_row7_col5, #T_da33a_row7_col6, #T_da33a_row7_col13, #T_da33a_row7_col14, #T_da33a_row7_col15, #T_da33a_row7_col16, #T_da33a_row7_col17, #T_da33a_row8_col0, #T_da33a_row8_col1, #T_da33a_row8_col2, #T_da33a_row8_col3, #T_da33a_row8_col4, #T_da33a_row8_col13, #T_da33a_row8_col14, #T_da33a_row8_col15, #T_da33a_row8_col16, #T_da33a_row8_col17, #T_da33a_row9_col0, #T_da33a_row9_col1, #T_da33a_row9_col2, #T_da33a_row9_col3, #T_da33a_row9_col4, #T_da33a_row9_col16, #T_da33a_row9_col17, #T_da33a_row10_col0, #T_da33a_row10_col1, #T_da33a_row10_col2, #T_da33a_row10_col3, #T_da33a_row10_col4, #T_da33a_row10_col5, #T_da33a_row10_col6, #T_da33a_row10_col17 {\n",
       "  font-size: 8pt;\n",
       "  background-color: #ffffff;\n",
       "  color: #000000;\n",
       "}\n",
       "#T_da33a_row1_col5 {\n",
       "  font-size: 8pt;\n",
       "  background-color: #efefef;\n",
       "  color: #000000;\n",
       "}\n",
       "#T_da33a_row1_col6, #T_da33a_row1_col13 {\n",
       "  font-size: 8pt;\n",
       "  background-color: #7c7c7c;\n",
       "  color: #f1f1f1;\n",
       "}\n",
       "#T_da33a_row1_col7 {\n",
       "  font-size: 8pt;\n",
       "  background-color: #4a4a4a;\n",
       "  color: #f1f1f1;\n",
       "}\n",
       "#T_da33a_row1_col8, #T_da33a_row1_col9, #T_da33a_row1_col10, #T_da33a_row2_col5, #T_da33a_row2_col6, #T_da33a_row2_col7, #T_da33a_row2_col11, #T_da33a_row2_col12, #T_da33a_row2_col13, #T_da33a_row3_col4, #T_da33a_row3_col12, #T_da33a_row3_col13, #T_da33a_row4_col1, #T_da33a_row4_col2, #T_da33a_row4_col3, #T_da33a_row4_col12, #T_da33a_row4_col13, #T_da33a_row5_col12, #T_da33a_row6_col11, #T_da33a_row9_col11, #T_da33a_row10_col11, #T_da33a_row10_col12, #T_da33a_row10_col13, #T_da33a_row10_col14, #T_da33a_row10_col15, #T_da33a_row10_col16 {\n",
       "  font-size: 8pt;\n",
       "  background-color: #000000;\n",
       "  color: #f1f1f1;\n",
       "}\n",
       "#T_da33a_row1_col11 {\n",
       "  font-size: 8pt;\n",
       "  background-color: #606060;\n",
       "  color: #f1f1f1;\n",
       "}\n",
       "#T_da33a_row1_col12 {\n",
       "  font-size: 8pt;\n",
       "  background-color: #4d4d4d;\n",
       "  color: #f1f1f1;\n",
       "}\n",
       "#T_da33a_row1_col14 {\n",
       "  font-size: 8pt;\n",
       "  background-color: #bbbbbb;\n",
       "  color: #000000;\n",
       "}\n",
       "#T_da33a_row2_col3 {\n",
       "  font-size: 8pt;\n",
       "  background-color: #e4e4e4;\n",
       "  color: #000000;\n",
       "}\n",
       "#T_da33a_row2_col4, #T_da33a_row8_col6 {\n",
       "  font-size: 8pt;\n",
       "  background-color: #6b6b6b;\n",
       "  color: #f1f1f1;\n",
       "}\n",
       "#T_da33a_row2_col8, #T_da33a_row2_col14, #T_da33a_row3_col14 {\n",
       "  font-size: 8pt;\n",
       "  background-color: #171717;\n",
       "  color: #f1f1f1;\n",
       "}\n",
       "#T_da33a_row2_col9, #T_da33a_row3_col11 {\n",
       "  font-size: 8pt;\n",
       "  background-color: #4b4b4b;\n",
       "  color: #f1f1f1;\n",
       "}\n",
       "#T_da33a_row2_col10, #T_da33a_row7_col10, #T_da33a_row8_col8, #T_da33a_row8_col10, #T_da33a_row9_col8, #T_da33a_row9_col10 {\n",
       "  font-size: 8pt;\n",
       "  background-color: #010101;\n",
       "  color: #f1f1f1;\n",
       "}\n",
       "#T_da33a_row3_col1 {\n",
       "  font-size: 8pt;\n",
       "  background-color: #272727;\n",
       "  color: #f1f1f1;\n",
       "}\n",
       "#T_da33a_row3_col2 {\n",
       "  font-size: 8pt;\n",
       "  background-color: #0a0a0a;\n",
       "  color: #f1f1f1;\n",
       "}\n",
       "#T_da33a_row3_col3 {\n",
       "  font-size: 8pt;\n",
       "  background-color: #050505;\n",
       "  color: #f1f1f1;\n",
       "}\n",
       "#T_da33a_row3_col5 {\n",
       "  font-size: 8pt;\n",
       "  background-color: #333333;\n",
       "  color: #f1f1f1;\n",
       "}\n",
       "#T_da33a_row3_col6 {\n",
       "  font-size: 8pt;\n",
       "  background-color: #e6e6e6;\n",
       "  color: #000000;\n",
       "}\n",
       "#T_da33a_row3_col7, #T_da33a_row3_col10 {\n",
       "  font-size: 8pt;\n",
       "  background-color: #fafafa;\n",
       "  color: #000000;\n",
       "}\n",
       "#T_da33a_row3_col8 {\n",
       "  font-size: 8pt;\n",
       "  background-color: #fbfbfb;\n",
       "  color: #000000;\n",
       "}\n",
       "#T_da33a_row3_col9 {\n",
       "  font-size: 8pt;\n",
       "  background-color: #fdfdfd;\n",
       "  color: #000000;\n",
       "}\n",
       "#T_da33a_row4_col4 {\n",
       "  font-size: 8pt;\n",
       "  background-color: #1b1b1b;\n",
       "  color: #f1f1f1;\n",
       "}\n",
       "#T_da33a_row4_col5 {\n",
       "  font-size: 8pt;\n",
       "  background-color: #e0e0e0;\n",
       "  color: #000000;\n",
       "}\n",
       "#T_da33a_row4_col11 {\n",
       "  font-size: 8pt;\n",
       "  background-color: #4e4e4e;\n",
       "  color: #f1f1f1;\n",
       "}\n",
       "#T_da33a_row4_col14 {\n",
       "  font-size: 8pt;\n",
       "  background-color: #767676;\n",
       "  color: #f1f1f1;\n",
       "}\n",
       "#T_da33a_row5_col1 {\n",
       "  font-size: 8pt;\n",
       "  background-color: #fcfcfc;\n",
       "  color: #000000;\n",
       "}\n",
       "#T_da33a_row5_col2, #T_da33a_row5_col3 {\n",
       "  font-size: 8pt;\n",
       "  background-color: #f6f6f6;\n",
       "  color: #000000;\n",
       "}\n",
       "#T_da33a_row5_col4, #T_da33a_row7_col7 {\n",
       "  font-size: 8pt;\n",
       "  background-color: #f8f8f8;\n",
       "  color: #000000;\n",
       "}\n",
       "#T_da33a_row5_col10, #T_da33a_row10_col7 {\n",
       "  font-size: 8pt;\n",
       "  background-color: #e8e8e8;\n",
       "  color: #000000;\n",
       "}\n",
       "#T_da33a_row5_col11 {\n",
       "  font-size: 8pt;\n",
       "  background-color: #222222;\n",
       "  color: #f1f1f1;\n",
       "}\n",
       "#T_da33a_row5_col13, #T_da33a_row6_col12 {\n",
       "  font-size: 8pt;\n",
       "  background-color: #090909;\n",
       "  color: #f1f1f1;\n",
       "}\n",
       "#T_da33a_row5_col14 {\n",
       "  font-size: 8pt;\n",
       "  background-color: #d0d0d0;\n",
       "  color: #000000;\n",
       "}\n",
       "#T_da33a_row6_col10, #T_da33a_row7_col11, #T_da33a_row9_col6 {\n",
       "  font-size: 8pt;\n",
       "  background-color: #060606;\n",
       "  color: #f1f1f1;\n",
       "}\n",
       "#T_da33a_row6_col13 {\n",
       "  font-size: 8pt;\n",
       "  background-color: #979797;\n",
       "  color: #f1f1f1;\n",
       "}\n",
       "#T_da33a_row7_col8 {\n",
       "  font-size: 8pt;\n",
       "  background-color: #b6b6b6;\n",
       "  color: #000000;\n",
       "}\n",
       "#T_da33a_row7_col9 {\n",
       "  font-size: 8pt;\n",
       "  background-color: #252525;\n",
       "  color: #f1f1f1;\n",
       "}\n",
       "#T_da33a_row7_col12 {\n",
       "  font-size: 8pt;\n",
       "  background-color: #999999;\n",
       "  color: #f1f1f1;\n",
       "}\n",
       "#T_da33a_row8_col5 {\n",
       "  font-size: 8pt;\n",
       "  background-color: #f9f9f9;\n",
       "  color: #000000;\n",
       "}\n",
       "#T_da33a_row8_col7 {\n",
       "  font-size: 8pt;\n",
       "  background-color: #101010;\n",
       "  color: #f1f1f1;\n",
       "}\n",
       "#T_da33a_row8_col9, #T_da33a_row9_col9 {\n",
       "  font-size: 8pt;\n",
       "  background-color: #020202;\n",
       "  color: #f1f1f1;\n",
       "}\n",
       "#T_da33a_row8_col11 {\n",
       "  font-size: 8pt;\n",
       "  background-color: #545454;\n",
       "  color: #f1f1f1;\n",
       "}\n",
       "#T_da33a_row8_col12 {\n",
       "  font-size: 8pt;\n",
       "  background-color: #f1f1f1;\n",
       "  color: #000000;\n",
       "}\n",
       "#T_da33a_row9_col5 {\n",
       "  font-size: 8pt;\n",
       "  background-color: #f7f7f7;\n",
       "  color: #000000;\n",
       "}\n",
       "#T_da33a_row9_col7 {\n",
       "  font-size: 8pt;\n",
       "  background-color: #030303;\n",
       "  color: #f1f1f1;\n",
       "}\n",
       "#T_da33a_row9_col12 {\n",
       "  font-size: 8pt;\n",
       "  background-color: #181818;\n",
       "  color: #f1f1f1;\n",
       "}\n",
       "#T_da33a_row9_col13 {\n",
       "  font-size: 8pt;\n",
       "  background-color: #303030;\n",
       "  color: #f1f1f1;\n",
       "}\n",
       "#T_da33a_row9_col14 {\n",
       "  font-size: 8pt;\n",
       "  background-color: #a9a9a9;\n",
       "  color: #f1f1f1;\n",
       "}\n",
       "#T_da33a_row9_col15 {\n",
       "  font-size: 8pt;\n",
       "  background-color: #fefefe;\n",
       "  color: #000000;\n",
       "}\n",
       "#T_da33a_row10_col8, #T_da33a_row10_col9 {\n",
       "  font-size: 8pt;\n",
       "  background-color: #bababa;\n",
       "  color: #000000;\n",
       "}\n",
       "#T_da33a_row10_col10 {\n",
       "  font-size: 8pt;\n",
       "  background-color: #393939;\n",
       "  color: #f1f1f1;\n",
       "}\n",
       "</style>\n",
       "<table id=\"T_da33a\">\n",
       "  <thead>\n",
       "    <tr>\n",
       "      <th class=\"blank level0\" >&nbsp;</th>\n",
       "      <th id=\"T_da33a_level0_col0\" class=\"col_heading level0 col0\" >0</th>\n",
       "      <th id=\"T_da33a_level0_col1\" class=\"col_heading level0 col1\" >1</th>\n",
       "      <th id=\"T_da33a_level0_col2\" class=\"col_heading level0 col2\" >2</th>\n",
       "      <th id=\"T_da33a_level0_col3\" class=\"col_heading level0 col3\" >3</th>\n",
       "      <th id=\"T_da33a_level0_col4\" class=\"col_heading level0 col4\" >4</th>\n",
       "      <th id=\"T_da33a_level0_col5\" class=\"col_heading level0 col5\" >5</th>\n",
       "      <th id=\"T_da33a_level0_col6\" class=\"col_heading level0 col6\" >6</th>\n",
       "      <th id=\"T_da33a_level0_col7\" class=\"col_heading level0 col7\" >7</th>\n",
       "      <th id=\"T_da33a_level0_col8\" class=\"col_heading level0 col8\" >8</th>\n",
       "      <th id=\"T_da33a_level0_col9\" class=\"col_heading level0 col9\" >9</th>\n",
       "      <th id=\"T_da33a_level0_col10\" class=\"col_heading level0 col10\" >10</th>\n",
       "      <th id=\"T_da33a_level0_col11\" class=\"col_heading level0 col11\" >11</th>\n",
       "      <th id=\"T_da33a_level0_col12\" class=\"col_heading level0 col12\" >12</th>\n",
       "      <th id=\"T_da33a_level0_col13\" class=\"col_heading level0 col13\" >13</th>\n",
       "      <th id=\"T_da33a_level0_col14\" class=\"col_heading level0 col14\" >14</th>\n",
       "      <th id=\"T_da33a_level0_col15\" class=\"col_heading level0 col15\" >15</th>\n",
       "      <th id=\"T_da33a_level0_col16\" class=\"col_heading level0 col16\" >16</th>\n",
       "      <th id=\"T_da33a_level0_col17\" class=\"col_heading level0 col17\" >17</th>\n",
       "    </tr>\n",
       "  </thead>\n",
       "  <tbody>\n",
       "    <tr>\n",
       "      <th id=\"T_da33a_level0_row0\" class=\"row_heading level0 row0\" >0</th>\n",
       "      <td id=\"T_da33a_row0_col0\" class=\"data row0 col0\" >0</td>\n",
       "      <td id=\"T_da33a_row0_col1\" class=\"data row0 col1\" >0</td>\n",
       "      <td id=\"T_da33a_row0_col2\" class=\"data row0 col2\" >0</td>\n",
       "      <td id=\"T_da33a_row0_col3\" class=\"data row0 col3\" >0</td>\n",
       "      <td id=\"T_da33a_row0_col4\" class=\"data row0 col4\" >0</td>\n",
       "      <td id=\"T_da33a_row0_col5\" class=\"data row0 col5\" >0</td>\n",
       "      <td id=\"T_da33a_row0_col6\" class=\"data row0 col6\" >0</td>\n",
       "      <td id=\"T_da33a_row0_col7\" class=\"data row0 col7\" >0</td>\n",
       "      <td id=\"T_da33a_row0_col8\" class=\"data row0 col8\" >0</td>\n",
       "      <td id=\"T_da33a_row0_col9\" class=\"data row0 col9\" >0</td>\n",
       "      <td id=\"T_da33a_row0_col10\" class=\"data row0 col10\" >0</td>\n",
       "      <td id=\"T_da33a_row0_col11\" class=\"data row0 col11\" >0</td>\n",
       "      <td id=\"T_da33a_row0_col12\" class=\"data row0 col12\" >0</td>\n",
       "      <td id=\"T_da33a_row0_col13\" class=\"data row0 col13\" >0</td>\n",
       "      <td id=\"T_da33a_row0_col14\" class=\"data row0 col14\" >0</td>\n",
       "      <td id=\"T_da33a_row0_col15\" class=\"data row0 col15\" >0</td>\n",
       "      <td id=\"T_da33a_row0_col16\" class=\"data row0 col16\" >0</td>\n",
       "      <td id=\"T_da33a_row0_col17\" class=\"data row0 col17\" >0</td>\n",
       "    </tr>\n",
       "    <tr>\n",
       "      <th id=\"T_da33a_level0_row1\" class=\"row_heading level0 row1\" >1</th>\n",
       "      <td id=\"T_da33a_row1_col0\" class=\"data row1 col0\" >0</td>\n",
       "      <td id=\"T_da33a_row1_col1\" class=\"data row1 col1\" >0</td>\n",
       "      <td id=\"T_da33a_row1_col2\" class=\"data row1 col2\" >0</td>\n",
       "      <td id=\"T_da33a_row1_col3\" class=\"data row1 col3\" >0</td>\n",
       "      <td id=\"T_da33a_row1_col4\" class=\"data row1 col4\" >0</td>\n",
       "      <td id=\"T_da33a_row1_col5\" class=\"data row1 col5\" >29</td>\n",
       "      <td id=\"T_da33a_row1_col6\" class=\"data row1 col6\" >150</td>\n",
       "      <td id=\"T_da33a_row1_col7\" class=\"data row1 col7\" >195</td>\n",
       "      <td id=\"T_da33a_row1_col8\" class=\"data row1 col8\" >254</td>\n",
       "      <td id=\"T_da33a_row1_col9\" class=\"data row1 col9\" >255</td>\n",
       "      <td id=\"T_da33a_row1_col10\" class=\"data row1 col10\" >254</td>\n",
       "      <td id=\"T_da33a_row1_col11\" class=\"data row1 col11\" >176</td>\n",
       "      <td id=\"T_da33a_row1_col12\" class=\"data row1 col12\" >193</td>\n",
       "      <td id=\"T_da33a_row1_col13\" class=\"data row1 col13\" >150</td>\n",
       "      <td id=\"T_da33a_row1_col14\" class=\"data row1 col14\" >96</td>\n",
       "      <td id=\"T_da33a_row1_col15\" class=\"data row1 col15\" >0</td>\n",
       "      <td id=\"T_da33a_row1_col16\" class=\"data row1 col16\" >0</td>\n",
       "      <td id=\"T_da33a_row1_col17\" class=\"data row1 col17\" >0</td>\n",
       "    </tr>\n",
       "    <tr>\n",
       "      <th id=\"T_da33a_level0_row2\" class=\"row_heading level0 row2\" >2</th>\n",
       "      <td id=\"T_da33a_row2_col0\" class=\"data row2 col0\" >0</td>\n",
       "      <td id=\"T_da33a_row2_col1\" class=\"data row2 col1\" >0</td>\n",
       "      <td id=\"T_da33a_row2_col2\" class=\"data row2 col2\" >0</td>\n",
       "      <td id=\"T_da33a_row2_col3\" class=\"data row2 col3\" >48</td>\n",
       "      <td id=\"T_da33a_row2_col4\" class=\"data row2 col4\" >166</td>\n",
       "      <td id=\"T_da33a_row2_col5\" class=\"data row2 col5\" >224</td>\n",
       "      <td id=\"T_da33a_row2_col6\" class=\"data row2 col6\" >253</td>\n",
       "      <td id=\"T_da33a_row2_col7\" class=\"data row2 col7\" >253</td>\n",
       "      <td id=\"T_da33a_row2_col8\" class=\"data row2 col8\" >234</td>\n",
       "      <td id=\"T_da33a_row2_col9\" class=\"data row2 col9\" >196</td>\n",
       "      <td id=\"T_da33a_row2_col10\" class=\"data row2 col10\" >253</td>\n",
       "      <td id=\"T_da33a_row2_col11\" class=\"data row2 col11\" >253</td>\n",
       "      <td id=\"T_da33a_row2_col12\" class=\"data row2 col12\" >253</td>\n",
       "      <td id=\"T_da33a_row2_col13\" class=\"data row2 col13\" >253</td>\n",
       "      <td id=\"T_da33a_row2_col14\" class=\"data row2 col14\" >233</td>\n",
       "      <td id=\"T_da33a_row2_col15\" class=\"data row2 col15\" >0</td>\n",
       "      <td id=\"T_da33a_row2_col16\" class=\"data row2 col16\" >0</td>\n",
       "      <td id=\"T_da33a_row2_col17\" class=\"data row2 col17\" >0</td>\n",
       "    </tr>\n",
       "    <tr>\n",
       "      <th id=\"T_da33a_level0_row3\" class=\"row_heading level0 row3\" >3</th>\n",
       "      <td id=\"T_da33a_row3_col0\" class=\"data row3 col0\" >0</td>\n",
       "      <td id=\"T_da33a_row3_col1\" class=\"data row3 col1\" >93</td>\n",
       "      <td id=\"T_da33a_row3_col2\" class=\"data row3 col2\" >244</td>\n",
       "      <td id=\"T_da33a_row3_col3\" class=\"data row3 col3\" >249</td>\n",
       "      <td id=\"T_da33a_row3_col4\" class=\"data row3 col4\" >253</td>\n",
       "      <td id=\"T_da33a_row3_col5\" class=\"data row3 col5\" >187</td>\n",
       "      <td id=\"T_da33a_row3_col6\" class=\"data row3 col6\" >46</td>\n",
       "      <td id=\"T_da33a_row3_col7\" class=\"data row3 col7\" >10</td>\n",
       "      <td id=\"T_da33a_row3_col8\" class=\"data row3 col8\" >8</td>\n",
       "      <td id=\"T_da33a_row3_col9\" class=\"data row3 col9\" >4</td>\n",
       "      <td id=\"T_da33a_row3_col10\" class=\"data row3 col10\" >10</td>\n",
       "      <td id=\"T_da33a_row3_col11\" class=\"data row3 col11\" >194</td>\n",
       "      <td id=\"T_da33a_row3_col12\" class=\"data row3 col12\" >253</td>\n",
       "      <td id=\"T_da33a_row3_col13\" class=\"data row3 col13\" >253</td>\n",
       "      <td id=\"T_da33a_row3_col14\" class=\"data row3 col14\" >233</td>\n",
       "      <td id=\"T_da33a_row3_col15\" class=\"data row3 col15\" >0</td>\n",
       "      <td id=\"T_da33a_row3_col16\" class=\"data row3 col16\" >0</td>\n",
       "      <td id=\"T_da33a_row3_col17\" class=\"data row3 col17\" >0</td>\n",
       "    </tr>\n",
       "    <tr>\n",
       "      <th id=\"T_da33a_level0_row4\" class=\"row_heading level0 row4\" >4</th>\n",
       "      <td id=\"T_da33a_row4_col0\" class=\"data row4 col0\" >0</td>\n",
       "      <td id=\"T_da33a_row4_col1\" class=\"data row4 col1\" >107</td>\n",
       "      <td id=\"T_da33a_row4_col2\" class=\"data row4 col2\" >253</td>\n",
       "      <td id=\"T_da33a_row4_col3\" class=\"data row4 col3\" >253</td>\n",
       "      <td id=\"T_da33a_row4_col4\" class=\"data row4 col4\" >230</td>\n",
       "      <td id=\"T_da33a_row4_col5\" class=\"data row4 col5\" >48</td>\n",
       "      <td id=\"T_da33a_row4_col6\" class=\"data row4 col6\" >0</td>\n",
       "      <td id=\"T_da33a_row4_col7\" class=\"data row4 col7\" >0</td>\n",
       "      <td id=\"T_da33a_row4_col8\" class=\"data row4 col8\" >0</td>\n",
       "      <td id=\"T_da33a_row4_col9\" class=\"data row4 col9\" >0</td>\n",
       "      <td id=\"T_da33a_row4_col10\" class=\"data row4 col10\" >0</td>\n",
       "      <td id=\"T_da33a_row4_col11\" class=\"data row4 col11\" >192</td>\n",
       "      <td id=\"T_da33a_row4_col12\" class=\"data row4 col12\" >253</td>\n",
       "      <td id=\"T_da33a_row4_col13\" class=\"data row4 col13\" >253</td>\n",
       "      <td id=\"T_da33a_row4_col14\" class=\"data row4 col14\" >156</td>\n",
       "      <td id=\"T_da33a_row4_col15\" class=\"data row4 col15\" >0</td>\n",
       "      <td id=\"T_da33a_row4_col16\" class=\"data row4 col16\" >0</td>\n",
       "      <td id=\"T_da33a_row4_col17\" class=\"data row4 col17\" >0</td>\n",
       "    </tr>\n",
       "    <tr>\n",
       "      <th id=\"T_da33a_level0_row5\" class=\"row_heading level0 row5\" >5</th>\n",
       "      <td id=\"T_da33a_row5_col0\" class=\"data row5 col0\" >0</td>\n",
       "      <td id=\"T_da33a_row5_col1\" class=\"data row5 col1\" >3</td>\n",
       "      <td id=\"T_da33a_row5_col2\" class=\"data row5 col2\" >20</td>\n",
       "      <td id=\"T_da33a_row5_col3\" class=\"data row5 col3\" >20</td>\n",
       "      <td id=\"T_da33a_row5_col4\" class=\"data row5 col4\" >15</td>\n",
       "      <td id=\"T_da33a_row5_col5\" class=\"data row5 col5\" >0</td>\n",
       "      <td id=\"T_da33a_row5_col6\" class=\"data row5 col6\" >0</td>\n",
       "      <td id=\"T_da33a_row5_col7\" class=\"data row5 col7\" >0</td>\n",
       "      <td id=\"T_da33a_row5_col8\" class=\"data row5 col8\" >0</td>\n",
       "      <td id=\"T_da33a_row5_col9\" class=\"data row5 col9\" >0</td>\n",
       "      <td id=\"T_da33a_row5_col10\" class=\"data row5 col10\" >43</td>\n",
       "      <td id=\"T_da33a_row5_col11\" class=\"data row5 col11\" >224</td>\n",
       "      <td id=\"T_da33a_row5_col12\" class=\"data row5 col12\" >253</td>\n",
       "      <td id=\"T_da33a_row5_col13\" class=\"data row5 col13\" >245</td>\n",
       "      <td id=\"T_da33a_row5_col14\" class=\"data row5 col14\" >74</td>\n",
       "      <td id=\"T_da33a_row5_col15\" class=\"data row5 col15\" >0</td>\n",
       "      <td id=\"T_da33a_row5_col16\" class=\"data row5 col16\" >0</td>\n",
       "      <td id=\"T_da33a_row5_col17\" class=\"data row5 col17\" >0</td>\n",
       "    </tr>\n",
       "    <tr>\n",
       "      <th id=\"T_da33a_level0_row6\" class=\"row_heading level0 row6\" >6</th>\n",
       "      <td id=\"T_da33a_row6_col0\" class=\"data row6 col0\" >0</td>\n",
       "      <td id=\"T_da33a_row6_col1\" class=\"data row6 col1\" >0</td>\n",
       "      <td id=\"T_da33a_row6_col2\" class=\"data row6 col2\" >0</td>\n",
       "      <td id=\"T_da33a_row6_col3\" class=\"data row6 col3\" >0</td>\n",
       "      <td id=\"T_da33a_row6_col4\" class=\"data row6 col4\" >0</td>\n",
       "      <td id=\"T_da33a_row6_col5\" class=\"data row6 col5\" >0</td>\n",
       "      <td id=\"T_da33a_row6_col6\" class=\"data row6 col6\" >0</td>\n",
       "      <td id=\"T_da33a_row6_col7\" class=\"data row6 col7\" >0</td>\n",
       "      <td id=\"T_da33a_row6_col8\" class=\"data row6 col8\" >0</td>\n",
       "      <td id=\"T_da33a_row6_col9\" class=\"data row6 col9\" >0</td>\n",
       "      <td id=\"T_da33a_row6_col10\" class=\"data row6 col10\" >249</td>\n",
       "      <td id=\"T_da33a_row6_col11\" class=\"data row6 col11\" >253</td>\n",
       "      <td id=\"T_da33a_row6_col12\" class=\"data row6 col12\" >245</td>\n",
       "      <td id=\"T_da33a_row6_col13\" class=\"data row6 col13\" >126</td>\n",
       "      <td id=\"T_da33a_row6_col14\" class=\"data row6 col14\" >0</td>\n",
       "      <td id=\"T_da33a_row6_col15\" class=\"data row6 col15\" >0</td>\n",
       "      <td id=\"T_da33a_row6_col16\" class=\"data row6 col16\" >0</td>\n",
       "      <td id=\"T_da33a_row6_col17\" class=\"data row6 col17\" >0</td>\n",
       "    </tr>\n",
       "    <tr>\n",
       "      <th id=\"T_da33a_level0_row7\" class=\"row_heading level0 row7\" >7</th>\n",
       "      <td id=\"T_da33a_row7_col0\" class=\"data row7 col0\" >0</td>\n",
       "      <td id=\"T_da33a_row7_col1\" class=\"data row7 col1\" >0</td>\n",
       "      <td id=\"T_da33a_row7_col2\" class=\"data row7 col2\" >0</td>\n",
       "      <td id=\"T_da33a_row7_col3\" class=\"data row7 col3\" >0</td>\n",
       "      <td id=\"T_da33a_row7_col4\" class=\"data row7 col4\" >0</td>\n",
       "      <td id=\"T_da33a_row7_col5\" class=\"data row7 col5\" >0</td>\n",
       "      <td id=\"T_da33a_row7_col6\" class=\"data row7 col6\" >0</td>\n",
       "      <td id=\"T_da33a_row7_col7\" class=\"data row7 col7\" >14</td>\n",
       "      <td id=\"T_da33a_row7_col8\" class=\"data row7 col8\" >101</td>\n",
       "      <td id=\"T_da33a_row7_col9\" class=\"data row7 col9\" >223</td>\n",
       "      <td id=\"T_da33a_row7_col10\" class=\"data row7 col10\" >253</td>\n",
       "      <td id=\"T_da33a_row7_col11\" class=\"data row7 col11\" >248</td>\n",
       "      <td id=\"T_da33a_row7_col12\" class=\"data row7 col12\" >124</td>\n",
       "      <td id=\"T_da33a_row7_col13\" class=\"data row7 col13\" >0</td>\n",
       "      <td id=\"T_da33a_row7_col14\" class=\"data row7 col14\" >0</td>\n",
       "      <td id=\"T_da33a_row7_col15\" class=\"data row7 col15\" >0</td>\n",
       "      <td id=\"T_da33a_row7_col16\" class=\"data row7 col16\" >0</td>\n",
       "      <td id=\"T_da33a_row7_col17\" class=\"data row7 col17\" >0</td>\n",
       "    </tr>\n",
       "    <tr>\n",
       "      <th id=\"T_da33a_level0_row8\" class=\"row_heading level0 row8\" >8</th>\n",
       "      <td id=\"T_da33a_row8_col0\" class=\"data row8 col0\" >0</td>\n",
       "      <td id=\"T_da33a_row8_col1\" class=\"data row8 col1\" >0</td>\n",
       "      <td id=\"T_da33a_row8_col2\" class=\"data row8 col2\" >0</td>\n",
       "      <td id=\"T_da33a_row8_col3\" class=\"data row8 col3\" >0</td>\n",
       "      <td id=\"T_da33a_row8_col4\" class=\"data row8 col4\" >0</td>\n",
       "      <td id=\"T_da33a_row8_col5\" class=\"data row8 col5\" >11</td>\n",
       "      <td id=\"T_da33a_row8_col6\" class=\"data row8 col6\" >166</td>\n",
       "      <td id=\"T_da33a_row8_col7\" class=\"data row8 col7\" >239</td>\n",
       "      <td id=\"T_da33a_row8_col8\" class=\"data row8 col8\" >253</td>\n",
       "      <td id=\"T_da33a_row8_col9\" class=\"data row8 col9\" >253</td>\n",
       "      <td id=\"T_da33a_row8_col10\" class=\"data row8 col10\" >253</td>\n",
       "      <td id=\"T_da33a_row8_col11\" class=\"data row8 col11\" >187</td>\n",
       "      <td id=\"T_da33a_row8_col12\" class=\"data row8 col12\" >30</td>\n",
       "      <td id=\"T_da33a_row8_col13\" class=\"data row8 col13\" >0</td>\n",
       "      <td id=\"T_da33a_row8_col14\" class=\"data row8 col14\" >0</td>\n",
       "      <td id=\"T_da33a_row8_col15\" class=\"data row8 col15\" >0</td>\n",
       "      <td id=\"T_da33a_row8_col16\" class=\"data row8 col16\" >0</td>\n",
       "      <td id=\"T_da33a_row8_col17\" class=\"data row8 col17\" >0</td>\n",
       "    </tr>\n",
       "    <tr>\n",
       "      <th id=\"T_da33a_level0_row9\" class=\"row_heading level0 row9\" >9</th>\n",
       "      <td id=\"T_da33a_row9_col0\" class=\"data row9 col0\" >0</td>\n",
       "      <td id=\"T_da33a_row9_col1\" class=\"data row9 col1\" >0</td>\n",
       "      <td id=\"T_da33a_row9_col2\" class=\"data row9 col2\" >0</td>\n",
       "      <td id=\"T_da33a_row9_col3\" class=\"data row9 col3\" >0</td>\n",
       "      <td id=\"T_da33a_row9_col4\" class=\"data row9 col4\" >0</td>\n",
       "      <td id=\"T_da33a_row9_col5\" class=\"data row9 col5\" >16</td>\n",
       "      <td id=\"T_da33a_row9_col6\" class=\"data row9 col6\" >248</td>\n",
       "      <td id=\"T_da33a_row9_col7\" class=\"data row9 col7\" >250</td>\n",
       "      <td id=\"T_da33a_row9_col8\" class=\"data row9 col8\" >253</td>\n",
       "      <td id=\"T_da33a_row9_col9\" class=\"data row9 col9\" >253</td>\n",
       "      <td id=\"T_da33a_row9_col10\" class=\"data row9 col10\" >253</td>\n",
       "      <td id=\"T_da33a_row9_col11\" class=\"data row9 col11\" >253</td>\n",
       "      <td id=\"T_da33a_row9_col12\" class=\"data row9 col12\" >232</td>\n",
       "      <td id=\"T_da33a_row9_col13\" class=\"data row9 col13\" >213</td>\n",
       "      <td id=\"T_da33a_row9_col14\" class=\"data row9 col14\" >111</td>\n",
       "      <td id=\"T_da33a_row9_col15\" class=\"data row9 col15\" >2</td>\n",
       "      <td id=\"T_da33a_row9_col16\" class=\"data row9 col16\" >0</td>\n",
       "      <td id=\"T_da33a_row9_col17\" class=\"data row9 col17\" >0</td>\n",
       "    </tr>\n",
       "    <tr>\n",
       "      <th id=\"T_da33a_level0_row10\" class=\"row_heading level0 row10\" >10</th>\n",
       "      <td id=\"T_da33a_row10_col0\" class=\"data row10 col0\" >0</td>\n",
       "      <td id=\"T_da33a_row10_col1\" class=\"data row10 col1\" >0</td>\n",
       "      <td id=\"T_da33a_row10_col2\" class=\"data row10 col2\" >0</td>\n",
       "      <td id=\"T_da33a_row10_col3\" class=\"data row10 col3\" >0</td>\n",
       "      <td id=\"T_da33a_row10_col4\" class=\"data row10 col4\" >0</td>\n",
       "      <td id=\"T_da33a_row10_col5\" class=\"data row10 col5\" >0</td>\n",
       "      <td id=\"T_da33a_row10_col6\" class=\"data row10 col6\" >0</td>\n",
       "      <td id=\"T_da33a_row10_col7\" class=\"data row10 col7\" >43</td>\n",
       "      <td id=\"T_da33a_row10_col8\" class=\"data row10 col8\" >98</td>\n",
       "      <td id=\"T_da33a_row10_col9\" class=\"data row10 col9\" >98</td>\n",
       "      <td id=\"T_da33a_row10_col10\" class=\"data row10 col10\" >208</td>\n",
       "      <td id=\"T_da33a_row10_col11\" class=\"data row10 col11\" >253</td>\n",
       "      <td id=\"T_da33a_row10_col12\" class=\"data row10 col12\" >253</td>\n",
       "      <td id=\"T_da33a_row10_col13\" class=\"data row10 col13\" >253</td>\n",
       "      <td id=\"T_da33a_row10_col14\" class=\"data row10 col14\" >253</td>\n",
       "      <td id=\"T_da33a_row10_col15\" class=\"data row10 col15\" >187</td>\n",
       "      <td id=\"T_da33a_row10_col16\" class=\"data row10 col16\" >22</td>\n",
       "      <td id=\"T_da33a_row10_col17\" class=\"data row10 col17\" >0</td>\n",
       "    </tr>\n",
       "  </tbody>\n",
       "</table>\n"
      ],
      "text/plain": [
       "<pandas.io.formats.style.Styler at 0x28852741a80>"
      ]
     },
     "execution_count": 10,
     "metadata": {},
     "output_type": "execute_result"
    }
   ],
   "source": [
    "im3_t = tensor(im3)\n",
    "df = pd.DataFrame(im3_t[4:15,4:22])\n",
    "df.style.set_properties(**{'font-size':'8pt'}).background_gradient('Greys')"
   ]
  },
  {
   "cell_type": "markdown",
   "metadata": {},
   "source": [
    "# Creating a dataset"
   ]
  },
  {
   "cell_type": "code",
   "execution_count": 11,
   "metadata": {},
   "outputs": [
    {
     "data": {
      "text/plain": [
       "(6131, 6265)"
      ]
     },
     "execution_count": 11,
     "metadata": {},
     "output_type": "execute_result"
    }
   ],
   "source": [
    "seven_tensors = [tensor(Image.open(o)) for o in sevens]\n",
    "three_tensors = [tensor(Image.open(o)) for o in threes]\n",
    "len(three_tensors),len(seven_tensors)"
   ]
  },
  {
   "cell_type": "markdown",
   "metadata": {},
   "source": [
    "##### Let's see how our images are looked"
   ]
  },
  {
   "cell_type": "code",
   "execution_count": 12,
   "metadata": {},
   "outputs": [
    {
     "data": {
      "image/png": "[encoded data removed]",
      "text/plain": [
       "<Figure size 72x72 with 1 Axes>"
      ]
     },
     "metadata": {
      "needs_background": "light"
     },
     "output_type": "display_data"
    },
    {
     "data": {
      "image/png": "[encoded data removed]",
      "text/plain": [
       "<Figure size 72x72 with 1 Axes>"
      ]
     },
     "metadata": {
      "needs_background": "light"
     },
     "output_type": "display_data"
    },
    {
     "data": {
      "image/png": "[encoded data removed]",
      "text/plain": [
       "<Figure size 72x72 with 1 Axes>"
      ]
     },
     "metadata": {
      "needs_background": "light"
     },
     "output_type": "display_data"
    },
    {
     "data": {
      "image/png": "[encoded data removed]",
      "text/plain": [
       "<Figure size 72x72 with 1 Axes>"
      ]
     },
     "metadata": {
      "needs_background": "light"
     },
     "output_type": "display_data"
    },
    {
     "data": {
      "image/png": "[encoded data removed]",
      "text/plain": [
       "<Figure size 72x72 with 1 Axes>"
      ]
     },
     "metadata": {
      "needs_background": "light"
     },
     "output_type": "display_data"
    }
   ],
   "source": [
    "for i in range(5):\n",
    "    show_image(three_tensors[i])"
   ]
  },
  {
   "cell_type": "markdown",
   "metadata": {},
   "source": [
    "##### Creating a stack containing all our images"
   ]
  },
  {
   "cell_type": "code",
   "execution_count": 13,
   "metadata": {},
   "outputs": [
    {
     "data": {
      "text/plain": [
       "torch.Size([6131, 28, 28])"
      ]
     },
     "execution_count": 13,
     "metadata": {},
     "output_type": "execute_result"
    }
   ],
   "source": [
    "stacked_sevens = torch.stack(seven_tensors).float()/255\n",
    "stacked_threes = torch.stack(three_tensors).float()/255\n",
    "stacked_threes.shape"
   ]
  },
  {
   "cell_type": "markdown",
   "metadata": {},
   "source": [
    "##### The length of a tensor’s shape is its rank:"
   ]
  },
  {
   "cell_type": "code",
   "execution_count": 14,
   "metadata": {},
   "outputs": [
    {
     "name": "stdout",
     "output_type": "stream",
     "text": [
      "3\n",
      "3\n"
     ]
    }
   ],
   "source": [
    "print(len(stacked_threes.shape))\n",
    "print(stacked_threes.ndim)"
   ]
  },
  {
   "cell_type": "markdown",
   "metadata": {},
   "source": [
    "##### Mean pixel value for \"3\" and \"7\""
   ]
  },
  {
   "cell_type": "code",
   "execution_count": 15,
   "metadata": {},
   "outputs": [
    {
     "data": {
      "text/plain": [
       "<AxesSubplot:>"
      ]
     },
     "execution_count": 15,
     "metadata": {},
     "output_type": "execute_result"
    },
    {
     "data": {
      "image/png": "[encoded data removed]",
      "text/plain": [
       "<Figure size 72x72 with 1 Axes>"
      ]
     },
     "metadata": {
      "needs_background": "light"
     },
     "output_type": "display_data"
    }
   ],
   "source": [
    "mean3 = stacked_threes.mean(0)\n",
    "show_image(mean3)"
   ]
  },
  {
   "cell_type": "code",
   "execution_count": 16,
   "metadata": {},
   "outputs": [
    {
     "data": {
      "text/plain": [
       "<AxesSubplot:>"
      ]
     },
     "execution_count": 16,
     "metadata": {},
     "output_type": "execute_result"
    },
    {
     "data": {
      "image/png": "[encoded data removed]",
      "text/plain": [
       "<Figure size 72x72 with 1 Axes>"
      ]
     },
     "metadata": {
      "needs_background": "light"
     },
     "output_type": "display_data"
    }
   ],
   "source": [
    "mean7 = stacked_sevens.mean(0)\n",
    "show_image(mean7)"
   ]
  },
  {
   "cell_type": "markdown",
   "metadata": {},
   "source": [
    "##### Let's check our approach using: \n",
    "* Mean absolute difference or L1 norm\n",
    "* root mean squared error (RMSE) or L2 norm"
   ]
  },
  {
   "cell_type": "code",
   "execution_count": 17,
   "metadata": {},
   "outputs": [
    {
     "data": {
      "text/plain": [
       "<AxesSubplot:>"
      ]
     },
     "execution_count": 17,
     "metadata": {},
     "output_type": "execute_result"
    },
    {
     "data": {
      "image/png": "[encoded data removed]",
      "text/plain": [
       "<Figure size 72x72 with 1 Axes>"
      ]
     },
     "metadata": {
      "needs_background": "light"
     },
     "output_type": "display_data"
    }
   ],
   "source": [
    "a_3 = stacked_threes[1]\n",
    "show_image(a_3)"
   ]
  },
  {
   "cell_type": "code",
   "execution_count": 18,
   "metadata": {},
   "outputs": [
    {
     "data": {
      "text/plain": [
       "(tensor(0.1114), tensor(0.2021))"
      ]
     },
     "execution_count": 18,
     "metadata": {},
     "output_type": "execute_result"
    }
   ],
   "source": [
    "dist_3_abs = (a_3 - mean3).abs().mean()\n",
    "dist_3_sqr = ((a_3 - mean3)**2).mean().sqrt()\n",
    "dist_3_abs, dist_3_sqr"
   ]
  },
  {
   "cell_type": "code",
   "execution_count": 19,
   "metadata": {},
   "outputs": [
    {
     "data": {
      "text/plain": [
       "(tensor(0.1586), tensor(0.3021))"
      ]
     },
     "execution_count": 19,
     "metadata": {},
     "output_type": "execute_result"
    }
   ],
   "source": [
    "dist_7_abs = (a_3 - mean7).abs().mean()\n",
    "dist_7_sqr = ((a_3 - mean7)**2).mean().sqrt()\n",
    "dist_7_abs, dist_7_sqr"
   ]
  },
  {
   "cell_type": "markdown",
   "metadata": {},
   "source": [
    "Or the similar way (torch.nn.functional as F)"
   ]
  },
  {
   "cell_type": "code",
   "execution_count": 20,
   "metadata": {},
   "outputs": [
    {
     "data": {
      "text/plain": [
       "(tensor(0.1586), tensor(0.3021))"
      ]
     },
     "execution_count": 20,
     "metadata": {},
     "output_type": "execute_result"
    }
   ],
   "source": [
    "F.l1_loss(a_3.float(), mean7), F.mse_loss(a_3, mean7).sqrt()"
   ]
  },
  {
   "cell_type": "markdown",
   "metadata": {},
   "source": [
    "##### Use our valid dataset"
   ]
  },
  {
   "cell_type": "code",
   "execution_count": 21,
   "metadata": {},
   "outputs": [
    {
     "data": {
      "text/plain": [
       "(torch.Size([1010, 28, 28]), torch.Size([1028, 28, 28]))"
      ]
     },
     "execution_count": 21,
     "metadata": {},
     "output_type": "execute_result"
    }
   ],
   "source": [
    "valid_3_tens = torch.stack([tensor(Image.open(o))\n",
    "                            for o in (path/'valid'/'3').ls()])\n",
    "valid_3_tens = valid_3_tens.float()/255\n",
    "valid_7_tens = torch.stack([tensor(Image.open(o))\n",
    "                            for o in (path/'valid'/'7').ls()])\n",
    "valid_7_tens = valid_7_tens.float()/255\n",
    "valid_3_tens.shape,valid_7_tens.shape"
   ]
  },
  {
   "cell_type": "markdown",
   "metadata": {},
   "source": [
    "##### Create loss function"
   ]
  },
  {
   "cell_type": "code",
   "execution_count": 22,
   "metadata": {},
   "outputs": [],
   "source": [
    "def mnist_distance(a, b):\n",
    "    return (a - b).abs().mean((-1, -2))"
   ]
  },
  {
   "cell_type": "code",
   "execution_count": 23,
   "metadata": {},
   "outputs": [
    {
     "data": {
      "text/plain": [
       "tensor(0.1114)"
      ]
     },
     "execution_count": 23,
     "metadata": {},
     "output_type": "execute_result"
    }
   ],
   "source": [
    "mnist_distance(a_3, mean3)"
   ]
  },
  {
   "cell_type": "markdown",
   "metadata": {},
   "source": [
    "##### Instead of checking all the images with a loop statement, we can use the next code:"
   ]
  },
  {
   "cell_type": "markdown",
   "metadata": {},
   "source": [
    "The magic trick is that PyTorch, when it tries to perform a simple subtraction operation between two tensors of different ranks, will use\n",
    "broadcasting: it will automatically expand the tensor with the smaller rank to have\n",
    "the same size as the one with the larger rank. Broadcasting is an important capability\n",
    "that makes tensor code much easier to write."
   ]
  },
  {
   "cell_type": "code",
   "execution_count": 24,
   "metadata": {},
   "outputs": [
    {
     "data": {
      "text/plain": [
       "(tensor([0.1280, 0.1623, 0.1242,  ..., 0.1508, 0.1263, 0.1260]),\n",
       " torch.Size([1010]))"
      ]
     },
     "execution_count": 24,
     "metadata": {},
     "output_type": "execute_result"
    }
   ],
   "source": [
    "valid_3_dist = mnist_distance(valid_3_tens, mean3)\n",
    "valid_3_dist, valid_3_dist.shape"
   ]
  },
  {
   "cell_type": "code",
   "execution_count": 25,
   "metadata": {},
   "outputs": [],
   "source": [
    "def is_3(x):\n",
    "    return mnist_distance(x, mean3) < mnist_distance(x, mean7)"
   ]
  },
  {
   "cell_type": "code",
   "execution_count": 26,
   "metadata": {},
   "outputs": [
    {
     "data": {
      "text/plain": [
       "(tensor(True), tensor(1.))"
      ]
     },
     "execution_count": 26,
     "metadata": {},
     "output_type": "execute_result"
    }
   ],
   "source": [
    "is_3(a_3), is_3(a_3).float()"
   ]
  },
  {
   "cell_type": "code",
   "execution_count": 29,
   "metadata": {},
   "outputs": [
    {
     "data": {
      "text/plain": [
       "tensor([ True,  True,  True,  ..., False,  True,  True])"
      ]
     },
     "execution_count": 29,
     "metadata": {},
     "output_type": "execute_result"
    }
   ],
   "source": [
    "is_3(valid_3_tens)"
   ]
  },
  {
   "cell_type": "code",
   "execution_count": 30,
   "metadata": {},
   "outputs": [
    {
     "data": {
      "text/plain": [
       "(tensor(0.9168), tensor(0.9854), tensor(0.9511))"
      ]
     },
     "execution_count": 30,
     "metadata": {},
     "output_type": "execute_result"
    }
   ],
   "source": [
    "accuracy_3s = is_3(valid_3_tens).float().mean()\n",
    "accuracy_7s = (1 - is_3(valid_7_tens).float()).mean()\n",
    "\n",
    "accuracy_3s, accuracy_7s, (accuracy_3s + accuracy_7s)/2"
   ]
  }
 ],
 "metadata": {
  "interpreter": {
   "hash": "ad604844c1a0cf62442367eee74b2193ecf6bcf1c6a93e20854edcade23d9190"
  },
  "kernelspec": {
   "display_name": "Python 3.10.4 ('venv': venv)",
   "language": "python",
   "name": "python3"
  },
  "language_info": {
   "codemirror_mode": {
    "name": "ipython",
    "version": 3
   },
   "file_extension": ".py",
   "mimetype": "text/x-python",
   "name": "python",
   "nbconvert_exporter": "python",
   "pygments_lexer": "ipython3",
   "version": "3.10.4"
  },
  "orig_nbformat": 4
 },
 "nbformat": 4,
 "nbformat_minor": 2
}
