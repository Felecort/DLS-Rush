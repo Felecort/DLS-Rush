{
 "cells": [
  {
   "cell_type": "code",
   "execution_count": 1,
   "metadata": {},
   "outputs": [],
   "source": [
    "from fastai.vision.all import *\n",
    "from fastbook import *\n",
    "from fastai.vision.widgets import *\n"
   ]
  },
  {
   "cell_type": "markdown",
   "metadata": {},
   "source": [
    "### Creating a Tensor"
   ]
  },
  {
   "cell_type": "code",
   "execution_count": 2,
   "metadata": {},
   "outputs": [
    {
     "name": "stdout",
     "output_type": "stream",
     "text": [
      "<class 'numpy.ndarray'>\n",
      "<class 'torch.Tensor'>\n"
     ]
    }
   ],
   "source": [
    "data = [[1, 2, 3], [4, 5, 6]]\n",
    "arr = array(data)\n",
    "print(type(arr))\n",
    "tns = tensor(data)\n",
    "print(type(tns))\n"
   ]
  },
  {
   "cell_type": "markdown",
   "metadata": {},
   "source": [
    "Arrays in the tensor must be of the same length "
   ]
  },
  {
   "cell_type": "code",
   "execution_count": 4,
   "metadata": {},
   "outputs": [
    {
     "ename": "ValueError",
     "evalue": "expected sequence of length 2 at dim 1 (got 5)",
     "output_type": "error",
     "traceback": [
      "\u001b[1;31m---------------------------------------------------------------------------\u001b[0m",
      "\u001b[1;31mValueError\u001b[0m                                Traceback (most recent call last)",
      "\u001b[1;32md:\\Projects\\PythonProjects\\DLS-Rush\\DLfC\\some_nn_models\\tensors_tricks.ipynb Cell 3'\u001b[0m in \u001b[0;36m<cell line: 1>\u001b[1;34m()\u001b[0m\n\u001b[1;32m----> <a href='vscode-notebook-cell:/d%3A/Projects/PythonProjects/DLS-Rush/DLfC/some_nn_models/tensors_tricks.ipynb#ch0000002?line=0'>1</a>\u001b[0m tensor([[\u001b[39m1\u001b[39;49m, \u001b[39m2\u001b[39;49m], [\u001b[39m3\u001b[39;49m, \u001b[39m4\u001b[39;49m], [\u001b[39m1\u001b[39;49m, \u001b[39m2\u001b[39;49m, \u001b[39m3\u001b[39;49m, \u001b[39m4\u001b[39;49m, \u001b[39m5\u001b[39;49m]])\n",
      "File \u001b[1;32md:\\Projects\\PythonProjects\\DLS-Rush\\venv\\lib\\site-packages\\fastai\\torch_core.py:132\u001b[0m, in \u001b[0;36mtensor\u001b[1;34m(x, *rest, **kwargs)\u001b[0m\n\u001b[0;32m    <a href='file:///d%3A/Projects/PythonProjects/DLS-Rush/venv/lib/site-packages/fastai/torch_core.py?line=127'>128</a>\u001b[0m     \u001b[39mif\u001b[39;00m \u001b[39mlen\u001b[39m(rest): x \u001b[39m=\u001b[39m (x,)\u001b[39m+\u001b[39mrest\n\u001b[0;32m    <a href='file:///d%3A/Projects/PythonProjects/DLS-Rush/venv/lib/site-packages/fastai/torch_core.py?line=128'>129</a>\u001b[0m     \u001b[39m# There was a Pytorch bug in dataloader using num_workers>0. Haven't confirmed if fixed\u001b[39;00m\n\u001b[0;32m    <a href='file:///d%3A/Projects/PythonProjects/DLS-Rush/venv/lib/site-packages/fastai/torch_core.py?line=129'>130</a>\u001b[0m     \u001b[39m# if isinstance(x, (tuple,list)) and len(x)==0: return tensor(0)\u001b[39;00m\n\u001b[0;32m    <a href='file:///d%3A/Projects/PythonProjects/DLS-Rush/venv/lib/site-packages/fastai/torch_core.py?line=130'>131</a>\u001b[0m     res \u001b[39m=\u001b[39m (x \u001b[39mif\u001b[39;00m \u001b[39misinstance\u001b[39m(x, Tensor)\n\u001b[1;32m--> <a href='file:///d%3A/Projects/PythonProjects/DLS-Rush/venv/lib/site-packages/fastai/torch_core.py?line=131'>132</a>\u001b[0m            \u001b[39melse\u001b[39;00m torch\u001b[39m.\u001b[39mtensor(x, \u001b[39m*\u001b[39m\u001b[39m*\u001b[39mkwargs) \u001b[39mif\u001b[39;00m \u001b[39misinstance\u001b[39m(x, (\u001b[39mtuple\u001b[39m,\u001b[39mlist\u001b[39m))\n\u001b[0;32m    <a href='file:///d%3A/Projects/PythonProjects/DLS-Rush/venv/lib/site-packages/fastai/torch_core.py?line=132'>133</a>\u001b[0m            \u001b[39melse\u001b[39;00m _array2tensor(x) \u001b[39mif\u001b[39;00m \u001b[39misinstance\u001b[39m(x, ndarray)\n\u001b[0;32m    <a href='file:///d%3A/Projects/PythonProjects/DLS-Rush/venv/lib/site-packages/fastai/torch_core.py?line=133'>134</a>\u001b[0m            \u001b[39melse\u001b[39;00m as_tensor(x\u001b[39m.\u001b[39mvalues, \u001b[39m*\u001b[39m\u001b[39m*\u001b[39mkwargs) \u001b[39mif\u001b[39;00m \u001b[39misinstance\u001b[39m(x, (pd\u001b[39m.\u001b[39mSeries, pd\u001b[39m.\u001b[39mDataFrame))\n\u001b[0;32m    <a href='file:///d%3A/Projects/PythonProjects/DLS-Rush/venv/lib/site-packages/fastai/torch_core.py?line=134'>135</a>\u001b[0m \u001b[39m#            else as_tensor(array(x, **kwargs)) if hasattr(x, '__array__') or is_iter(x)\u001b[39;00m\n\u001b[0;32m    <a href='file:///d%3A/Projects/PythonProjects/DLS-Rush/venv/lib/site-packages/fastai/torch_core.py?line=135'>136</a>\u001b[0m            \u001b[39melse\u001b[39;00m _array2tensor(array(x), \u001b[39m*\u001b[39m\u001b[39m*\u001b[39mkwargs))\n\u001b[0;32m    <a href='file:///d%3A/Projects/PythonProjects/DLS-Rush/venv/lib/site-packages/fastai/torch_core.py?line=136'>137</a>\u001b[0m     \u001b[39mif\u001b[39;00m res\u001b[39m.\u001b[39mdtype \u001b[39mis\u001b[39;00m torch\u001b[39m.\u001b[39mfloat64: \u001b[39mreturn\u001b[39;00m res\u001b[39m.\u001b[39mfloat()\n\u001b[0;32m    <a href='file:///d%3A/Projects/PythonProjects/DLS-Rush/venv/lib/site-packages/fastai/torch_core.py?line=137'>138</a>\u001b[0m     \u001b[39mreturn\u001b[39;00m res\n",
      "\u001b[1;31mValueError\u001b[0m: expected sequence of length 2 at dim 1 (got 5)"
     ]
    }
   ],
   "source": [
    "tensor([[1, 2], [3, 4], [1, 2, 3, 4, 5]])\n"
   ]
  },
  {
   "cell_type": "markdown",
   "metadata": {},
   "source": [
    "### Some operations with tensors"
   ]
  },
  {
   "cell_type": "code",
   "execution_count": 7,
   "metadata": {},
   "outputs": [
    {
     "data": {
      "text/plain": [
       "tensor([[1, 2, 3],\n",
       "        [4, 5, 6]])"
      ]
     },
     "execution_count": 7,
     "metadata": {},
     "output_type": "execute_result"
    }
   ],
   "source": [
    "tns\n"
   ]
  },
  {
   "cell_type": "code",
   "execution_count": 5,
   "metadata": {},
   "outputs": [
    {
     "data": {
      "text/plain": [
       "tensor([4, 5, 6])"
      ]
     },
     "execution_count": 5,
     "metadata": {},
     "output_type": "execute_result"
    }
   ],
   "source": [
    "tns[1]\n"
   ]
  },
  {
   "cell_type": "code",
   "execution_count": 6,
   "metadata": {},
   "outputs": [
    {
     "data": {
      "text/plain": [
       "tensor([2, 5])"
      ]
     },
     "execution_count": 6,
     "metadata": {},
     "output_type": "execute_result"
    }
   ],
   "source": [
    "tns[:, 1]\n"
   ]
  },
  {
   "cell_type": "code",
   "execution_count": 9,
   "metadata": {},
   "outputs": [
    {
     "data": {
      "text/plain": [
       "tensor([5, 6])"
      ]
     },
     "execution_count": 9,
     "metadata": {},
     "output_type": "execute_result"
    }
   ],
   "source": [
    "tns[1, 1:3]\n"
   ]
  },
  {
   "cell_type": "code",
   "execution_count": 11,
   "metadata": {},
   "outputs": [
    {
     "data": {
      "text/plain": [
       "tensor([[11, 12, 13],\n",
       "        [14, 15, 16]])"
      ]
     },
     "execution_count": 11,
     "metadata": {},
     "output_type": "execute_result"
    }
   ],
   "source": [
    "tns + 10  # / * - +\n"
   ]
  },
  {
   "cell_type": "markdown",
   "metadata": {},
   "source": [
    "Tensors automatically change their data type"
   ]
  },
  {
   "cell_type": "code",
   "execution_count": 12,
   "metadata": {},
   "outputs": [
    {
     "data": {
      "text/plain": [
       "'torch.LongTensor'"
      ]
     },
     "execution_count": 12,
     "metadata": {},
     "output_type": "execute_result"
    }
   ],
   "source": [
    "tns.type()\n"
   ]
  },
  {
   "cell_type": "code",
   "execution_count": 15,
   "metadata": {},
   "outputs": [
    {
     "data": {
      "text/plain": [
       "tensor([[1.5000, 3.0000, 4.5000],\n",
       "        [6.0000, 7.5000, 9.0000]])"
      ]
     },
     "execution_count": 15,
     "metadata": {},
     "output_type": "execute_result"
    }
   ],
   "source": [
    "tns*1.5\n"
   ]
  },
  {
   "cell_type": "code",
   "execution_count": 14,
   "metadata": {},
   "outputs": [
    {
     "data": {
      "text/plain": [
       "'torch.FloatTensor'"
      ]
     },
     "execution_count": 14,
     "metadata": {},
     "output_type": "execute_result"
    }
   ],
   "source": [
    "(tns*1.5).type()\n"
   ]
  },
  {
   "cell_type": "markdown",
   "metadata": {},
   "source": [
    "The most important PyTorch technique"
   ]
  },
  {
   "cell_type": "code",
   "execution_count": 16,
   "metadata": {},
   "outputs": [
    {
     "data": {
      "text/plain": [
       "tensor([2, 3, 4])"
      ]
     },
     "execution_count": 16,
     "metadata": {},
     "output_type": "execute_result"
    }
   ],
   "source": [
    "tensor([1, 2, 3]) + tensor([1, 1, 1])\n"
   ]
  }
 ],
 "metadata": {
  "interpreter": {
   "hash": "ad604844c1a0cf62442367eee74b2193ecf6bcf1c6a93e20854edcade23d9190"
  },
  "kernelspec": {
   "display_name": "Python 3.10.4 ('venv': venv)",
   "language": "python",
   "name": "python3"
  },
  "language_info": {
   "codemirror_mode": {
    "name": "ipython",
    "version": 3
   },
   "file_extension": ".py",
   "mimetype": "text/x-python",
   "name": "python",
   "nbconvert_exporter": "python",
   "pygments_lexer": "ipython3",
   "version": "3.10.4"
  },
  "orig_nbformat": 4
 },
 "nbformat": 4,
 "nbformat_minor": 2
}
