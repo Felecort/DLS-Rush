{
 "cells": [
  {
   "cell_type": "markdown",
   "metadata": {
    "id": "TK7oX5qdEEYr"
   },
   "source": [
    "<p style=\"align: center;\"><img align=center src=\"https://s8.hostingkartinok.com/uploads/images/2018/08/308b49fcfbc619d629fe4604bceb67ac.jpg\" width=500 height=450/></p>\n",
    "\n",
    "<h3 style=\"text-align: center;\"><b>Школа глубокого обучения ФПМИ МФТИ</b></h3>\n",
    "\n",
    "<h3 style=\"text-align: center;\"><b>Домашнее задание. Продвинутый поток. Весна 2021</b></h3>\n",
    "\n",
    "Это домашнее задание будет посвящено полноценному решению задачи машинного обучения."
   ]
  },
  {
   "cell_type": "markdown",
   "metadata": {
    "id": "zlB-owfaEEYs"
   },
   "source": [
    "Есть две части этого домашнего задания: \n",
    "* Сделать полноценный отчет о вашей работе: как вы обработали данные, какие модели попробовали и какие результаты получились (максимум 10 баллов). За каждую выполненную часть будет начислено определенное количество баллов.\n",
    "* Лучшее решение отправить в соревнование на [kaggle](https://www.kaggle.com/c/advanced-dls-spring-2021/) (максимум 5 баллов). За прохождение определенного порогов будут начисляться баллы.\n",
    "\n",
    "\n",
    "**Обе части будут проверяться в формате peer-review. Т.е. вашу посылку на степик будут проверять несколько других студентов и аггрегация их оценок будет выставлена. В то же время вам тоже нужно будет проверить несколько других учеников.**\n",
    "\n",
    "**Пожалуйста, делайте свою работу чистой и понятной, чтобы облегчить проверку. Если у вас будут проблемы с решением или хочется совета, то пишите в наш чат в телеграме или в лс @runfme. Если вы захотите проаппелировать оценку, то пипшите в лс @runfme.**\n",
    "\n",
    "**Во всех пунктах указания это минимальный набор вещей, которые стоит сделать. Если вы можете сделать какой-то шаг лучше или добавить что-то свое - дерзайте!**"
   ]
  },
  {
   "cell_type": "markdown",
   "metadata": {
    "id": "Tu_JvqcBEN8Y"
   },
   "source": [
    "# Как проверять?\n",
    "\n",
    "Ставьте полный балл, если выполнены все рекомендации или сделано что-то более интересное и сложное. За каждый отсустствующий пункт из рекомендация снижайте 1 балл."
   ]
  },
  {
   "cell_type": "markdown",
   "metadata": {
    "id": "ninJ63mJEEYt"
   },
   "source": [
    "# Метрика\n",
    "\n",
    "Перед решением любой задачи важно понимать, как будет оцениваться ваше решение. В данном случае мы используем стандартную для задачи классификации метрику ROC-AUC. Ее можно вычислить используя только предсказанные вероятности и истинные классы без конкретного порога классификации + она раотает даже если классы в данных сильно несбалансированны (примеров одного класса в десятки раз больше примеров длугого). Именно поэтому она очень удобна для соревнований.\n",
    "\n",
    "Посчитать ее легко:\n"
   ]
  },
  {
   "cell_type": "code",
   "execution_count": 1,
   "metadata": {
    "id": "SQIrka7yEEYu",
    "outputId": "ef45a9f2-7571-47b1-e697-b474b65cb0fb"
   },
   "outputs": [
    {
     "data": {
      "text/plain": [
       "0.8333333333333333"
      ]
     },
     "execution_count": 1,
     "metadata": {},
     "output_type": "execute_result"
    }
   ],
   "source": [
    "from sklearn.metrics import roc_auc_score\n",
    "\n",
    "y_true = [\n",
    "    0,\n",
    "    1,\n",
    "    1,\n",
    "    0,\n",
    "    1\n",
    "]\n",
    "\n",
    "y_predictions = [\n",
    "    0.1,\n",
    "    0.9,\n",
    "    0.4,\n",
    "    0.6,\n",
    "    0.61\n",
    "]\n",
    "\n",
    "roc_auc_score(y_true, y_predictions)"
   ]
  },
  {
   "cell_type": "markdown",
   "metadata": {
    "id": "IrDNNkNTEEYz"
   },
   "source": [
    "# Первая часть. Исследование"
   ]
  },
  {
   "cell_type": "code",
   "execution_count": 2,
   "metadata": {
    "id": "lzLqEeZKEEYz"
   },
   "outputs": [],
   "source": [
    "import pandas as pd\n",
    "import numpy as np\n",
    "from matplotlib import pyplot as plt"
   ]
  },
  {
   "cell_type": "markdown",
   "metadata": {
    "id": "LOlxdURSEEY3"
   },
   "source": [
    "## Загрузка данных (2 балла)\n",
    "\n",
    "1) Посмотрите на случайные строчки. \n",
    "\n",
    "2) Посмотрите, есть ли в датасете незаполненные значения (nan'ы) с помощью data.isna() или data.info() и, если нужно, замените их на что-то. Будет хорошо, если вы построите табличку с количеством nan в каждой колонке."
   ]
  },
  {
   "cell_type": "code",
   "execution_count": 4,
   "metadata": {
    "id": "pw-Brue9EEY3"
   },
   "outputs": [
    {
     "data": {
      "text/html": [
       "<div>\n",
       "<style scoped>\n",
       "    .dataframe tbody tr th:only-of-type {\n",
       "        vertical-align: middle;\n",
       "    }\n",
       "\n",
       "    .dataframe tbody tr th {\n",
       "        vertical-align: top;\n",
       "    }\n",
       "\n",
       "    .dataframe thead th {\n",
       "        text-align: right;\n",
       "    }\n",
       "</style>\n",
       "<table border=\"1\" class=\"dataframe\">\n",
       "  <thead>\n",
       "    <tr style=\"text-align: right;\">\n",
       "      <th></th>\n",
       "      <th>ClientPeriod</th>\n",
       "      <th>MonthlySpending</th>\n",
       "      <th>TotalSpent</th>\n",
       "      <th>Sex</th>\n",
       "      <th>IsSeniorCitizen</th>\n",
       "      <th>HasPartner</th>\n",
       "      <th>HasChild</th>\n",
       "      <th>HasPhoneService</th>\n",
       "      <th>HasMultiplePhoneNumbers</th>\n",
       "      <th>HasInternetService</th>\n",
       "      <th>HasOnlineSecurityService</th>\n",
       "      <th>HasOnlineBackup</th>\n",
       "      <th>HasDeviceProtection</th>\n",
       "      <th>HasTechSupportAccess</th>\n",
       "      <th>HasOnlineTV</th>\n",
       "      <th>HasMovieSubscription</th>\n",
       "      <th>HasContractPhone</th>\n",
       "      <th>IsBillingPaperless</th>\n",
       "      <th>PaymentMethod</th>\n",
       "      <th>Churn</th>\n",
       "    </tr>\n",
       "  </thead>\n",
       "  <tbody>\n",
       "    <tr>\n",
       "      <th>0</th>\n",
       "      <td>55</td>\n",
       "      <td>19.50</td>\n",
       "      <td>1026.35</td>\n",
       "      <td>Male</td>\n",
       "      <td>0</td>\n",
       "      <td>Yes</td>\n",
       "      <td>Yes</td>\n",
       "      <td>Yes</td>\n",
       "      <td>No</td>\n",
       "      <td>No</td>\n",
       "      <td>No internet service</td>\n",
       "      <td>No internet service</td>\n",
       "      <td>No internet service</td>\n",
       "      <td>No internet service</td>\n",
       "      <td>No internet service</td>\n",
       "      <td>No internet service</td>\n",
       "      <td>One year</td>\n",
       "      <td>No</td>\n",
       "      <td>Mailed check</td>\n",
       "      <td>0</td>\n",
       "    </tr>\n",
       "    <tr>\n",
       "      <th>1</th>\n",
       "      <td>72</td>\n",
       "      <td>25.85</td>\n",
       "      <td>1872.2</td>\n",
       "      <td>Male</td>\n",
       "      <td>0</td>\n",
       "      <td>Yes</td>\n",
       "      <td>No</td>\n",
       "      <td>Yes</td>\n",
       "      <td>Yes</td>\n",
       "      <td>No</td>\n",
       "      <td>No internet service</td>\n",
       "      <td>No internet service</td>\n",
       "      <td>No internet service</td>\n",
       "      <td>No internet service</td>\n",
       "      <td>No internet service</td>\n",
       "      <td>No internet service</td>\n",
       "      <td>Two year</td>\n",
       "      <td>No</td>\n",
       "      <td>Credit card (automatic)</td>\n",
       "      <td>0</td>\n",
       "    </tr>\n",
       "    <tr>\n",
       "      <th>2</th>\n",
       "      <td>1</td>\n",
       "      <td>75.90</td>\n",
       "      <td>75.9</td>\n",
       "      <td>Male</td>\n",
       "      <td>0</td>\n",
       "      <td>No</td>\n",
       "      <td>No</td>\n",
       "      <td>Yes</td>\n",
       "      <td>No</td>\n",
       "      <td>Fiber optic</td>\n",
       "      <td>No</td>\n",
       "      <td>No</td>\n",
       "      <td>No</td>\n",
       "      <td>Yes</td>\n",
       "      <td>No</td>\n",
       "      <td>No</td>\n",
       "      <td>Month-to-month</td>\n",
       "      <td>Yes</td>\n",
       "      <td>Electronic check</td>\n",
       "      <td>1</td>\n",
       "    </tr>\n",
       "    <tr>\n",
       "      <th>3</th>\n",
       "      <td>32</td>\n",
       "      <td>79.30</td>\n",
       "      <td>2570</td>\n",
       "      <td>Female</td>\n",
       "      <td>1</td>\n",
       "      <td>Yes</td>\n",
       "      <td>No</td>\n",
       "      <td>Yes</td>\n",
       "      <td>Yes</td>\n",
       "      <td>Fiber optic</td>\n",
       "      <td>No</td>\n",
       "      <td>No</td>\n",
       "      <td>Yes</td>\n",
       "      <td>No</td>\n",
       "      <td>No</td>\n",
       "      <td>No</td>\n",
       "      <td>Month-to-month</td>\n",
       "      <td>No</td>\n",
       "      <td>Mailed check</td>\n",
       "      <td>0</td>\n",
       "    </tr>\n",
       "    <tr>\n",
       "      <th>4</th>\n",
       "      <td>60</td>\n",
       "      <td>115.25</td>\n",
       "      <td>6758.45</td>\n",
       "      <td>Female</td>\n",
       "      <td>0</td>\n",
       "      <td>Yes</td>\n",
       "      <td>Yes</td>\n",
       "      <td>Yes</td>\n",
       "      <td>Yes</td>\n",
       "      <td>Fiber optic</td>\n",
       "      <td>Yes</td>\n",
       "      <td>Yes</td>\n",
       "      <td>Yes</td>\n",
       "      <td>Yes</td>\n",
       "      <td>Yes</td>\n",
       "      <td>Yes</td>\n",
       "      <td>Two year</td>\n",
       "      <td>No</td>\n",
       "      <td>Credit card (automatic)</td>\n",
       "      <td>0</td>\n",
       "    </tr>\n",
       "    <tr>\n",
       "      <th>...</th>\n",
       "      <td>...</td>\n",
       "      <td>...</td>\n",
       "      <td>...</td>\n",
       "      <td>...</td>\n",
       "      <td>...</td>\n",
       "      <td>...</td>\n",
       "      <td>...</td>\n",
       "      <td>...</td>\n",
       "      <td>...</td>\n",
       "      <td>...</td>\n",
       "      <td>...</td>\n",
       "      <td>...</td>\n",
       "      <td>...</td>\n",
       "      <td>...</td>\n",
       "      <td>...</td>\n",
       "      <td>...</td>\n",
       "      <td>...</td>\n",
       "      <td>...</td>\n",
       "      <td>...</td>\n",
       "      <td>...</td>\n",
       "    </tr>\n",
       "    <tr>\n",
       "      <th>5277</th>\n",
       "      <td>3</td>\n",
       "      <td>30.40</td>\n",
       "      <td>82.15</td>\n",
       "      <td>Male</td>\n",
       "      <td>0</td>\n",
       "      <td>No</td>\n",
       "      <td>No</td>\n",
       "      <td>No</td>\n",
       "      <td>No phone service</td>\n",
       "      <td>DSL</td>\n",
       "      <td>No</td>\n",
       "      <td>No</td>\n",
       "      <td>No</td>\n",
       "      <td>Yes</td>\n",
       "      <td>No</td>\n",
       "      <td>No</td>\n",
       "      <td>Month-to-month</td>\n",
       "      <td>No</td>\n",
       "      <td>Electronic check</td>\n",
       "      <td>0</td>\n",
       "    </tr>\n",
       "    <tr>\n",
       "      <th>5278</th>\n",
       "      <td>50</td>\n",
       "      <td>44.45</td>\n",
       "      <td>2188.45</td>\n",
       "      <td>Male</td>\n",
       "      <td>0</td>\n",
       "      <td>Yes</td>\n",
       "      <td>No</td>\n",
       "      <td>No</td>\n",
       "      <td>No phone service</td>\n",
       "      <td>DSL</td>\n",
       "      <td>Yes</td>\n",
       "      <td>No</td>\n",
       "      <td>No</td>\n",
       "      <td>Yes</td>\n",
       "      <td>Yes</td>\n",
       "      <td>No</td>\n",
       "      <td>One year</td>\n",
       "      <td>Yes</td>\n",
       "      <td>Bank transfer (automatic)</td>\n",
       "      <td>0</td>\n",
       "    </tr>\n",
       "    <tr>\n",
       "      <th>5279</th>\n",
       "      <td>1</td>\n",
       "      <td>55.05</td>\n",
       "      <td>55.05</td>\n",
       "      <td>Male</td>\n",
       "      <td>0</td>\n",
       "      <td>No</td>\n",
       "      <td>No</td>\n",
       "      <td>Yes</td>\n",
       "      <td>No</td>\n",
       "      <td>DSL</td>\n",
       "      <td>No</td>\n",
       "      <td>No</td>\n",
       "      <td>Yes</td>\n",
       "      <td>Yes</td>\n",
       "      <td>No</td>\n",
       "      <td>No</td>\n",
       "      <td>Month-to-month</td>\n",
       "      <td>No</td>\n",
       "      <td>Mailed check</td>\n",
       "      <td>0</td>\n",
       "    </tr>\n",
       "    <tr>\n",
       "      <th>5280</th>\n",
       "      <td>29</td>\n",
       "      <td>76.00</td>\n",
       "      <td>2215.25</td>\n",
       "      <td>Female</td>\n",
       "      <td>0</td>\n",
       "      <td>No</td>\n",
       "      <td>No</td>\n",
       "      <td>Yes</td>\n",
       "      <td>Yes</td>\n",
       "      <td>Fiber optic</td>\n",
       "      <td>No</td>\n",
       "      <td>No</td>\n",
       "      <td>No</td>\n",
       "      <td>No</td>\n",
       "      <td>No</td>\n",
       "      <td>No</td>\n",
       "      <td>Month-to-month</td>\n",
       "      <td>Yes</td>\n",
       "      <td>Credit card (automatic)</td>\n",
       "      <td>0</td>\n",
       "    </tr>\n",
       "    <tr>\n",
       "      <th>5281</th>\n",
       "      <td>19</td>\n",
       "      <td>75.90</td>\n",
       "      <td>1375.6</td>\n",
       "      <td>Female</td>\n",
       "      <td>0</td>\n",
       "      <td>No</td>\n",
       "      <td>Yes</td>\n",
       "      <td>Yes</td>\n",
       "      <td>Yes</td>\n",
       "      <td>DSL</td>\n",
       "      <td>Yes</td>\n",
       "      <td>Yes</td>\n",
       "      <td>No</td>\n",
       "      <td>Yes</td>\n",
       "      <td>Yes</td>\n",
       "      <td>No</td>\n",
       "      <td>Month-to-month</td>\n",
       "      <td>Yes</td>\n",
       "      <td>Mailed check</td>\n",
       "      <td>0</td>\n",
       "    </tr>\n",
       "  </tbody>\n",
       "</table>\n",
       "<p>5282 rows × 20 columns</p>\n",
       "</div>"
      ],
      "text/plain": [
       "      ClientPeriod  MonthlySpending TotalSpent     Sex  IsSeniorCitizen  \\\n",
       "0               55            19.50    1026.35    Male                0   \n",
       "1               72            25.85     1872.2    Male                0   \n",
       "2                1            75.90       75.9    Male                0   \n",
       "3               32            79.30       2570  Female                1   \n",
       "4               60           115.25    6758.45  Female                0   \n",
       "...            ...              ...        ...     ...              ...   \n",
       "5277             3            30.40      82.15    Male                0   \n",
       "5278            50            44.45    2188.45    Male                0   \n",
       "5279             1            55.05      55.05    Male                0   \n",
       "5280            29            76.00    2215.25  Female                0   \n",
       "5281            19            75.90     1375.6  Female                0   \n",
       "\n",
       "     HasPartner HasChild HasPhoneService HasMultiplePhoneNumbers  \\\n",
       "0           Yes      Yes             Yes                      No   \n",
       "1           Yes       No             Yes                     Yes   \n",
       "2            No       No             Yes                      No   \n",
       "3           Yes       No             Yes                     Yes   \n",
       "4           Yes      Yes             Yes                     Yes   \n",
       "...         ...      ...             ...                     ...   \n",
       "5277         No       No              No        No phone service   \n",
       "5278        Yes       No              No        No phone service   \n",
       "5279         No       No             Yes                      No   \n",
       "5280         No       No             Yes                     Yes   \n",
       "5281         No      Yes             Yes                     Yes   \n",
       "\n",
       "     HasInternetService HasOnlineSecurityService      HasOnlineBackup  \\\n",
       "0                    No      No internet service  No internet service   \n",
       "1                    No      No internet service  No internet service   \n",
       "2           Fiber optic                       No                   No   \n",
       "3           Fiber optic                       No                   No   \n",
       "4           Fiber optic                      Yes                  Yes   \n",
       "...                 ...                      ...                  ...   \n",
       "5277                DSL                       No                   No   \n",
       "5278                DSL                      Yes                   No   \n",
       "5279                DSL                       No                   No   \n",
       "5280        Fiber optic                       No                   No   \n",
       "5281                DSL                      Yes                  Yes   \n",
       "\n",
       "      HasDeviceProtection HasTechSupportAccess          HasOnlineTV  \\\n",
       "0     No internet service  No internet service  No internet service   \n",
       "1     No internet service  No internet service  No internet service   \n",
       "2                      No                  Yes                   No   \n",
       "3                     Yes                   No                   No   \n",
       "4                     Yes                  Yes                  Yes   \n",
       "...                   ...                  ...                  ...   \n",
       "5277                   No                  Yes                   No   \n",
       "5278                   No                  Yes                  Yes   \n",
       "5279                  Yes                  Yes                   No   \n",
       "5280                   No                   No                   No   \n",
       "5281                   No                  Yes                  Yes   \n",
       "\n",
       "     HasMovieSubscription HasContractPhone IsBillingPaperless  \\\n",
       "0     No internet service         One year                 No   \n",
       "1     No internet service         Two year                 No   \n",
       "2                      No   Month-to-month                Yes   \n",
       "3                      No   Month-to-month                 No   \n",
       "4                     Yes         Two year                 No   \n",
       "...                   ...              ...                ...   \n",
       "5277                   No   Month-to-month                 No   \n",
       "5278                   No         One year                Yes   \n",
       "5279                   No   Month-to-month                 No   \n",
       "5280                   No   Month-to-month                Yes   \n",
       "5281                   No   Month-to-month                Yes   \n",
       "\n",
       "                  PaymentMethod  Churn  \n",
       "0                  Mailed check      0  \n",
       "1       Credit card (automatic)      0  \n",
       "2              Electronic check      1  \n",
       "3                  Mailed check      0  \n",
       "4       Credit card (automatic)      0  \n",
       "...                         ...    ...  \n",
       "5277           Electronic check      0  \n",
       "5278  Bank transfer (automatic)      0  \n",
       "5279               Mailed check      0  \n",
       "5280    Credit card (automatic)      0  \n",
       "5281               Mailed check      0  \n",
       "\n",
       "[5282 rows x 20 columns]"
      ]
     },
     "execution_count": 4,
     "metadata": {},
     "output_type": "execute_result"
    }
   ],
   "source": [
    "data = pd.read_csv('./train.csv')\n",
    "data"
   ]
  },
  {
   "cell_type": "code",
   "execution_count": 5,
   "metadata": {
    "id": "KgnkkF5bEEY9"
   },
   "outputs": [],
   "source": [
    "# Для вашего удобства списки с именами разных колонок\n",
    "\n",
    "# Числовые признаки\n",
    "num_cols = [\n",
    "    'ClientPeriod',\n",
    "    'MonthlySpending',\n",
    "    'TotalSpent'\n",
    "]\n",
    "\n",
    "# Категориальные признаки\n",
    "cat_cols = [\n",
    "    'Sex',\n",
    "    'IsSeniorCitizen',\n",
    "    'HasPartner',\n",
    "    'HasChild',\n",
    "    'HasPhoneService',\n",
    "    'HasMultiplePhoneNumbers',\n",
    "    'HasInternetService',\n",
    "    'HasOnlineSecurityService',\n",
    "    'HasOnlineBackup',\n",
    "    'HasDeviceProtection',\n",
    "    'HasTechSupportAccess',\n",
    "    'HasOnlineTV',\n",
    "    'HasMovieSubscription',\n",
    "    'HasContractPhone',\n",
    "    'IsBillingPaperless',\n",
    "    'PaymentMethod'\n",
    "]\n",
    "\n",
    "feature_cols = num_cols + cat_cols\n",
    "target_col = 'Churn'"
   ]
  },
  {
   "cell_type": "markdown",
   "metadata": {},
   "source": [
    "### Обработка данных"
   ]
  },
  {
   "cell_type": "code",
   "execution_count": 6,
   "metadata": {},
   "outputs": [
    {
     "data": {
      "text/plain": [
       "ClientPeriod                False\n",
       "MonthlySpending             False\n",
       "TotalSpent                  False\n",
       "Sex                         False\n",
       "IsSeniorCitizen             False\n",
       "HasPartner                  False\n",
       "HasChild                    False\n",
       "HasPhoneService             False\n",
       "HasMultiplePhoneNumbers     False\n",
       "HasInternetService          False\n",
       "HasOnlineSecurityService    False\n",
       "HasOnlineBackup             False\n",
       "HasDeviceProtection         False\n",
       "HasTechSupportAccess        False\n",
       "HasOnlineTV                 False\n",
       "HasMovieSubscription        False\n",
       "HasContractPhone            False\n",
       "IsBillingPaperless          False\n",
       "PaymentMethod               False\n",
       "Churn                       False\n",
       "dtype: bool"
      ]
     },
     "execution_count": 6,
     "metadata": {},
     "output_type": "execute_result"
    }
   ],
   "source": [
    "data.isnull().any()"
   ]
  },
  {
   "cell_type": "code",
   "execution_count": 7,
   "metadata": {},
   "outputs": [
    {
     "name": "stdout",
     "output_type": "stream",
     "text": [
      "<class 'pandas.core.frame.DataFrame'>\n",
      "RangeIndex: 5282 entries, 0 to 5281\n",
      "Data columns (total 20 columns):\n",
      " #   Column                    Non-Null Count  Dtype  \n",
      "---  ------                    --------------  -----  \n",
      " 0   ClientPeriod              5282 non-null   int64  \n",
      " 1   MonthlySpending           5282 non-null   float64\n",
      " 2   TotalSpent                5282 non-null   object \n",
      " 3   Sex                       5282 non-null   object \n",
      " 4   IsSeniorCitizen           5282 non-null   int64  \n",
      " 5   HasPartner                5282 non-null   object \n",
      " 6   HasChild                  5282 non-null   object \n",
      " 7   HasPhoneService           5282 non-null   object \n",
      " 8   HasMultiplePhoneNumbers   5282 non-null   object \n",
      " 9   HasInternetService        5282 non-null   object \n",
      " 10  HasOnlineSecurityService  5282 non-null   object \n",
      " 11  HasOnlineBackup           5282 non-null   object \n",
      " 12  HasDeviceProtection       5282 non-null   object \n",
      " 13  HasTechSupportAccess      5282 non-null   object \n",
      " 14  HasOnlineTV               5282 non-null   object \n",
      " 15  HasMovieSubscription      5282 non-null   object \n",
      " 16  HasContractPhone          5282 non-null   object \n",
      " 17  IsBillingPaperless        5282 non-null   object \n",
      " 18  PaymentMethod             5282 non-null   object \n",
      " 19  Churn                     5282 non-null   int64  \n",
      "dtypes: float64(1), int64(3), object(16)\n",
      "memory usage: 825.4+ KB\n"
     ]
    }
   ],
   "source": [
    "data.info()"
   ]
  },
  {
   "cell_type": "code",
   "execution_count": 8,
   "metadata": {
    "id": "tHC6gWabEEZA"
   },
   "outputs": [
    {
     "data": {
      "text/plain": [
       "ClientPeriod                False\n",
       "MonthlySpending             False\n",
       "TotalSpent                   True\n",
       "Sex                         False\n",
       "IsSeniorCitizen             False\n",
       "HasPartner                  False\n",
       "HasChild                    False\n",
       "HasPhoneService             False\n",
       "HasMultiplePhoneNumbers     False\n",
       "HasInternetService          False\n",
       "HasOnlineSecurityService    False\n",
       "HasOnlineBackup             False\n",
       "HasDeviceProtection         False\n",
       "HasTechSupportAccess        False\n",
       "HasOnlineTV                 False\n",
       "HasMovieSubscription        False\n",
       "HasContractPhone            False\n",
       "IsBillingPaperless          False\n",
       "PaymentMethod               False\n",
       "Churn                       False\n",
       "dtype: bool"
      ]
     },
     "execution_count": 8,
     "metadata": {},
     "output_type": "execute_result"
    }
   ],
   "source": [
    "data['TotalSpent'] = pd.to_numeric(data['TotalSpent'],errors='coerce')\n",
    "data.isnull().any()"
   ]
  },
  {
   "cell_type": "code",
   "execution_count": 9,
   "metadata": {},
   "outputs": [
    {
     "data": {
      "text/plain": [
       "ClientPeriod                False\n",
       "MonthlySpending             False\n",
       "TotalSpent                  False\n",
       "Sex                         False\n",
       "IsSeniorCitizen             False\n",
       "HasPartner                  False\n",
       "HasChild                    False\n",
       "HasPhoneService             False\n",
       "HasMultiplePhoneNumbers     False\n",
       "HasInternetService          False\n",
       "HasOnlineSecurityService    False\n",
       "HasOnlineBackup             False\n",
       "HasDeviceProtection         False\n",
       "HasTechSupportAccess        False\n",
       "HasOnlineTV                 False\n",
       "HasMovieSubscription        False\n",
       "HasContractPhone            False\n",
       "IsBillingPaperless          False\n",
       "PaymentMethod               False\n",
       "Churn                       False\n",
       "dtype: bool"
      ]
     },
     "execution_count": 9,
     "metadata": {},
     "output_type": "execute_result"
    }
   ],
   "source": [
    "data = data.dropna()\n",
    "data.isna().any()"
   ]
  },
  {
   "cell_type": "markdown",
   "metadata": {
    "id": "dK370bPCEEZD"
   },
   "source": [
    "## Анализ данных (3 балла)\n",
    "\n",
    "1) Для численных призанков постройте гистограмму (*plt.hist(...)*) или boxplot (*plt.boxplot(...)*). Для категориальных посчитайте количество каждого значения для каждого признака. Для каждой колонки надо сделать *data.value_counts()* и построить bar диаграммы *plt.bar(...)* или круговые диаграммы *plt.pie(...)* (хорошо, елси вы сможете это сделать на одном гарфике с помощью *plt.subplots(...)*). \n",
    "\n",
    "2) Посмотрите на распределение целевой переменной и скажите, являются ли классы несбалансированными.\n",
    "\n",
    "3) (Если будет желание) Поиграйте с разными библиотеками для визуализации - *sns*, *pandas_visual_analysis*, etc.\n",
    "\n",
    "Второй пункт очень важен, потому что существуют задачи классификации с несбалансированными классами. Например, это может значить, что в датасете намного больше примеров 0 класса. В таких случаях нужно 1) не использовать accuracy как метрику 2) использовать методы борьбы с imbalanced dataset (обычно если датасет сильно несбалансирован, т.е. класса 1 в 20 раз меньше класса 0)."
   ]
  },
  {
   "cell_type": "markdown",
   "metadata": {},
   "source": [
    "### 1) Гистограммы численных признаков"
   ]
  },
  {
   "cell_type": "code",
   "execution_count": 10,
   "metadata": {
    "id": "NZkbgFJZEEZE"
   },
   "outputs": [
    {
     "data": {
      "text/plain": [
       "array([[<AxesSubplot:title={'center':'ClientPeriod'}>,\n",
       "        <AxesSubplot:title={'center':'MonthlySpending'}>],\n",
       "       [<AxesSubplot:title={'center':'TotalSpent'}>, <AxesSubplot:>]],\n",
       "      dtype=object)"
      ]
     },
     "execution_count": 10,
     "metadata": {},
     "output_type": "execute_result"
    },
    {
     "data": {
      "image/png": "[encoded data removed]",
      "text/plain": [
       "<Figure size 432x288 with 4 Axes>"
      ]
     },
     "metadata": {
      "needs_background": "light"
     },
     "output_type": "display_data"
    }
   ],
   "source": [
    "num_cols_df = data[num_cols]\n",
    "num_cols_df.hist()"
   ]
  },
  {
   "cell_type": "markdown",
   "metadata": {},
   "source": [
    "### 1) Bar диаграммы для категориальных признаков"
   ]
  },
  {
   "cell_type": "code",
   "execution_count": 11,
   "metadata": {},
   "outputs": [
    {
     "data": {
      "image/png": "[encoded data removed]",
      "text/plain": [
       "<Figure size 432x288 with 1 Axes>"
      ]
     },
     "metadata": {
      "needs_background": "light"
     },
     "output_type": "display_data"
    },
    {
     "data": {
      "image/png": "[encoded data removed]",
      "text/plain": [
       "<Figure size 432x288 with 1 Axes>"
      ]
     },
     "metadata": {
      "needs_background": "light"
     },
     "output_type": "display_data"
    },
    {
     "data": {
      "image/png": "[encoded data removed]",
      "text/plain": [
       "<Figure size 432x288 with 1 Axes>"
      ]
     },
     "metadata": {
      "needs_background": "light"
     },
     "output_type": "display_data"
    },
    {
     "data": {
      "image/png": "[encoded data removed]",
      "text/plain": [
       "<Figure size 432x288 with 1 Axes>"
      ]
     },
     "metadata": {
      "needs_background": "light"
     },
     "output_type": "display_data"
    },
    {
     "data": {
      "image/png": "[encoded data removed]",
      "text/plain": [
       "<Figure size 432x288 with 1 Axes>"
      ]
     },
     "metadata": {
      "needs_background": "light"
     },
     "output_type": "display_data"
    },
    {
     "data": {
      "image/png": "[encoded data removed]",
      "text/plain": [
       "<Figure size 432x288 with 1 Axes>"
      ]
     },
     "metadata": {
      "needs_background": "light"
     },
     "output_type": "display_data"
    },
    {
     "data": {
      "image/png": "[encoded data removed]",
      "text/plain": [
       "<Figure size 432x288 with 1 Axes>"
      ]
     },
     "metadata": {
      "needs_background": "light"
     },
     "output_type": "display_data"
    },
    {
     "data": {
      "image/png": "[encoded data removed]",
      "text/plain": [
       "<Figure size 432x288 with 1 Axes>"
      ]
     },
     "metadata": {
      "needs_background": "light"
     },
     "output_type": "display_data"
    },
    {
     "data": {
      "image/png": "[encoded data removed]",
      "text/plain": [
       "<Figure size 432x288 with 1 Axes>"
      ]
     },
     "metadata": {
      "needs_background": "light"
     },
     "output_type": "display_data"
    },
    {
     "data": {
      "image/png": "[encoded data removed]",
      "text/plain": [
       "<Figure size 432x288 with 1 Axes>"
      ]
     },
     "metadata": {
      "needs_background": "light"
     },
     "output_type": "display_data"
    },
    {
     "data": {
      "image/png": "[encoded data removed]",
      "text/plain": [
       "<Figure size 432x288 with 1 Axes>"
      ]
     },
     "metadata": {
      "needs_background": "light"
     },
     "output_type": "display_data"
    },
    {
     "data": {
      "image/png": "[encoded data removed]",
      "text/plain": [
       "<Figure size 432x288 with 1 Axes>"
      ]
     },
     "metadata": {
      "needs_background": "light"
     },
     "output_type": "display_data"
    },
    {
     "data": {
      "image/png": "[encoded data removed]",
      "text/plain": [
       "<Figure size 432x288 with 1 Axes>"
      ]
     },
     "metadata": {
      "needs_background": "light"
     },
     "output_type": "display_data"
    },
    {
     "data": {
      "image/png": "[encoded data removed]",
      "text/plain": [
       "<Figure size 432x288 with 1 Axes>"
      ]
     },
     "metadata": {
      "needs_background": "light"
     },
     "output_type": "display_data"
    },
    {
     "data": {
      "image/png": "[encoded data removed]",
      "text/plain": [
       "<Figure size 432x288 with 1 Axes>"
      ]
     },
     "metadata": {
      "needs_background": "light"
     },
     "output_type": "display_data"
    },
    {
     "data": {
      "image/png": "[encoded data removed]",
      "text/plain": [
       "<Figure size 432x288 with 1 Axes>"
      ]
     },
     "metadata": {
      "needs_background": "light"
     },
     "output_type": "display_data"
    }
   ],
   "source": [
    "cat_cols_df = data[cat_cols]\n",
    "for cat_column in cat_cols:\n",
    "    cat_cols_df[cat_column].value_counts().plot.bar(title=cat_column)\n",
    "    plt.show()"
   ]
  },
  {
   "cell_type": "markdown",
   "metadata": {
    "id": "zg60u3QDEEZH"
   },
   "source": [
    "(Дополнительно) Если вы нашли какие-то ошибки в данных или выбросы, то можете их убрать. Тут можно поэксперементировать с обработкой данных как угодно, но не за баллы."
   ]
  },
  {
   "cell_type": "markdown",
   "metadata": {
    "id": "fwfksF1gEEZI"
   },
   "source": [
    "### 2) Распределение целевой переменной"
   ]
  },
  {
   "cell_type": "code",
   "execution_count": 12,
   "metadata": {},
   "outputs": [
    {
     "data": {
      "text/plain": [
       "count    5273.000000\n",
       "mean        0.262469\n",
       "std         0.440018\n",
       "min         0.000000\n",
       "25%         0.000000\n",
       "50%         0.000000\n",
       "75%         1.000000\n",
       "max         1.000000\n",
       "Name: Churn, dtype: float64"
      ]
     },
     "execution_count": 12,
     "metadata": {},
     "output_type": "execute_result"
    }
   ],
   "source": [
    "data[target_col].describe()"
   ]
  },
  {
   "cell_type": "code",
   "execution_count": 13,
   "metadata": {},
   "outputs": [
    {
     "data": {
      "text/plain": [
       "<AxesSubplot:>"
      ]
     },
     "execution_count": 13,
     "metadata": {},
     "output_type": "execute_result"
    },
    {
     "data": {
      "image/png": "[encoded data removed]",
      "text/plain": [
       "<Figure size 432x288 with 1 Axes>"
      ]
     },
     "metadata": {
      "needs_background": "light"
     },
     "output_type": "display_data"
    }
   ],
   "source": [
    "data[target_col].hist()"
   ]
  },
  {
   "cell_type": "markdown",
   "metadata": {
    "id": "DviiJd8REEZK"
   },
   "source": [
    "## Применение линейных моделей (3 балла)\n",
    "\n",
    "1) Обработайте данные для того, чтобы к ним можно было применить LogisticRegression. Т.е. отнормируйте числовые признаки, а категориальные закодируйте с помощью one-hot-encoding'а. \n",
    "\n",
    "2) С помощью кроссвалидации или разделения на train/valid выборку протестируйте разные значения гиперпараметра C и выберите лучший (можно тестировать С=100, 10, 1, 0.1, 0.01, 0.001) по метрике ROC-AUC. \n",
    "\n",
    "Если вы разделяете на train/valid, то используйте LogisticRegressionCV. Он сам при вызове .fit() подберет параметр С. (не забудьте передать scroing='roc_auc', чтобы при кроссвалидации сравнивались значения этой метрики, и refit=True, чтобы при потом модель обучилась на всем датасете с лучшим параметром C). \n",
    "\n",
    "\n",
    "(более сложный вариант) Если вы будете использовать кроссвалидацию, то преобразования данных и LogisticRegression нужно соединить в один Pipeline с помощью make_pipeline, как это делалось во втором семинаре. Потом pipeline надо передать в GridSearchCV. Для one-hot-encoding'a можно испльзовать комбинацию LabelEncoder + OneHotEncoder (сначала превращаем строчки в числа, а потом числа првращаем в one-hot вектора.)"
   ]
  },
  {
   "cell_type": "code",
   "execution_count": 14,
   "metadata": {
    "id": "xHCLDmwqEEZL"
   },
   "outputs": [],
   "source": [
    "from sklearn.linear_model import LogisticRegression, LogisticRegressionCV\n",
    "from sklearn.model_selection import train_test_split, GridSearchCV\n",
    "from sklearn.preprocessing import StandardScaler, RobustScaler, LabelEncoder, OneHotEncoder\n",
    "from sklearn.pipeline import make_pipeline"
   ]
  },
  {
   "cell_type": "markdown",
   "metadata": {
    "id": "P2Yv3uYtEEZO"
   },
   "source": [
    "### 1) Нормируем числовые признаки"
   ]
  },
  {
   "cell_type": "code",
   "execution_count": 15,
   "metadata": {},
   "outputs": [
    {
     "data": {
      "text/html": [
       "<div>\n",
       "<style scoped>\n",
       "    .dataframe tbody tr th:only-of-type {\n",
       "        vertical-align: middle;\n",
       "    }\n",
       "\n",
       "    .dataframe tbody tr th {\n",
       "        vertical-align: top;\n",
       "    }\n",
       "\n",
       "    .dataframe thead th {\n",
       "        text-align: right;\n",
       "    }\n",
       "</style>\n",
       "<table border=\"1\" class=\"dataframe\">\n",
       "  <thead>\n",
       "    <tr style=\"text-align: right;\">\n",
       "      <th></th>\n",
       "      <th>ClientPeriod</th>\n",
       "      <th>MonthlySpending</th>\n",
       "      <th>TotalSpent</th>\n",
       "    </tr>\n",
       "  </thead>\n",
       "  <tbody>\n",
       "    <tr>\n",
       "      <th>0</th>\n",
       "      <td>0.919099</td>\n",
       "      <td>-1.506436</td>\n",
       "      <td>-0.557582</td>\n",
       "    </tr>\n",
       "    <tr>\n",
       "      <th>1</th>\n",
       "      <td>1.612060</td>\n",
       "      <td>-1.295997</td>\n",
       "      <td>-0.184763</td>\n",
       "    </tr>\n",
       "    <tr>\n",
       "      <th>2</th>\n",
       "      <td>-1.282072</td>\n",
       "      <td>0.362658</td>\n",
       "      <td>-0.976504</td>\n",
       "    </tr>\n",
       "    <tr>\n",
       "      <th>3</th>\n",
       "      <td>-0.018437</td>\n",
       "      <td>0.475334</td>\n",
       "      <td>0.122800</td>\n",
       "    </tr>\n",
       "    <tr>\n",
       "      <th>4</th>\n",
       "      <td>1.122911</td>\n",
       "      <td>1.666716</td>\n",
       "      <td>1.968909</td>\n",
       "    </tr>\n",
       "    <tr>\n",
       "      <th>...</th>\n",
       "      <td>...</td>\n",
       "      <td>...</td>\n",
       "      <td>...</td>\n",
       "    </tr>\n",
       "    <tr>\n",
       "      <th>5277</th>\n",
       "      <td>-1.200547</td>\n",
       "      <td>-1.145210</td>\n",
       "      <td>-0.973749</td>\n",
       "    </tr>\n",
       "    <tr>\n",
       "      <th>5278</th>\n",
       "      <td>0.715287</td>\n",
       "      <td>-0.679594</td>\n",
       "      <td>-0.045372</td>\n",
       "    </tr>\n",
       "    <tr>\n",
       "      <th>5279</th>\n",
       "      <td>-1.282072</td>\n",
       "      <td>-0.328310</td>\n",
       "      <td>-0.985693</td>\n",
       "    </tr>\n",
       "    <tr>\n",
       "      <th>5280</th>\n",
       "      <td>-0.140724</td>\n",
       "      <td>0.365972</td>\n",
       "      <td>-0.033560</td>\n",
       "    </tr>\n",
       "    <tr>\n",
       "      <th>5281</th>\n",
       "      <td>-0.548349</td>\n",
       "      <td>0.362658</td>\n",
       "      <td>-0.403645</td>\n",
       "    </tr>\n",
       "  </tbody>\n",
       "</table>\n",
       "<p>5273 rows × 3 columns</p>\n",
       "</div>"
      ],
      "text/plain": [
       "      ClientPeriod  MonthlySpending  TotalSpent\n",
       "0         0.919099        -1.506436   -0.557582\n",
       "1         1.612060        -1.295997   -0.184763\n",
       "2        -1.282072         0.362658   -0.976504\n",
       "3        -0.018437         0.475334    0.122800\n",
       "4         1.122911         1.666716    1.968909\n",
       "...            ...              ...         ...\n",
       "5277     -1.200547        -1.145210   -0.973749\n",
       "5278      0.715287        -0.679594   -0.045372\n",
       "5279     -1.282072        -0.328310   -0.985693\n",
       "5280     -0.140724         0.365972   -0.033560\n",
       "5281     -0.548349         0.362658   -0.403645\n",
       "\n",
       "[5273 rows x 3 columns]"
      ]
     },
     "execution_count": 15,
     "metadata": {},
     "output_type": "execute_result"
    }
   ],
   "source": [
    "standard_scaler = StandardScaler()\n",
    "num_features_normalized = standard_scaler.fit_transform(num_cols_df)\n",
    "num_cols_df_normalized = pd.DataFrame(num_features_normalized, index=num_cols_df.index, columns=num_cols_df.columns)\n",
    "num_cols_df_normalized"
   ]
  },
  {
   "cell_type": "markdown",
   "metadata": {},
   "source": [
    "### 1) One-hot-encoding"
   ]
  },
  {
   "cell_type": "code",
   "execution_count": 16,
   "metadata": {},
   "outputs": [],
   "source": [
    "cat_cols_df_encoded = pd.get_dummies(cat_cols_df)\n",
    "data_preprocessed = pd.concat([num_cols_df_normalized, cat_cols_df_encoded, data[target_col]], axis=1)"
   ]
  },
  {
   "cell_type": "markdown",
   "metadata": {},
   "source": [
    "### 2) Подбор гиперпараметра C"
   ]
  },
  {
   "cell_type": "code",
   "execution_count": 17,
   "metadata": {},
   "outputs": [
    {
     "name": "stderr",
     "output_type": "stream",
     "text": [
      "C:\\Users\\pushk\\anaconda3\\lib\\site-packages\\sklearn\\linear_model\\_logistic.py:814: ConvergenceWarning: lbfgs failed to converge (status=1):\n",
      "STOP: TOTAL NO. of ITERATIONS REACHED LIMIT.\n",
      "\n",
      "Increase the number of iterations (max_iter) or scale the data as shown in:\n",
      "    https://scikit-learn.org/stable/modules/preprocessing.html\n",
      "Please also refer to the documentation for alternative solver options:\n",
      "    https://scikit-learn.org/stable/modules/linear_model.html#logistic-regression\n",
      "  n_iter_i = _check_optimize_result(\n",
      "C:\\Users\\pushk\\anaconda3\\lib\\site-packages\\sklearn\\linear_model\\_logistic.py:814: ConvergenceWarning: lbfgs failed to converge (status=1):\n",
      "STOP: TOTAL NO. of ITERATIONS REACHED LIMIT.\n",
      "\n",
      "Increase the number of iterations (max_iter) or scale the data as shown in:\n",
      "    https://scikit-learn.org/stable/modules/preprocessing.html\n",
      "Please also refer to the documentation for alternative solver options:\n",
      "    https://scikit-learn.org/stable/modules/linear_model.html#logistic-regression\n",
      "  n_iter_i = _check_optimize_result(\n",
      "C:\\Users\\pushk\\anaconda3\\lib\\site-packages\\sklearn\\linear_model\\_logistic.py:814: ConvergenceWarning: lbfgs failed to converge (status=1):\n",
      "STOP: TOTAL NO. of ITERATIONS REACHED LIMIT.\n",
      "\n",
      "Increase the number of iterations (max_iter) or scale the data as shown in:\n",
      "    https://scikit-learn.org/stable/modules/preprocessing.html\n",
      "Please also refer to the documentation for alternative solver options:\n",
      "    https://scikit-learn.org/stable/modules/linear_model.html#logistic-regression\n",
      "  n_iter_i = _check_optimize_result(\n",
      "C:\\Users\\pushk\\anaconda3\\lib\\site-packages\\sklearn\\linear_model\\_logistic.py:814: ConvergenceWarning: lbfgs failed to converge (status=1):\n",
      "STOP: TOTAL NO. of ITERATIONS REACHED LIMIT.\n",
      "\n",
      "Increase the number of iterations (max_iter) or scale the data as shown in:\n",
      "    https://scikit-learn.org/stable/modules/preprocessing.html\n",
      "Please also refer to the documentation for alternative solver options:\n",
      "    https://scikit-learn.org/stable/modules/linear_model.html#logistic-regression\n",
      "  n_iter_i = _check_optimize_result(\n",
      "C:\\Users\\pushk\\anaconda3\\lib\\site-packages\\sklearn\\linear_model\\_logistic.py:814: ConvergenceWarning: lbfgs failed to converge (status=1):\n",
      "STOP: TOTAL NO. of ITERATIONS REACHED LIMIT.\n",
      "\n",
      "Increase the number of iterations (max_iter) or scale the data as shown in:\n",
      "    https://scikit-learn.org/stable/modules/preprocessing.html\n",
      "Please also refer to the documentation for alternative solver options:\n",
      "    https://scikit-learn.org/stable/modules/linear_model.html#logistic-regression\n",
      "  n_iter_i = _check_optimize_result(\n"
     ]
    },
    {
     "data": {
      "text/plain": [
       "GridSearchCV(cv=5, estimator=LogisticRegression(),\n",
       "             param_grid={'C': [100, 10, 1, 0.1, 0.01, 0.001]},\n",
       "             scoring='roc_auc')"
      ]
     },
     "execution_count": 17,
     "metadata": {},
     "output_type": "execute_result"
    }
   ],
   "source": [
    "lr = LogisticRegression()\n",
    "parameters = { 'C': [100, 10, 1, 0.1, 0.01, 0.001] }\n",
    "clf = GridSearchCV(lr, parameters, cv=5, scoring='roc_auc')\n",
    "\n",
    "X = data_preprocessed.iloc[:, :-1]\n",
    "Y = data_preprocessed[target_col]\n",
    "\n",
    "clf.fit(X, Y)"
   ]
  },
  {
   "cell_type": "markdown",
   "metadata": {},
   "source": [
    "### Результат кросс-валидации"
   ]
  },
  {
   "cell_type": "code",
   "execution_count": 18,
   "metadata": {},
   "outputs": [
    {
     "data": {
      "text/plain": [
       "0.8448181101278219"
      ]
     },
     "execution_count": 18,
     "metadata": {},
     "output_type": "execute_result"
    }
   ],
   "source": [
    "clf.best_score_"
   ]
  },
  {
   "cell_type": "code",
   "execution_count": 19,
   "metadata": {},
   "outputs": [
    {
     "data": {
      "text/plain": [
       "{'C': 100}"
      ]
     },
     "execution_count": 19,
     "metadata": {},
     "output_type": "execute_result"
    }
   ],
   "source": [
    "clf.best_params_"
   ]
  },
  {
   "cell_type": "markdown",
   "metadata": {
    "id": "uVahy6JKEEZQ"
   },
   "source": [
    "Выпишите какое лучшее качество и с какими параметрами вам удалось получить"
   ]
  },
  {
   "cell_type": "markdown",
   "metadata": {
    "id": "BlTeVy7fEEZR"
   },
   "source": [
    "## Применение градиентного бустинга (2 балла)\n",
    "\n",
    "Если вы хотите получить баллы за точный ответ, то стоит попробовать градиентный бустинг. Часто градиентный бустинг с дефолтными параметрами даст вам 80% результата за 0% усилий.\n",
    "\n",
    "Мы будем использовать catboost, поэтому нам не надо кодировать категориальные признаки. catboost сделает это сам (в .fit() надо передать cat_features=cat_cols). А численные признаки нормировать для моделей, основанных на деревьях не нужно.\n",
    "\n",
    "1) Разделите выборку на train/valid. Протестируйте catboost cо стандартными параметрами.\n",
    "\n",
    "2) Протестируйте разные занчения параметроа количества деревьев и learning_rate'а и выберите лучшую по метрике ROC-AUC комбинацию. \n",
    "\n",
    "(Дополнительно) Есть некоторые сложности с тем, чтобы использовать CatBoostClassifier вместе с GridSearchCV, поэтому мы не просим использовать кроссвалидацию. Но можете попробовать)"
   ]
  },
  {
   "cell_type": "markdown",
   "metadata": {},
   "source": [
    "### 1) Catboost со стандартными параметрами"
   ]
  },
  {
   "cell_type": "code",
   "execution_count": 20,
   "metadata": {
    "id": "Fioxxlp-EEZS"
   },
   "outputs": [],
   "source": [
    "import catboost\n",
    "from sklearn.metrics import roc_auc_score, roc_curve"
   ]
  },
  {
   "cell_type": "code",
   "execution_count": 21,
   "metadata": {},
   "outputs": [],
   "source": [
    "cat_cols_indices = list(map(lambda column: data.columns.get_loc(column), cat_cols))"
   ]
  },
  {
   "cell_type": "code",
   "execution_count": 22,
   "metadata": {},
   "outputs": [],
   "source": [
    "# CatBoost умеет работать с категориальными признаками сам\n",
    "X_train, X_test, Y_train, Y_test = train_test_split(data.iloc[:,:-1].values, data[target_col].values, \n",
    "                                                       train_size=0.8, \n",
    "                                                       random_state=42)"
   ]
  },
  {
   "cell_type": "code",
   "execution_count": 26,
   "metadata": {},
   "outputs": [],
   "source": [
    "default_boosting_model = catboost.CatBoostClassifier(n_estimators=200, cat_features=cat_cols_indices, eval_metric='AUC')\n",
    "default_boosting_model.fit(X_train, Y_train, silent=True)\n",
    "\n",
    "y_train_default_predicted = default_boosting_model.predict_proba(X_train)[:, 1]\n",
    "y_test_default_predicted = default_boosting_model.predict_proba(X_test)[:, 1]"
   ]
  },
  {
   "cell_type": "code",
   "execution_count": 27,
   "metadata": {},
   "outputs": [
    {
     "name": "stdout",
     "output_type": "stream",
     "text": [
      "0.8892021530104204 0.8397499410238264\n"
     ]
    },
    {
     "data": {
      "image/png": "[encoded data removed]",
      "text/plain": [
       "<Figure size 720x504 with 1 Axes>"
      ]
     },
     "metadata": {
      "needs_background": "light"
     },
     "output_type": "display_data"
    }
   ],
   "source": [
    "default_train_auc = roc_auc_score(Y_train, y_train_default_predicted)\n",
    "default_test_auc = roc_auc_score(Y_test, y_test_default_predicted)\n",
    "print(default_train_auc, default_test_auc)\n",
    "\n",
    "plt.figure(figsize=(10,7))\n",
    "plt.plot(*roc_curve(Y_train, y_train_default_predicted)[:2], label='train AUC={:.4f}'.format(default_train_auc))\n",
    "plt.plot(*roc_curve(Y_test, y_test_default_predicted)[:2], label='test AUC={:.4f}'.format(default_test_auc))\n",
    "legend_box = plt.legend(fontsize='large', framealpha=1).get_frame()\n",
    "legend_box.set_facecolor(\"white\")\n",
    "legend_box.set_edgecolor(\"black\")\n",
    "plt.plot(np.linspace(0,1,100), np.linspace(0,1,100))\n",
    "plt.show()"
   ]
  },
  {
   "cell_type": "markdown",
   "metadata": {},
   "source": [
    "### 2) Поиск лучших параметров"
   ]
  },
  {
   "cell_type": "code",
   "execution_count": 24,
   "metadata": {},
   "outputs": [
    {
     "data": {
      "application/vnd.jupyter.widget-view+json": {
       "model_id": "5f09c9d2792945709b9bf31a73e04bfd",
       "version_major": 2,
       "version_minor": 0
      },
      "text/plain": [
       "MetricVisualizer(layout=Layout(align_self='stretch', height='500px'))"
      ]
     },
     "metadata": {},
     "output_type": "display_data"
    },
    {
     "name": "stdout",
     "output_type": "stream",
     "text": [
      "\n",
      "bestTest = 0.8566572394\n",
      "bestIteration = 499\n",
      "\n",
      "Metric AUC is not calculated on train by default. To calculate this metric on train, add hints=skip_train~false to metric parameters.\n",
      "0:\tloss: 0.8566572\tbest: 0.8566572 (0)\ttotal: 12.8s\tremaining: 16m 54s\n",
      "\n",
      "bestTest = 0.867051327\n",
      "bestIteration = 254\n",
      "\n",
      "Metric AUC is not calculated on train by default. To calculate this metric on train, add hints=skip_train~false to metric parameters.\n",
      "1:\tloss: 0.8670513\tbest: 0.8670513 (1)\ttotal: 25.6s\tremaining: 16m 39s\n",
      "\n",
      "bestTest = 0.866635013\n",
      "bestIteration = 177\n",
      "\n",
      "Metric AUC is not calculated on train by default. To calculate this metric on train, add hints=skip_train~false to metric parameters.\n",
      "2:\tloss: 0.8666350\tbest: 0.8670513 (1)\ttotal: 40s\tremaining: 17m 7s\n",
      "\n",
      "bestTest = 0.8614431301\n",
      "bestIteration = 35\n",
      "\n",
      "Metric AUC is not calculated on train by default. To calculate this metric on train, add hints=skip_train~false to metric parameters.\n",
      "3:\tloss: 0.8614431\tbest: 0.8670513 (1)\ttotal: 51.6s\tremaining: 16m 20s\n",
      "\n",
      "bestTest = 0.8587800967\n",
      "bestIteration = 497\n",
      "\n",
      "Metric AUC is not calculated on train by default. To calculate this metric on train, add hints=skip_train~false to metric parameters.\n",
      "4:\tloss: 0.8587801\tbest: 0.8670513 (1)\ttotal: 1m 1s\tremaining: 15m 28s\n",
      "\n",
      "bestTest = 0.8666384537\n",
      "bestIteration = 492\n",
      "\n",
      "Metric AUC is not calculated on train by default. To calculate this metric on train, add hints=skip_train~false to metric parameters.\n",
      "5:\tloss: 0.8666385\tbest: 0.8670513 (1)\ttotal: 1m 12s\tremaining: 14m 50s\n",
      "\n",
      "bestTest = 0.8679390048\n",
      "bestIteration = 156\n",
      "\n",
      "Metric AUC is not calculated on train by default. To calculate this metric on train, add hints=skip_train~false to metric parameters.\n",
      "6:\tloss: 0.8679390\tbest: 0.8679390 (6)\ttotal: 1m 22s\tremaining: 14m 24s\n",
      "\n",
      "bestTest = 0.8636347997\n",
      "bestIteration = 67\n",
      "\n",
      "Metric AUC is not calculated on train by default. To calculate this metric on train, add hints=skip_train~false to metric parameters.\n",
      "7:\tloss: 0.8636348\tbest: 0.8679390 (6)\ttotal: 1m 34s\tremaining: 14m 7s\n",
      "\n",
      "bestTest = 0.8567604577\n",
      "bestIteration = 499\n",
      "\n",
      "Metric AUC is not calculated on train by default. To calculate this metric on train, add hints=skip_train~false to metric parameters.\n",
      "8:\tloss: 0.8567605\tbest: 0.8679390 (6)\ttotal: 1m 44s\tremaining: 13m 42s\n",
      "\n",
      "bestTest = 0.8674022694\n",
      "bestIteration = 445\n",
      "\n",
      "Metric AUC is not calculated on train by default. To calculate this metric on train, add hints=skip_train~false to metric parameters.\n",
      "9:\tloss: 0.8674023\tbest: 0.8679390 (6)\ttotal: 1m 54s\tremaining: 13m 24s\n",
      "\n",
      "bestTest = 0.8660569903\n",
      "bestIteration = 108\n",
      "\n",
      "Metric AUC is not calculated on train by default. To calculate this metric on train, add hints=skip_train~false to metric parameters.\n",
      "10:\tloss: 0.8660570\tbest: 0.8679390 (6)\ttotal: 2m 5s\tremaining: 13m 8s\n",
      "\n",
      "bestTest = 0.8647461173\n",
      "bestIteration = 17\n",
      "\n",
      "Metric AUC is not calculated on train by default. To calculate this metric on train, add hints=skip_train~false to metric parameters.\n",
      "11:\tloss: 0.8647461\tbest: 0.8679390 (6)\ttotal: 2m 17s\tremaining: 12m 59s\n",
      "\n",
      "bestTest = 0.8594716597\n",
      "bestIteration = 498\n",
      "\n",
      "Metric AUC is not calculated on train by default. To calculate this metric on train, add hints=skip_train~false to metric parameters.\n",
      "12:\tloss: 0.8594717\tbest: 0.8679390 (6)\ttotal: 2m 27s\tremaining: 12m 41s\n",
      "\n",
      "bestTest = 0.8665214729\n",
      "bestIteration = 407\n",
      "\n",
      "Metric AUC is not calculated on train by default. To calculate this metric on train, add hints=skip_train~false to metric parameters.\n",
      "13:\tloss: 0.8665215\tbest: 0.8679390 (6)\ttotal: 2m 38s\tremaining: 12m 26s\n",
      "\n",
      "bestTest = 0.8663976108\n",
      "bestIteration = 145\n",
      "\n",
      "Metric AUC is not calculated on train by default. To calculate this metric on train, add hints=skip_train~false to metric parameters.\n",
      "14:\tloss: 0.8663976\tbest: 0.8679390 (6)\ttotal: 2m 48s\tremaining: 12m 11s\n",
      "\n",
      "bestTest = 0.8666281318\n",
      "bestIteration = 30\n",
      "\n",
      "Metric AUC is not calculated on train by default. To calculate this metric on train, add hints=skip_train~false to metric parameters.\n",
      "15:\tloss: 0.8666281\tbest: 0.8679390 (6)\ttotal: 3m\tremaining: 12m\n",
      "\n",
      "bestTest = 0.8609717663\n",
      "bestIteration = 355\n",
      "\n",
      "Metric AUC is not calculated on train by default. To calculate this metric on train, add hints=skip_train~false to metric parameters.\n",
      "16:\tloss: 0.8609718\tbest: 0.8679390 (6)\ttotal: 3m 10s\tremaining: 11m 45s\n",
      "\n",
      "bestTest = 0.8657886226\n",
      "bestIteration = 485\n",
      "\n",
      "Metric AUC is not calculated on train by default. To calculate this metric on train, add hints=skip_train~false to metric parameters.\n",
      "17:\tloss: 0.8657886\tbest: 0.8679390 (6)\ttotal: 3m 20s\tremaining: 11m 30s\n",
      "\n",
      "bestTest = 0.8675570969\n",
      "bestIteration = 499\n",
      "\n",
      "Metric AUC is not calculated on train by default. To calculate this metric on train, add hints=skip_train~false to metric parameters.\n",
      "18:\tloss: 0.8675571\tbest: 0.8679390 (6)\ttotal: 3m 31s\tremaining: 11m 19s\n",
      "\n",
      "bestTest = 0.8680628669\n",
      "bestIteration = 17\n",
      "\n",
      "Metric AUC is not calculated on train by default. To calculate this metric on train, add hints=skip_train~false to metric parameters.\n",
      "19:\tloss: 0.8680629\tbest: 0.8680629 (19)\ttotal: 3m 43s\tremaining: 11m 10s\n",
      "\n",
      "bestTest = 0.8623892983\n",
      "bestIteration = 998\n",
      "\n",
      "Metric AUC is not calculated on train by default. To calculate this metric on train, add hints=skip_train~false to metric parameters.\n",
      "20:\tloss: 0.8623893\tbest: 0.8680629 (19)\ttotal: 4m 3s\tremaining: 11m 23s\n",
      "\n",
      "bestTest = 0.867051327\n",
      "bestIteration = 254\n",
      "\n",
      "Metric AUC is not calculated on train by default. To calculate this metric on train, add hints=skip_train~false to metric parameters.\n",
      "21:\tloss: 0.8670513\tbest: 0.8680629 (19)\ttotal: 4m 24s\tremaining: 11m 37s\n",
      "\n",
      "bestTest = 0.866635013\n",
      "bestIteration = 177\n",
      "\n",
      "Metric AUC is not calculated on train by default. To calculate this metric on train, add hints=skip_train~false to metric parameters.\n",
      "22:\tloss: 0.8666350\tbest: 0.8680629 (19)\ttotal: 4m 47s\tremaining: 11m 51s\n",
      "\n",
      "bestTest = 0.8614431301\n",
      "bestIteration = 35\n",
      "\n",
      "Metric AUC is not calculated on train by default. To calculate this metric on train, add hints=skip_train~false to metric parameters.\n",
      "23:\tloss: 0.8614431\tbest: 0.8680629 (19)\ttotal: 5m 10s\tremaining: 12m 3s\n",
      "\n",
      "bestTest = 0.8631634359\n",
      "bestIteration = 961\n",
      "\n",
      "Metric AUC is not calculated on train by default. To calculate this metric on train, add hints=skip_train~false to metric parameters.\n",
      "24:\tloss: 0.8631634\tbest: 0.8680629 (19)\ttotal: 5m 30s\tremaining: 12m 8s\n",
      "\n",
      "bestTest = 0.8668104842\n",
      "bestIteration = 604\n",
      "\n",
      "Metric AUC is not calculated on train by default. To calculate this metric on train, add hints=skip_train~false to metric parameters.\n",
      "25:\tloss: 0.8668105\tbest: 0.8680629 (19)\ttotal: 5m 52s\tremaining: 12m 11s\n",
      "\n",
      "bestTest = 0.8679390048\n",
      "bestIteration = 156\n",
      "\n",
      "Metric AUC is not calculated on train by default. To calculate this metric on train, add hints=skip_train~false to metric parameters.\n",
      "26:\tloss: 0.8679390\tbest: 0.8680629 (19)\ttotal: 6m 14s\tremaining: 12m 14s\n",
      "\n",
      "bestTest = 0.8636347997\n",
      "bestIteration = 67\n",
      "\n",
      "Metric AUC is not calculated on train by default. To calculate this metric on train, add hints=skip_train~false to metric parameters.\n",
      "27:\tloss: 0.8636348\tbest: 0.8680629 (19)\ttotal: 6m 36s\tremaining: 12m 16s\n",
      "\n",
      "bestTest = 0.8616702105\n",
      "bestIteration = 995\n",
      "\n",
      "Metric AUC is not calculated on train by default. To calculate this metric on train, add hints=skip_train~false to metric parameters.\n",
      "28:\tloss: 0.8616702\tbest: 0.8680629 (19)\ttotal: 6m 56s\tremaining: 12m 11s\n",
      "\n",
      "bestTest = 0.8674022694\n",
      "bestIteration = 445\n",
      "\n",
      "Metric AUC is not calculated on train by default. To calculate this metric on train, add hints=skip_train~false to metric parameters.\n",
      "29:\tloss: 0.8674023\tbest: 0.8680629 (19)\ttotal: 7m 17s\tremaining: 12m 9s\n",
      "\n",
      "bestTest = 0.8660569903\n",
      "bestIteration = 108\n",
      "\n",
      "Metric AUC is not calculated on train by default. To calculate this metric on train, add hints=skip_train~false to metric parameters.\n",
      "30:\tloss: 0.8660570\tbest: 0.8680629 (19)\ttotal: 7m 38s\tremaining: 12m 5s\n",
      "\n",
      "bestTest = 0.8647461173\n",
      "bestIteration = 17\n",
      "\n",
      "Metric AUC is not calculated on train by default. To calculate this metric on train, add hints=skip_train~false to metric parameters.\n",
      "31:\tloss: 0.8647461\tbest: 0.8680629 (19)\ttotal: 8m 1s\tremaining: 12m 2s\n",
      "\n",
      "bestTest = 0.8638859644\n",
      "bestIteration = 983\n",
      "\n",
      "Metric AUC is not calculated on train by default. To calculate this metric on train, add hints=skip_train~false to metric parameters.\n",
      "32:\tloss: 0.8638860\tbest: 0.8680629 (19)\ttotal: 8m 20s\tremaining: 11m 53s\n"
     ]
    },
    {
     "name": "stdout",
     "output_type": "stream",
     "text": [
      "\n",
      "bestTest = 0.8665214729\n",
      "bestIteration = 407\n",
      "\n",
      "Metric AUC is not calculated on train by default. To calculate this metric on train, add hints=skip_train~false to metric parameters.\n",
      "33:\tloss: 0.8665215\tbest: 0.8680629 (19)\ttotal: 8m 42s\tremaining: 11m 47s\n",
      "\n",
      "bestTest = 0.8663976108\n",
      "bestIteration = 145\n",
      "\n",
      "Metric AUC is not calculated on train by default. To calculate this metric on train, add hints=skip_train~false to metric parameters.\n",
      "34:\tloss: 0.8663976\tbest: 0.8680629 (19)\ttotal: 9m 4s\tremaining: 11m 40s\n",
      "\n",
      "bestTest = 0.8666281318\n",
      "bestIteration = 30\n",
      "\n",
      "Metric AUC is not calculated on train by default. To calculate this metric on train, add hints=skip_train~false to metric parameters.\n",
      "35:\tloss: 0.8666281\tbest: 0.8680629 (19)\ttotal: 9m 26s\tremaining: 11m 32s\n",
      "\n",
      "bestTest = 0.8635074971\n",
      "bestIteration = 972\n",
      "\n",
      "Metric AUC is not calculated on train by default. To calculate this metric on train, add hints=skip_train~false to metric parameters.\n",
      "36:\tloss: 0.8635075\tbest: 0.8680629 (19)\ttotal: 9m 45s\tremaining: 11m 20s\n",
      "\n",
      "bestTest = 0.8661017182\n",
      "bestIteration = 646\n",
      "\n",
      "Metric AUC is not calculated on train by default. To calculate this metric on train, add hints=skip_train~false to metric parameters.\n",
      "37:\tloss: 0.8661017\tbest: 0.8680629 (19)\ttotal: 10m 5s\tremaining: 11m 9s\n",
      "\n",
      "bestTest = 0.8681075948\n",
      "bestIteration = 537\n",
      "\n",
      "Metric AUC is not calculated on train by default. To calculate this metric on train, add hints=skip_train~false to metric parameters.\n",
      "38:\tloss: 0.8681076\tbest: 0.8681076 (38)\ttotal: 10m 26s\tremaining: 10m 58s\n",
      "\n",
      "bestTest = 0.8680628669\n",
      "bestIteration = 17\n",
      "\n",
      "Metric AUC is not calculated on train by default. To calculate this metric on train, add hints=skip_train~false to metric parameters.\n",
      "39:\tloss: 0.8680629\tbest: 0.8681076 (38)\ttotal: 10m 49s\tremaining: 10m 49s\n",
      "\n",
      "bestTest = 0.8638722019\n",
      "bestIteration = 1436\n",
      "\n",
      "Metric AUC is not calculated on train by default. To calculate this metric on train, add hints=skip_train~false to metric parameters.\n",
      "40:\tloss: 0.8638722\tbest: 0.8681076 (38)\ttotal: 11m 18s\tremaining: 10m 45s\n",
      "\n",
      "bestTest = 0.867051327\n",
      "bestIteration = 254\n",
      "\n",
      "Metric AUC is not calculated on train by default. To calculate this metric on train, add hints=skip_train~false to metric parameters.\n",
      "41:\tloss: 0.8670513\tbest: 0.8681076 (38)\ttotal: 11m 51s\tremaining: 10m 43s\n",
      "\n",
      "bestTest = 0.866635013\n",
      "bestIteration = 177\n",
      "\n",
      "Metric AUC is not calculated on train by default. To calculate this metric on train, add hints=skip_train~false to metric parameters.\n",
      "42:\tloss: 0.8666350\tbest: 0.8681076 (38)\ttotal: 12m 23s\tremaining: 10m 40s\n",
      "\n",
      "bestTest = 0.8614431301\n",
      "bestIteration = 35\n",
      "\n",
      "Metric AUC is not calculated on train by default. To calculate this metric on train, add hints=skip_train~false to metric parameters.\n",
      "43:\tloss: 0.8614431\tbest: 0.8681076 (38)\ttotal: 12m 57s\tremaining: 10m 36s\n",
      "\n",
      "bestTest = 0.8643263627\n",
      "bestIteration = 1478\n",
      "\n",
      "Metric AUC is not calculated on train by default. To calculate this metric on train, add hints=skip_train~false to metric parameters.\n",
      "44:\tloss: 0.8643264\tbest: 0.8681076 (38)\ttotal: 13m 27s\tremaining: 10m 27s\n",
      "\n",
      "bestTest = 0.8668104842\n",
      "bestIteration = 604\n",
      "\n",
      "Metric AUC is not calculated on train by default. To calculate this metric on train, add hints=skip_train~false to metric parameters.\n",
      "45:\tloss: 0.8668105\tbest: 0.8681076 (38)\ttotal: 14m\tremaining: 10m 20s\n",
      "\n",
      "bestTest = 0.8679390048\n",
      "bestIteration = 156\n",
      "\n",
      "Metric AUC is not calculated on train by default. To calculate this metric on train, add hints=skip_train~false to metric parameters.\n",
      "46:\tloss: 0.8679390\tbest: 0.8681076 (38)\ttotal: 14m 33s\tremaining: 10m 13s\n",
      "\n",
      "bestTest = 0.8636347997\n",
      "bestIteration = 67\n",
      "\n",
      "Metric AUC is not calculated on train by default. To calculate this metric on train, add hints=skip_train~false to metric parameters.\n",
      "47:\tloss: 0.8636348\tbest: 0.8681076 (38)\ttotal: 15m 6s\tremaining: 10m 4s\n",
      "\n",
      "bestTest = 0.8641302478\n",
      "bestIteration = 1498\n",
      "\n",
      "Metric AUC is not calculated on train by default. To calculate this metric on train, add hints=skip_train~false to metric parameters.\n",
      "48:\tloss: 0.8641302\tbest: 0.8681076 (38)\ttotal: 15m 35s\tremaining: 9m 52s\n",
      "\n",
      "bestTest = 0.8674022694\n",
      "bestIteration = 445\n",
      "\n",
      "Metric AUC is not calculated on train by default. To calculate this metric on train, add hints=skip_train~false to metric parameters.\n",
      "49:\tloss: 0.8674023\tbest: 0.8681076 (38)\ttotal: 16m 25s\tremaining: 9m 51s\n",
      "\n",
      "bestTest = 0.8660569903\n",
      "bestIteration = 108\n",
      "\n",
      "Metric AUC is not calculated on train by default. To calculate this metric on train, add hints=skip_train~false to metric parameters.\n",
      "50:\tloss: 0.8660570\tbest: 0.8681076 (38)\ttotal: 17m 15s\tremaining: 9m 49s\n",
      "\n",
      "bestTest = 0.8647461173\n",
      "bestIteration = 17\n",
      "\n",
      "Metric AUC is not calculated on train by default. To calculate this metric on train, add hints=skip_train~false to metric parameters.\n",
      "51:\tloss: 0.8647461\tbest: 0.8681076 (38)\ttotal: 18m\tremaining: 9m 41s\n",
      "\n",
      "bestTest = 0.8648080483\n",
      "bestIteration = 1484\n",
      "\n",
      "Metric AUC is not calculated on train by default. To calculate this metric on train, add hints=skip_train~false to metric parameters.\n",
      "52:\tloss: 0.8648080\tbest: 0.8681076 (38)\ttotal: 18m 37s\tremaining: 9m 29s\n",
      "\n",
      "bestTest = 0.8665214729\n",
      "bestIteration = 407\n",
      "\n",
      "Metric AUC is not calculated on train by default. To calculate this metric on train, add hints=skip_train~false to metric parameters.\n",
      "53:\tloss: 0.8665215\tbest: 0.8681076 (38)\ttotal: 19m 18s\tremaining: 9m 17s\n",
      "\n",
      "bestTest = 0.8663976108\n",
      "bestIteration = 145\n",
      "\n",
      "Metric AUC is not calculated on train by default. To calculate this metric on train, add hints=skip_train~false to metric parameters.\n",
      "54:\tloss: 0.8663976\tbest: 0.8681076 (38)\ttotal: 19m 56s\tremaining: 9m 4s\n",
      "\n",
      "bestTest = 0.8666281318\n",
      "bestIteration = 30\n",
      "\n",
      "Metric AUC is not calculated on train by default. To calculate this metric on train, add hints=skip_train~false to metric parameters.\n",
      "55:\tloss: 0.8666281\tbest: 0.8681076 (38)\ttotal: 20m 40s\tremaining: 8m 51s\n",
      "\n",
      "bestTest = 0.8646497801\n",
      "bestIteration = 1412\n",
      "\n",
      "Metric AUC is not calculated on train by default. To calculate this metric on train, add hints=skip_train~false to metric parameters.\n",
      "56:\tloss: 0.8646498\tbest: 0.8681076 (38)\ttotal: 21m 17s\tremaining: 8m 35s\n",
      "\n",
      "bestTest = 0.8661017182\n",
      "bestIteration = 646\n",
      "\n",
      "Metric AUC is not calculated on train by default. To calculate this metric on train, add hints=skip_train~false to metric parameters.\n",
      "57:\tloss: 0.8661017\tbest: 0.8681076 (38)\ttotal: 22m\tremaining: 8m 20s\n",
      "\n",
      "bestTest = 0.8681075948\n",
      "bestIteration = 537\n",
      "\n",
      "Metric AUC is not calculated on train by default. To calculate this metric on train, add hints=skip_train~false to metric parameters.\n",
      "58:\tloss: 0.8681076\tbest: 0.8681076 (38)\ttotal: 22m 43s\tremaining: 8m 5s\n",
      "\n",
      "bestTest = 0.8680628669\n",
      "bestIteration = 17\n",
      "\n",
      "Metric AUC is not calculated on train by default. To calculate this metric on train, add hints=skip_train~false to metric parameters.\n",
      "59:\tloss: 0.8680629\tbest: 0.8681076 (38)\ttotal: 23m 29s\tremaining: 7m 49s\n",
      "\n",
      "bestTest = 0.8644364622\n",
      "bestIteration = 1998\n",
      "\n",
      "Metric AUC is not calculated on train by default. To calculate this metric on train, add hints=skip_train~false to metric parameters.\n",
      "60:\tloss: 0.8644365\tbest: 0.8681076 (38)\ttotal: 24m 21s\tremaining: 7m 35s\n",
      "\n",
      "bestTest = 0.867051327\n",
      "bestIteration = 254\n",
      "\n",
      "Metric AUC is not calculated on train by default. To calculate this metric on train, add hints=skip_train~false to metric parameters.\n",
      "61:\tloss: 0.8670513\tbest: 0.8681076 (38)\ttotal: 25m 19s\tremaining: 7m 21s\n",
      "\n",
      "bestTest = 0.866635013\n",
      "bestIteration = 177\n",
      "\n",
      "Metric AUC is not calculated on train by default. To calculate this metric on train, add hints=skip_train~false to metric parameters.\n",
      "62:\tloss: 0.8666350\tbest: 0.8681076 (38)\ttotal: 26m 23s\tremaining: 7m 7s\n",
      "\n",
      "bestTest = 0.8614431301\n",
      "bestIteration = 35\n",
      "\n",
      "Metric AUC is not calculated on train by default. To calculate this metric on train, add hints=skip_train~false to metric parameters.\n",
      "63:\tloss: 0.8614431\tbest: 0.8681076 (38)\ttotal: 27m 28s\tremaining: 6m 52s\n",
      "\n",
      "bestTest = 0.8648975042\n",
      "bestIteration = 1853\n",
      "\n",
      "Metric AUC is not calculated on train by default. To calculate this metric on train, add hints=skip_train~false to metric parameters.\n",
      "64:\tloss: 0.8648975\tbest: 0.8681076 (38)\ttotal: 28m 22s\tremaining: 6m 32s\n",
      "\n",
      "bestTest = 0.8668104842\n",
      "bestIteration = 604\n",
      "\n",
      "Metric AUC is not calculated on train by default. To calculate this metric on train, add hints=skip_train~false to metric parameters.\n",
      "65:\tloss: 0.8668105\tbest: 0.8681076 (38)\ttotal: 29m 17s\tremaining: 6m 12s\n"
     ]
    },
    {
     "name": "stdout",
     "output_type": "stream",
     "text": [
      "\n",
      "bestTest = 0.8679390048\n",
      "bestIteration = 156\n",
      "\n",
      "Metric AUC is not calculated on train by default. To calculate this metric on train, add hints=skip_train~false to metric parameters.\n",
      "66:\tloss: 0.8679390\tbest: 0.8681076 (38)\ttotal: 30m 19s\tremaining: 5m 53s\n",
      "\n",
      "bestTest = 0.8636347997\n",
      "bestIteration = 67\n",
      "\n",
      "Metric AUC is not calculated on train by default. To calculate this metric on train, add hints=skip_train~false to metric parameters.\n",
      "67:\tloss: 0.8636348\tbest: 0.8681076 (38)\ttotal: 31m 26s\tremaining: 5m 32s\n",
      "\n",
      "bestTest = 0.8649147072\n",
      "bestIteration = 1987\n",
      "\n",
      "Metric AUC is not calculated on train by default. To calculate this metric on train, add hints=skip_train~false to metric parameters.\n",
      "68:\tloss: 0.8649147\tbest: 0.8681076 (38)\ttotal: 32m 18s\tremaining: 5m 9s\n",
      "\n",
      "bestTest = 0.8674022694\n",
      "bestIteration = 445\n",
      "\n",
      "Metric AUC is not calculated on train by default. To calculate this metric on train, add hints=skip_train~false to metric parameters.\n",
      "69:\tloss: 0.8674023\tbest: 0.8681076 (38)\ttotal: 33m 16s\tremaining: 4m 45s\n",
      "\n",
      "bestTest = 0.8660569903\n",
      "bestIteration = 108\n",
      "\n",
      "Metric AUC is not calculated on train by default. To calculate this metric on train, add hints=skip_train~false to metric parameters.\n",
      "70:\tloss: 0.8660570\tbest: 0.8681076 (38)\ttotal: 34m 14s\tremaining: 4m 20s\n",
      "\n",
      "bestTest = 0.8647461173\n",
      "bestIteration = 17\n",
      "\n",
      "Metric AUC is not calculated on train by default. To calculate this metric on train, add hints=skip_train~false to metric parameters.\n",
      "71:\tloss: 0.8647461\tbest: 0.8681076 (38)\ttotal: 35m 13s\tremaining: 3m 54s\n",
      "\n",
      "bestTest = 0.86532414\n",
      "bestIteration = 1951\n",
      "\n",
      "Metric AUC is not calculated on train by default. To calculate this metric on train, add hints=skip_train~false to metric parameters.\n",
      "72:\tloss: 0.8653241\tbest: 0.8681076 (38)\ttotal: 36m 2s\tremaining: 3m 27s\n",
      "\n",
      "bestTest = 0.8665214729\n",
      "bestIteration = 407\n",
      "\n",
      "Metric AUC is not calculated on train by default. To calculate this metric on train, add hints=skip_train~false to metric parameters.\n",
      "73:\tloss: 0.8665215\tbest: 0.8681076 (38)\ttotal: 36m 57s\tremaining: 2m 59s\n",
      "\n",
      "bestTest = 0.8663976108\n",
      "bestIteration = 145\n",
      "\n",
      "Metric AUC is not calculated on train by default. To calculate this metric on train, add hints=skip_train~false to metric parameters.\n",
      "74:\tloss: 0.8663976\tbest: 0.8681076 (38)\ttotal: 37m 56s\tremaining: 2m 31s\n",
      "\n",
      "bestTest = 0.8666281318\n",
      "bestIteration = 30\n",
      "\n",
      "Metric AUC is not calculated on train by default. To calculate this metric on train, add hints=skip_train~false to metric parameters.\n",
      "75:\tloss: 0.8666281\tbest: 0.8681076 (38)\ttotal: 38m 56s\tremaining: 2m 2s\n",
      "\n",
      "bestTest = 0.8650832972\n",
      "bestIteration = 1778\n",
      "\n",
      "Metric AUC is not calculated on train by default. To calculate this metric on train, add hints=skip_train~false to metric parameters.\n",
      "76:\tloss: 0.8650833\tbest: 0.8681076 (38)\ttotal: 39m 49s\tremaining: 1m 33s\n",
      "\n",
      "bestTest = 0.8665421165\n",
      "bestIteration = 1687\n",
      "\n",
      "Metric AUC is not calculated on train by default. To calculate this metric on train, add hints=skip_train~false to metric parameters.\n",
      "77:\tloss: 0.8665421\tbest: 0.8681076 (38)\ttotal: 40m 44s\tremaining: 1m 2s\n",
      "\n",
      "bestTest = 0.8681075948\n",
      "bestIteration = 537\n",
      "\n",
      "Metric AUC is not calculated on train by default. To calculate this metric on train, add hints=skip_train~false to metric parameters.\n",
      "78:\tloss: 0.8681076\tbest: 0.8681076 (38)\ttotal: 41m 42s\tremaining: 31.7s\n",
      "\n",
      "bestTest = 0.8680628669\n",
      "bestIteration = 17\n",
      "\n",
      "Metric AUC is not calculated on train by default. To calculate this metric on train, add hints=skip_train~false to metric parameters.\n",
      "79:\tloss: 0.8680629\tbest: 0.8681076 (38)\ttotal: 42m 38s\tremaining: 0us\n",
      "Estimating final quality...\n",
      "Training on fold [0/3]\n",
      "\n",
      "bestTest = 0.8428575139\n",
      "bestIteration = 212\n",
      "\n",
      "Training on fold [1/3]\n",
      "\n",
      "bestTest = 0.8405341354\n",
      "bestIteration = 203\n",
      "\n",
      "Training on fold [2/3]\n",
      "\n",
      "bestTest = 0.859255658\n",
      "bestIteration = 167\n",
      "\n"
     ]
    }
   ],
   "source": [
    "grid_search_boosting_model = catboost.CatBoostClassifier(silent=True,\n",
    "                                             cat_features=cat_cols_indices,\n",
    "                                             eval_metric='AUC')\n",
    "cat_boost_params_from_grid_search = grid_search_boosting_model.grid_search({'iterations': np.linspace(500, 2000, 4), 'learning_rate': [0.001, 0.01, 0.03, 0.1], 'l2_leaf_reg': np.linspace(0.1, 4, 5)}, \n",
    "                           X_train, \n",
    "                           Y_train, plot=True, refit=True)"
   ]
  },
  {
   "cell_type": "code",
   "execution_count": 25,
   "metadata": {},
   "outputs": [
    {
     "data": {
      "text/plain": [
       "{'learning_rate': 0.03, 'l2_leaf_reg': 4.0, 'iterations': 1000.0}"
      ]
     },
     "execution_count": 25,
     "metadata": {},
     "output_type": "execute_result"
    }
   ],
   "source": [
    "cat_boost_params_from_grid_search['params']"
   ]
  },
  {
   "cell_type": "code",
   "execution_count": 23,
   "metadata": {},
   "outputs": [
    {
     "name": "stdout",
     "output_type": "stream",
     "text": [
      "0.9124847882618594 0.8385232366124087\n"
     ]
    },
    {
     "data": {
      "image/png": "[encoded data removed]",
      "text/plain": [
       "<Figure size 720x504 with 1 Axes>"
      ]
     },
     "metadata": {
      "needs_background": "light"
     },
     "output_type": "display_data"
    }
   ],
   "source": [
    "grid_search_boosting_model = catboost.CatBoostClassifier(iterations=1000, learning_rate=0.03, l2_leaf_reg=4, cat_features=cat_cols_indices, eval_metric='AUC')\n",
    "grid_search_boosting_model.fit(X_train, Y_train, silent=True)\n",
    "y_train_grid_search_predicted = grid_search_boosting_model.predict_proba(X_train)[:, 1]\n",
    "y_test_grid_search_predicted = grid_search_boosting_model.predict_proba(X_test)[:, 1]\n",
    "\n",
    "grid_search_train_auc = roc_auc_score(Y_train, y_train_grid_search_predicted)\n",
    "grid_search_test_auc = roc_auc_score(Y_test, y_test_grid_search_predicted)\n",
    "print(grid_search_train_auc, grid_search_test_auc)\n",
    "\n",
    "plt.figure(figsize=(10,7))\n",
    "plt.plot(*roc_curve(Y_train, y_train_grid_search_predicted)[:2], label='train AUC={:.4f}'.format(grid_search_train_auc))\n",
    "plt.plot(*roc_curve(Y_test, y_test_grid_search_predicted)[:2], label='test AUC={:.4f}'.format(grid_search_test_auc))\n",
    "legend_box = plt.legend(fontsize='large', framealpha=1).get_frame()\n",
    "legend_box.set_facecolor(\"white\")\n",
    "legend_box.set_edgecolor(\"black\")\n",
    "plt.plot(np.linspace(0,1,100), np.linspace(0,1,100))\n",
    "plt.show()"
   ]
  },
  {
   "cell_type": "code",
   "execution_count": 28,
   "metadata": {},
   "outputs": [
    {
     "data": {
      "text/plain": [
       "(0.8397499410238264, 0.8385232366124087)"
      ]
     },
     "execution_count": 28,
     "metadata": {},
     "output_type": "execute_result"
    }
   ],
   "source": [
    "default_test_auc, grid_search_test_auc"
   ]
  },
  {
   "cell_type": "markdown",
   "metadata": {
    "id": "rf4Kjt96EEZU"
   },
   "source": [
    "Выпишите какое лучшее качество и с какими параметрами вам удалось получить"
   ]
  },
  {
   "cell_type": "markdown",
   "metadata": {
    "id": "dDMXbvNZEEZV"
   },
   "source": [
    "# Предсказания"
   ]
  },
  {
   "cell_type": "code",
   "execution_count": 45,
   "metadata": {
    "id": "G_P4wFNaEEZW",
    "outputId": "1fba5dfc-88e4-49e3-ed8a-afe21ae3325a"
   },
   "outputs": [],
   "source": [
    "best_model = grid_search_boosting_model"
   ]
  },
  {
   "cell_type": "code",
   "execution_count": 46,
   "metadata": {
    "id": "FfSufx0CEEZZ"
   },
   "outputs": [],
   "source": [
    "X_test = pd.read_csv('./test.csv')\n",
    "submission = pd.read_csv('./submission.csv')\n",
    "\n",
    "submission['Churn'] = best_model.predict_proba(X_test)[:, 1]\n",
    "submission.to_csv('./my_submission.csv', index=False)"
   ]
  },
  {
   "cell_type": "markdown",
   "metadata": {
    "id": "mkxjbGkVEEZc"
   },
   "source": [
    "# Kaggle (5 баллов)\n",
    "\n",
    "Как выставить баллы:\n",
    "\n",
    "1) 1 >= roc auc > 0.84 это 5 баллов\n",
    "\n",
    "2) 0.84 >= roc auc > 0.7 это 3 балла\n",
    "\n",
    "3) 0.7 >= roc auc > 0.6 это 1 балл\n",
    "\n",
    "4) 0.6 >= roc auc это 0 баллов\n",
    "\n",
    "\n",
    "Для выполнения задания необходимо выполнить следующие шаги.\n",
    "* Зарегистрироваться на платформе [kaggle.com](kaggle.com). Процесс выставления оценок будет проходить при подведении итогового рейтинга. Пожалуйста, укажите во вкладке Team -> Team name свои имя и фамилию в формате Имя_Фамилия (важно, чтобы имя и фамилия совпадали с данными на Stepik).\n",
    "* Обучить модель, получить файл с ответами в формате .csv и сдать его в конкурс. Пробуйте и экспериментируйте. Обратите внимание, что вы можете выполнять до 20 попыток сдачи на kaggle в день.\n",
    "* После окончания соревнования отправить в итоговый ноутбук с решением на степик. \n",
    "* После дедлайна проверьте посылки других участников по критериям. Для этого надо зайти на степик, скачать их ноутбук и проверить скор в соревновании."
   ]
  }
 ],
 "metadata": {
  "colab": {
   "collapsed_sections": [],
   "name": "baseline.ipynb",
   "provenance": []
  },
  "kernelspec": {
   "display_name": "Python 3",
   "language": "python",
   "name": "python3"
  },
  "language_info": {
   "codemirror_mode": {
    "name": "ipython",
    "version": 3
   },
   "file_extension": ".py",
   "mimetype": "text/x-python",
   "name": "python",
   "nbconvert_exporter": "python",
   "pygments_lexer": "ipython3",
   "version": "3.9.7"
  }
 },
 "nbformat": 4,
 "nbformat_minor": 1
}
