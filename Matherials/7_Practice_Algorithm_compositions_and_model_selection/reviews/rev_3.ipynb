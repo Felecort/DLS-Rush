{
  "cells": [
    {
      "cell_type": "markdown",
      "metadata": {
        "id": "TK7oX5qdEEYr"
      },
      "source": [
        "<p style=\"align: center;\"><img align=center src=\"https://s8.hostingkartinok.com/uploads/images/2018/08/308b49fcfbc619d629fe4604bceb67ac.jpg\" width=500 height=450/></p>\n",
        "\n",
        "<h3 style=\"text-align: center;\"><b>Школа глубокого обучения ФПМИ МФТИ</b></h3>\n",
        "\n",
        "<h3 style=\"text-align: center;\"><b>Домашнее задание. Продвинутый поток. Весна 2021</b></h3>\n",
        "\n",
        "Это домашнее задание будет посвящено полноценному решению задачи машинного обучения."
      ]
    },
    {
      "cell_type": "markdown",
      "metadata": {
        "id": "zlB-owfaEEYs"
      },
      "source": [
        "Есть две части этого домашнего задания: \n",
        "* Сделать полноценный отчет о вашей работе: как вы обработали данные, какие модели попробовали и какие результаты получились (максимум 10 баллов). За каждую выполненную часть будет начислено определенное количество баллов.\n",
        "* Лучшее решение отправить в соревнование на [kaggle](https://www.kaggle.com/c/advanced-dls-spring-2021/) (максимум 5 баллов). За прохождение определенного порогов будут начисляться баллы.\n",
        "\n",
        "\n",
        "**Обе части будут проверяться в формате peer-review. Т.е. вашу посылку на степик будут проверять несколько других студентов и аггрегация их оценок будет выставлена. В то же время вам тоже нужно будет проверить несколько других учеников.**\n",
        "\n",
        "**Пожалуйста, делайте свою работу чистой и понятной, чтобы облегчить проверку. Если у вас будут проблемы с решением или хочется совета, то пишите в наш чат в телеграме или в лс @runfme. Если вы захотите проаппелировать оценку, то пипшите в лс @runfme.**\n",
        "\n",
        "**Во всех пунктах указания это минимальный набор вещей, которые стоит сделать. Если вы можете сделать какой-то шаг лучше или добавить что-то свое - дерзайте!**"
      ]
    },
    {
      "cell_type": "markdown",
      "metadata": {
        "id": "Tu_JvqcBEN8Y"
      },
      "source": [
        "# Как проверять?\n",
        "\n",
        "Ставьте полный балл, если выполнены все рекомендации или сделано что-то более интересное и сложное. За каждый отсустствующий пункт из рекомендация снижайте 1 балл."
      ]
    },
    {
      "cell_type": "markdown",
      "metadata": {
        "id": "ninJ63mJEEYt"
      },
      "source": [
        "# Метрика\n",
        "\n",
        "Перед решением любой задачи важно понимать, как будет оцениваться ваше решение. В данном случае мы используем стандартную для задачи классификации метрику ROC-AUC. Ее можно вычислить используя только предсказанные вероятности и истинные классы без конкретного порога классификации + она раотает даже если классы в данных сильно несбалансированны (примеров одного класса в десятки раз больше примеров длугого). Именно поэтому она очень удобна для соревнований.\n",
        "\n",
        "Посчитать ее легко:\n"
      ]
    },
    {
      "cell_type": "code",
      "execution_count": 26,
      "metadata": {
        "colab": {
          "base_uri": "https://localhost:8080/"
        },
        "id": "SQIrka7yEEYu",
        "outputId": "01c850fd-99bd-4f05-dab7-f9f65511a26c"
      },
      "outputs": [
        {
          "data": {
            "text/plain": [
              "0.8333333333333333"
            ]
          },
          "execution_count": 26,
          "metadata": {},
          "output_type": "execute_result"
        }
      ],
      "source": [
        "from sklearn.metrics import roc_auc_score\n",
        "\n",
        "y_true = [\n",
        "    0,\n",
        "    1,\n",
        "    1,\n",
        "    0,\n",
        "    1\n",
        "]\n",
        "\n",
        "y_predictions = [\n",
        "    0.1,\n",
        "    0.9,\n",
        "    0.4,\n",
        "    0.6,\n",
        "    0.61\n",
        "]\n",
        "\n",
        "roc_auc_score(y_true, y_predictions)"
      ]
    },
    {
      "cell_type": "markdown",
      "metadata": {
        "id": "IrDNNkNTEEYz"
      },
      "source": [
        "# Первая часть. Исследование"
      ]
    },
    {
      "cell_type": "code",
      "execution_count": 27,
      "metadata": {
        "id": "lzLqEeZKEEYz"
      },
      "outputs": [],
      "source": [
        "import pandas as pd\n",
        "import numpy as np\n",
        "from matplotlib import pyplot as plt"
      ]
    },
    {
      "cell_type": "markdown",
      "metadata": {
        "id": "LOlxdURSEEY3"
      },
      "source": [
        "## Загрузка данных (2 балла)\n",
        "\n",
        "1) Посмотрите на случайные строчки. \n",
        "\n",
        "2) Посмотрите, есть ли в датасете незаполненные значения (nan'ы) с помощью data.isna() или data.info() и, если нужно, замените их на что-то. Будет хорошо, если вы построите табличку с количеством nan в каждой колонке."
      ]
    },
    {
      "cell_type": "code",
      "execution_count": 28,
      "metadata": {
        "id": "pw-Brue9EEY3"
      },
      "outputs": [],
      "source": [
        "data = pd.read_csv('./train.csv')"
      ]
    },
    {
      "cell_type": "code",
      "execution_count": 29,
      "metadata": {
        "id": "KgnkkF5bEEY9"
      },
      "outputs": [],
      "source": [
        "# Для вашего удобства списки с именами разных колонок\n",
        "\n",
        "# Числовые признаки\n",
        "num_cols = [\n",
        "    'ClientPeriod',\n",
        "    'MonthlySpending',\n",
        "    'TotalSpent'\n",
        "]\n",
        "\n",
        "# Категориальные признаки\n",
        "cat_cols = [\n",
        "    'Sex',\n",
        "    'IsSeniorCitizen',\n",
        "    'HasPartner',\n",
        "    'HasChild',\n",
        "    'HasPhoneService',\n",
        "    'HasMultiplePhoneNumbers',\n",
        "    'HasInternetService',\n",
        "    'HasOnlineSecurityService',\n",
        "    'HasOnlineBackup',\n",
        "    'HasDeviceProtection',\n",
        "    'HasTechSupportAccess',\n",
        "    'HasOnlineTV',\n",
        "    'HasMovieSubscription',\n",
        "    'HasContractPhone',\n",
        "    'IsBillingPaperless',\n",
        "    'PaymentMethod'\n",
        "]\n",
        "\n",
        "feature_cols = num_cols + cat_cols\n",
        "target_col = 'Churn'"
      ]
    },
    {
      "cell_type": "code",
      "execution_count": 30,
      "metadata": {
        "id": "vm-6aN0Jz93M"
      },
      "outputs": [
        {
          "data": {
            "text/html": [
              "<div>\n",
              "<style scoped>\n",
              "    .dataframe tbody tr th:only-of-type {\n",
              "        vertical-align: middle;\n",
              "    }\n",
              "\n",
              "    .dataframe tbody tr th {\n",
              "        vertical-align: top;\n",
              "    }\n",
              "\n",
              "    .dataframe thead th {\n",
              "        text-align: right;\n",
              "    }\n",
              "</style>\n",
              "<table border=\"1\" class=\"dataframe\">\n",
              "  <thead>\n",
              "    <tr style=\"text-align: right;\">\n",
              "      <th></th>\n",
              "      <th>ClientPeriod</th>\n",
              "      <th>MonthlySpending</th>\n",
              "      <th>TotalSpent</th>\n",
              "      <th>Sex</th>\n",
              "      <th>IsSeniorCitizen</th>\n",
              "      <th>HasPartner</th>\n",
              "      <th>HasChild</th>\n",
              "      <th>HasPhoneService</th>\n",
              "      <th>HasMultiplePhoneNumbers</th>\n",
              "      <th>HasInternetService</th>\n",
              "      <th>HasOnlineSecurityService</th>\n",
              "      <th>HasOnlineBackup</th>\n",
              "      <th>HasDeviceProtection</th>\n",
              "      <th>HasTechSupportAccess</th>\n",
              "      <th>HasOnlineTV</th>\n",
              "      <th>HasMovieSubscription</th>\n",
              "      <th>HasContractPhone</th>\n",
              "      <th>IsBillingPaperless</th>\n",
              "      <th>PaymentMethod</th>\n",
              "      <th>Churn</th>\n",
              "    </tr>\n",
              "  </thead>\n",
              "  <tbody>\n",
              "    <tr>\n",
              "      <th>0</th>\n",
              "      <td>55</td>\n",
              "      <td>19.50</td>\n",
              "      <td>1026.35</td>\n",
              "      <td>Male</td>\n",
              "      <td>0</td>\n",
              "      <td>Yes</td>\n",
              "      <td>Yes</td>\n",
              "      <td>Yes</td>\n",
              "      <td>No</td>\n",
              "      <td>No</td>\n",
              "      <td>No internet service</td>\n",
              "      <td>No internet service</td>\n",
              "      <td>No internet service</td>\n",
              "      <td>No internet service</td>\n",
              "      <td>No internet service</td>\n",
              "      <td>No internet service</td>\n",
              "      <td>One year</td>\n",
              "      <td>No</td>\n",
              "      <td>Mailed check</td>\n",
              "      <td>0</td>\n",
              "    </tr>\n",
              "    <tr>\n",
              "      <th>1</th>\n",
              "      <td>72</td>\n",
              "      <td>25.85</td>\n",
              "      <td>1872.2</td>\n",
              "      <td>Male</td>\n",
              "      <td>0</td>\n",
              "      <td>Yes</td>\n",
              "      <td>No</td>\n",
              "      <td>Yes</td>\n",
              "      <td>Yes</td>\n",
              "      <td>No</td>\n",
              "      <td>No internet service</td>\n",
              "      <td>No internet service</td>\n",
              "      <td>No internet service</td>\n",
              "      <td>No internet service</td>\n",
              "      <td>No internet service</td>\n",
              "      <td>No internet service</td>\n",
              "      <td>Two year</td>\n",
              "      <td>No</td>\n",
              "      <td>Credit card (automatic)</td>\n",
              "      <td>0</td>\n",
              "    </tr>\n",
              "    <tr>\n",
              "      <th>2</th>\n",
              "      <td>1</td>\n",
              "      <td>75.90</td>\n",
              "      <td>75.9</td>\n",
              "      <td>Male</td>\n",
              "      <td>0</td>\n",
              "      <td>No</td>\n",
              "      <td>No</td>\n",
              "      <td>Yes</td>\n",
              "      <td>No</td>\n",
              "      <td>Fiber optic</td>\n",
              "      <td>No</td>\n",
              "      <td>No</td>\n",
              "      <td>No</td>\n",
              "      <td>Yes</td>\n",
              "      <td>No</td>\n",
              "      <td>No</td>\n",
              "      <td>Month-to-month</td>\n",
              "      <td>Yes</td>\n",
              "      <td>Electronic check</td>\n",
              "      <td>1</td>\n",
              "    </tr>\n",
              "    <tr>\n",
              "      <th>3</th>\n",
              "      <td>32</td>\n",
              "      <td>79.30</td>\n",
              "      <td>2570</td>\n",
              "      <td>Female</td>\n",
              "      <td>1</td>\n",
              "      <td>Yes</td>\n",
              "      <td>No</td>\n",
              "      <td>Yes</td>\n",
              "      <td>Yes</td>\n",
              "      <td>Fiber optic</td>\n",
              "      <td>No</td>\n",
              "      <td>No</td>\n",
              "      <td>Yes</td>\n",
              "      <td>No</td>\n",
              "      <td>No</td>\n",
              "      <td>No</td>\n",
              "      <td>Month-to-month</td>\n",
              "      <td>No</td>\n",
              "      <td>Mailed check</td>\n",
              "      <td>0</td>\n",
              "    </tr>\n",
              "    <tr>\n",
              "      <th>4</th>\n",
              "      <td>60</td>\n",
              "      <td>115.25</td>\n",
              "      <td>6758.45</td>\n",
              "      <td>Female</td>\n",
              "      <td>0</td>\n",
              "      <td>Yes</td>\n",
              "      <td>Yes</td>\n",
              "      <td>Yes</td>\n",
              "      <td>Yes</td>\n",
              "      <td>Fiber optic</td>\n",
              "      <td>Yes</td>\n",
              "      <td>Yes</td>\n",
              "      <td>Yes</td>\n",
              "      <td>Yes</td>\n",
              "      <td>Yes</td>\n",
              "      <td>Yes</td>\n",
              "      <td>Two year</td>\n",
              "      <td>No</td>\n",
              "      <td>Credit card (automatic)</td>\n",
              "      <td>0</td>\n",
              "    </tr>\n",
              "  </tbody>\n",
              "</table>\n",
              "</div>"
            ],
            "text/plain": [
              "   ClientPeriod  MonthlySpending TotalSpent     Sex  IsSeniorCitizen  \\\n",
              "0            55            19.50    1026.35    Male                0   \n",
              "1            72            25.85     1872.2    Male                0   \n",
              "2             1            75.90       75.9    Male                0   \n",
              "3            32            79.30       2570  Female                1   \n",
              "4            60           115.25    6758.45  Female                0   \n",
              "\n",
              "  HasPartner HasChild HasPhoneService HasMultiplePhoneNumbers  \\\n",
              "0        Yes      Yes             Yes                      No   \n",
              "1        Yes       No             Yes                     Yes   \n",
              "2         No       No             Yes                      No   \n",
              "3        Yes       No             Yes                     Yes   \n",
              "4        Yes      Yes             Yes                     Yes   \n",
              "\n",
              "  HasInternetService HasOnlineSecurityService      HasOnlineBackup  \\\n",
              "0                 No      No internet service  No internet service   \n",
              "1                 No      No internet service  No internet service   \n",
              "2        Fiber optic                       No                   No   \n",
              "3        Fiber optic                       No                   No   \n",
              "4        Fiber optic                      Yes                  Yes   \n",
              "\n",
              "   HasDeviceProtection HasTechSupportAccess          HasOnlineTV  \\\n",
              "0  No internet service  No internet service  No internet service   \n",
              "1  No internet service  No internet service  No internet service   \n",
              "2                   No                  Yes                   No   \n",
              "3                  Yes                   No                   No   \n",
              "4                  Yes                  Yes                  Yes   \n",
              "\n",
              "  HasMovieSubscription HasContractPhone IsBillingPaperless  \\\n",
              "0  No internet service         One year                 No   \n",
              "1  No internet service         Two year                 No   \n",
              "2                   No   Month-to-month                Yes   \n",
              "3                   No   Month-to-month                 No   \n",
              "4                  Yes         Two year                 No   \n",
              "\n",
              "             PaymentMethod  Churn  \n",
              "0             Mailed check      0  \n",
              "1  Credit card (automatic)      0  \n",
              "2         Electronic check      1  \n",
              "3             Mailed check      0  \n",
              "4  Credit card (automatic)      0  "
            ]
          },
          "execution_count": 30,
          "metadata": {},
          "output_type": "execute_result"
        }
      ],
      "source": [
        "data.head()"
      ]
    },
    {
      "cell_type": "code",
      "execution_count": 31,
      "metadata": {
        "id": "tHC6gWabEEZA"
      },
      "outputs": [
        {
          "data": {
            "text/plain": [
              "ClientPeriod                0.0\n",
              "MonthlySpending             0.0\n",
              "TotalSpent                  0.0\n",
              "Sex                         0.0\n",
              "IsSeniorCitizen             0.0\n",
              "HasPartner                  0.0\n",
              "HasChild                    0.0\n",
              "HasPhoneService             0.0\n",
              "HasMultiplePhoneNumbers     0.0\n",
              "HasInternetService          0.0\n",
              "HasOnlineSecurityService    0.0\n",
              "HasOnlineBackup             0.0\n",
              "HasDeviceProtection         0.0\n",
              "HasTechSupportAccess        0.0\n",
              "HasOnlineTV                 0.0\n",
              "HasMovieSubscription        0.0\n",
              "HasContractPhone            0.0\n",
              "IsBillingPaperless          0.0\n",
              "PaymentMethod               0.0\n",
              "Churn                       0.0\n",
              "dtype: float64"
            ]
          },
          "execution_count": 31,
          "metadata": {},
          "output_type": "execute_result"
        }
      ],
      "source": [
        "data.isna().mean()"
      ]
    },
    {
      "cell_type": "markdown",
      "metadata": {
        "id": "dK370bPCEEZD"
      },
      "source": [
        "## Анализ данных (3 балла)\n",
        "\n",
        "1) Для численных призанков постройте гистограмму (*plt.hist(...)*) или boxplot (*plt.boxplot(...)*). Для категориальных посчитайте количество каждого значения для каждого признака. Для каждой колонки надо сделать *data.value_counts()* и построить bar диаграммы *plt.bar(...)* или круговые диаграммы *plt.pie(...)* (хорошо, елси вы сможете это сделать на одном гарфике с помощью *plt.subplots(...)*). \n",
        "\n",
        "2) Посмотрите на распределение целевой переменной и скажите, являются ли классы несбалансированными.\n",
        "\n",
        "3) (Если будет желание) Поиграйте с разными библиотеками для визуализации - *sns*, *pandas_visual_analysis*, etc.\n",
        "\n",
        "Второй пункт очень важен, потому что существуют задачи классификации с несбалансированными классами. Например, это может значить, что в датасете намного больше примеров 0 класса. В таких случаях нужно 1) не использовать accuracy как метрику 2) использовать методы борьбы с imbalanced dataset (обычно если датасет сильно несбалансирован, т.е. класса 1 в 20 раз меньше класса 0)."
      ]
    },
    {
      "cell_type": "code",
      "execution_count": 32,
      "metadata": {
        "id": "euULHRCawsor"
      },
      "outputs": [
        {
          "data": {
            "image/png": "[encoded data removed]",
            "text/plain": [
              "<Figure size 1008x720 with 4 Axes>"
            ]
          },
          "metadata": {
            "needs_background": "light"
          },
          "output_type": "display_data"
        }
      ],
      "source": [
        "data.hist(column=(num_cols+[target_col]), figsize=(14, 10)) \n",
        "None"
      ]
    },
    {
      "cell_type": "code",
      "execution_count": 33,
      "metadata": {
        "id": "4CMemoVCzDTO"
      },
      "outputs": [
        {
          "name": "stdout",
          "output_type": "stream",
          "text": [
            "Sex DISTRIBUTION\n",
            "Male      2655\n",
            "Female    2627\n",
            "Name: Sex, dtype: int64\n",
            "\n",
            "IsSeniorCitizen DISTRIBUTION\n",
            "0    4440\n",
            "1     842\n",
            "Name: IsSeniorCitizen, dtype: int64\n",
            "\n",
            "HasPartner DISTRIBUTION\n",
            "No     2705\n",
            "Yes    2577\n",
            "Name: HasPartner, dtype: int64\n",
            "\n",
            "HasChild DISTRIBUTION\n",
            "No     3676\n",
            "Yes    1606\n",
            "Name: HasChild, dtype: int64\n",
            "\n",
            "HasPhoneService DISTRIBUTION\n",
            "Yes    4761\n",
            "No      521\n",
            "Name: HasPhoneService, dtype: int64\n",
            "\n",
            "HasMultiplePhoneNumbers DISTRIBUTION\n",
            "No                  2511\n",
            "Yes                 2250\n",
            "No phone service     521\n",
            "Name: HasMultiplePhoneNumbers, dtype: int64\n",
            "\n",
            "HasInternetService DISTRIBUTION\n",
            "Fiber optic    2341\n",
            "DSL            1800\n",
            "No             1141\n",
            "Name: HasInternetService, dtype: int64\n",
            "\n",
            "HasOnlineSecurityService DISTRIBUTION\n",
            "No                     2612\n",
            "Yes                    1529\n",
            "No internet service    1141\n",
            "Name: HasOnlineSecurityService, dtype: int64\n",
            "\n",
            "HasOnlineBackup DISTRIBUTION\n",
            "No                     2332\n",
            "Yes                    1809\n",
            "No internet service    1141\n",
            "Name: HasOnlineBackup, dtype: int64\n",
            "\n",
            "HasDeviceProtection DISTRIBUTION\n",
            "No                     2317\n",
            "Yes                    1824\n",
            "No internet service    1141\n",
            "Name: HasDeviceProtection, dtype: int64\n",
            "\n",
            "HasTechSupportAccess DISTRIBUTION\n",
            "No                     2604\n",
            "Yes                    1537\n",
            "No internet service    1141\n",
            "Name: HasTechSupportAccess, dtype: int64\n",
            "\n",
            "HasOnlineTV DISTRIBUTION\n",
            "No                     2099\n",
            "Yes                    2042\n",
            "No internet service    1141\n",
            "Name: HasOnlineTV, dtype: int64\n",
            "\n",
            "HasMovieSubscription DISTRIBUTION\n",
            "No                     2081\n",
            "Yes                    2060\n",
            "No internet service    1141\n",
            "Name: HasMovieSubscription, dtype: int64\n",
            "\n",
            "HasContractPhone DISTRIBUTION\n",
            "Month-to-month    2920\n",
            "Two year          1280\n",
            "One year          1082\n",
            "Name: HasContractPhone, dtype: int64\n",
            "\n",
            "IsBillingPaperless DISTRIBUTION\n",
            "Yes    3148\n",
            "No     2134\n",
            "Name: IsBillingPaperless, dtype: int64\n",
            "\n",
            "PaymentMethod DISTRIBUTION\n",
            "Electronic check             1786\n",
            "Mailed check                 1194\n",
            "Bank transfer (automatic)    1159\n",
            "Credit card (automatic)      1143\n",
            "Name: PaymentMethod, dtype: int64\n",
            "\n"
          ]
        }
      ],
      "source": [
        "for col in cat_cols:\n",
        "    print(f\"{col} DISTRIBUTION\")\n",
        "    print(data[col].value_counts(dropna=False))\n",
        "    print()"
      ]
    },
    {
      "cell_type": "markdown",
      "metadata": {
        "id": "KW9iaf2U4gGM"
      },
      "source": [
        "По многим признакам всего 2 возможных значения: Yes, No или Male, Female. Такие признаки легко преобразовать в числовые, заменив значения на 0 и 1. А признак IsSeniorCitizen вообще можно было отнести к числовым. Всё это сделаем с помощью one-hot-encoding'а."
      ]
    },
    {
      "cell_type": "code",
      "execution_count": 34,
      "metadata": {
        "id": "Yneggg2ZANZT"
      },
      "outputs": [
        {
          "name": "stdout",
          "output_type": "stream",
          "text": [
            "Sex DISTRIBUTION\n",
            "['Male', 'Female'] ['2655', '2627'] \n",
            "\n",
            "IsSeniorCitizen DISTRIBUTION\n",
            "['0', '1'] ['4440', '842'] \n",
            "\n",
            "HasPartner DISTRIBUTION\n",
            "['No', 'Yes'] ['2705', '2577'] \n",
            "\n",
            "HasChild DISTRIBUTION\n",
            "['No', 'Yes'] ['3676', '1606'] \n",
            "\n",
            "HasPhoneService DISTRIBUTION\n",
            "['Yes', 'No'] ['4761', '521'] \n",
            "\n",
            "HasMultiplePhoneNumbers DISTRIBUTION\n",
            "['No', 'Yes', 'No phone service'] ['2511', '2250', '521'] \n",
            "\n",
            "HasInternetService DISTRIBUTION\n",
            "['Fiber optic', 'DSL', 'No'] ['2341', '1800', '1141'] \n",
            "\n",
            "HasOnlineSecurityService DISTRIBUTION\n",
            "['No', 'Yes', 'No internet service'] ['2612', '1529', '1141'] \n",
            "\n",
            "HasOnlineBackup DISTRIBUTION\n",
            "['No', 'Yes', 'No internet service'] ['2332', '1809', '1141'] \n",
            "\n",
            "HasDeviceProtection DISTRIBUTION\n",
            "['No', 'Yes', 'No internet service'] ['2317', '1824', '1141'] \n",
            "\n",
            "HasTechSupportAccess DISTRIBUTION\n",
            "['No', 'Yes', 'No internet service'] ['2604', '1537', '1141'] \n",
            "\n",
            "HasOnlineTV DISTRIBUTION\n",
            "['No', 'Yes', 'No internet service'] ['2099', '2042', '1141'] \n",
            "\n",
            "HasMovieSubscription DISTRIBUTION\n",
            "['No', 'Yes', 'No internet service'] ['2081', '2060', '1141'] \n",
            "\n",
            "HasContractPhone DISTRIBUTION\n",
            "['Month-to-month', 'Two year', 'One year'] ['2920', '1280', '1082'] \n",
            "\n",
            "IsBillingPaperless DISTRIBUTION\n",
            "['Yes', 'No'] ['3148', '2134'] \n",
            "\n",
            "PaymentMethod DISTRIBUTION\n",
            "['Electronic check', 'Mailed check', 'Bank transfer (automatic)', 'Credit card (automatic)'] ['1786', '1194', '1159', '1143'] \n",
            "\n",
            "[['Male', 'Female'], ['0', '1'], ['No', 'Yes'], ['No', 'Yes'], ['Yes', 'No'], ['No', 'Yes', 'No phone service'], ['Fiber optic', 'DSL', 'No'], ['No', 'Yes', 'No internet service'], ['No', 'Yes', 'No internet service'], ['No', 'Yes', 'No internet service'], ['No', 'Yes', 'No internet service'], ['No', 'Yes', 'No internet service'], ['No', 'Yes', 'No internet service'], ['Month-to-month', 'Two year', 'One year'], ['Yes', 'No'], ['Electronic check', 'Mailed check', 'Bank transfer (automatic)', 'Credit card (automatic)']] [['2655', '2627'], ['4440', '842'], ['2705', '2577'], ['3676', '1606'], ['4761', '521'], ['2511', '2250', '521'], ['2341', '1800', '1141'], ['2612', '1529', '1141'], ['2332', '1809', '1141'], ['2317', '1824', '1141'], ['2604', '1537', '1141'], ['2099', '2042', '1141'], ['2081', '2060', '1141'], ['2920', '1280', '1082'], ['3148', '2134'], ['1786', '1194', '1159', '1143']]\n"
          ]
        }
      ],
      "source": [
        "#подготовим данные для круговых диаграмм:\n",
        "val = []\n",
        "lab = []\n",
        "for col in cat_cols:\n",
        "    print(f\"{col} DISTRIBUTION\")\n",
        "    x = str(data[col].value_counts(dropna=False)).split('\\n')[:-1]\n",
        "    y =  [val.split('  ') for val in x]\n",
        "    labels = [val[0].strip() for val in y]\n",
        "    values = [val[-1].strip() for val in y]\n",
        "    val.append(values)\n",
        "    lab.append(labels)\n",
        "    print(labels,values,'\\n')\n",
        "print(lab,val)"
      ]
    },
    {
      "cell_type": "markdown",
      "metadata": {
        "id": "sdu_5dNUaFuf"
      },
      "source": [
        "Рисуем диаграммы для категориальных признаков"
      ]
    },
    {
      "cell_type": "code",
      "execution_count": 35,
      "metadata": {
        "id": "NZkbgFJZEEZE"
      },
      "outputs": [
        {
          "data": {
            "image/png": "[encoded data removed]",
            "text/plain": [
              "<Figure size 1800x1800 with 15 Axes>"
            ]
          },
          "metadata": {},
          "output_type": "display_data"
        }
      ],
      "source": [
        "from matplotlib import pyplot as plt\n",
        "fig, ax = plt.subplots(nrows = 5, ncols = 3,figsize=(25, 25))\n",
        "k = 0\n",
        "for i in range(5):\n",
        "  for k in range(3):\n",
        "    ax[i,k].set_title(cat_cols[i+k])\n",
        "    ax[i,k].pie(val[i+k], labels=lab[i+k])\n",
        " "
      ]
    },
    {
      "cell_type": "markdown",
      "metadata": {
        "id": "zg60u3QDEEZH"
      },
      "source": [
        "(Дополнительно) Если вы нашли какие-то ошибки в данных или выбросы, то можете их убрать. Тут можно поэксперементировать с обработкой данных как угодно, но не за баллы."
      ]
    },
    {
      "cell_type": "code",
      "execution_count": 36,
      "metadata": {
        "colab": {
          "base_uri": "https://localhost:8080/"
        },
        "id": "fwfksF1gEEZI",
        "outputId": "c4f0d6e2-ffdc-4e40-e3ad-58a9a40ac311"
      },
      "outputs": [
        {
          "name": "stdout",
          "output_type": "stream",
          "text": [
            "(5282, 20)\n"
          ]
        },
        {
          "data": {
            "text/plain": [
              "(5273, 20)"
            ]
          },
          "execution_count": 36,
          "metadata": {},
          "output_type": "execute_result"
        }
      ],
      "source": [
        "print(data.shape)\n",
        "\n",
        "data = data.replace(' ', np.nan) #меняем пробелы на None\n",
        "\n",
        "data = data.dropna() #удаляем все None\n",
        "data.shape"
      ]
    },
    {
      "cell_type": "markdown",
      "metadata": {
        "id": "DviiJd8REEZK"
      },
      "source": [
        "## Применение линейных моделей (3 балла)\n",
        "\n",
        "1) Обработайте данные для того, чтобы к ним можно было применить LogisticRegression. Т.е. отнормируйте числовые признаки, а категориальные закодируйте с помощью one-hot-encoding'а. \n",
        "\n",
        "2) С помощью кроссвалидации или разделения на train/valid выборку протестируйте разные значения гиперпараметра C и выберите лучший (можно тестировать С=100, 10, 1, 0.1, 0.01, 0.001) по метрике ROC-AUC. \n",
        "\n",
        "Если вы разделяете на train/valid, то используйте LogisticRegressionCV. Он сам при вызове .fit() подберет параметр С. (не забудьте передать scroing='roc_auc', чтобы при кроссвалидации сравнивались значения этой метрики, и refit=True, чтобы при потом модель обучилась на всем датасете с лучшим параметром C). \n",
        "\n",
        "\n",
        "(более сложный вариант) Если вы будете использовать кроссвалидацию, то преобразования данных и LogisticRegression нужно соединить в один Pipeline с помощью make_pipeline, как это делалось во втором семинаре. Потом pipeline надо передать в GridSearchCV. Для one-hot-encoding'a можно испльзовать комбинацию LabelEncoder + OneHotEncoder (сначала превращаем строчки в числа, а потом числа првращаем в one-hot вектора.)"
      ]
    },
    {
      "cell_type": "code",
      "execution_count": 37,
      "metadata": {
        "id": "xHCLDmwqEEZL"
      },
      "outputs": [],
      "source": [
        "from sklearn.linear_model import LogisticRegression, LogisticRegressionCV\n",
        "from sklearn.model_selection import train_test_split, GridSearchCV\n",
        "from sklearn.preprocessing import StandardScaler, RobustScaler, LabelEncoder, OneHotEncoder\n",
        "from sklearn.pipeline import make_pipeline"
      ]
    },
    {
      "cell_type": "code",
      "execution_count": 38,
      "metadata": {
        "id": "-IVUxH6w7Z7X"
      },
      "outputs": [
        {
          "name": "stdout",
          "output_type": "stream",
          "text": [
            "   ClientPeriod  MonthlySpending TotalSpent  Churn  Sex_Male  \\\n",
            "0            55            19.50    1026.35      0         1   \n",
            "1            72            25.85     1872.2      0         1   \n",
            "2             1            75.90       75.9      1         1   \n",
            "3            32            79.30       2570      0         0   \n",
            "4            60           115.25    6758.45      0         0   \n",
            "\n",
            "   IsSeniorCitizen_1  HasPartner_Yes  HasChild_Yes  HasPhoneService_Yes  \\\n",
            "0                  0               1             1                    1   \n",
            "1                  0               1             0                    1   \n",
            "2                  0               0             0                    1   \n",
            "3                  1               1             0                    1   \n",
            "4                  0               1             1                    1   \n",
            "\n",
            "   HasMultiplePhoneNumbers_No phone service  ...  \\\n",
            "0                                         0  ...   \n",
            "1                                         0  ...   \n",
            "2                                         0  ...   \n",
            "3                                         0  ...   \n",
            "4                                         0  ...   \n",
            "\n",
            "   HasOnlineTV_No internet service  HasOnlineTV_Yes  \\\n",
            "0                                1                0   \n",
            "1                                1                0   \n",
            "2                                0                0   \n",
            "3                                0                0   \n",
            "4                                0                1   \n",
            "\n",
            "   HasMovieSubscription_No internet service  HasMovieSubscription_Yes  \\\n",
            "0                                         1                         0   \n",
            "1                                         1                         0   \n",
            "2                                         0                         0   \n",
            "3                                         0                         0   \n",
            "4                                         0                         1   \n",
            "\n",
            "   HasContractPhone_One year  HasContractPhone_Two year  \\\n",
            "0                          1                          0   \n",
            "1                          0                          1   \n",
            "2                          0                          0   \n",
            "3                          0                          0   \n",
            "4                          0                          1   \n",
            "\n",
            "   IsBillingPaperless_Yes  PaymentMethod_Credit card (automatic)  \\\n",
            "0                       0                                      0   \n",
            "1                       0                                      1   \n",
            "2                       1                                      0   \n",
            "3                       0                                      0   \n",
            "4                       0                                      1   \n",
            "\n",
            "   PaymentMethod_Electronic check  PaymentMethod_Mailed check  \n",
            "0                               0                           1  \n",
            "1                               0                           0  \n",
            "2                               1                           0  \n",
            "3                               0                           1  \n",
            "4                               0                           0  \n",
            "\n",
            "[5 rows x 31 columns]\n"
          ]
        },
        {
          "data": {
            "text/html": [
              "<div>\n",
              "<style scoped>\n",
              "    .dataframe tbody tr th:only-of-type {\n",
              "        vertical-align: middle;\n",
              "    }\n",
              "\n",
              "    .dataframe tbody tr th {\n",
              "        vertical-align: top;\n",
              "    }\n",
              "\n",
              "    .dataframe thead th {\n",
              "        text-align: right;\n",
              "    }\n",
              "</style>\n",
              "<table border=\"1\" class=\"dataframe\">\n",
              "  <thead>\n",
              "    <tr style=\"text-align: right;\">\n",
              "      <th></th>\n",
              "      <th>ClientPeriod</th>\n",
              "      <th>MonthlySpending</th>\n",
              "      <th>TotalSpent</th>\n",
              "      <th>Churn</th>\n",
              "      <th>Sex_Male</th>\n",
              "      <th>IsSeniorCitizen_1</th>\n",
              "      <th>HasPartner_Yes</th>\n",
              "      <th>HasChild_Yes</th>\n",
              "      <th>HasPhoneService_Yes</th>\n",
              "      <th>HasMultiplePhoneNumbers_No phone service</th>\n",
              "      <th>...</th>\n",
              "      <th>HasOnlineTV_No internet service</th>\n",
              "      <th>HasOnlineTV_Yes</th>\n",
              "      <th>HasMovieSubscription_No internet service</th>\n",
              "      <th>HasMovieSubscription_Yes</th>\n",
              "      <th>HasContractPhone_One year</th>\n",
              "      <th>HasContractPhone_Two year</th>\n",
              "      <th>IsBillingPaperless_Yes</th>\n",
              "      <th>PaymentMethod_Credit card (automatic)</th>\n",
              "      <th>PaymentMethod_Electronic check</th>\n",
              "      <th>PaymentMethod_Mailed check</th>\n",
              "    </tr>\n",
              "  </thead>\n",
              "  <tbody>\n",
              "    <tr>\n",
              "      <th>0</th>\n",
              "      <td>55</td>\n",
              "      <td>19.50</td>\n",
              "      <td>1026.35</td>\n",
              "      <td>0</td>\n",
              "      <td>1</td>\n",
              "      <td>0</td>\n",
              "      <td>1</td>\n",
              "      <td>1</td>\n",
              "      <td>1</td>\n",
              "      <td>0</td>\n",
              "      <td>...</td>\n",
              "      <td>1</td>\n",
              "      <td>0</td>\n",
              "      <td>1</td>\n",
              "      <td>0</td>\n",
              "      <td>1</td>\n",
              "      <td>0</td>\n",
              "      <td>0</td>\n",
              "      <td>0</td>\n",
              "      <td>0</td>\n",
              "      <td>1</td>\n",
              "    </tr>\n",
              "    <tr>\n",
              "      <th>1</th>\n",
              "      <td>72</td>\n",
              "      <td>25.85</td>\n",
              "      <td>1872.2</td>\n",
              "      <td>0</td>\n",
              "      <td>1</td>\n",
              "      <td>0</td>\n",
              "      <td>1</td>\n",
              "      <td>0</td>\n",
              "      <td>1</td>\n",
              "      <td>0</td>\n",
              "      <td>...</td>\n",
              "      <td>1</td>\n",
              "      <td>0</td>\n",
              "      <td>1</td>\n",
              "      <td>0</td>\n",
              "      <td>0</td>\n",
              "      <td>1</td>\n",
              "      <td>0</td>\n",
              "      <td>1</td>\n",
              "      <td>0</td>\n",
              "      <td>0</td>\n",
              "    </tr>\n",
              "    <tr>\n",
              "      <th>2</th>\n",
              "      <td>1</td>\n",
              "      <td>75.90</td>\n",
              "      <td>75.9</td>\n",
              "      <td>1</td>\n",
              "      <td>1</td>\n",
              "      <td>0</td>\n",
              "      <td>0</td>\n",
              "      <td>0</td>\n",
              "      <td>1</td>\n",
              "      <td>0</td>\n",
              "      <td>...</td>\n",
              "      <td>0</td>\n",
              "      <td>0</td>\n",
              "      <td>0</td>\n",
              "      <td>0</td>\n",
              "      <td>0</td>\n",
              "      <td>0</td>\n",
              "      <td>1</td>\n",
              "      <td>0</td>\n",
              "      <td>1</td>\n",
              "      <td>0</td>\n",
              "    </tr>\n",
              "    <tr>\n",
              "      <th>3</th>\n",
              "      <td>32</td>\n",
              "      <td>79.30</td>\n",
              "      <td>2570</td>\n",
              "      <td>0</td>\n",
              "      <td>0</td>\n",
              "      <td>1</td>\n",
              "      <td>1</td>\n",
              "      <td>0</td>\n",
              "      <td>1</td>\n",
              "      <td>0</td>\n",
              "      <td>...</td>\n",
              "      <td>0</td>\n",
              "      <td>0</td>\n",
              "      <td>0</td>\n",
              "      <td>0</td>\n",
              "      <td>0</td>\n",
              "      <td>0</td>\n",
              "      <td>0</td>\n",
              "      <td>0</td>\n",
              "      <td>0</td>\n",
              "      <td>1</td>\n",
              "    </tr>\n",
              "    <tr>\n",
              "      <th>4</th>\n",
              "      <td>60</td>\n",
              "      <td>115.25</td>\n",
              "      <td>6758.45</td>\n",
              "      <td>0</td>\n",
              "      <td>0</td>\n",
              "      <td>0</td>\n",
              "      <td>1</td>\n",
              "      <td>1</td>\n",
              "      <td>1</td>\n",
              "      <td>0</td>\n",
              "      <td>...</td>\n",
              "      <td>0</td>\n",
              "      <td>1</td>\n",
              "      <td>0</td>\n",
              "      <td>1</td>\n",
              "      <td>0</td>\n",
              "      <td>1</td>\n",
              "      <td>0</td>\n",
              "      <td>1</td>\n",
              "      <td>0</td>\n",
              "      <td>0</td>\n",
              "    </tr>\n",
              "  </tbody>\n",
              "</table>\n",
              "<p>5 rows × 31 columns</p>\n",
              "</div>"
            ],
            "text/plain": [
              "   ClientPeriod  MonthlySpending TotalSpent  Churn  Sex_Male  \\\n",
              "0            55            19.50    1026.35      0         1   \n",
              "1            72            25.85     1872.2      0         1   \n",
              "2             1            75.90       75.9      1         1   \n",
              "3            32            79.30       2570      0         0   \n",
              "4            60           115.25    6758.45      0         0   \n",
              "\n",
              "   IsSeniorCitizen_1  HasPartner_Yes  HasChild_Yes  HasPhoneService_Yes  \\\n",
              "0                  0               1             1                    1   \n",
              "1                  0               1             0                    1   \n",
              "2                  0               0             0                    1   \n",
              "3                  1               1             0                    1   \n",
              "4                  0               1             1                    1   \n",
              "\n",
              "   HasMultiplePhoneNumbers_No phone service  ...  \\\n",
              "0                                         0  ...   \n",
              "1                                         0  ...   \n",
              "2                                         0  ...   \n",
              "3                                         0  ...   \n",
              "4                                         0  ...   \n",
              "\n",
              "   HasOnlineTV_No internet service  HasOnlineTV_Yes  \\\n",
              "0                                1                0   \n",
              "1                                1                0   \n",
              "2                                0                0   \n",
              "3                                0                0   \n",
              "4                                0                1   \n",
              "\n",
              "   HasMovieSubscription_No internet service  HasMovieSubscription_Yes  \\\n",
              "0                                         1                         0   \n",
              "1                                         1                         0   \n",
              "2                                         0                         0   \n",
              "3                                         0                         0   \n",
              "4                                         0                         1   \n",
              "\n",
              "   HasContractPhone_One year  HasContractPhone_Two year  \\\n",
              "0                          1                          0   \n",
              "1                          0                          1   \n",
              "2                          0                          0   \n",
              "3                          0                          0   \n",
              "4                          0                          1   \n",
              "\n",
              "   IsBillingPaperless_Yes  PaymentMethod_Credit card (automatic)  \\\n",
              "0                       0                                      0   \n",
              "1                       0                                      1   \n",
              "2                       1                                      0   \n",
              "3                       0                                      0   \n",
              "4                       0                                      1   \n",
              "\n",
              "   PaymentMethod_Electronic check  PaymentMethod_Mailed check  \n",
              "0                               0                           1  \n",
              "1                               0                           0  \n",
              "2                               1                           0  \n",
              "3                               0                           1  \n",
              "4                               0                           0  \n",
              "\n",
              "[5 rows x 31 columns]"
            ]
          },
          "execution_count": 38,
          "metadata": {},
          "output_type": "execute_result"
        }
      ],
      "source": [
        "# one-hot encoding\n",
        "data_for_linearModel = pd.get_dummies(data, columns=cat_cols,drop_first=True)\n",
        "print(data_for_linearModel.head())\n",
        "cat_cols_new = []\n",
        "for col_name in cat_cols:\n",
        "    cat_cols_new.extend(filter(lambda x: x.startswith(col_name), data_for_linearModel.columns))\n",
        "data_for_linearModel.head()"
      ]
    },
    {
      "cell_type": "markdown",
      "metadata": {
        "id": "6oThdEq8sZTX"
      },
      "source": [
        "Видим, что после encoding категориальные заменились на 27 числовых признаков. Всё верно. Категориям, где было по 2 значения, соответствует один столбец(просто заменили значения на 0 и 1). А категории с 3 значениями признака заменились на 2 столбца, т.е. заменились на 2 новых числовых признака... "
      ]
    },
    {
      "cell_type": "markdown",
      "metadata": {
        "id": "LrJCbUkZ4jfN"
      },
      "source": [
        "Отнормируем числовые признаки"
      ]
    },
    {
      "cell_type": "code",
      "execution_count": 39,
      "metadata": {
        "id": "P2Yv3uYtEEZO"
      },
      "outputs": [
        {
          "data": {
            "text/plain": [
              "array([[ 0.91909879, -1.50643567, -0.55758153, ..., -0.52578169,\n",
              "        -0.7156732 ,  1.85433335],\n",
              "       [ 1.61206004, -1.29599691, -0.18476315, ...,  1.90193007,\n",
              "        -0.7156732 , -0.53927736],\n",
              "       [-1.28207223,  0.36265822, -0.9765036 , ..., -0.52578169,\n",
              "         1.3972858 , -0.53927736],\n",
              "       ...,\n",
              "       [-1.28207223, -0.32831   , -0.98569348, ..., -0.52578169,\n",
              "        -0.7156732 ,  1.85433335],\n",
              "       [-0.1407243 ,  0.36597222, -0.03355981, ...,  1.90193007,\n",
              "        -0.7156732 , -0.53927736],\n",
              "       [-0.54834856,  0.36265822, -0.40364547, ..., -0.52578169,\n",
              "        -0.7156732 ,  1.85433335]])"
            ]
          },
          "execution_count": 39,
          "metadata": {},
          "output_type": "execute_result"
        }
      ],
      "source": [
        "pca = StandardScaler()\n",
        "X = pca.fit_transform(data_for_linearModel[num_cols+cat_cols_new])\n",
        "\n",
        "X"
      ]
    },
    {
      "cell_type": "code",
      "execution_count": 40,
      "metadata": {
        "colab": {
          "base_uri": "https://localhost:8080/"
        },
        "id": "TfNR_aokwuyU",
        "outputId": "c61f353c-0d50-42eb-cfa2-8f318c8797d6"
      },
      "outputs": [
        {
          "data": {
            "text/plain": [
              "(5273,)"
            ]
          },
          "execution_count": 40,
          "metadata": {},
          "output_type": "execute_result"
        }
      ],
      "source": [
        "y = data['Churn']\n",
        "y.shape"
      ]
    },
    {
      "cell_type": "code",
      "execution_count": 41,
      "metadata": {
        "colab": {
          "base_uri": "https://localhost:8080/"
        },
        "id": "3GWWjiICGcai",
        "outputId": "58762a35-8be2-4e3f-9d7b-d39f0b63a5c7"
      },
      "outputs": [
        {
          "data": {
            "text/plain": [
              "array([[0.99404642, 0.00595358]])"
            ]
          },
          "execution_count": 41,
          "metadata": {},
          "output_type": "execute_result"
        }
      ],
      "source": [
        "clf = LogisticRegressionCV(cv=5,refit=True,scoring='roc_auc').fit(X, y) #\n",
        "clf.predict_proba(X[:1,:])"
      ]
    },
    {
      "cell_type": "code",
      "execution_count": 42,
      "metadata": {
        "colab": {
          "base_uri": "https://localhost:8080/"
        },
        "id": "qusc1U0GMS6F",
        "outputId": "4925b083-bbd8-47e5-8fe3-e350939c32e9"
      },
      "outputs": [
        {
          "name": "stdout",
          "output_type": "stream",
          "text": [
            "[0]\n"
          ]
        },
        {
          "data": {
            "text/plain": [
              "0"
            ]
          },
          "execution_count": 42,
          "metadata": {},
          "output_type": "execute_result"
        }
      ],
      "source": [
        "print(clf.predict(X[3:4,:]))\n",
        "y[3]"
      ]
    },
    {
      "cell_type": "code",
      "execution_count": 43,
      "metadata": {
        "colab": {
          "base_uri": "https://localhost:8080/"
        },
        "id": "jltQCzFCZv3V",
        "outputId": "e9ddc86e-67d6-4513-a141-a668155bb053"
      },
      "outputs": [
        {
          "data": {
            "text/plain": [
              "0.725870136162914"
            ]
          },
          "execution_count": 43,
          "metadata": {},
          "output_type": "execute_result"
        }
      ],
      "source": [
        "from sklearn.metrics import roc_auc_score\n",
        "\n",
        "y_predictions = clf.predict(X)\n",
        "\n",
        "roc_auc_score(y, y_predictions)"
      ]
    },
    {
      "cell_type": "markdown",
      "metadata": {
        "id": "uVahy6JKEEZQ"
      },
      "source": [
        "Выпишите какое лучшее качество и с какими параметрами вам удалось получить.\n",
        "Получили качество: 0.725870136162914"
      ]
    },
    {
      "cell_type": "markdown",
      "metadata": {
        "id": "BlTeVy7fEEZR"
      },
      "source": [
        "## Применение градиентного бустинга (2 балла)\n",
        "\n",
        "Если вы хотите получить баллы за точный ответ, то стоит попробовать градиентный бустинг. Часто градиентный бустинг с дефолтными параметрами даст вам 80% результата за 0% усилий.\n",
        "\n",
        "Мы будем использовать catboost, поэтому нам не надо кодировать категориальные признаки. catboost сделает это сам (в .fit() надо передать cat_features=cat_cols). А численные признаки нормировать для моделей, основанных на деревьях не нужно.\n",
        "\n",
        "1) Разделите выборку на train/valid. Протестируйте catboost cо стандартными параметрами.\n",
        "\n",
        "2) Протестируйте разные занчения параметроа количества деревьев и learning_rate'а и выберите лучшую по метрике ROC-AUC комбинацию. \n",
        "\n",
        "(Дополнительно) Есть некоторые сложности с тем, чтобы использовать CatBoostClassifier вместе с GridSearchCV, поэтому мы не просим использовать кроссвалидацию. Но можете попробовать)"
      ]
    },
    {
      "cell_type": "code",
      "execution_count": null,
      "metadata": {
        "id": "mw4KRIrRmlks"
      },
      "outputs": [],
      "source": [
        "!pip install catboost"
      ]
    },
    {
      "cell_type": "code",
      "execution_count": 44,
      "metadata": {
        "id": "Fioxxlp-EEZS"
      },
      "outputs": [],
      "source": [
        "# YOUR CODE\n",
        "import catboost\n"
      ]
    },
    {
      "cell_type": "code",
      "execution_count": 45,
      "metadata": {
        "id": "iEFkk1yjmtlR"
      },
      "outputs": [
        {
          "name": "stdout",
          "output_type": "stream",
          "text": [
            "Learning rate set to 0.085784\n",
            "0:\tlearn: 0.6400528\ttotal: 85.8ms\tremaining: 18.4s\n",
            "1:\tlearn: 0.5953614\ttotal: 115ms\tremaining: 12.3s\n",
            "2:\tlearn: 0.5700803\ttotal: 127ms\tremaining: 8.97s\n",
            "3:\tlearn: 0.5449199\ttotal: 141ms\tremaining: 7.44s\n",
            "4:\tlearn: 0.5212010\ttotal: 168ms\tremaining: 7.06s\n",
            "5:\tlearn: 0.5007282\ttotal: 197ms\tremaining: 6.86s\n",
            "6:\tlearn: 0.4855602\ttotal: 222ms\tremaining: 6.61s\n",
            "7:\tlearn: 0.4738737\ttotal: 254ms\tremaining: 6.58s\n",
            "8:\tlearn: 0.4626892\ttotal: 281ms\tremaining: 6.43s\n",
            "9:\tlearn: 0.4537079\ttotal: 304ms\tremaining: 6.24s\n",
            "10:\tlearn: 0.4459549\ttotal: 331ms\tremaining: 6.14s\n",
            "11:\tlearn: 0.4400676\ttotal: 352ms\tremaining: 5.95s\n",
            "12:\tlearn: 0.4347830\ttotal: 376ms\tremaining: 5.84s\n",
            "13:\tlearn: 0.4293968\ttotal: 486ms\tremaining: 6.97s\n",
            "14:\tlearn: 0.4263561\ttotal: 516ms\tremaining: 6.88s\n",
            "15:\tlearn: 0.4224433\ttotal: 539ms\tremaining: 6.7s\n",
            "16:\tlearn: 0.4212971\ttotal: 547ms\tremaining: 6.37s\n",
            "17:\tlearn: 0.4196935\ttotal: 556ms\tremaining: 6.08s\n",
            "18:\tlearn: 0.4164192\ttotal: 580ms\tremaining: 5.98s\n",
            "19:\tlearn: 0.4144961\ttotal: 602ms\tremaining: 5.87s\n",
            "20:\tlearn: 0.4119940\ttotal: 628ms\tremaining: 5.8s\n",
            "21:\tlearn: 0.4111188\ttotal: 654ms\tremaining: 5.74s\n",
            "22:\tlearn: 0.4093278\ttotal: 676ms\tremaining: 5.64s\n",
            "23:\tlearn: 0.4080316\ttotal: 704ms\tremaining: 5.6s\n",
            "24:\tlearn: 0.4064191\ttotal: 729ms\tremaining: 5.54s\n",
            "25:\tlearn: 0.4061308\ttotal: 741ms\tremaining: 5.39s\n",
            "26:\tlearn: 0.4045953\ttotal: 761ms\tremaining: 5.3s\n",
            "27:\tlearn: 0.4032159\ttotal: 783ms\tremaining: 5.23s\n",
            "28:\tlearn: 0.4023338\ttotal: 799ms\tremaining: 5.13s\n",
            "29:\tlearn: 0.4014424\ttotal: 820ms\tremaining: 5.05s\n",
            "30:\tlearn: 0.4008738\ttotal: 841ms\tremaining: 4.99s\n",
            "31:\tlearn: 0.3998109\ttotal: 863ms\tremaining: 4.94s\n",
            "32:\tlearn: 0.3989804\ttotal: 884ms\tremaining: 4.87s\n",
            "33:\tlearn: 0.3978993\ttotal: 925ms\tremaining: 4.92s\n",
            "34:\tlearn: 0.3976457\ttotal: 954ms\tremaining: 4.91s\n",
            "35:\tlearn: 0.3968436\ttotal: 982ms\tremaining: 4.88s\n",
            "36:\tlearn: 0.3961533\ttotal: 1.01s\tremaining: 4.86s\n",
            "37:\tlearn: 0.3958861\ttotal: 1.03s\tremaining: 4.82s\n",
            "38:\tlearn: 0.3954671\ttotal: 1.06s\tremaining: 4.79s\n",
            "39:\tlearn: 0.3940654\ttotal: 1.16s\tremaining: 5.09s\n",
            "40:\tlearn: 0.3936672\ttotal: 1.21s\tremaining: 5.13s\n",
            "41:\tlearn: 0.3930900\ttotal: 1.23s\tremaining: 5.07s\n",
            "42:\tlearn: 0.3919606\ttotal: 1.25s\tremaining: 5.01s\n",
            "43:\tlearn: 0.3917950\ttotal: 1.26s\tremaining: 4.91s\n",
            "44:\tlearn: 0.3914037\ttotal: 1.28s\tremaining: 4.84s\n",
            "45:\tlearn: 0.3905525\ttotal: 1.3s\tremaining: 4.8s\n",
            "46:\tlearn: 0.3901773\ttotal: 1.33s\tremaining: 4.74s\n",
            "47:\tlearn: 0.3898625\ttotal: 1.35s\tremaining: 4.69s\n",
            "48:\tlearn: 0.3893853\ttotal: 1.37s\tremaining: 4.64s\n",
            "49:\tlearn: 0.3890187\ttotal: 1.4s\tremaining: 4.62s\n",
            "50:\tlearn: 0.3889059\ttotal: 1.41s\tremaining: 4.53s\n",
            "51:\tlearn: 0.3883531\ttotal: 1.43s\tremaining: 4.48s\n",
            "52:\tlearn: 0.3882962\ttotal: 1.44s\tremaining: 4.39s\n",
            "53:\tlearn: 0.3882744\ttotal: 1.45s\tremaining: 4.31s\n",
            "54:\tlearn: 0.3878981\ttotal: 1.47s\tremaining: 4.28s\n",
            "55:\tlearn: 0.3877941\ttotal: 1.5s\tremaining: 4.25s\n",
            "56:\tlearn: 0.3876392\ttotal: 1.52s\tremaining: 4.21s\n",
            "57:\tlearn: 0.3869888\ttotal: 1.55s\tremaining: 4.19s\n",
            "58:\tlearn: 0.3867235\ttotal: 1.57s\tremaining: 4.16s\n",
            "59:\tlearn: 0.3867184\ttotal: 1.59s\tremaining: 4.1s\n",
            "60:\tlearn: 0.3866307\ttotal: 1.6s\tremaining: 4.04s\n",
            "61:\tlearn: 0.3866296\ttotal: 1.61s\tremaining: 3.97s\n",
            "62:\tlearn: 0.3863769\ttotal: 1.64s\tremaining: 3.95s\n",
            "63:\tlearn: 0.3863419\ttotal: 1.65s\tremaining: 3.9s\n",
            "64:\tlearn: 0.3861756\ttotal: 1.67s\tremaining: 3.86s\n",
            "65:\tlearn: 0.3861756\ttotal: 1.68s\tremaining: 3.78s\n",
            "66:\tlearn: 0.3859568\ttotal: 1.7s\tremaining: 3.75s\n",
            "67:\tlearn: 0.3859126\ttotal: 1.72s\tremaining: 3.71s\n",
            "68:\tlearn: 0.3858607\ttotal: 1.73s\tremaining: 3.66s\n",
            "69:\tlearn: 0.3855803\ttotal: 1.75s\tremaining: 3.62s\n",
            "70:\tlearn: 0.3850161\ttotal: 1.77s\tremaining: 3.58s\n",
            "71:\tlearn: 0.3844111\ttotal: 1.79s\tremaining: 3.55s\n",
            "72:\tlearn: 0.3841155\ttotal: 1.81s\tremaining: 3.52s\n",
            "73:\tlearn: 0.3838784\ttotal: 1.84s\tremaining: 3.5s\n",
            "74:\tlearn: 0.3836454\ttotal: 1.86s\tremaining: 3.48s\n",
            "75:\tlearn: 0.3832081\ttotal: 1.88s\tremaining: 3.44s\n",
            "76:\tlearn: 0.3827272\ttotal: 1.91s\tremaining: 3.42s\n",
            "77:\tlearn: 0.3826252\ttotal: 1.93s\tremaining: 3.38s\n",
            "78:\tlearn: 0.3825297\ttotal: 1.95s\tremaining: 3.35s\n",
            "79:\tlearn: 0.3824076\ttotal: 1.97s\tremaining: 3.32s\n",
            "80:\tlearn: 0.3820909\ttotal: 1.99s\tremaining: 3.29s\n",
            "81:\tlearn: 0.3819686\ttotal: 2.01s\tremaining: 3.27s\n",
            "82:\tlearn: 0.3815645\ttotal: 2.04s\tremaining: 3.25s\n",
            "83:\tlearn: 0.3805929\ttotal: 2.06s\tremaining: 3.22s\n",
            "84:\tlearn: 0.3805838\ttotal: 2.09s\tremaining: 3.19s\n",
            "85:\tlearn: 0.3805684\ttotal: 2.09s\tremaining: 3.14s\n",
            "86:\tlearn: 0.3798770\ttotal: 2.12s\tremaining: 3.11s\n",
            "87:\tlearn: 0.3796604\ttotal: 2.14s\tremaining: 3.08s\n",
            "88:\tlearn: 0.3796603\ttotal: 2.14s\tremaining: 3.03s\n",
            "89:\tlearn: 0.3796324\ttotal: 2.16s\tremaining: 3s\n",
            "90:\tlearn: 0.3792130\ttotal: 2.18s\tremaining: 2.97s\n",
            "91:\tlearn: 0.3792129\ttotal: 2.19s\tremaining: 2.92s\n",
            "92:\tlearn: 0.3788427\ttotal: 2.21s\tremaining: 2.9s\n",
            "93:\tlearn: 0.3785287\ttotal: 2.26s\tremaining: 2.91s\n",
            "94:\tlearn: 0.3785254\ttotal: 2.3s\tremaining: 2.91s\n",
            "95:\tlearn: 0.3782408\ttotal: 2.33s\tremaining: 2.88s\n",
            "96:\tlearn: 0.3775228\ttotal: 2.35s\tremaining: 2.86s\n",
            "97:\tlearn: 0.3770833\ttotal: 2.37s\tremaining: 2.83s\n",
            "98:\tlearn: 0.3769532\ttotal: 2.39s\tremaining: 2.8s\n",
            "99:\tlearn: 0.3769346\ttotal: 2.41s\tremaining: 2.77s\n",
            "100:\tlearn: 0.3768697\ttotal: 2.45s\tremaining: 2.76s\n",
            "101:\tlearn: 0.3760047\ttotal: 2.47s\tremaining: 2.74s\n",
            "102:\tlearn: 0.3757171\ttotal: 2.49s\tremaining: 2.71s\n",
            "103:\tlearn: 0.3749072\ttotal: 2.51s\tremaining: 2.68s\n",
            "104:\tlearn: 0.3746363\ttotal: 2.53s\tremaining: 2.65s\n",
            "105:\tlearn: 0.3742495\ttotal: 2.56s\tremaining: 2.63s\n",
            "106:\tlearn: 0.3736441\ttotal: 2.58s\tremaining: 2.6s\n",
            "107:\tlearn: 0.3733212\ttotal: 2.6s\tremaining: 2.57s\n",
            "108:\tlearn: 0.3730441\ttotal: 2.62s\tremaining: 2.55s\n",
            "109:\tlearn: 0.3726732\ttotal: 2.65s\tremaining: 2.53s\n",
            "110:\tlearn: 0.3724438\ttotal: 2.67s\tremaining: 2.51s\n",
            "111:\tlearn: 0.3723297\ttotal: 2.7s\tremaining: 2.48s\n",
            "112:\tlearn: 0.3721384\ttotal: 2.73s\tremaining: 2.46s\n",
            "113:\tlearn: 0.3716431\ttotal: 2.76s\tremaining: 2.45s\n",
            "114:\tlearn: 0.3707909\ttotal: 2.79s\tremaining: 2.42s\n",
            "115:\tlearn: 0.3701706\ttotal: 2.82s\tremaining: 2.4s\n",
            "116:\tlearn: 0.3699802\ttotal: 2.84s\tremaining: 2.38s\n",
            "117:\tlearn: 0.3696084\ttotal: 2.87s\tremaining: 2.36s\n",
            "118:\tlearn: 0.3694611\ttotal: 2.89s\tremaining: 2.33s\n",
            "119:\tlearn: 0.3693319\ttotal: 2.91s\tremaining: 2.31s\n",
            "120:\tlearn: 0.3688901\ttotal: 2.94s\tremaining: 2.28s\n",
            "121:\tlearn: 0.3683773\ttotal: 2.96s\tremaining: 2.26s\n",
            "122:\tlearn: 0.3680450\ttotal: 2.98s\tremaining: 2.23s\n",
            "123:\tlearn: 0.3677558\ttotal: 3s\tremaining: 2.21s\n",
            "124:\tlearn: 0.3676846\ttotal: 3.04s\tremaining: 2.19s\n",
            "125:\tlearn: 0.3671875\ttotal: 3.06s\tremaining: 2.17s\n",
            "126:\tlearn: 0.3666931\ttotal: 3.09s\tremaining: 2.14s\n",
            "127:\tlearn: 0.3666412\ttotal: 3.11s\tremaining: 2.11s\n",
            "128:\tlearn: 0.3660092\ttotal: 3.13s\tremaining: 2.09s\n",
            "129:\tlearn: 0.3657271\ttotal: 3.16s\tremaining: 2.06s\n",
            "130:\tlearn: 0.3654443\ttotal: 3.18s\tremaining: 2.04s\n",
            "131:\tlearn: 0.3653102\ttotal: 3.2s\tremaining: 2.01s\n",
            "132:\tlearn: 0.3650726\ttotal: 3.22s\tremaining: 1.99s\n",
            "133:\tlearn: 0.3650185\ttotal: 3.25s\tremaining: 1.97s\n",
            "134:\tlearn: 0.3647835\ttotal: 3.28s\tremaining: 1.94s\n",
            "135:\tlearn: 0.3643697\ttotal: 3.3s\tremaining: 1.92s\n",
            "136:\tlearn: 0.3642744\ttotal: 3.32s\tremaining: 1.89s\n",
            "137:\tlearn: 0.3641243\ttotal: 3.34s\tremaining: 1.86s\n",
            "138:\tlearn: 0.3636132\ttotal: 3.36s\tremaining: 1.84s\n",
            "139:\tlearn: 0.3629236\ttotal: 3.38s\tremaining: 1.81s\n",
            "140:\tlearn: 0.3627299\ttotal: 3.41s\tremaining: 1.79s\n",
            "141:\tlearn: 0.3625353\ttotal: 3.44s\tremaining: 1.77s\n",
            "142:\tlearn: 0.3621650\ttotal: 3.47s\tremaining: 1.75s\n",
            "143:\tlearn: 0.3614843\ttotal: 3.5s\tremaining: 1.72s\n",
            "144:\tlearn: 0.3610839\ttotal: 3.53s\tremaining: 1.7s\n",
            "145:\tlearn: 0.3604622\ttotal: 3.56s\tremaining: 1.68s\n",
            "146:\tlearn: 0.3600085\ttotal: 3.58s\tremaining: 1.66s\n",
            "147:\tlearn: 0.3598473\ttotal: 3.6s\tremaining: 1.63s\n",
            "148:\tlearn: 0.3595774\ttotal: 3.63s\tremaining: 1.61s\n",
            "149:\tlearn: 0.3592925\ttotal: 3.65s\tremaining: 1.58s\n",
            "150:\tlearn: 0.3589938\ttotal: 3.68s\tremaining: 1.56s\n",
            "151:\tlearn: 0.3587247\ttotal: 3.7s\tremaining: 1.53s\n",
            "152:\tlearn: 0.3585616\ttotal: 3.72s\tremaining: 1.51s\n",
            "153:\tlearn: 0.3583567\ttotal: 3.75s\tremaining: 1.49s\n",
            "154:\tlearn: 0.3582151\ttotal: 3.78s\tremaining: 1.46s\n",
            "155:\tlearn: 0.3576463\ttotal: 3.8s\tremaining: 1.44s\n",
            "156:\tlearn: 0.3576032\ttotal: 3.82s\tremaining: 1.41s\n",
            "157:\tlearn: 0.3575235\ttotal: 3.84s\tremaining: 1.39s\n",
            "158:\tlearn: 0.3571660\ttotal: 3.87s\tremaining: 1.36s\n",
            "159:\tlearn: 0.3566368\ttotal: 3.95s\tremaining: 1.36s\n",
            "160:\tlearn: 0.3561942\ttotal: 3.98s\tremaining: 1.33s\n",
            "161:\tlearn: 0.3559434\ttotal: 4s\tremaining: 1.31s\n",
            "162:\tlearn: 0.3558432\ttotal: 4.02s\tremaining: 1.28s\n",
            "163:\tlearn: 0.3554420\ttotal: 4.04s\tremaining: 1.26s\n",
            "164:\tlearn: 0.3550491\ttotal: 4.07s\tremaining: 1.23s\n",
            "165:\tlearn: 0.3545556\ttotal: 4.09s\tremaining: 1.21s\n",
            "166:\tlearn: 0.3542776\ttotal: 4.11s\tremaining: 1.18s\n",
            "167:\tlearn: 0.3540125\ttotal: 4.13s\tremaining: 1.16s\n",
            "168:\tlearn: 0.3538114\ttotal: 4.16s\tremaining: 1.13s\n",
            "169:\tlearn: 0.3536133\ttotal: 4.18s\tremaining: 1.11s\n",
            "170:\tlearn: 0.3530517\ttotal: 4.21s\tremaining: 1.08s\n",
            "171:\tlearn: 0.3527507\ttotal: 4.22s\tremaining: 1.06s\n",
            "172:\tlearn: 0.3522846\ttotal: 4.25s\tremaining: 1.03s\n",
            "173:\tlearn: 0.3520229\ttotal: 4.27s\tremaining: 1.01s\n",
            "174:\tlearn: 0.3517293\ttotal: 4.3s\tremaining: 982ms\n",
            "175:\tlearn: 0.3513427\ttotal: 4.32s\tremaining: 957ms\n",
            "176:\tlearn: 0.3511315\ttotal: 4.34s\tremaining: 932ms\n",
            "177:\tlearn: 0.3508885\ttotal: 4.37s\tremaining: 908ms\n",
            "178:\tlearn: 0.3505848\ttotal: 4.39s\tremaining: 884ms\n",
            "179:\tlearn: 0.3502992\ttotal: 4.41s\tremaining: 858ms\n",
            "180:\tlearn: 0.3499143\ttotal: 4.44s\tremaining: 834ms\n",
            "181:\tlearn: 0.3499129\ttotal: 4.46s\tremaining: 809ms\n",
            "182:\tlearn: 0.3498289\ttotal: 4.48s\tremaining: 784ms\n",
            "183:\tlearn: 0.3490768\ttotal: 4.5s\tremaining: 759ms\n",
            "184:\tlearn: 0.3490392\ttotal: 4.53s\tremaining: 734ms\n",
            "185:\tlearn: 0.3489097\ttotal: 4.55s\tremaining: 709ms\n",
            "186:\tlearn: 0.3487864\ttotal: 4.58s\tremaining: 686ms\n",
            "187:\tlearn: 0.3486105\ttotal: 4.61s\tremaining: 661ms\n",
            "188:\tlearn: 0.3484607\ttotal: 4.63s\tremaining: 637ms\n",
            "189:\tlearn: 0.3482406\ttotal: 4.65s\tremaining: 612ms\n",
            "190:\tlearn: 0.3478220\ttotal: 4.67s\tremaining: 587ms\n",
            "191:\tlearn: 0.3474751\ttotal: 4.69s\tremaining: 562ms\n",
            "192:\tlearn: 0.3470286\ttotal: 4.71s\tremaining: 538ms\n",
            "193:\tlearn: 0.3467230\ttotal: 4.74s\tremaining: 513ms\n",
            "194:\tlearn: 0.3461398\ttotal: 4.76s\tremaining: 488ms\n",
            "195:\tlearn: 0.3459048\ttotal: 4.78s\tremaining: 464ms\n",
            "196:\tlearn: 0.3455463\ttotal: 4.81s\tremaining: 439ms\n",
            "197:\tlearn: 0.3451294\ttotal: 4.83s\tremaining: 415ms\n",
            "198:\tlearn: 0.3445416\ttotal: 4.86s\tremaining: 390ms\n",
            "199:\tlearn: 0.3439451\ttotal: 4.88s\tremaining: 366ms\n",
            "200:\tlearn: 0.3437549\ttotal: 4.9s\tremaining: 341ms\n",
            "201:\tlearn: 0.3435447\ttotal: 4.92s\tremaining: 317ms\n",
            "202:\tlearn: 0.3434583\ttotal: 4.95s\tremaining: 293ms\n",
            "203:\tlearn: 0.3429099\ttotal: 4.97s\tremaining: 268ms\n",
            "204:\tlearn: 0.3423349\ttotal: 4.99s\tremaining: 244ms\n",
            "205:\tlearn: 0.3420658\ttotal: 5.02s\tremaining: 219ms\n",
            "206:\tlearn: 0.3417413\ttotal: 5.04s\tremaining: 195ms\n",
            "207:\tlearn: 0.3414331\ttotal: 5.07s\tremaining: 171ms\n",
            "208:\tlearn: 0.3412146\ttotal: 5.09s\tremaining: 146ms\n",
            "209:\tlearn: 0.3406789\ttotal: 5.12s\tremaining: 122ms\n",
            "210:\tlearn: 0.3404524\ttotal: 5.14s\tremaining: 97.4ms\n",
            "211:\tlearn: 0.3401813\ttotal: 5.16s\tremaining: 73ms\n",
            "212:\tlearn: 0.3400468\ttotal: 5.18s\tremaining: 48.7ms\n",
            "213:\tlearn: 0.3398687\ttotal: 5.2s\tremaining: 24.3ms\n",
            "214:\tlearn: 0.3394679\ttotal: 5.24s\tremaining: 0us\n"
          ]
        }
      ],
      "source": [
        "boosting_model = catboost.CatBoostClassifier(n_estimators=215, #auc 0.8894\n",
        "                                             cat_features=cat_cols)\n",
        "X_boost = data[num_cols+cat_cols]\n",
        "boosting_model.fit(X_boost, y, cat_features=cat_cols)\n",
        "\n",
        "y_train_predicted = boosting_model.predict_proba(X_boost)[:, 1]"
      ]
    },
    {
      "cell_type": "code",
      "execution_count": 46,
      "metadata": {
        "colab": {
          "base_uri": "https://localhost:8080/"
        },
        "id": "u0rgVxTmowig",
        "outputId": "62976208-6972-457e-c316-d634a926aaad"
      },
      "outputs": [
        {
          "data": {
            "text/plain": [
              "0.8894346102910685"
            ]
          },
          "execution_count": 46,
          "metadata": {},
          "output_type": "execute_result"
        }
      ],
      "source": [
        "train_auc = roc_auc_score(y, y_train_predicted)\n",
        "train_auc"
      ]
    },
    {
      "cell_type": "markdown",
      "metadata": {
        "id": "6j1ZrOvT3aMD"
      },
      "source": [
        "Протестируем разные значения параметра количество деревьев в learning_rate'а и выберем лучшую по метрике ROC-AUC комбинацию. Это n_estimators=215"
      ]
    },
    {
      "cell_type": "code",
      "execution_count": 47,
      "metadata": {
        "colab": {
          "base_uri": "https://localhost:8080/"
        },
        "id": "d4Nxe0_NX0-K",
        "outputId": "696a1505-e36d-4d67-9487-444b4c36bbc1"
      },
      "outputs": [
        {
          "data": {
            "text/plain": [
              "0.745039551305966"
            ]
          },
          "execution_count": 47,
          "metadata": {},
          "output_type": "execute_result"
        }
      ],
      "source": [
        "y_train_predicted = boosting_model.predict(X_boost)\n",
        "train_auc = roc_auc_score(y, y_train_predicted)\n",
        "train_auc"
      ]
    },
    {
      "cell_type": "markdown",
      "metadata": {
        "id": "rf4Kjt96EEZU"
      },
      "source": [
        "Выпишите какое лучшее качество и с какими параметрами вам удалось получить"
      ]
    },
    {
      "cell_type": "markdown",
      "metadata": {
        "id": "71fDe4_a25tA"
      },
      "source": [
        "Удалось получить auc = 0.8894346102910685 при n_estimators = 215"
      ]
    },
    {
      "cell_type": "markdown",
      "metadata": {
        "id": "dDMXbvNZEEZV"
      },
      "source": [
        "# Предсказания"
      ]
    },
    {
      "cell_type": "code",
      "execution_count": 48,
      "metadata": {
        "id": "G_P4wFNaEEZW"
      },
      "outputs": [
        {
          "name": "stdout",
          "output_type": "stream",
          "text": [
            "Learning rate set to 0.085784\n",
            "0:\tlearn: 0.6400528\ttotal: 24.2ms\tremaining: 5.17s\n",
            "1:\tlearn: 0.5953614\ttotal: 54.2ms\tremaining: 5.78s\n",
            "2:\tlearn: 0.5700803\ttotal: 63.3ms\tremaining: 4.47s\n",
            "3:\tlearn: 0.5449199\ttotal: 80.2ms\tremaining: 4.23s\n",
            "4:\tlearn: 0.5212010\ttotal: 106ms\tremaining: 4.46s\n",
            "5:\tlearn: 0.5007282\ttotal: 131ms\tremaining: 4.58s\n",
            "6:\tlearn: 0.4855602\ttotal: 161ms\tremaining: 4.77s\n",
            "7:\tlearn: 0.4738737\ttotal: 187ms\tremaining: 4.83s\n",
            "8:\tlearn: 0.4626892\ttotal: 217ms\tremaining: 4.96s\n",
            "9:\tlearn: 0.4537079\ttotal: 247ms\tremaining: 5.06s\n",
            "10:\tlearn: 0.4459549\ttotal: 278ms\tremaining: 5.16s\n",
            "11:\tlearn: 0.4400676\ttotal: 305ms\tremaining: 5.15s\n",
            "12:\tlearn: 0.4347830\ttotal: 336ms\tremaining: 5.23s\n",
            "13:\tlearn: 0.4293968\ttotal: 362ms\tremaining: 5.2s\n",
            "14:\tlearn: 0.4263561\ttotal: 390ms\tremaining: 5.19s\n",
            "15:\tlearn: 0.4224433\ttotal: 421ms\tremaining: 5.24s\n",
            "16:\tlearn: 0.4212971\ttotal: 432ms\tremaining: 5.03s\n",
            "17:\tlearn: 0.4196935\ttotal: 444ms\tremaining: 4.85s\n",
            "18:\tlearn: 0.4164192\ttotal: 467ms\tremaining: 4.82s\n",
            "19:\tlearn: 0.4144961\ttotal: 490ms\tremaining: 4.78s\n",
            "20:\tlearn: 0.4119940\ttotal: 510ms\tremaining: 4.71s\n",
            "21:\tlearn: 0.4111188\ttotal: 533ms\tremaining: 4.67s\n",
            "22:\tlearn: 0.4093278\ttotal: 555ms\tremaining: 4.63s\n",
            "23:\tlearn: 0.4080316\ttotal: 578ms\tremaining: 4.6s\n",
            "24:\tlearn: 0.4064191\ttotal: 602ms\tremaining: 4.58s\n",
            "25:\tlearn: 0.4061308\ttotal: 614ms\tremaining: 4.46s\n",
            "26:\tlearn: 0.4045953\ttotal: 642ms\tremaining: 4.47s\n",
            "27:\tlearn: 0.4032159\ttotal: 669ms\tremaining: 4.47s\n",
            "28:\tlearn: 0.4023338\ttotal: 688ms\tremaining: 4.41s\n",
            "29:\tlearn: 0.4014424\ttotal: 708ms\tremaining: 4.37s\n",
            "30:\tlearn: 0.4008738\ttotal: 728ms\tremaining: 4.32s\n",
            "31:\tlearn: 0.3998109\ttotal: 749ms\tremaining: 4.28s\n",
            "32:\tlearn: 0.3989804\ttotal: 769ms\tremaining: 4.24s\n",
            "33:\tlearn: 0.3978993\ttotal: 793ms\tremaining: 4.22s\n",
            "34:\tlearn: 0.3976457\ttotal: 812ms\tremaining: 4.18s\n",
            "35:\tlearn: 0.3968436\ttotal: 834ms\tremaining: 4.14s\n",
            "36:\tlearn: 0.3961533\ttotal: 856ms\tremaining: 4.12s\n",
            "37:\tlearn: 0.3958861\ttotal: 881ms\tremaining: 4.1s\n",
            "38:\tlearn: 0.3954671\ttotal: 902ms\tremaining: 4.07s\n",
            "39:\tlearn: 0.3940654\ttotal: 922ms\tremaining: 4.03s\n",
            "40:\tlearn: 0.3936672\ttotal: 946ms\tremaining: 4.01s\n",
            "41:\tlearn: 0.3930900\ttotal: 968ms\tremaining: 3.99s\n",
            "42:\tlearn: 0.3919606\ttotal: 991ms\tremaining: 3.96s\n",
            "43:\tlearn: 0.3917950\ttotal: 1s\tremaining: 3.89s\n",
            "44:\tlearn: 0.3914037\ttotal: 1.02s\tremaining: 3.86s\n",
            "45:\tlearn: 0.3905525\ttotal: 1.04s\tremaining: 3.83s\n",
            "46:\tlearn: 0.3901773\ttotal: 1.07s\tremaining: 3.83s\n",
            "47:\tlearn: 0.3898625\ttotal: 1.09s\tremaining: 3.81s\n",
            "48:\tlearn: 0.3893853\ttotal: 1.12s\tremaining: 3.78s\n",
            "49:\tlearn: 0.3890187\ttotal: 1.14s\tremaining: 3.76s\n",
            "50:\tlearn: 0.3889059\ttotal: 1.15s\tremaining: 3.69s\n",
            "51:\tlearn: 0.3883531\ttotal: 1.17s\tremaining: 3.65s\n",
            "52:\tlearn: 0.3882962\ttotal: 1.17s\tremaining: 3.58s\n",
            "53:\tlearn: 0.3882744\ttotal: 1.18s\tremaining: 3.52s\n",
            "54:\tlearn: 0.3878981\ttotal: 1.2s\tremaining: 3.5s\n",
            "55:\tlearn: 0.3877941\ttotal: 1.23s\tremaining: 3.48s\n",
            "56:\tlearn: 0.3876392\ttotal: 1.25s\tremaining: 3.45s\n",
            "57:\tlearn: 0.3869888\ttotal: 1.27s\tremaining: 3.43s\n",
            "58:\tlearn: 0.3867235\ttotal: 1.29s\tremaining: 3.42s\n",
            "59:\tlearn: 0.3867184\ttotal: 1.31s\tremaining: 3.38s\n",
            "60:\tlearn: 0.3866307\ttotal: 1.32s\tremaining: 3.33s\n",
            "61:\tlearn: 0.3866296\ttotal: 1.33s\tremaining: 3.28s\n",
            "62:\tlearn: 0.3863769\ttotal: 1.35s\tremaining: 3.26s\n",
            "63:\tlearn: 0.3863419\ttotal: 1.36s\tremaining: 3.22s\n",
            "64:\tlearn: 0.3861756\ttotal: 1.38s\tremaining: 3.19s\n",
            "65:\tlearn: 0.3861756\ttotal: 1.39s\tremaining: 3.13s\n",
            "66:\tlearn: 0.3859568\ttotal: 1.41s\tremaining: 3.11s\n",
            "67:\tlearn: 0.3859126\ttotal: 1.43s\tremaining: 3.09s\n",
            "68:\tlearn: 0.3858607\ttotal: 1.44s\tremaining: 3.04s\n",
            "69:\tlearn: 0.3855803\ttotal: 1.46s\tremaining: 3.02s\n",
            "70:\tlearn: 0.3850161\ttotal: 1.48s\tremaining: 3s\n",
            "71:\tlearn: 0.3844111\ttotal: 1.51s\tremaining: 3s\n",
            "72:\tlearn: 0.3841155\ttotal: 1.53s\tremaining: 2.98s\n",
            "73:\tlearn: 0.3838784\ttotal: 1.55s\tremaining: 2.96s\n",
            "74:\tlearn: 0.3836454\ttotal: 1.58s\tremaining: 2.94s\n",
            "75:\tlearn: 0.3832081\ttotal: 1.6s\tremaining: 2.93s\n",
            "76:\tlearn: 0.3827272\ttotal: 1.63s\tremaining: 2.91s\n",
            "77:\tlearn: 0.3826252\ttotal: 1.65s\tremaining: 2.89s\n",
            "78:\tlearn: 0.3825297\ttotal: 1.67s\tremaining: 2.87s\n",
            "79:\tlearn: 0.3824076\ttotal: 1.69s\tremaining: 2.85s\n",
            "80:\tlearn: 0.3820909\ttotal: 1.71s\tremaining: 2.83s\n",
            "81:\tlearn: 0.3819686\ttotal: 1.74s\tremaining: 2.82s\n",
            "82:\tlearn: 0.3815645\ttotal: 1.76s\tremaining: 2.81s\n",
            "83:\tlearn: 0.3805929\ttotal: 1.79s\tremaining: 2.79s\n",
            "84:\tlearn: 0.3805838\ttotal: 1.81s\tremaining: 2.77s\n",
            "85:\tlearn: 0.3805684\ttotal: 1.82s\tremaining: 2.73s\n",
            "86:\tlearn: 0.3798770\ttotal: 1.84s\tremaining: 2.7s\n",
            "87:\tlearn: 0.3796604\ttotal: 1.86s\tremaining: 2.68s\n",
            "88:\tlearn: 0.3796603\ttotal: 1.86s\tremaining: 2.64s\n",
            "89:\tlearn: 0.3796324\ttotal: 1.88s\tremaining: 2.62s\n",
            "90:\tlearn: 0.3792130\ttotal: 1.9s\tremaining: 2.6s\n",
            "91:\tlearn: 0.3792129\ttotal: 1.91s\tremaining: 2.56s\n",
            "92:\tlearn: 0.3788427\ttotal: 1.93s\tremaining: 2.53s\n",
            "93:\tlearn: 0.3785287\ttotal: 1.96s\tremaining: 2.52s\n",
            "94:\tlearn: 0.3785254\ttotal: 1.98s\tremaining: 2.5s\n",
            "95:\tlearn: 0.3782408\ttotal: 2s\tremaining: 2.48s\n",
            "96:\tlearn: 0.3775228\ttotal: 2.02s\tremaining: 2.46s\n",
            "97:\tlearn: 0.3770833\ttotal: 2.04s\tremaining: 2.44s\n",
            "98:\tlearn: 0.3769532\ttotal: 2.07s\tremaining: 2.42s\n",
            "99:\tlearn: 0.3769346\ttotal: 2.09s\tremaining: 2.4s\n",
            "100:\tlearn: 0.3768697\ttotal: 2.11s\tremaining: 2.38s\n",
            "101:\tlearn: 0.3760047\ttotal: 2.13s\tremaining: 2.36s\n",
            "102:\tlearn: 0.3757171\ttotal: 2.15s\tremaining: 2.34s\n",
            "103:\tlearn: 0.3749072\ttotal: 2.18s\tremaining: 2.32s\n",
            "104:\tlearn: 0.3746363\ttotal: 2.2s\tremaining: 2.31s\n",
            "105:\tlearn: 0.3742495\ttotal: 2.22s\tremaining: 2.29s\n",
            "106:\tlearn: 0.3736441\ttotal: 2.24s\tremaining: 2.27s\n",
            "107:\tlearn: 0.3733212\ttotal: 2.27s\tremaining: 2.24s\n",
            "108:\tlearn: 0.3730441\ttotal: 2.29s\tremaining: 2.23s\n",
            "109:\tlearn: 0.3726732\ttotal: 2.31s\tremaining: 2.21s\n",
            "110:\tlearn: 0.3724438\ttotal: 2.34s\tremaining: 2.19s\n",
            "111:\tlearn: 0.3723297\ttotal: 2.36s\tremaining: 2.17s\n",
            "112:\tlearn: 0.3721384\ttotal: 2.38s\tremaining: 2.15s\n",
            "113:\tlearn: 0.3716431\ttotal: 2.41s\tremaining: 2.13s\n",
            "114:\tlearn: 0.3707909\ttotal: 2.43s\tremaining: 2.12s\n",
            "115:\tlearn: 0.3701706\ttotal: 2.45s\tremaining: 2.09s\n",
            "116:\tlearn: 0.3699802\ttotal: 2.48s\tremaining: 2.07s\n",
            "117:\tlearn: 0.3696084\ttotal: 2.5s\tremaining: 2.06s\n",
            "118:\tlearn: 0.3694611\ttotal: 2.52s\tremaining: 2.04s\n",
            "119:\tlearn: 0.3693319\ttotal: 2.54s\tremaining: 2.01s\n",
            "120:\tlearn: 0.3688901\ttotal: 2.57s\tremaining: 1.99s\n",
            "121:\tlearn: 0.3683773\ttotal: 2.6s\tremaining: 1.98s\n",
            "122:\tlearn: 0.3680450\ttotal: 2.62s\tremaining: 1.96s\n",
            "123:\tlearn: 0.3677558\ttotal: 2.64s\tremaining: 1.94s\n",
            "124:\tlearn: 0.3676846\ttotal: 2.66s\tremaining: 1.92s\n",
            "125:\tlearn: 0.3671875\ttotal: 2.69s\tremaining: 1.9s\n",
            "126:\tlearn: 0.3666931\ttotal: 2.71s\tremaining: 1.88s\n",
            "127:\tlearn: 0.3666412\ttotal: 2.73s\tremaining: 1.86s\n",
            "128:\tlearn: 0.3660092\ttotal: 2.75s\tremaining: 1.84s\n",
            "129:\tlearn: 0.3657271\ttotal: 2.78s\tremaining: 1.82s\n",
            "130:\tlearn: 0.3654443\ttotal: 2.81s\tremaining: 1.8s\n",
            "131:\tlearn: 0.3653102\ttotal: 2.83s\tremaining: 1.78s\n",
            "132:\tlearn: 0.3650726\ttotal: 2.86s\tremaining: 1.76s\n",
            "133:\tlearn: 0.3650185\ttotal: 2.88s\tremaining: 1.74s\n",
            "134:\tlearn: 0.3647835\ttotal: 2.9s\tremaining: 1.72s\n",
            "135:\tlearn: 0.3643697\ttotal: 2.92s\tremaining: 1.7s\n",
            "136:\tlearn: 0.3642744\ttotal: 2.94s\tremaining: 1.68s\n",
            "137:\tlearn: 0.3641243\ttotal: 2.96s\tremaining: 1.65s\n",
            "138:\tlearn: 0.3636132\ttotal: 2.98s\tremaining: 1.63s\n",
            "139:\tlearn: 0.3629236\ttotal: 3s\tremaining: 1.61s\n",
            "140:\tlearn: 0.3627299\ttotal: 3.03s\tremaining: 1.59s\n",
            "141:\tlearn: 0.3625353\ttotal: 3.06s\tremaining: 1.57s\n",
            "142:\tlearn: 0.3621650\ttotal: 3.08s\tremaining: 1.55s\n",
            "143:\tlearn: 0.3614843\ttotal: 3.1s\tremaining: 1.53s\n",
            "144:\tlearn: 0.3610839\ttotal: 3.13s\tremaining: 1.51s\n",
            "145:\tlearn: 0.3604622\ttotal: 3.15s\tremaining: 1.49s\n",
            "146:\tlearn: 0.3600085\ttotal: 3.17s\tremaining: 1.47s\n",
            "147:\tlearn: 0.3598473\ttotal: 3.19s\tremaining: 1.45s\n",
            "148:\tlearn: 0.3595774\ttotal: 3.21s\tremaining: 1.42s\n",
            "149:\tlearn: 0.3592925\ttotal: 3.24s\tremaining: 1.4s\n",
            "150:\tlearn: 0.3589938\ttotal: 3.26s\tremaining: 1.38s\n",
            "151:\tlearn: 0.3587247\ttotal: 3.29s\tremaining: 1.36s\n",
            "152:\tlearn: 0.3585616\ttotal: 3.31s\tremaining: 1.34s\n",
            "153:\tlearn: 0.3583567\ttotal: 3.34s\tremaining: 1.32s\n",
            "154:\tlearn: 0.3582151\ttotal: 3.36s\tremaining: 1.3s\n",
            "155:\tlearn: 0.3576463\ttotal: 3.38s\tremaining: 1.28s\n",
            "156:\tlearn: 0.3576032\ttotal: 3.4s\tremaining: 1.26s\n",
            "157:\tlearn: 0.3575235\ttotal: 3.43s\tremaining: 1.24s\n",
            "158:\tlearn: 0.3571660\ttotal: 3.46s\tremaining: 1.22s\n",
            "159:\tlearn: 0.3566368\ttotal: 3.48s\tremaining: 1.2s\n",
            "160:\tlearn: 0.3561942\ttotal: 3.51s\tremaining: 1.18s\n",
            "161:\tlearn: 0.3559434\ttotal: 3.53s\tremaining: 1.15s\n",
            "162:\tlearn: 0.3558432\ttotal: 3.55s\tremaining: 1.13s\n",
            "163:\tlearn: 0.3554420\ttotal: 3.58s\tremaining: 1.11s\n",
            "164:\tlearn: 0.3550491\ttotal: 3.6s\tremaining: 1.09s\n",
            "165:\tlearn: 0.3545556\ttotal: 3.62s\tremaining: 1.07s\n",
            "166:\tlearn: 0.3542776\ttotal: 3.64s\tremaining: 1.05s\n",
            "167:\tlearn: 0.3540125\ttotal: 3.67s\tremaining: 1.03s\n",
            "168:\tlearn: 0.3538114\ttotal: 3.69s\tremaining: 1s\n",
            "169:\tlearn: 0.3536133\ttotal: 3.72s\tremaining: 985ms\n",
            "170:\tlearn: 0.3530517\ttotal: 3.74s\tremaining: 963ms\n",
            "171:\tlearn: 0.3527507\ttotal: 3.76s\tremaining: 941ms\n",
            "172:\tlearn: 0.3522846\ttotal: 3.79s\tremaining: 919ms\n",
            "173:\tlearn: 0.3520229\ttotal: 3.81s\tremaining: 897ms\n",
            "174:\tlearn: 0.3517293\ttotal: 3.83s\tremaining: 876ms\n",
            "175:\tlearn: 0.3513427\ttotal: 3.85s\tremaining: 854ms\n",
            "176:\tlearn: 0.3511315\ttotal: 3.88s\tremaining: 833ms\n",
            "177:\tlearn: 0.3508885\ttotal: 3.9s\tremaining: 812ms\n",
            "178:\tlearn: 0.3505848\ttotal: 3.93s\tremaining: 790ms\n",
            "179:\tlearn: 0.3502992\ttotal: 3.95s\tremaining: 768ms\n",
            "180:\tlearn: 0.3499143\ttotal: 3.97s\tremaining: 746ms\n",
            "181:\tlearn: 0.3499129\ttotal: 3.99s\tremaining: 724ms\n",
            "182:\tlearn: 0.3498289\ttotal: 4.01s\tremaining: 702ms\n",
            "183:\tlearn: 0.3490768\ttotal: 4.04s\tremaining: 680ms\n",
            "184:\tlearn: 0.3490392\ttotal: 4.06s\tremaining: 658ms\n",
            "185:\tlearn: 0.3489097\ttotal: 4.08s\tremaining: 637ms\n",
            "186:\tlearn: 0.3487864\ttotal: 4.16s\tremaining: 622ms\n",
            "187:\tlearn: 0.3486105\ttotal: 4.19s\tremaining: 602ms\n",
            "188:\tlearn: 0.3484607\ttotal: 4.21s\tremaining: 580ms\n",
            "189:\tlearn: 0.3482406\ttotal: 4.24s\tremaining: 557ms\n",
            "190:\tlearn: 0.3478220\ttotal: 4.26s\tremaining: 535ms\n",
            "191:\tlearn: 0.3474751\ttotal: 4.28s\tremaining: 512ms\n",
            "192:\tlearn: 0.3470286\ttotal: 4.3s\tremaining: 491ms\n",
            "193:\tlearn: 0.3467230\ttotal: 4.33s\tremaining: 469ms\n",
            "194:\tlearn: 0.3461398\ttotal: 4.35s\tremaining: 447ms\n",
            "195:\tlearn: 0.3459048\ttotal: 4.38s\tremaining: 424ms\n",
            "196:\tlearn: 0.3455463\ttotal: 4.4s\tremaining: 402ms\n",
            "197:\tlearn: 0.3451294\ttotal: 4.42s\tremaining: 380ms\n",
            "198:\tlearn: 0.3445416\ttotal: 4.44s\tremaining: 357ms\n",
            "199:\tlearn: 0.3439451\ttotal: 4.47s\tremaining: 335ms\n",
            "200:\tlearn: 0.3437549\ttotal: 4.49s\tremaining: 313ms\n",
            "201:\tlearn: 0.3435447\ttotal: 4.52s\tremaining: 291ms\n",
            "202:\tlearn: 0.3434583\ttotal: 4.54s\tremaining: 269ms\n",
            "203:\tlearn: 0.3429099\ttotal: 4.57s\tremaining: 246ms\n",
            "204:\tlearn: 0.3423349\ttotal: 4.59s\tremaining: 224ms\n",
            "205:\tlearn: 0.3420658\ttotal: 4.62s\tremaining: 202ms\n",
            "206:\tlearn: 0.3417413\ttotal: 4.64s\tremaining: 179ms\n",
            "207:\tlearn: 0.3414331\ttotal: 4.66s\tremaining: 157ms\n",
            "208:\tlearn: 0.3412146\ttotal: 4.69s\tremaining: 135ms\n",
            "209:\tlearn: 0.3406789\ttotal: 4.71s\tremaining: 112ms\n",
            "210:\tlearn: 0.3404524\ttotal: 4.74s\tremaining: 89.8ms\n",
            "211:\tlearn: 0.3401813\ttotal: 4.76s\tremaining: 67.4ms\n",
            "212:\tlearn: 0.3400468\ttotal: 4.79s\tremaining: 44.9ms\n",
            "213:\tlearn: 0.3398687\ttotal: 4.81s\tremaining: 22.5ms\n",
            "214:\tlearn: 0.3394679\ttotal: 4.83s\tremaining: 0us\n"
          ]
        },
        {
          "data": {
            "text/plain": [
              "<catboost.core.CatBoostClassifier at 0x20bd6fd2dc0>"
            ]
          },
          "execution_count": 48,
          "metadata": {},
          "output_type": "execute_result"
        }
      ],
      "source": [
        "best_model = catboost.CatBoostClassifier(n_estimators=215, cat_features=cat_cols)\n",
        "X_boost = data[num_cols+cat_cols]\n",
        "best_model.fit(X_boost, y, cat_features=cat_cols)"
      ]
    },
    {
      "cell_type": "code",
      "execution_count": 49,
      "metadata": {
        "colab": {
          "base_uri": "https://localhost:8080/"
        },
        "id": "FfSufx0CEEZZ",
        "outputId": "91b7e6f3-65e5-4fbc-939f-53135efd90fe"
      },
      "outputs": [
        {
          "data": {
            "text/plain": [
              "array([0.05335658, 0.76790439, 0.6349399 , ..., 0.82549833, 0.57256831,\n",
              "       0.00476183])"
            ]
          },
          "execution_count": 49,
          "metadata": {},
          "output_type": "execute_result"
        }
      ],
      "source": [
        "X_test = pd.read_csv('./test.csv')#.replace(' ', np.nan).dropna()\n",
        "y_train_predicted = best_model.predict_proba(X_test)[:, 1]\n",
        "y_train_predicted"
      ]
    },
    {
      "cell_type": "code",
      "execution_count": 57,
      "metadata": {
        "id": "W6OF1sGqTHQN"
      },
      "outputs": [],
      "source": [
        "submission = pd.read_csv('./submission.csv')\n",
        "\n",
        "submission['Churn'] =  best_model.predict_proba(X_test)\n",
        "submission.to_csv('./my_submission.csv')"
      ]
    },
    {
      "cell_type": "markdown",
      "metadata": {
        "id": "mkxjbGkVEEZc"
      },
      "source": [
        "# Kaggle (5 баллов)\n",
        "\n",
        "Как выставить баллы:\n",
        "\n",
        "1) 1 >= roc auc > 0.84 это 5 баллов\n",
        "\n",
        "2) 0.84 >= roc auc > 0.7 это 3 балла\n",
        "\n",
        "3) 0.7 >= roc auc > 0.6 это 1 балл\n",
        "\n",
        "4) 0.6 >= roc auc это 0 баллов\n",
        "\n",
        "\n",
        "Для выполнения задания необходимо выполнить следующие шаги.\n",
        "* Зарегистрироваться на платформе [kaggle.com](kaggle.com). Процесс выставления оценок будет проходить при подведении итогового рейтинга. Пожалуйста, укажите во вкладке Team -> Team name свои имя и фамилию в формате Имя_Фамилия (важно, чтобы имя и фамилия совпадали с данными на Stepik).\n",
        "* Обучить модель, получить файл с ответами в формате .csv и сдать его в конкурс. Пробуйте и экспериментируйте. Обратите внимание, что вы можете выполнять до 20 попыток сдачи на kaggle в день.\n",
        "* После окончания соревнования отправить в итоговый ноутбук с решением на степик. \n",
        "* После дедлайна проверьте посылки других участников по критериям. Для этого надо зайти на степик, скачать их ноутбук и проверить скор в соревновании."
      ]
    },
    {
      "cell_type": "code",
      "execution_count": null,
      "metadata": {
        "id": "CBsDd7r3NgCo"
      },
      "outputs": [],
      "source": [
        "valid = pd.read_csv('./test.csv')"
      ]
    },
    {
      "cell_type": "code",
      "execution_count": null,
      "metadata": {
        "colab": {
          "base_uri": "https://localhost:8080/"
        },
        "id": "gN1g-WlLOAY-",
        "outputId": "e69f0cd9-36c8-4554-efc4-bdecfa1c7242"
      },
      "outputs": [
        {
          "name": "stdout",
          "output_type": "stream",
          "text": [
            "(1761, 19)\n"
          ]
        },
        {
          "data": {
            "text/plain": [
              "(1759, 19)"
            ]
          },
          "execution_count": 57,
          "metadata": {},
          "output_type": "execute_result"
        }
      ],
      "source": [
        "print(valid.shape)\n",
        "\n",
        "valid = valid.replace(' ', np.nan) #меняем пробелы на None\n",
        "\n",
        "valid = valid.dropna() #удаляем все None\n",
        "valid.shape"
      ]
    },
    {
      "cell_type": "code",
      "execution_count": null,
      "metadata": {
        "id": "ADHtS6feONNh"
      },
      "outputs": [],
      "source": [
        "# one-hot encoding\n",
        "valid = pd.get_dummies(valid, columns=cat_cols,drop_first=True)\n",
        "print(valid.head())\n",
        "cat_cols_new = []\n",
        "for col_name in cat_cols:\n",
        "    cat_cols_new.extend(filter(lambda x: x.startswith(col_name), valid.columns))\n",
        "cat_cols = cat_cols_new\n",
        "valid.head()"
      ]
    },
    {
      "cell_type": "code",
      "execution_count": null,
      "metadata": {
        "id": "bLY6LQNQPHDz"
      },
      "outputs": [],
      "source": [
        "X_valid = pca.fit_transform(valid[num_cols+cat_cols])"
      ]
    },
    {
      "cell_type": "code",
      "execution_count": null,
      "metadata": {
        "id": "EAD9N0W63yZz"
      },
      "outputs": [],
      "source": [
        "#import xgboost\n",
        "from sklearn import metrics\n",
        "plt.figure(figsize=(10,7))\n",
        "plt.plot(*metrics.roc_curve(y, y_train_predicted)[:2], label='train AUC={:.4f}'.format(train_auc))\n",
        "legend_box = plt.legend(fontsize='large', framealpha=1).get_frame()\n",
        "legend_box.set_facecolor(\"white\")\n",
        "legend_box.set_edgecolor(\"black\")\n",
        "plt.plot(np.linspace(0,1,100), np.linspace(0,1,100))\n",
        "plt.show()"
      ]
    }
  ],
  "metadata": {
    "colab": {
      "collapsed_sections": [],
      "name": "baselinehomework.ipynb",
      "provenance": []
    },
    "kernelspec": {
      "display_name": "Python 3",
      "language": "python",
      "name": "python3"
    },
    "language_info": {
      "codemirror_mode": {
        "name": "ipython",
        "version": 3
      },
      "file_extension": ".py",
      "mimetype": "text/x-python",
      "name": "python",
      "nbconvert_exporter": "python",
      "pygments_lexer": "ipython3",
      "version": "3.9.7"
    }
  },
  "nbformat": 4,
  "nbformat_minor": 0
}
