{
  "cells": [
    {
      "cell_type": "markdown",
      "metadata": {
        "id": "TK7oX5qdEEYr"
      },
      "source": [
        "<p style=\"align: center;\"><img align=center src=\"https://s8.hostingkartinok.com/uploads/images/2018/08/308b49fcfbc619d629fe4604bceb67ac.jpg\" width=500 height=450/></p>\n",
        "\n",
        "<h3 style=\"text-align: center;\"><b>Школа глубокого обучения ФПМИ МФТИ</b></h3>\n",
        "\n",
        "<h3 style=\"text-align: center;\"><b>Домашнее задание. Продвинутый поток. Весна 2021</b></h3>\n",
        "\n",
        "Это домашнее задание будет посвящено полноценному решению задачи машинного обучения."
      ]
    },
    {
      "cell_type": "markdown",
      "metadata": {
        "id": "zlB-owfaEEYs"
      },
      "source": [
        "Есть две части этого домашнего задания: \n",
        "* Сделать полноценный отчет о вашей работе: как вы обработали данные, какие модели попробовали и какие результаты получились (максимум 10 баллов). За каждую выполненную часть будет начислено определенное количество баллов.\n",
        "* Лучшее решение отправить в соревнование на [kaggle](https://www.kaggle.com/c/advanced-dls-spring-2021/) (максимум 5 баллов). За прохождение определенного порогов будут начисляться баллы.\n",
        "\n",
        "\n",
        "**Обе части будут проверяться в формате peer-review. Т.е. вашу посылку на степик будут проверять несколько других студентов и аггрегация их оценок будет выставлена. В то же время вам тоже нужно будет проверить несколько других учеников.**\n",
        "\n",
        "**Пожалуйста, делайте свою работу чистой и понятной, чтобы облегчить проверку. Если у вас будут проблемы с решением или хочется совета, то пишите в наш чат в телеграме или в лс @runfme. Если вы захотите проаппелировать оценку, то пипшите в лс @runfme.**\n",
        "\n",
        "**Во всех пунктах указания это минимальный набор вещей, которые стоит сделать. Если вы можете сделать какой-то шаг лучше или добавить что-то свое - дерзайте!**"
      ]
    },
    {
      "cell_type": "markdown",
      "metadata": {
        "id": "Tu_JvqcBEN8Y"
      },
      "source": [
        "# Как проверять?\n",
        "\n",
        "Ставьте полный балл, если выполнены все рекомендации или сделано что-то более интересное и сложное. За каждый отсустствующий пункт из рекомендация снижайте 1 балл."
      ]
    },
    {
      "cell_type": "markdown",
      "metadata": {
        "id": "ninJ63mJEEYt"
      },
      "source": [
        "# Метрика\n",
        "\n",
        "Перед решением любой задачи важно понимать, как будет оцениваться ваше решение. В данном случае мы используем стандартную для задачи классификации метрику ROC-AUC. Ее можно вычислить используя только предсказанные вероятности и истинные классы без конкретного порога классификации + она раотает даже если классы в данных сильно несбалансированны (примеров одного класса в десятки раз больше примеров длугого). Именно поэтому она очень удобна для соревнований.\n",
        "\n",
        "Посчитать ее легко:\n"
      ]
    },
    {
      "cell_type": "code",
      "execution_count": null,
      "metadata": {
        "colab": {
          "base_uri": "https://localhost:8080/"
        },
        "id": "SQIrka7yEEYu",
        "outputId": "bcc08d2f-cd19-4e8f-c7a0-fc6bd59c812b"
      },
      "outputs": [],
      "source": [
        "from sklearn.metrics import roc_auc_score\n",
        "\n",
        "y_true = [\n",
        "    0,\n",
        "    1,\n",
        "    1,\n",
        "    0,\n",
        "    1\n",
        "]\n",
        "\n",
        "y_predictions = [\n",
        "    0.1,\n",
        "    0.9,\n",
        "    0.4,\n",
        "    0.6,\n",
        "    0.61\n",
        "]\n",
        "\n",
        "roc_auc_score(y_true, y_predictions)"
      ]
    },
    {
      "cell_type": "markdown",
      "metadata": {
        "id": "IrDNNkNTEEYz"
      },
      "source": [
        "# Первая часть. Исследование"
      ]
    },
    {
      "cell_type": "code",
      "execution_count": null,
      "metadata": {
        "id": "lzLqEeZKEEYz"
      },
      "outputs": [],
      "source": [
        "import pandas as pd\n",
        "import numpy as np\n",
        "from matplotlib import pyplot as plt"
      ]
    },
    {
      "cell_type": "markdown",
      "metadata": {
        "id": "LOlxdURSEEY3"
      },
      "source": [
        "## Загрузка данных (2 балла)\n",
        "\n",
        "1) Посмотрите на случайные строчки. \n",
        "\n",
        "2) Посмотрите, есть ли в датасете незаполненные значения (nan'ы) с помощью data.isna() или data.info() и, если нужно, замените их на что-то. Будет хорошо, если вы построите табличку с количеством nan в каждой колонке."
      ]
    },
    {
      "cell_type": "code",
      "execution_count": null,
      "metadata": {
        "id": "pw-Brue9EEY3"
      },
      "outputs": [],
      "source": [
        "data = pd.read_csv('./train.csv')"
      ]
    },
    {
      "cell_type": "code",
      "execution_count": null,
      "metadata": {
        "colab": {
          "base_uri": "https://localhost:8080/",
          "height": 319
        },
        "id": "KgnkkF5bEEY9",
        "outputId": "602e1e45-f090-40ce-a738-c7651812511a"
      },
      "outputs": [],
      "source": [
        "# Для вашего удобства списки с именами разных колонок\n",
        "\n",
        "# Числовые признаки\n",
        "num_cols = [\n",
        "    'ClientPeriod',\n",
        "    'MonthlySpending',\n",
        "    'TotalSpent'\n",
        "]\n",
        "\n",
        "# Категориальные признаки\n",
        "cat_cols = [\n",
        "    'Sex',\n",
        "    'IsSeniorCitizen',\n",
        "    'HasPartner',\n",
        "    'HasChild',\n",
        "    'HasPhoneService',\n",
        "    'HasMultiplePhoneNumbers',\n",
        "    'HasInternetService',\n",
        "    'HasOnlineSecurityService',\n",
        "    'HasOnlineBackup',\n",
        "    'HasDeviceProtection',\n",
        "    'HasTechSupportAccess',\n",
        "    'HasOnlineTV',\n",
        "    'HasMovieSubscription',\n",
        "    'HasContractPhone',\n",
        "    'IsBillingPaperless',\n",
        "    'PaymentMethod'\n",
        "]\n",
        "\n",
        "feature_cols = num_cols + cat_cols\n",
        "target_col = 'Churn'\n",
        "data.head()"
      ]
    },
    {
      "cell_type": "code",
      "execution_count": null,
      "metadata": {
        "colab": {
          "base_uri": "https://localhost:8080/"
        },
        "id": "tHC6gWabEEZA",
        "outputId": "009b337e-c274-4a52-e4cd-b200df6b7829"
      },
      "outputs": [],
      "source": [
        "print(data.info())\n",
        "print(data.isnull().sum())\n",
        "print(data.isin([' ']).sum())\n",
        "print(data.isin(['?']).sum())"
      ]
    },
    {
      "cell_type": "code",
      "execution_count": null,
      "metadata": {
        "colab": {
          "base_uri": "https://localhost:8080/"
        },
        "id": "ywDnR1QvZMxp",
        "outputId": "57b01d1b-3b31-428b-e60f-eac4385d00ca"
      },
      "outputs": [],
      "source": [
        "# Проверка на признаки из одного элемента\n",
        "for col in cat_cols:\n",
        "    print(f\"{col} DISTRIBUTION\")\n",
        "    print(data[col].value_counts())\n",
        "    print()\n",
        "    \n",
        "for col in num_cols:\n",
        "    print(f\"{col} DISTRIBUTION\")\n",
        "    print(data[col].value_counts())\n",
        "    print()"
      ]
    },
    {
      "cell_type": "code",
      "execution_count": null,
      "metadata": {
        "id": "BOp5tiNxZMxq"
      },
      "outputs": [],
      "source": [
        "# Т.к. всего 9 строк, в которых пробел, можно удалить их, на результат это сильно не повлияет.\n",
        "data['TotalSpent'] = data['TotalSpent'].replace(' ', np.nan)\n",
        "data['TotalSpent'] = data['TotalSpent'].astype(float)\n",
        "data = data.dropna()"
      ]
    },
    {
      "cell_type": "markdown",
      "metadata": {
        "id": "dK370bPCEEZD"
      },
      "source": [
        "## Анализ данных (3 балла)\n",
        "\n",
        "1) Для численных призанков постройте гистограмму (*plt.hist(...)*) или boxplot (*plt.boxplot(...)*). Для категориальных посчитайте количество каждого значения для каждого признака. Для каждой колонки надо сделать *data.value_counts()* и построить bar диаграммы *plt.bar(...)* или круговые диаграммы *plt.pie(...)* (хорошо, елси вы сможете это сделать на одном гарфике с помощью *plt.subplots(...)*). \n",
        "\n",
        "2) Посмотрите на распределение целевой переменной и скажите, являются ли классы несбалансированными.\n",
        "\n",
        "3) (Если будет желание) Поиграйте с разными библиотеками для визуализации - *sns*, *pandas_visual_analysis*, etc.\n",
        "\n",
        "Второй пункт очень важен, потому что существуют задачи классификации с несбалансированными классами. Например, это может значить, что в датасете намного больше примеров 0 класса. В таких случаях нужно 1) не использовать accuracy как метрику 2) использовать методы борьбы с imbalanced dataset (обычно если датасет сильно несбалансирован, т.е. класса 1 в 20 раз меньше класса 0)."
      ]
    },
    {
      "cell_type": "code",
      "execution_count": null,
      "metadata": {
        "colab": {
          "base_uri": "https://localhost:8080/",
          "height": 693
        },
        "id": "NZkbgFJZEEZE",
        "outputId": "1cc43bd5-338b-4f6f-8860-989d9b882b6c"
      },
      "outputs": [],
      "source": [
        "data.hist(column=num_cols+[target_col], figsize=(14, 10))"
      ]
    },
    {
      "cell_type": "code",
      "execution_count": null,
      "metadata": {
        "colab": {
          "base_uri": "https://localhost:8080/",
          "height": 862
        },
        "id": "33WUGlAAZMxr",
        "outputId": "2aab5f38-c544-4a8c-dc62-2a88166bf122"
      },
      "outputs": [],
      "source": [
        "fig, axes = plt.subplots(nrows = 4, ncols = 4, figsize=(15, 15))\n",
        "for i in range(16):\n",
        "    axes[i // 4][i % 4].set(title=cat_cols[i])\n",
        "    axes[i // 4][i % 4].pie(data[cat_cols[i]].value_counts())\n",
        "\n",
        "plt.show()"
      ]
    },
    {
      "cell_type": "markdown",
      "metadata": {
        "id": "zg60u3QDEEZH"
      },
      "source": [
        "(Дополнительно) Если вы нашли какие-то ошибки в данных или выбросы, то можете их убрать. Тут можно поэксперементировать с обработкой данных как угодно, но не за баллы."
      ]
    },
    {
      "cell_type": "code",
      "execution_count": null,
      "metadata": {
        "colab": {
          "base_uri": "https://localhost:8080/",
          "height": 258
        },
        "id": "fwfksF1gEEZI",
        "outputId": "a894cd99-2c01-47ca-ca3f-b75b0ebf57a4"
      },
      "outputs": [],
      "source": [
        "data.corr().style.background_gradient(cmap='coolwarm').set_precision(2)"
      ]
    },
    {
      "cell_type": "markdown",
      "metadata": {
        "id": "DviiJd8REEZK"
      },
      "source": [
        "## Применение линейных моделей (3 балла)\n",
        "\n",
        "1) Обработайте данные для того, чтобы к ним можно было применить LogisticRegression. Т.е. отнормируйте числовые признаки, а категориальные закодируйте с помощью one-hot-encoding'а. \n",
        "\n",
        "2) С помощью кроссвалидации или разделения на train/valid выборку протестируйте разные значения гиперпараметра C и выберите лучший (можно тестировать С=100, 10, 1, 0.1, 0.01, 0.001) по метрике ROC-AUC. \n",
        "\n",
        "Если вы разделяете на train/valid, то используйте LogisticRegressionCV. Он сам при вызове .fit() подберет параметр С. (не забудьте передать scroing='roc_auc', чтобы при кроссвалидации сравнивались значения этой метрики, и refit=True, чтобы при потом модель обучилась на всем датасете с лучшим параметром C). \n",
        "\n",
        "\n",
        "(более сложный вариант) Если вы будете использовать кроссвалидацию, то преобразования данных и LogisticRegression нужно соединить в один Pipeline с помощью make_pipeline, как это делалось во втором семинаре. Потом pipeline надо передать в GridSearchCV. Для one-hot-encoding'a можно испльзовать комбинацию LabelEncoder + OneHotEncoder (сначала превращаем строчки в числа, а потом числа првращаем в one-hot вектора.)"
      ]
    },
    {
      "cell_type": "code",
      "execution_count": null,
      "metadata": {
        "id": "xHCLDmwqEEZL"
      },
      "outputs": [],
      "source": [
        "from sklearn.linear_model import LogisticRegression, LogisticRegressionCV\n",
        "from sklearn.model_selection import train_test_split, GridSearchCV\n",
        "from sklearn.preprocessing import StandardScaler, RobustScaler, LabelEncoder, OneHotEncoder\n",
        "from sklearn.pipeline import make_pipeline"
      ]
    },
    {
      "cell_type": "code",
      "execution_count": null,
      "metadata": {
        "id": "4-qBvC_aZMxt"
      },
      "outputs": [],
      "source": [
        "dummy_features = pd.get_dummies(data[cat_cols])\n",
        "X = pd.concat([data[num_cols], dummy_features], axis=1)\n",
        "y = data[target_col]"
      ]
    },
    {
      "cell_type": "code",
      "execution_count": null,
      "metadata": {
        "colab": {
          "base_uri": "https://localhost:8080/"
        },
        "id": "P2Yv3uYtEEZO",
        "outputId": "69d7cc08-925f-43f0-a88b-d986bf053ad2"
      },
      "outputs": [],
      "source": [
        "lg = make_pipeline(StandardScaler(),\n",
        "                  LogisticRegression())\n",
        "print(lg.get_params().keys())\n",
        "parametrs = {'logisticregression__C' : [100, 10, 1, 0.1, 0.01, 0.001]}\n",
        "lg_grid_search = GridSearchCV(estimator=lg, \n",
        "                               param_grid=parametrs,\n",
        "                               cv=5,\n",
        "                               scoring='roc_auc',\n",
        "                               n_jobs=-1, \n",
        "                               verbose=10,\n",
        "                               refit=True)\n",
        "\n",
        "lg_grid_search.fit(X, y)"
      ]
    },
    {
      "cell_type": "markdown",
      "metadata": {
        "id": "uVahy6JKEEZQ"
      },
      "source": [
        "Выпишите какое лучшее качество и с какими параметрами вам удалось получить"
      ]
    },
    {
      "cell_type": "code",
      "execution_count": null,
      "metadata": {
        "colab": {
          "base_uri": "https://localhost:8080/"
        },
        "id": "dKTW_efgZMxu",
        "outputId": "32427394-17f7-4b1d-9511-8e63781cc068"
      },
      "outputs": [],
      "source": [
        "from sklearn.metrics import roc_auc_score\n",
        "print(lg_grid_search.best_params_)\n",
        "print(lg_grid_search.best_score_)\n",
        "print(roc_auc_score(y, lg_grid_search.predict_proba(X).T[1]))"
      ]
    },
    {
      "cell_type": "markdown",
      "metadata": {
        "id": "36729TOQEEZR"
      },
      "source": []
    },
    {
      "cell_type": "markdown",
      "metadata": {
        "id": "BlTeVy7fEEZR"
      },
      "source": [
        "## Применение градиентного бустинга (2 балла)\n",
        "\n",
        "Если вы хотите получить баллы за точный ответ, то стоит попробовать градиентный бустинг. Часто градиентный бустинг с дефолтными параметрами даст вам 80% результата за 0% усилий.\n",
        "\n",
        "Мы будем использовать catboost, поэтому нам не надо кодировать категориальные признаки. catboost сделает это сам (в .fit() надо передать cat_features=cat_cols). А численные признаки нормировать для моделей, основанных на деревьях не нужно.\n",
        "\n",
        "1) Разделите выборку на train/valid. Протестируйте catboost cо стандартными параметрами.\n",
        "\n",
        "2) Протестируйте разные занчения параметроа количества деревьев и learning_rate'а и выберите лучшую по метрике ROC-AUC комбинацию. \n",
        "\n",
        "(Дополнительно) Есть некоторые сложности с тем, чтобы использовать CatBoostClassifier вместе с GridSearchCV, поэтому мы не просим использовать кроссвалидацию. Но можете попробовать)"
      ]
    },
    {
      "cell_type": "code",
      "execution_count": null,
      "metadata": {
        "colab": {
          "base_uri": "https://localhost:8080/"
        },
        "id": "Fioxxlp-EEZS",
        "outputId": "df58f46e-0667-4fe9-ffdf-dbf8739deeac"
      },
      "outputs": [],
      "source": [
        "# !pip install catboost\n",
        "import catboost"
      ]
    },
    {
      "cell_type": "code",
      "execution_count": null,
      "metadata": {
        "id": "SmjkhAYfZMxw"
      },
      "outputs": [],
      "source": [
        "X_train, X_test, y_train, y_test = train_test_split(data[cat_cols + num_cols], y.values, \n",
        "                                                       train_size=0.8, \n",
        "                                                       random_state=42)\n"
      ]
    },
    {
      "cell_type": "code",
      "execution_count": null,
      "metadata": {
        "colab": {
          "base_uri": "https://localhost:8080/"
        },
        "id": "d-qNdOokZMxw",
        "outputId": "dca5b44f-18c9-4035-8592-ec5d1254f0d8"
      },
      "outputs": [],
      "source": [
        "res = []\n",
        "num = []\n",
        "for i in range(50):\n",
        "  boosting_model = catboost.CatBoostClassifier(n_estimators=200, \n",
        "                                              cat_features=cat_cols, \n",
        "                                              learning_rate=0.02 * i + 0.02,\n",
        "                                              verbose=0)\n",
        "\n",
        "  boosting_model.fit(X_train, y_train)\n",
        "\n",
        "  y_train_predicted = boosting_model.predict_proba(X_train)[:, 1]\n",
        "  y_test_predicted = boosting_model.predict_proba(X_test)[:, 1]\n",
        "  train_auc = roc_auc_score(y_train, y_train_predicted)\n",
        "  test_auc = roc_auc_score(y_test, y_test_predicted)\n",
        "  res.append(roc_auc_score(y_test, y_test_predicted))\n",
        "  num.append(0.02 + 0.02 * i)\n",
        "  # print(train_auc, test_auc)"
      ]
    },
    {
      "cell_type": "code",
      "execution_count": null,
      "metadata": {},
      "outputs": [],
      "source": [
        "res"
      ]
    },
    {
      "cell_type": "code",
      "execution_count": null,
      "metadata": {
        "colab": {
          "base_uri": "https://localhost:8080/",
          "height": 282
        },
        "id": "uNjWc1G-WPjg",
        "outputId": "4104c437-7f7f-46f2-de4b-ef2e63732773"
      },
      "outputs": [],
      "source": [
        "plt.plot(num, res) # Приблизительно определяю лучший learning rate"
      ]
    },
    {
      "cell_type": "code",
      "execution_count": null,
      "metadata": {
        "colab": {
          "base_uri": "https://localhost:8080/"
        },
        "id": "dMsK8lCaZ8Op",
        "outputId": "e83d861b-0408-423a-a46b-aac4266e51c5"
      },
      "outputs": [],
      "source": [
        "res = []\n",
        "num = []\n",
        "for i in range(50):\n",
        "  boosting_model = catboost.CatBoostClassifier(n_estimators=500, \n",
        "                                              cat_features=cat_cols, \n",
        "                                              learning_rate=0.004 * i + 0.004,\n",
        "                                              verbose=0)\n",
        "\n",
        "  boosting_model.fit(X_train, y_train)\n",
        "\n",
        "  y_train_predicted = boosting_model.predict_proba(X_train)[:, 1]\n",
        "  y_test_predicted = boosting_model.predict_proba(X_test)[:, 1]\n",
        "  train_auc = roc_auc_score(y_train, y_train_predicted)\n",
        "  test_auc = roc_auc_score(y_test, y_test_predicted)\n",
        "  res.append(roc_auc_score(y_test, y_test_predicted))\n",
        "  num.append(0.004 + 0.004 * i)\n",
        "  print(train_auc, test_auc)"
      ]
    },
    {
      "cell_type": "code",
      "execution_count": null,
      "metadata": {
        "colab": {
          "base_uri": "https://localhost:8080/",
          "height": 282
        },
        "id": "_Ev882tvaMC2",
        "outputId": "37634552-5bf9-4089-d844-ef6c801f1320"
      },
      "outputs": [],
      "source": [
        "plt.plot(num, res) # Чуть точнее определяю лучший learning rate"
      ]
    },
    {
      "cell_type": "code",
      "execution_count": null,
      "metadata": {
        "colab": {
          "base_uri": "https://localhost:8080/"
        },
        "id": "iMgrO_gXdAJX",
        "outputId": "56ed62eb-a956-474b-83e2-4c121517a076"
      },
      "outputs": [],
      "source": [
        "res = []\n",
        "num = []\n",
        "for i in range(50):\n",
        "  boosting_model = catboost.CatBoostClassifier(n_estimators=500, \n",
        "                                              cat_features=cat_cols, \n",
        "                                              learning_rate=0.0005 * i + 0.0005)\n",
        "\n",
        "  boosting_model.fit(X_train, y_train)\n",
        "\n",
        "  y_train_predicted = boosting_model.predict_proba(X_train)[:, 1]\n",
        "  y_test_predicted = boosting_model.predict_proba(X_test)[:, 1]\n",
        "  train_auc = roc_auc_score(y_train, y_train_predicted)\n",
        "  test_auc = roc_auc_score(y_test, y_test_predicted)\n",
        "  res.append(roc_auc_score(y_test, y_test_predicted))\n",
        "  num.append(0.0005 + 0.0005 * i)\n",
        "  print(train_auc, test_auc)"
      ]
    },
    {
      "cell_type": "code",
      "execution_count": null,
      "metadata": {
        "colab": {
          "base_uri": "https://localhost:8080/",
          "height": 282
        },
        "id": "3O26eydqeuXg",
        "outputId": "01874ca8-cc9e-4af0-e0e6-94535f799994"
      },
      "outputs": [],
      "source": [
        "plt.plot(num, res) # Чуть точнее определяю лучший learning rate"
      ]
    },
    {
      "cell_type": "code",
      "execution_count": null,
      "metadata": {
        "colab": {
          "base_uri": "https://localhost:8080/"
        },
        "id": "RC_pEVtlfXOs",
        "outputId": "e0bb8335-272b-417f-a068-6d6bdecdeebb"
      },
      "outputs": [],
      "source": [
        "res = []\n",
        "num = []\n",
        "for i in range(50):\n",
        "  boosting_model = catboost.CatBoostClassifier(n_estimators=500, \n",
        "                                              cat_features=cat_cols, \n",
        "                                              learning_rate=0.021 * i + 0.0001)\n",
        "\n",
        "  boosting_model.fit(X_train, y_train)\n",
        "\n",
        "  y_train_predicted = boosting_model.predict_proba(X_train)[:, 1]\n",
        "  y_test_predicted = boosting_model.predict_proba(X_test)[:, 1]\n",
        "  train_auc = roc_auc_score(y_train, y_train_predicted)\n",
        "  test_auc = roc_auc_score(y_test, y_test_predicted)\n",
        "  res.append(roc_auc_score(y_test, y_test_predicted))\n",
        "  num.append(0.021 + i * 0.0001)\n",
        "  print(train_auc, test_auc)"
      ]
    },
    {
      "cell_type": "code",
      "execution_count": null,
      "metadata": {
        "colab": {
          "base_uri": "https://localhost:8080/",
          "height": 319
        },
        "id": "qOriCOLYhJNc",
        "outputId": "4fd0d951-0600-46f4-e80b-c1c7fee4e6be"
      },
      "outputs": [],
      "source": [
        "num = [0.021 + i * 0.0001 for i in range(50)]\n",
        "print(res)\n",
        "plt.plot(num, res) # Определяю лучший learning rate"
      ]
    },
    {
      "cell_type": "markdown",
      "metadata": {
        "id": "rf4Kjt96EEZU"
      },
      "source": [
        "Выпишите какое лучшее качество и с какими параметрами вам удалось получить\n"
      ]
    },
    {
      "cell_type": "markdown",
      "metadata": {
        "id": "PR1WT7ySipAY"
      },
      "source": [
        "leraning rate = 0.022\n",
        "roc_auc_score(test) = 0.8427"
      ]
    },
    {
      "cell_type": "markdown",
      "metadata": {
        "id": "d2d9GolXEEZV"
      },
      "source": []
    },
    {
      "cell_type": "markdown",
      "metadata": {
        "id": "dDMXbvNZEEZV"
      },
      "source": [
        "# Предсказания"
      ]
    },
    {
      "cell_type": "raw",
      "metadata": {
        "id": "Xaw_as_8ZMxx"
      },
      "source": [
        "Сделаю модель со стекингом"
      ]
    },
    {
      "cell_type": "code",
      "execution_count": null,
      "metadata": {
        "id": "RPbQICPHZMxx"
      },
      "outputs": [],
      "source": [
        "from sklearn.model_selection import cross_val_predict"
      ]
    },
    {
      "cell_type": "code",
      "execution_count": null,
      "metadata": {
        "id": "PBFPDM-KZMxy"
      },
      "outputs": [],
      "source": [
        "def compute_meta_feature(model, X_train, X_test, y_train, cv):\n",
        "    try:\n",
        "        train_answers = cross_val_predict(model, X_train, y_train, cv=cv, method='predict_proba')[:, 1]\n",
        "        model.fit(X_train, y_train)\n",
        "        return train_answers, model.predict_proba(X_test)[:, 1]\n",
        "    \n",
        "    except Exception:\n",
        "        train_answers = cross_val_predict(model, X_train, y_train, cv=cv, method='predict')[:, 1]\n",
        "        model.fit(X_train, y_train)\n",
        "        return train_answers, model.predict(X_test)[:, 1]"
      ]
    },
    {
      "cell_type": "code",
      "execution_count": null,
      "metadata": {
        "id": "2MOufQAPZMxy"
      },
      "outputs": [],
      "source": [
        "from sklearn.ensemble import RandomForestClassifier\n",
        "from sklearn.linear_model import LogisticRegression\n",
        "from sklearn.neighbors import KNeighborsClassifier\n",
        "from sklearn.tree import DecisionTreeClassifier\n",
        "from tqdm.notebook import tqdm"
      ]
    },
    {
      "cell_type": "code",
      "execution_count": null,
      "metadata": {
        "id": "U9mJHySzZMxz"
      },
      "outputs": [],
      "source": [
        "X_train, X_test, y_train, y_test = train_test_split(X.values, y.values, \n",
        "                                                    train_size=0.8,\n",
        "                                                    random_state=42)\n",
        "scaler = StandardScaler()\n",
        "X_train = scaler.fit_transform(X_train)\n",
        "X_test = scaler.transform(X_test)"
      ]
    },
    {
      "cell_type": "code",
      "execution_count": null,
      "metadata": {
        "id": "wcOhH2YRZMx0"
      },
      "outputs": [],
      "source": [
        "models = []\n",
        "#models.append(KNeighborsClassifier(n_jobs=-1, n_neighbors=30))\n",
        "models.append(LogisticRegression(C=100)) # Использую значенип, полученное в пункте про лин. модели.\n",
        "models.append(RandomForestClassifier(max_depth=3, n_estimators=50, n_jobs=-1))\n",
        "models.append(RandomForestClassifier(max_depth=7, n_estimators=50, n_jobs=-1))\n",
        "models.append(DecisionTreeClassifier(max_depth=8))"
      ]
    },
    {
      "cell_type": "code",
      "execution_count": null,
      "metadata": {
        "id": "jZX9cPH0ZMx0"
      },
      "outputs": [],
      "source": [
        "meta_features_train = np.zeros((X_train.shape[0], 0))\n",
        "meta_features_test = np.zeros((X_test.shape[0], 0))"
      ]
    },
    {
      "cell_type": "code",
      "execution_count": null,
      "metadata": {
        "colab": {
          "base_uri": "https://localhost:8080/",
          "height": 49,
          "referenced_widgets": [
            "656541602f54425cacccd0233a7b228f",
            "f2c0d332265d4b4faa6fdb6da74a84d9",
            "ed852ff87dcf453eb4ecee7669a3405b",
            "f7bbca13a3cc4131a647eb040a897cea",
            "3dde94de2c124f708db0312b4d970bba",
            "c774fd1f12e9474d9ab582cbb5c7a9ba",
            "31f2ac8b8bf24741a99e0962f730d2b1",
            "79b49939c70641399fb6d112c979fd2e",
            "131861e9d65143fd8790ff3568d633af",
            "094399cbea114637b7af99241e95ccb6",
            "57e448c3d04742fb8c751a1ea69f5a91"
          ]
        },
        "id": "s67wpWEbZMx1",
        "outputId": "273e8c27-3dfa-4a05-da00-bd630bf215b3"
      },
      "outputs": [],
      "source": [
        "for model in tqdm(models):\n",
        "    train, test = compute_meta_feature(model, X_train, X_test, y_train, 4)\n",
        "    meta_features_train = np.append(meta_features_train, train.reshape((train.size, 1)), axis=1)\n",
        "    meta_features_test = np.append(meta_features_test, test.reshape((test.size, 1)), axis=1)"
      ]
    },
    {
      "cell_type": "code",
      "execution_count": null,
      "metadata": {
        "colab": {
          "base_uri": "https://localhost:8080/"
        },
        "id": "-3Kgd6l2aGWh",
        "outputId": "9b9c248a-8df2-4742-f9fc-30cf47301df5"
      },
      "outputs": [],
      "source": [
        "stacking_model = LogisticRegression(C=100)\n",
        "stacking_model.fit(meta_features_train, y_train)\n",
        "\n",
        "\n",
        "y_train_predicted = stacking_model.predict_proba(meta_features_train)[:, 1]\n",
        "y_test_predicted = stacking_model.predict_proba(meta_features_test)[:, 1]\n",
        "\n",
        "train_auc = roc_auc_score(y_train, y_train_predicted)\n",
        "test_auc = roc_auc_score(y_test, y_test_predicted)\n",
        "print(train_auc, test_auc)"
      ]
    },
    {
      "cell_type": "code",
      "execution_count": null,
      "metadata": {
        "colab": {
          "base_uri": "https://localhost:8080/",
          "height": 319
        },
        "id": "-Vvnot2mcU3B",
        "outputId": "b77a3961-9a82-443f-ae4c-32d8d5ca2bad"
      },
      "outputs": [],
      "source": []
    },
    {
      "cell_type": "markdown",
      "metadata": {
        "id": "7fuh6i1FqhuN"
      },
      "source": [
        "**Посмотрю различные модели и выберу среди них лучшую.**"
      ]
    },
    {
      "cell_type": "code",
      "execution_count": null,
      "metadata": {
        "colab": {
          "base_uri": "https://localhost:8080/"
        },
        "id": "Ij-2m4YDsh7V",
        "outputId": "74b25bb2-6ef1-47a3-88a1-970b30f48916"
      },
      "outputs": [],
      "source": [
        "# Обычная логистическая регрессия.\n",
        "dummy_features = pd.get_dummies(data[cat_cols])\n",
        "X_train = pd.concat([data[num_cols], dummy_features], axis=1)\n",
        "y_train = data[target_col]\n",
        "scaler = StandardScaler()\n",
        "scaler.fit(X_train)\n",
        "scaler.transform(X_train)\n",
        "\n",
        "bs1 = LogisticRegression(C=100)\n",
        "bs1.fit(X_train, y_train)"
      ]
    },
    {
      "cell_type": "code",
      "execution_count": null,
      "metadata": {
        "colab": {
          "base_uri": "https://localhost:8080/"
        },
        "id": "f1uN8pq0tfhg",
        "outputId": "511e8049-a867-4a31-c70d-2523a90812b2"
      },
      "outputs": [],
      "source": [
        "X_test = pd.read_csv('./test.csv')\n",
        "X_test['TotalSpent'] = X_test['TotalSpent'].replace(' ', 0)\n",
        "X_test['TotalSpent'] = X_test['TotalSpent'].astype(float)\n",
        "dummy_features = pd.get_dummies(X_test[cat_cols])\n",
        "X_test = pd.concat([X_test[num_cols], dummy_features], axis=1)\n",
        "scaler.transform(X_test)\n",
        "\n",
        "X_test.info()\n",
        "\n",
        "submission = pd.read_csv('./submission.csv', index_col='Id')\n",
        "\n",
        "submission['Churn'] = bs1.predict_proba(X_test)[:,1]\n",
        "submission.to_csv('./my_submission.csv')"
      ]
    },
    {
      "cell_type": "code",
      "execution_count": null,
      "metadata": {
        "colab": {
          "base_uri": "https://localhost:8080/"
        },
        "id": "zkQqqKTrwiHg",
        "outputId": "8e13c347-a2dd-4e36-93bb-41a390874f11"
      },
      "outputs": [],
      "source": [
        "# Бустинг. Я решил исключить некоторые признаки, чтобы улучшить процент. Тут уже конечный результат.\n",
        "num_cols = [\n",
        "    'ClientPeriod',\n",
        "    'MonthlySpending'\n",
        "]\n",
        "\n",
        "cat_cols = [\n",
        "    'Sex',\n",
        "    'HasPartner',\n",
        "    'HasChild',\n",
        "    'HasPhoneService',\n",
        "    'HasMultiplePhoneNumbers',\n",
        "    'HasInternetService',\n",
        "    'HasOnlineSecurityService',\n",
        "    'HasOnlineBackup',\n",
        "    'HasDeviceProtection',\n",
        "    'HasTechSupportAccess',\n",
        "    'HasOnlineTV',\n",
        "    'HasMovieSubscription',\n",
        "    'HasContractPhone',\n",
        "    'IsBillingPaperless',\n",
        "    'PaymentMethod'\n",
        "]\n",
        "bs2 = catboost.CatBoostClassifier(n_estimators=500, \n",
        "                                            cat_features=cat_cols, \n",
        "                                            learning_rate=0.022)\n",
        "X_train = data[cat_cols + num_cols]\n",
        "y_train = data[target_col]\n",
        "X_train.info()\n",
        "bs2.fit(X_train, y_train)"
      ]
    },
    {
      "cell_type": "code",
      "execution_count": null,
      "metadata": {
        "colab": {
          "base_uri": "https://localhost:8080/"
        },
        "id": "yV5vclXhxf-K",
        "outputId": "7c8fdc9a-044b-41e2-9ead-e999021676f9"
      },
      "outputs": [],
      "source": [
        "X_test = pd.read_csv('./test.csv')\n",
        "X_test['TotalSpent'] = X_test['TotalSpent'].replace(' ', 0)\n",
        "X_test['TotalSpent'] = X_test['TotalSpent'].astype(float)\n",
        "X_test = X_test[cat_cols + num_cols]\n",
        "\n",
        "X_test.info()\n",
        "\n",
        "\n",
        "submission = pd.read_csv('./submission.csv', index_col='Id')\n",
        "submission['Churn'] = bs2.predict_proba(X_test)[:, 1]\n",
        "submission.to_csv('./my_submission.csv')"
      ]
    },
    {
      "cell_type": "code",
      "execution_count": null,
      "metadata": {
        "colab": {
          "base_uri": "https://localhost:8080/",
          "height": 222,
          "referenced_widgets": [
            "09dd9b852a3947b393e1213cdfdb18b7",
            "1eba5cd7b8bb4c7a925c03147c99eab8",
            "67e8350fabf9401f83961d4cda108cf2",
            "44189601fe5741d29319501c1404ce8b",
            "09865dbb762a4827b253947be7b77b22",
            "9b1f06d930af4dde9563743fdee4854f",
            "be1fa83be7934caab3320460e9c2f252",
            "605146c8297f4ddaa817348b8eac1496",
            "8c04d440246a4b6b9bf53d208ee27bc9",
            "0f1ff631d2ce42228fdf291f27ce603b",
            "ed47ea9d0f1442cfa9fd67fd9bad45b2"
          ]
        },
        "id": "WKtgAj8E2AZ0",
        "outputId": "d2a950b4-7d2d-44b6-c6cb-46565282960f"
      },
      "outputs": [],
      "source": [
        "# Попытка со стекингом с логистичсекой регрессией в конце.\n",
        "dummy_features = pd.get_dummies(data[cat_cols])\n",
        "X_train = pd.concat([data[num_cols], dummy_features], axis=1)\n",
        "y_train = data[target_col]\n",
        "scaler = StandardScaler()\n",
        "X_train = scaler.fit_transform(X_train)\n",
        "\n",
        "X_test = pd.read_csv('./test.csv')\n",
        "X_test['TotalSpent'] = X_test['TotalSpent'].replace(' ', 0)\n",
        "X_test['TotalSpent'] = X_test['TotalSpent'].astype(float)\n",
        "dummy_features = pd.get_dummies(X_test[cat_cols])\n",
        "X_test = pd.concat([X_test[num_cols], dummy_features], axis=1)\n",
        "scaler.transform(X_test)\n",
        "\n",
        "meta_features_train = np.zeros((X_train.shape[0], 0))\n",
        "meta_features_test = np.zeros((X_test.shape[0], 0))\n",
        "for model in tqdm(models):\n",
        "    train, test = compute_meta_feature(model, X_train, X_test, y_train, 5)\n",
        "    meta_features_train = np.append(meta_features_train, train.reshape((train.size, 1)), axis=1)\n",
        "    meta_features_test = np.append(meta_features_test, test.reshape((test.size, 1)), axis=1)\n",
        "    \n",
        "bs3 = LogisticRegression(C=100)\n",
        "bs3.fit(meta_features_train, y_train)\n",
        "\n",
        "submission = pd.read_csv('./submission.csv', index_col='Id')\n",
        "submission['Churn'] = bs3.predict_proba(meta_features_test)[:, 1]\n",
        "submission.to_csv('./my_submission.csv')\n",
        "\n",
        "y_train_predicted = stacking_model.predict_proba(meta_features_train)[:, 1]\n",
        "\n",
        "train_auc = roc_auc_score(y_train, y_train_predicted)\n",
        "print(train_auc)"
      ]
    },
    {
      "cell_type": "code",
      "execution_count": null,
      "metadata": {
        "colab": {
          "base_uri": "https://localhost:8080/",
          "height": 1000,
          "referenced_widgets": [
            "aa09847bb32b46c181c51beb54adc5ac",
            "928200b638794a77adbb5f2c733b20c7",
            "32aa0ed176884d9b8f850f6ab4f79e6d",
            "49ddfe88cd98484c852fd64a448c65d4",
            "394a8bee327848749993ee1ee5def41e",
            "197dbbfaf1b4483e8c3d3c02732f1eb1",
            "e1c022542e0f410ba7d21576f2c90f35",
            "15235b81c0b140fb919a2af8a94823d2",
            "4f99b19cdc3749bca3ca7f6d08a10a68",
            "2f84f96120964ab38f410a21142814f0",
            "f41189fdbc064414903e15a3ed2197f4"
          ]
        },
        "id": "Gk7WFZBy7Tcn",
        "outputId": "5ce83b87-e756-467d-94e2-6239feb45d92"
      },
      "outputs": [],
      "source": [
        "# Попытка со стекингом с бустингом в конце.\n",
        "dummy_features = pd.get_dummies(data[cat_cols])\n",
        "X_train = pd.concat([data[num_cols], dummy_features], axis=1)\n",
        "y_train = data[target_col]\n",
        "scaler = StandardScaler()\n",
        "X_train = scaler.fit_transform(X_train)\n",
        "\n",
        "X_test = pd.read_csv('./test.csv')\n",
        "X_test['TotalSpent'] = X_test['TotalSpent'].replace(' ', 0)\n",
        "X_test['TotalSpent'] = X_test['TotalSpent'].astype(float)\n",
        "dummy_features = pd.get_dummies(X_test[cat_cols])\n",
        "X_test = pd.concat([X_test[num_cols], dummy_features], axis=1)\n",
        "scaler.transform(X_test)\n",
        "\n",
        "meta_features_train = np.zeros((X_train.shape[0], 0))\n",
        "meta_features_test = np.zeros((X_test.shape[0], 0))\n",
        "for model in tqdm(models):\n",
        "    train, test = compute_meta_feature(model, X_train, X_test, y_train, 5)\n",
        "    meta_features_train = np.append(meta_features_train, train.reshape((train.size, 1)), axis=1)\n",
        "    meta_features_test = np.append(meta_features_test, test.reshape((test.size, 1)), axis=1)\n",
        "    \n",
        "bs4 = catboost.CatBoostClassifier(n_estimators=500, learning_rate=0.022)\n",
        "bs4.fit(meta_features_train, y_train)\n",
        "\n",
        "submission = pd.read_csv('./submission.csv', index_col='Id')\n",
        "submission['Churn'] = bs4.predict_proba(meta_features_test)[:, 1]\n",
        "submission.to_csv('./my_submission.csv')\n",
        "\n",
        "y_train_predicted = stacking_model.predict_proba(meta_features_train)[:, 1]\n",
        "\n",
        "train_auc = roc_auc_score(y_train, y_train_predicted)\n",
        "print(train_auc)"
      ]
    },
    {
      "cell_type": "markdown",
      "metadata": {
        "id": "4Dad6KOxvh5j"
      },
      "source": [
        "**Лучшей моделью оказалась вторая. Итоговый результат 0.85223.**"
      ]
    },
    {
      "cell_type": "markdown",
      "metadata": {
        "id": "mkxjbGkVEEZc"
      },
      "source": [
        "# Kaggle (5 баллов)\n",
        "\n",
        "Как выставить баллы:\n",
        "\n",
        "1) 1 >= roc auc > 0.84 это 5 баллов\n",
        "\n",
        "2) 0.84 >= roc auc > 0.7 это 3 балла\n",
        "\n",
        "3) 0.7 >= roc auc > 0.6 это 1 балл\n",
        "\n",
        "4) 0.6 >= roc auc это 0 баллов\n",
        "\n",
        "\n",
        "Для выполнения задания необходимо выполнить следующие шаги.\n",
        "* Зарегистрироваться на платформе [kaggle.com](kaggle.com). Процесс выставления оценок будет проходить при подведении итогового рейтинга. Пожалуйста, укажите во вкладке Team -> Team name свои имя и фамилию в формате Имя_Фамилия (важно, чтобы имя и фамилия совпадали с данными на Stepik).\n",
        "* Обучить модель, получить файл с ответами в формате .csv и сдать его в конкурс. Пробуйте и экспериментируйте. Обратите внимание, что вы можете выполнять до 20 попыток сдачи на kaggle в день.\n",
        "* После окончания соревнования отправить в итоговый ноутбук с решением на степик. \n",
        "* После дедлайна проверьте посылки других участников по критериям. Для этого надо зайти на степик, скачать их ноутбук и проверить скор в соревновании."
      ]
    }
  ],
  "metadata": {
    "colab": {
      "collapsed_sections": [],
      "name": "baseline.ipynb",
      "provenance": []
    },
    "kernelspec": {
      "display_name": "Python 3 (ipykernel)",
      "language": "python",
      "name": "python3"
    },
    "language_info": {
      "codemirror_mode": {
        "name": "ipython",
        "version": 3
      },
      "file_extension": ".py",
      "mimetype": "text/x-python",
      "name": "python",
      "nbconvert_exporter": "python",
      "pygments_lexer": "ipython3",
      "version": "3.9.7"
    },
    "widgets": {
      "application/vnd.jupyter.widget-state+json": {
        "094399cbea114637b7af99241e95ccb6": {
          "model_module": "@jupyter-widgets/base",
          "model_module_version": "1.2.0",
          "model_name": "LayoutModel",
          "state": {
            "_model_module": "@jupyter-widgets/base",
            "_model_module_version": "1.2.0",
            "_model_name": "LayoutModel",
            "_view_count": null,
            "_view_module": "@jupyter-widgets/base",
            "_view_module_version": "1.2.0",
            "_view_name": "LayoutView",
            "align_content": null,
            "align_items": null,
            "align_self": null,
            "border": null,
            "bottom": null,
            "display": null,
            "flex": null,
            "flex_flow": null,
            "grid_area": null,
            "grid_auto_columns": null,
            "grid_auto_flow": null,
            "grid_auto_rows": null,
            "grid_column": null,
            "grid_gap": null,
            "grid_row": null,
            "grid_template_areas": null,
            "grid_template_columns": null,
            "grid_template_rows": null,
            "height": null,
            "justify_content": null,
            "justify_items": null,
            "left": null,
            "margin": null,
            "max_height": null,
            "max_width": null,
            "min_height": null,
            "min_width": null,
            "object_fit": null,
            "object_position": null,
            "order": null,
            "overflow": null,
            "overflow_x": null,
            "overflow_y": null,
            "padding": null,
            "right": null,
            "top": null,
            "visibility": null,
            "width": null
          }
        },
        "09865dbb762a4827b253947be7b77b22": {
          "model_module": "@jupyter-widgets/base",
          "model_module_version": "1.2.0",
          "model_name": "LayoutModel",
          "state": {
            "_model_module": "@jupyter-widgets/base",
            "_model_module_version": "1.2.0",
            "_model_name": "LayoutModel",
            "_view_count": null,
            "_view_module": "@jupyter-widgets/base",
            "_view_module_version": "1.2.0",
            "_view_name": "LayoutView",
            "align_content": null,
            "align_items": null,
            "align_self": null,
            "border": null,
            "bottom": null,
            "display": null,
            "flex": null,
            "flex_flow": null,
            "grid_area": null,
            "grid_auto_columns": null,
            "grid_auto_flow": null,
            "grid_auto_rows": null,
            "grid_column": null,
            "grid_gap": null,
            "grid_row": null,
            "grid_template_areas": null,
            "grid_template_columns": null,
            "grid_template_rows": null,
            "height": null,
            "justify_content": null,
            "justify_items": null,
            "left": null,
            "margin": null,
            "max_height": null,
            "max_width": null,
            "min_height": null,
            "min_width": null,
            "object_fit": null,
            "object_position": null,
            "order": null,
            "overflow": null,
            "overflow_x": null,
            "overflow_y": null,
            "padding": null,
            "right": null,
            "top": null,
            "visibility": null,
            "width": null
          }
        },
        "09dd9b852a3947b393e1213cdfdb18b7": {
          "model_module": "@jupyter-widgets/controls",
          "model_module_version": "1.5.0",
          "model_name": "HBoxModel",
          "state": {
            "_dom_classes": [],
            "_model_module": "@jupyter-widgets/controls",
            "_model_module_version": "1.5.0",
            "_model_name": "HBoxModel",
            "_view_count": null,
            "_view_module": "@jupyter-widgets/controls",
            "_view_module_version": "1.5.0",
            "_view_name": "HBoxView",
            "box_style": "",
            "children": [
              "IPY_MODEL_1eba5cd7b8bb4c7a925c03147c99eab8",
              "IPY_MODEL_67e8350fabf9401f83961d4cda108cf2",
              "IPY_MODEL_44189601fe5741d29319501c1404ce8b"
            ],
            "layout": "IPY_MODEL_09865dbb762a4827b253947be7b77b22"
          }
        },
        "0f1ff631d2ce42228fdf291f27ce603b": {
          "model_module": "@jupyter-widgets/base",
          "model_module_version": "1.2.0",
          "model_name": "LayoutModel",
          "state": {
            "_model_module": "@jupyter-widgets/base",
            "_model_module_version": "1.2.0",
            "_model_name": "LayoutModel",
            "_view_count": null,
            "_view_module": "@jupyter-widgets/base",
            "_view_module_version": "1.2.0",
            "_view_name": "LayoutView",
            "align_content": null,
            "align_items": null,
            "align_self": null,
            "border": null,
            "bottom": null,
            "display": null,
            "flex": null,
            "flex_flow": null,
            "grid_area": null,
            "grid_auto_columns": null,
            "grid_auto_flow": null,
            "grid_auto_rows": null,
            "grid_column": null,
            "grid_gap": null,
            "grid_row": null,
            "grid_template_areas": null,
            "grid_template_columns": null,
            "grid_template_rows": null,
            "height": null,
            "justify_content": null,
            "justify_items": null,
            "left": null,
            "margin": null,
            "max_height": null,
            "max_width": null,
            "min_height": null,
            "min_width": null,
            "object_fit": null,
            "object_position": null,
            "order": null,
            "overflow": null,
            "overflow_x": null,
            "overflow_y": null,
            "padding": null,
            "right": null,
            "top": null,
            "visibility": null,
            "width": null
          }
        },
        "131861e9d65143fd8790ff3568d633af": {
          "model_module": "@jupyter-widgets/controls",
          "model_module_version": "1.5.0",
          "model_name": "ProgressStyleModel",
          "state": {
            "_model_module": "@jupyter-widgets/controls",
            "_model_module_version": "1.5.0",
            "_model_name": "ProgressStyleModel",
            "_view_count": null,
            "_view_module": "@jupyter-widgets/base",
            "_view_module_version": "1.2.0",
            "_view_name": "StyleView",
            "bar_color": null,
            "description_width": ""
          }
        },
        "15235b81c0b140fb919a2af8a94823d2": {
          "model_module": "@jupyter-widgets/base",
          "model_module_version": "1.2.0",
          "model_name": "LayoutModel",
          "state": {
            "_model_module": "@jupyter-widgets/base",
            "_model_module_version": "1.2.0",
            "_model_name": "LayoutModel",
            "_view_count": null,
            "_view_module": "@jupyter-widgets/base",
            "_view_module_version": "1.2.0",
            "_view_name": "LayoutView",
            "align_content": null,
            "align_items": null,
            "align_self": null,
            "border": null,
            "bottom": null,
            "display": null,
            "flex": null,
            "flex_flow": null,
            "grid_area": null,
            "grid_auto_columns": null,
            "grid_auto_flow": null,
            "grid_auto_rows": null,
            "grid_column": null,
            "grid_gap": null,
            "grid_row": null,
            "grid_template_areas": null,
            "grid_template_columns": null,
            "grid_template_rows": null,
            "height": null,
            "justify_content": null,
            "justify_items": null,
            "left": null,
            "margin": null,
            "max_height": null,
            "max_width": null,
            "min_height": null,
            "min_width": null,
            "object_fit": null,
            "object_position": null,
            "order": null,
            "overflow": null,
            "overflow_x": null,
            "overflow_y": null,
            "padding": null,
            "right": null,
            "top": null,
            "visibility": null,
            "width": null
          }
        },
        "197dbbfaf1b4483e8c3d3c02732f1eb1": {
          "model_module": "@jupyter-widgets/base",
          "model_module_version": "1.2.0",
          "model_name": "LayoutModel",
          "state": {
            "_model_module": "@jupyter-widgets/base",
            "_model_module_version": "1.2.0",
            "_model_name": "LayoutModel",
            "_view_count": null,
            "_view_module": "@jupyter-widgets/base",
            "_view_module_version": "1.2.0",
            "_view_name": "LayoutView",
            "align_content": null,
            "align_items": null,
            "align_self": null,
            "border": null,
            "bottom": null,
            "display": null,
            "flex": null,
            "flex_flow": null,
            "grid_area": null,
            "grid_auto_columns": null,
            "grid_auto_flow": null,
            "grid_auto_rows": null,
            "grid_column": null,
            "grid_gap": null,
            "grid_row": null,
            "grid_template_areas": null,
            "grid_template_columns": null,
            "grid_template_rows": null,
            "height": null,
            "justify_content": null,
            "justify_items": null,
            "left": null,
            "margin": null,
            "max_height": null,
            "max_width": null,
            "min_height": null,
            "min_width": null,
            "object_fit": null,
            "object_position": null,
            "order": null,
            "overflow": null,
            "overflow_x": null,
            "overflow_y": null,
            "padding": null,
            "right": null,
            "top": null,
            "visibility": null,
            "width": null
          }
        },
        "1eba5cd7b8bb4c7a925c03147c99eab8": {
          "model_module": "@jupyter-widgets/controls",
          "model_module_version": "1.5.0",
          "model_name": "HTMLModel",
          "state": {
            "_dom_classes": [],
            "_model_module": "@jupyter-widgets/controls",
            "_model_module_version": "1.5.0",
            "_model_name": "HTMLModel",
            "_view_count": null,
            "_view_module": "@jupyter-widgets/controls",
            "_view_module_version": "1.5.0",
            "_view_name": "HTMLView",
            "description": "",
            "description_tooltip": null,
            "layout": "IPY_MODEL_9b1f06d930af4dde9563743fdee4854f",
            "placeholder": "​",
            "style": "IPY_MODEL_be1fa83be7934caab3320460e9c2f252",
            "value": "100%"
          }
        },
        "2f84f96120964ab38f410a21142814f0": {
          "model_module": "@jupyter-widgets/base",
          "model_module_version": "1.2.0",
          "model_name": "LayoutModel",
          "state": {
            "_model_module": "@jupyter-widgets/base",
            "_model_module_version": "1.2.0",
            "_model_name": "LayoutModel",
            "_view_count": null,
            "_view_module": "@jupyter-widgets/base",
            "_view_module_version": "1.2.0",
            "_view_name": "LayoutView",
            "align_content": null,
            "align_items": null,
            "align_self": null,
            "border": null,
            "bottom": null,
            "display": null,
            "flex": null,
            "flex_flow": null,
            "grid_area": null,
            "grid_auto_columns": null,
            "grid_auto_flow": null,
            "grid_auto_rows": null,
            "grid_column": null,
            "grid_gap": null,
            "grid_row": null,
            "grid_template_areas": null,
            "grid_template_columns": null,
            "grid_template_rows": null,
            "height": null,
            "justify_content": null,
            "justify_items": null,
            "left": null,
            "margin": null,
            "max_height": null,
            "max_width": null,
            "min_height": null,
            "min_width": null,
            "object_fit": null,
            "object_position": null,
            "order": null,
            "overflow": null,
            "overflow_x": null,
            "overflow_y": null,
            "padding": null,
            "right": null,
            "top": null,
            "visibility": null,
            "width": null
          }
        },
        "31f2ac8b8bf24741a99e0962f730d2b1": {
          "model_module": "@jupyter-widgets/controls",
          "model_module_version": "1.5.0",
          "model_name": "DescriptionStyleModel",
          "state": {
            "_model_module": "@jupyter-widgets/controls",
            "_model_module_version": "1.5.0",
            "_model_name": "DescriptionStyleModel",
            "_view_count": null,
            "_view_module": "@jupyter-widgets/base",
            "_view_module_version": "1.2.0",
            "_view_name": "StyleView",
            "description_width": ""
          }
        },
        "32aa0ed176884d9b8f850f6ab4f79e6d": {
          "model_module": "@jupyter-widgets/controls",
          "model_module_version": "1.5.0",
          "model_name": "FloatProgressModel",
          "state": {
            "_dom_classes": [],
            "_model_module": "@jupyter-widgets/controls",
            "_model_module_version": "1.5.0",
            "_model_name": "FloatProgressModel",
            "_view_count": null,
            "_view_module": "@jupyter-widgets/controls",
            "_view_module_version": "1.5.0",
            "_view_name": "ProgressView",
            "bar_style": "success",
            "description": "",
            "description_tooltip": null,
            "layout": "IPY_MODEL_15235b81c0b140fb919a2af8a94823d2",
            "max": 4,
            "min": 0,
            "orientation": "horizontal",
            "style": "IPY_MODEL_4f99b19cdc3749bca3ca7f6d08a10a68",
            "value": 4
          }
        },
        "394a8bee327848749993ee1ee5def41e": {
          "model_module": "@jupyter-widgets/base",
          "model_module_version": "1.2.0",
          "model_name": "LayoutModel",
          "state": {
            "_model_module": "@jupyter-widgets/base",
            "_model_module_version": "1.2.0",
            "_model_name": "LayoutModel",
            "_view_count": null,
            "_view_module": "@jupyter-widgets/base",
            "_view_module_version": "1.2.0",
            "_view_name": "LayoutView",
            "align_content": null,
            "align_items": null,
            "align_self": null,
            "border": null,
            "bottom": null,
            "display": null,
            "flex": null,
            "flex_flow": null,
            "grid_area": null,
            "grid_auto_columns": null,
            "grid_auto_flow": null,
            "grid_auto_rows": null,
            "grid_column": null,
            "grid_gap": null,
            "grid_row": null,
            "grid_template_areas": null,
            "grid_template_columns": null,
            "grid_template_rows": null,
            "height": null,
            "justify_content": null,
            "justify_items": null,
            "left": null,
            "margin": null,
            "max_height": null,
            "max_width": null,
            "min_height": null,
            "min_width": null,
            "object_fit": null,
            "object_position": null,
            "order": null,
            "overflow": null,
            "overflow_x": null,
            "overflow_y": null,
            "padding": null,
            "right": null,
            "top": null,
            "visibility": null,
            "width": null
          }
        },
        "3dde94de2c124f708db0312b4d970bba": {
          "model_module": "@jupyter-widgets/base",
          "model_module_version": "1.2.0",
          "model_name": "LayoutModel",
          "state": {
            "_model_module": "@jupyter-widgets/base",
            "_model_module_version": "1.2.0",
            "_model_name": "LayoutModel",
            "_view_count": null,
            "_view_module": "@jupyter-widgets/base",
            "_view_module_version": "1.2.0",
            "_view_name": "LayoutView",
            "align_content": null,
            "align_items": null,
            "align_self": null,
            "border": null,
            "bottom": null,
            "display": null,
            "flex": null,
            "flex_flow": null,
            "grid_area": null,
            "grid_auto_columns": null,
            "grid_auto_flow": null,
            "grid_auto_rows": null,
            "grid_column": null,
            "grid_gap": null,
            "grid_row": null,
            "grid_template_areas": null,
            "grid_template_columns": null,
            "grid_template_rows": null,
            "height": null,
            "justify_content": null,
            "justify_items": null,
            "left": null,
            "margin": null,
            "max_height": null,
            "max_width": null,
            "min_height": null,
            "min_width": null,
            "object_fit": null,
            "object_position": null,
            "order": null,
            "overflow": null,
            "overflow_x": null,
            "overflow_y": null,
            "padding": null,
            "right": null,
            "top": null,
            "visibility": null,
            "width": null
          }
        },
        "44189601fe5741d29319501c1404ce8b": {
          "model_module": "@jupyter-widgets/controls",
          "model_module_version": "1.5.0",
          "model_name": "HTMLModel",
          "state": {
            "_dom_classes": [],
            "_model_module": "@jupyter-widgets/controls",
            "_model_module_version": "1.5.0",
            "_model_name": "HTMLModel",
            "_view_count": null,
            "_view_module": "@jupyter-widgets/controls",
            "_view_module_version": "1.5.0",
            "_view_name": "HTMLView",
            "description": "",
            "description_tooltip": null,
            "layout": "IPY_MODEL_0f1ff631d2ce42228fdf291f27ce603b",
            "placeholder": "​",
            "style": "IPY_MODEL_ed47ea9d0f1442cfa9fd67fd9bad45b2",
            "value": " 4/4 [00:10&lt;00:00,  2.27s/it]"
          }
        },
        "49ddfe88cd98484c852fd64a448c65d4": {
          "model_module": "@jupyter-widgets/controls",
          "model_module_version": "1.5.0",
          "model_name": "HTMLModel",
          "state": {
            "_dom_classes": [],
            "_model_module": "@jupyter-widgets/controls",
            "_model_module_version": "1.5.0",
            "_model_name": "HTMLModel",
            "_view_count": null,
            "_view_module": "@jupyter-widgets/controls",
            "_view_module_version": "1.5.0",
            "_view_name": "HTMLView",
            "description": "",
            "description_tooltip": null,
            "layout": "IPY_MODEL_2f84f96120964ab38f410a21142814f0",
            "placeholder": "​",
            "style": "IPY_MODEL_f41189fdbc064414903e15a3ed2197f4",
            "value": " 4/4 [00:04&lt;00:00,  1.11s/it]"
          }
        },
        "4f99b19cdc3749bca3ca7f6d08a10a68": {
          "model_module": "@jupyter-widgets/controls",
          "model_module_version": "1.5.0",
          "model_name": "ProgressStyleModel",
          "state": {
            "_model_module": "@jupyter-widgets/controls",
            "_model_module_version": "1.5.0",
            "_model_name": "ProgressStyleModel",
            "_view_count": null,
            "_view_module": "@jupyter-widgets/base",
            "_view_module_version": "1.2.0",
            "_view_name": "StyleView",
            "bar_color": null,
            "description_width": ""
          }
        },
        "57e448c3d04742fb8c751a1ea69f5a91": {
          "model_module": "@jupyter-widgets/controls",
          "model_module_version": "1.5.0",
          "model_name": "DescriptionStyleModel",
          "state": {
            "_model_module": "@jupyter-widgets/controls",
            "_model_module_version": "1.5.0",
            "_model_name": "DescriptionStyleModel",
            "_view_count": null,
            "_view_module": "@jupyter-widgets/base",
            "_view_module_version": "1.2.0",
            "_view_name": "StyleView",
            "description_width": ""
          }
        },
        "605146c8297f4ddaa817348b8eac1496": {
          "model_module": "@jupyter-widgets/base",
          "model_module_version": "1.2.0",
          "model_name": "LayoutModel",
          "state": {
            "_model_module": "@jupyter-widgets/base",
            "_model_module_version": "1.2.0",
            "_model_name": "LayoutModel",
            "_view_count": null,
            "_view_module": "@jupyter-widgets/base",
            "_view_module_version": "1.2.0",
            "_view_name": "LayoutView",
            "align_content": null,
            "align_items": null,
            "align_self": null,
            "border": null,
            "bottom": null,
            "display": null,
            "flex": null,
            "flex_flow": null,
            "grid_area": null,
            "grid_auto_columns": null,
            "grid_auto_flow": null,
            "grid_auto_rows": null,
            "grid_column": null,
            "grid_gap": null,
            "grid_row": null,
            "grid_template_areas": null,
            "grid_template_columns": null,
            "grid_template_rows": null,
            "height": null,
            "justify_content": null,
            "justify_items": null,
            "left": null,
            "margin": null,
            "max_height": null,
            "max_width": null,
            "min_height": null,
            "min_width": null,
            "object_fit": null,
            "object_position": null,
            "order": null,
            "overflow": null,
            "overflow_x": null,
            "overflow_y": null,
            "padding": null,
            "right": null,
            "top": null,
            "visibility": null,
            "width": null
          }
        },
        "656541602f54425cacccd0233a7b228f": {
          "model_module": "@jupyter-widgets/controls",
          "model_module_version": "1.5.0",
          "model_name": "HBoxModel",
          "state": {
            "_dom_classes": [],
            "_model_module": "@jupyter-widgets/controls",
            "_model_module_version": "1.5.0",
            "_model_name": "HBoxModel",
            "_view_count": null,
            "_view_module": "@jupyter-widgets/controls",
            "_view_module_version": "1.5.0",
            "_view_name": "HBoxView",
            "box_style": "",
            "children": [
              "IPY_MODEL_f2c0d332265d4b4faa6fdb6da74a84d9",
              "IPY_MODEL_ed852ff87dcf453eb4ecee7669a3405b",
              "IPY_MODEL_f7bbca13a3cc4131a647eb040a897cea"
            ],
            "layout": "IPY_MODEL_3dde94de2c124f708db0312b4d970bba"
          }
        },
        "67e8350fabf9401f83961d4cda108cf2": {
          "model_module": "@jupyter-widgets/controls",
          "model_module_version": "1.5.0",
          "model_name": "FloatProgressModel",
          "state": {
            "_dom_classes": [],
            "_model_module": "@jupyter-widgets/controls",
            "_model_module_version": "1.5.0",
            "_model_name": "FloatProgressModel",
            "_view_count": null,
            "_view_module": "@jupyter-widgets/controls",
            "_view_module_version": "1.5.0",
            "_view_name": "ProgressView",
            "bar_style": "success",
            "description": "",
            "description_tooltip": null,
            "layout": "IPY_MODEL_605146c8297f4ddaa817348b8eac1496",
            "max": 4,
            "min": 0,
            "orientation": "horizontal",
            "style": "IPY_MODEL_8c04d440246a4b6b9bf53d208ee27bc9",
            "value": 4
          }
        },
        "79b49939c70641399fb6d112c979fd2e": {
          "model_module": "@jupyter-widgets/base",
          "model_module_version": "1.2.0",
          "model_name": "LayoutModel",
          "state": {
            "_model_module": "@jupyter-widgets/base",
            "_model_module_version": "1.2.0",
            "_model_name": "LayoutModel",
            "_view_count": null,
            "_view_module": "@jupyter-widgets/base",
            "_view_module_version": "1.2.0",
            "_view_name": "LayoutView",
            "align_content": null,
            "align_items": null,
            "align_self": null,
            "border": null,
            "bottom": null,
            "display": null,
            "flex": null,
            "flex_flow": null,
            "grid_area": null,
            "grid_auto_columns": null,
            "grid_auto_flow": null,
            "grid_auto_rows": null,
            "grid_column": null,
            "grid_gap": null,
            "grid_row": null,
            "grid_template_areas": null,
            "grid_template_columns": null,
            "grid_template_rows": null,
            "height": null,
            "justify_content": null,
            "justify_items": null,
            "left": null,
            "margin": null,
            "max_height": null,
            "max_width": null,
            "min_height": null,
            "min_width": null,
            "object_fit": null,
            "object_position": null,
            "order": null,
            "overflow": null,
            "overflow_x": null,
            "overflow_y": null,
            "padding": null,
            "right": null,
            "top": null,
            "visibility": null,
            "width": null
          }
        },
        "8c04d440246a4b6b9bf53d208ee27bc9": {
          "model_module": "@jupyter-widgets/controls",
          "model_module_version": "1.5.0",
          "model_name": "ProgressStyleModel",
          "state": {
            "_model_module": "@jupyter-widgets/controls",
            "_model_module_version": "1.5.0",
            "_model_name": "ProgressStyleModel",
            "_view_count": null,
            "_view_module": "@jupyter-widgets/base",
            "_view_module_version": "1.2.0",
            "_view_name": "StyleView",
            "bar_color": null,
            "description_width": ""
          }
        },
        "928200b638794a77adbb5f2c733b20c7": {
          "model_module": "@jupyter-widgets/controls",
          "model_module_version": "1.5.0",
          "model_name": "HTMLModel",
          "state": {
            "_dom_classes": [],
            "_model_module": "@jupyter-widgets/controls",
            "_model_module_version": "1.5.0",
            "_model_name": "HTMLModel",
            "_view_count": null,
            "_view_module": "@jupyter-widgets/controls",
            "_view_module_version": "1.5.0",
            "_view_name": "HTMLView",
            "description": "",
            "description_tooltip": null,
            "layout": "IPY_MODEL_197dbbfaf1b4483e8c3d3c02732f1eb1",
            "placeholder": "​",
            "style": "IPY_MODEL_e1c022542e0f410ba7d21576f2c90f35",
            "value": "100%"
          }
        },
        "9b1f06d930af4dde9563743fdee4854f": {
          "model_module": "@jupyter-widgets/base",
          "model_module_version": "1.2.0",
          "model_name": "LayoutModel",
          "state": {
            "_model_module": "@jupyter-widgets/base",
            "_model_module_version": "1.2.0",
            "_model_name": "LayoutModel",
            "_view_count": null,
            "_view_module": "@jupyter-widgets/base",
            "_view_module_version": "1.2.0",
            "_view_name": "LayoutView",
            "align_content": null,
            "align_items": null,
            "align_self": null,
            "border": null,
            "bottom": null,
            "display": null,
            "flex": null,
            "flex_flow": null,
            "grid_area": null,
            "grid_auto_columns": null,
            "grid_auto_flow": null,
            "grid_auto_rows": null,
            "grid_column": null,
            "grid_gap": null,
            "grid_row": null,
            "grid_template_areas": null,
            "grid_template_columns": null,
            "grid_template_rows": null,
            "height": null,
            "justify_content": null,
            "justify_items": null,
            "left": null,
            "margin": null,
            "max_height": null,
            "max_width": null,
            "min_height": null,
            "min_width": null,
            "object_fit": null,
            "object_position": null,
            "order": null,
            "overflow": null,
            "overflow_x": null,
            "overflow_y": null,
            "padding": null,
            "right": null,
            "top": null,
            "visibility": null,
            "width": null
          }
        },
        "aa09847bb32b46c181c51beb54adc5ac": {
          "model_module": "@jupyter-widgets/controls",
          "model_module_version": "1.5.0",
          "model_name": "HBoxModel",
          "state": {
            "_dom_classes": [],
            "_model_module": "@jupyter-widgets/controls",
            "_model_module_version": "1.5.0",
            "_model_name": "HBoxModel",
            "_view_count": null,
            "_view_module": "@jupyter-widgets/controls",
            "_view_module_version": "1.5.0",
            "_view_name": "HBoxView",
            "box_style": "",
            "children": [
              "IPY_MODEL_928200b638794a77adbb5f2c733b20c7",
              "IPY_MODEL_32aa0ed176884d9b8f850f6ab4f79e6d",
              "IPY_MODEL_49ddfe88cd98484c852fd64a448c65d4"
            ],
            "layout": "IPY_MODEL_394a8bee327848749993ee1ee5def41e"
          }
        },
        "be1fa83be7934caab3320460e9c2f252": {
          "model_module": "@jupyter-widgets/controls",
          "model_module_version": "1.5.0",
          "model_name": "DescriptionStyleModel",
          "state": {
            "_model_module": "@jupyter-widgets/controls",
            "_model_module_version": "1.5.0",
            "_model_name": "DescriptionStyleModel",
            "_view_count": null,
            "_view_module": "@jupyter-widgets/base",
            "_view_module_version": "1.2.0",
            "_view_name": "StyleView",
            "description_width": ""
          }
        },
        "c774fd1f12e9474d9ab582cbb5c7a9ba": {
          "model_module": "@jupyter-widgets/base",
          "model_module_version": "1.2.0",
          "model_name": "LayoutModel",
          "state": {
            "_model_module": "@jupyter-widgets/base",
            "_model_module_version": "1.2.0",
            "_model_name": "LayoutModel",
            "_view_count": null,
            "_view_module": "@jupyter-widgets/base",
            "_view_module_version": "1.2.0",
            "_view_name": "LayoutView",
            "align_content": null,
            "align_items": null,
            "align_self": null,
            "border": null,
            "bottom": null,
            "display": null,
            "flex": null,
            "flex_flow": null,
            "grid_area": null,
            "grid_auto_columns": null,
            "grid_auto_flow": null,
            "grid_auto_rows": null,
            "grid_column": null,
            "grid_gap": null,
            "grid_row": null,
            "grid_template_areas": null,
            "grid_template_columns": null,
            "grid_template_rows": null,
            "height": null,
            "justify_content": null,
            "justify_items": null,
            "left": null,
            "margin": null,
            "max_height": null,
            "max_width": null,
            "min_height": null,
            "min_width": null,
            "object_fit": null,
            "object_position": null,
            "order": null,
            "overflow": null,
            "overflow_x": null,
            "overflow_y": null,
            "padding": null,
            "right": null,
            "top": null,
            "visibility": null,
            "width": null
          }
        },
        "e1c022542e0f410ba7d21576f2c90f35": {
          "model_module": "@jupyter-widgets/controls",
          "model_module_version": "1.5.0",
          "model_name": "DescriptionStyleModel",
          "state": {
            "_model_module": "@jupyter-widgets/controls",
            "_model_module_version": "1.5.0",
            "_model_name": "DescriptionStyleModel",
            "_view_count": null,
            "_view_module": "@jupyter-widgets/base",
            "_view_module_version": "1.2.0",
            "_view_name": "StyleView",
            "description_width": ""
          }
        },
        "ed47ea9d0f1442cfa9fd67fd9bad45b2": {
          "model_module": "@jupyter-widgets/controls",
          "model_module_version": "1.5.0",
          "model_name": "DescriptionStyleModel",
          "state": {
            "_model_module": "@jupyter-widgets/controls",
            "_model_module_version": "1.5.0",
            "_model_name": "DescriptionStyleModel",
            "_view_count": null,
            "_view_module": "@jupyter-widgets/base",
            "_view_module_version": "1.2.0",
            "_view_name": "StyleView",
            "description_width": ""
          }
        },
        "ed852ff87dcf453eb4ecee7669a3405b": {
          "model_module": "@jupyter-widgets/controls",
          "model_module_version": "1.5.0",
          "model_name": "FloatProgressModel",
          "state": {
            "_dom_classes": [],
            "_model_module": "@jupyter-widgets/controls",
            "_model_module_version": "1.5.0",
            "_model_name": "FloatProgressModel",
            "_view_count": null,
            "_view_module": "@jupyter-widgets/controls",
            "_view_module_version": "1.5.0",
            "_view_name": "ProgressView",
            "bar_style": "success",
            "description": "",
            "description_tooltip": null,
            "layout": "IPY_MODEL_79b49939c70641399fb6d112c979fd2e",
            "max": 4,
            "min": 0,
            "orientation": "horizontal",
            "style": "IPY_MODEL_131861e9d65143fd8790ff3568d633af",
            "value": 4
          }
        },
        "f2c0d332265d4b4faa6fdb6da74a84d9": {
          "model_module": "@jupyter-widgets/controls",
          "model_module_version": "1.5.0",
          "model_name": "HTMLModel",
          "state": {
            "_dom_classes": [],
            "_model_module": "@jupyter-widgets/controls",
            "_model_module_version": "1.5.0",
            "_model_name": "HTMLModel",
            "_view_count": null,
            "_view_module": "@jupyter-widgets/controls",
            "_view_module_version": "1.5.0",
            "_view_name": "HTMLView",
            "description": "",
            "description_tooltip": null,
            "layout": "IPY_MODEL_c774fd1f12e9474d9ab582cbb5c7a9ba",
            "placeholder": "​",
            "style": "IPY_MODEL_31f2ac8b8bf24741a99e0962f730d2b1",
            "value": "100%"
          }
        },
        "f41189fdbc064414903e15a3ed2197f4": {
          "model_module": "@jupyter-widgets/controls",
          "model_module_version": "1.5.0",
          "model_name": "DescriptionStyleModel",
          "state": {
            "_model_module": "@jupyter-widgets/controls",
            "_model_module_version": "1.5.0",
            "_model_name": "DescriptionStyleModel",
            "_view_count": null,
            "_view_module": "@jupyter-widgets/base",
            "_view_module_version": "1.2.0",
            "_view_name": "StyleView",
            "description_width": ""
          }
        },
        "f7bbca13a3cc4131a647eb040a897cea": {
          "model_module": "@jupyter-widgets/controls",
          "model_module_version": "1.5.0",
          "model_name": "HTMLModel",
          "state": {
            "_dom_classes": [],
            "_model_module": "@jupyter-widgets/controls",
            "_model_module_version": "1.5.0",
            "_model_name": "HTMLModel",
            "_view_count": null,
            "_view_module": "@jupyter-widgets/controls",
            "_view_module_version": "1.5.0",
            "_view_name": "HTMLView",
            "description": "",
            "description_tooltip": null,
            "layout": "IPY_MODEL_094399cbea114637b7af99241e95ccb6",
            "placeholder": "​",
            "style": "IPY_MODEL_57e448c3d04742fb8c751a1ea69f5a91",
            "value": " 4/4 [00:03&lt;00:00,  1.16it/s]"
          }
        }
      }
    }
  },
  "nbformat": 4,
  "nbformat_minor": 0
}
