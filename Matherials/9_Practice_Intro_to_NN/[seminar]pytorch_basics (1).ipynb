{
  "cells": [
    {
      "cell_type": "markdown",
      "metadata": {
        "id": "5RETQ6CxbdOz"
      },
      "source": [
        "<p style=\"align: center;\"><img align=center src=\"https://s8.hostingkartinok.com/uploads/images/2018/08/308b49fcfbc619d629fe4604bceb67ac.jpg\" width=550 height=450/></p>\n",
        "\n",
        "<h3 style=\"text-align: center;\"><b>\"Глубокое обучение\". Продвинутый поток</b></h3>\n",
        "\n",
        "<h2 style=\"text-align: center;\"><b>Семинар 6. Основы библиотеки PyTorch </b></h2>\n"
      ]
    },
    {
      "cell_type": "markdown",
      "metadata": {
        "id": "-Iv1eX2mYJ8v"
      },
      "source": [
        "<p style=\"align: center;\"><img src=\"https://upload.wikimedia.org/wikipedia/commons/9/96/Pytorch_logo.png\" width=400 height=100></p>"
      ]
    },
    {
      "cell_type": "markdown",
      "metadata": {
        "id": "JwiKExhuYJ8w"
      },
      "source": [
        "Этот ноутбук посвящён основам  библиотеки PyTorch."
      ]
    },
    {
      "cell_type": "markdown",
      "metadata": {
        "id": "70_JTnaRbdPD"
      },
      "source": [
        "<h3 style=\"text-align: center;\"><b>Введение</b></h3>"
      ]
    },
    {
      "cell_type": "markdown",
      "metadata": {
        "id": "tQoex-sZYJ8x"
      },
      "source": [
        "В настоящее время существует множество фреймворков глубокого обучения. Разница между ними заключается во внутренних принципах вычислений. Например, в **[Caffe](http://caffe.berkeleyvision.org/)** и **[Caffe2](https://caffe2.ai/)** вы пишете код, используя некоторые «готовые блоки» \"(как и $ LEGO ^ {TM} $ :). В **[TensorFlow](https://www.tensorflow.org/)** и **[Theano](http://deeplearning.net/software/theano/)** вы сначала объявляете граф вычислений, затем компилируйте его и используйте для вывода / обучения (`tf.session ()`). Кстати, теперь в TensorFlow (начиная с версии 1.10) есть функция [Eager Execution](https://www.tensorflow.org/guide/eager), которая может быть полезна для быстрого прототипирования и отладки. **[Keras](https://keras.io/)** - очень популярный и полезный фреймворк DL, который позволяет быстро реализовывать нейронный сети и имеет множество полезных функций.\n"
      ]
    },
    {
      "cell_type": "markdown",
      "metadata": {
        "id": "97MX7yrBYJ8y"
      },
      "source": [
        "<p style=\"align: center;\"><img src=\"https://habrastorage.org/web/e3e/c3e/b78/e3ec3eb78d714a7993a6b922911c0866.png\" width=500 height=500></p>  \n",
        "<p style=\"text-align: center;\"><i>Image credit: https://habr.com/post/334380/</i><p>"
      ]
    },
    {
      "cell_type": "markdown",
      "metadata": {
        "id": "h5yBQj7EbdPJ"
      },
      "source": [
        "Мы будем использовать **PyTorch**, поскольку он активно развивается и поддерживается AI-сообществом "
      ]
    },
    {
      "cell_type": "markdown",
      "metadata": {
        "id": "J74O-qdJYJ80"
      },
      "source": [
        "<h3 style=\"text-align: center;\"><b>Установка</b></h3>"
      ]
    },
    {
      "cell_type": "markdown",
      "metadata": {
        "id": "WpXxZ4-4YJ83"
      },
      "source": [
        "Подробную инструкцию по установке PyTorch вы можете найти на [официальном сайте PyTorch](https://pytorch.org/)."
      ]
    },
    {
      "cell_type": "markdown",
      "metadata": {
        "id": "uxdjjnqIYJ86"
      },
      "source": [
        "## Синтаксис Фреймворка"
      ]
    },
    {
      "cell_type": "code",
      "execution_count": 1,
      "metadata": {
        "id": "jb1D_yRGhW9n"
      },
      "outputs": [],
      "source": [
        "#%pip install torch"
      ]
    },
    {
      "cell_type": "code",
      "execution_count": 2,
      "metadata": {
        "id": "RtyozNmmYJ89"
      },
      "outputs": [],
      "source": [
        "import torch"
      ]
    },
    {
      "cell_type": "markdown",
      "metadata": {
        "id": "zjfLQzEPYJ9B"
      },
      "source": [
        "Несколько фактов о PyTorch:\n",
        "- динамический граф вычислений\n",
        "- удобные модули `torch.nn` и `torchvision` для быстрого прототипирования нейронных сетей\n",
        "- даже быстрее, чем TensorFlow на некоторых задачах\n",
        "- позволяет легко использовать **GPU**"
      ]
    },
    {
      "cell_type": "markdown",
      "metadata": {
        "id": "44AAEPIpu8Mq"
      },
      "source": [
        "По своей сути PyTorch предоставляет две основные функции:\n",
        "\n",
        "- n-мерный тензор, похожий на **numpy**, но может работать на графических процессорах\n",
        "- Автоматическая дифференциация для построения и обучения нейронных сетей"
      ]
    },
    {
      "cell_type": "markdown",
      "metadata": {
        "id": "0AL-T8TMYJ9D"
      },
      "source": [
        "Если бы PyTorch был формулой, она была бы такой:\n",
        "\n",
        "$$PyTorch = NumPy + CUDA + Autograd$$"
      ]
    },
    {
      "cell_type": "markdown",
      "metadata": {
        "id": "X_O59VXWYJ9E"
      },
      "source": [
        "(CUDA - [wiki](https://en.wikipedia.org/wiki/CUDA))"
      ]
    },
    {
      "cell_type": "markdown",
      "metadata": {
        "id": "lWIeTFxSYJ9F"
      },
      "source": [
        "Давайте посмотрим, как мы можем использовать PyTorch для работы с векторами и тензорами.\n",
        "\n",
        "Напомним, что **тензор** - это многомерный вектор, например :\n",
        "\n",
        "`x = np.array ([1,2,3])` - вектор = тензор с 1 размерностью (точнее: `(3,)`)\n",
        "\n",
        "`y = np.array ([[1, 2, 3], [4, 5, 6]])` - матрица = тензор с двумя измерениями (`(2, 3)` в данном случае)\n",
        "\n",
        "`z = np.array ([[[1, 2, 3], [4, 5, 6], [7, 8, 9]]],\n",
        "               [[1, 2, 3], [4, 5, 6], [7, 8, 9]],\n",
        "               [[1, 2, 3], [4, 5, 6], [7, 8, 9]]]) `-\" куб \"(3, 3, 3) = тензор с тремя измерениями (` ( 3, 3, 3) `в этом случае)\n"
      ]
    },
    {
      "cell_type": "markdown",
      "metadata": {
        "id": "hS97vo7mYJ9G"
      },
      "source": [
        "Одним из реальных примеров трехмерного тензора является **изображение**, оно имеет 3 измерения: `высота`, `ширина` и `глубина канала` (глубина канала = 3 для цветных изображений, 1 для оттенков серого). Вы можете думать об этом как о параллелепипеде, состоящем из действительных чисел.\n"
      ]
    },
    {
      "cell_type": "markdown",
      "metadata": {
        "id": "byu7xZtLYJ9J"
      },
      "source": [
        "### Типы Тензоров"
      ]
    },
    {
      "cell_type": "markdown",
      "metadata": {
        "id": "tEeGGtRiYJ9H"
      },
      "source": [
        "В PyTorch мы будем использовать `torch.Tensor` (`FloatTensor`, `IntTensor`, `ByteTensor`) для всех вычислений.\n",
        "\n",
        "Все типы:"
      ]
    },
    {
      "cell_type": "code",
      "execution_count": 3,
      "metadata": {
        "colab": {
          "base_uri": "https://localhost:8080/"
        },
        "id": "zilSktmEGgAv",
        "outputId": "aaf0d707-b2cc-4b36-b14b-c33aca2c83eb"
      },
      "outputs": [
        {
          "data": {
            "text/plain": [
              "torch.ByteTensor"
            ]
          },
          "execution_count": 3,
          "metadata": {},
          "output_type": "execute_result"
        }
      ],
      "source": [
        "torch.HalfTensor      # 16 бит, floating point\n",
        "torch.FloatTensor     # 32 бита, floating point\n",
        "torch.DoubleTensor    # 64 бита, floating point\n",
        "\n",
        "torch.ShortTensor     # 16 бит, integer, signed\n",
        "torch.IntTensor       # 32 бита, integer, signed\n",
        "torch.LongTensor      # 64 бита, integer, signed\n",
        "\n",
        "torch.CharTensor      # 8 бит, integer, signed\n",
        "torch.ByteTensor      # 8 бит, integer, unsigned"
      ]
    },
    {
      "cell_type": "markdown",
      "metadata": {
        "id": "NWk2gidNYJ9P"
      },
      "source": [
        "Мы будем использовать только `torch.FloatTensor()` и `torch.IntTensor()`."
      ]
    },
    {
      "cell_type": "markdown",
      "metadata": {
        "id": "CllyEKvVYJ9Q"
      },
      "source": [
        "Начнем уже что-нибудь писать!"
      ]
    },
    {
      "cell_type": "markdown",
      "metadata": {
        "id": "R4HEetsxYJ9Q"
      },
      "source": [
        "### Создание тензора"
      ]
    },
    {
      "cell_type": "code",
      "execution_count": 4,
      "metadata": {
        "colab": {
          "base_uri": "https://localhost:8080/"
        },
        "id": "MVawE9lRYJ9R",
        "outputId": "bac3cfa5-c4a6-43ab-b1d5-01ba63f4cebf"
      },
      "outputs": [
        {
          "data": {
            "text/plain": [
              "tensor([1., 2.])"
            ]
          },
          "execution_count": 4,
          "metadata": {},
          "output_type": "execute_result"
        }
      ],
      "source": [
        "a = torch.FloatTensor([1, 2])\n",
        "a\n"
      ]
    },
    {
      "cell_type": "code",
      "execution_count": 5,
      "metadata": {
        "colab": {
          "base_uri": "https://localhost:8080/"
        },
        "id": "ARjaPS_GYJ9W",
        "outputId": "05954993-3e57-45bf-a4a4-c7de0377c737"
      },
      "outputs": [
        {
          "data": {
            "text/plain": [
              "torch.Size([2])"
            ]
          },
          "execution_count": 5,
          "metadata": {},
          "output_type": "execute_result"
        }
      ],
      "source": [
        "a.shape"
      ]
    },
    {
      "cell_type": "code",
      "execution_count": 6,
      "metadata": {
        "colab": {
          "base_uri": "https://localhost:8080/"
        },
        "id": "4gXf0akDYJ9Z",
        "outputId": "0806579f-088b-428e-dac4-9c960949d7ac"
      },
      "outputs": [
        {
          "data": {
            "text/plain": [
              "tensor([[1., 2., 3.],\n",
              "        [4., 5., 6.]])"
            ]
          },
          "execution_count": 6,
          "metadata": {},
          "output_type": "execute_result"
        }
      ],
      "source": [
        "b = torch.FloatTensor([[1,2,3], [4,5,6]])\n",
        "b"
      ]
    },
    {
      "cell_type": "code",
      "execution_count": 7,
      "metadata": {
        "colab": {
          "base_uri": "https://localhost:8080/"
        },
        "id": "0HTkoIzpYJ9e",
        "outputId": "2bb19947-7958-4309-b923-c364c5c8fd73"
      },
      "outputs": [
        {
          "data": {
            "text/plain": [
              "torch.Size([2, 3])"
            ]
          },
          "execution_count": 7,
          "metadata": {},
          "output_type": "execute_result"
        }
      ],
      "source": [
        "b.shape"
      ]
    },
    {
      "cell_type": "code",
      "execution_count": 8,
      "metadata": {
        "id": "WYJ9L-yFYJ9j"
      },
      "outputs": [],
      "source": [
        "x = torch.FloatTensor(2,3,4)"
      ]
    },
    {
      "cell_type": "code",
      "execution_count": 9,
      "metadata": {
        "colab": {
          "base_uri": "https://localhost:8080/"
        },
        "id": "qWAEP27IYJ9m",
        "outputId": "31d16ed0-800b-41cd-beae-a693aa9ae201"
      },
      "outputs": [
        {
          "data": {
            "text/plain": [
              "tensor([[[-3.9134e-26,  3.0754e-41,  7.0065e-44,  7.0065e-44],\n",
              "         [ 6.3058e-44,  6.7262e-44,  7.1466e-44,  6.3058e-44],\n",
              "         [ 7.1466e-44,  6.8664e-44,  1.1771e-43,  6.8664e-44]],\n",
              "\n",
              "        [[ 6.7262e-44,  8.1275e-44,  7.1466e-44,  6.7262e-44],\n",
              "         [ 8.1275e-44,  7.4269e-44,  6.7262e-44,  6.4460e-44],\n",
              "         [ 6.7262e-44,  7.0065e-44,  7.7071e-44,  7.8473e-44]]])"
            ]
          },
          "execution_count": 9,
          "metadata": {},
          "output_type": "execute_result"
        }
      ],
      "source": [
        "x"
      ]
    },
    {
      "cell_type": "code",
      "execution_count": 10,
      "metadata": {
        "colab": {
          "base_uri": "https://localhost:8080/"
        },
        "id": "o5CsOJ_xYJ9s",
        "outputId": "71c11db7-aa25-43f6-b8d0-192bccf7a1bf",
        "scrolled": true
      },
      "outputs": [
        {
          "data": {
            "text/plain": [
              "tensor([-2.1477e-26,  3.0754e-41, -9.6447e-30,  3.0754e-41,  5.8154e-43,\n",
              "         0.0000e+00,         nan,         nan,  4.4721e+21,  2.3079e+20,\n",
              "         6.2689e+22,  4.7428e+30,  1.3563e-19,  1.3817e-19, -1.0752e+10,\n",
              "        -9.9222e+10,  1.8910e+23,  7.1443e+31,  1.9603e-19,  1.8061e+28,\n",
              "         7.5527e+28,  5.2839e-11,  2.7604e+20,  1.7744e+28,  2.0535e-19,\n",
              "         1.3563e-19,  1.0426e-08, -2.3866e+10, -1.7558e+10,  1.8910e+23,\n",
              "         7.1443e+31,  1.9603e-19,  1.8061e+28,  7.5527e+28,  5.2839e-11,\n",
              "         1.1319e+21,  6.2688e+22,  4.7428e+30,  1.3563e-19,  1.6962e-07,\n",
              "        -2.3866e+10, -1.7558e+10,  1.8910e+23,  7.1443e+31,  1.9603e-19,\n",
              "         1.8061e+28,  4.3747e+31,  4.2964e+24,  7.1901e+28,  6.2706e+22,\n",
              "         4.7428e+30,  1.3563e-19,  2.3303e-09, -6.0573e-09, -3.0816e-37,\n",
              "         1.8037e+28,  6.8296e+22,  1.2690e+31,  7.0364e+22,  7.5527e+28,\n",
              "         5.2839e-11,  4.1993e+12,  7.5338e+28,  1.3563e-19,  1.3563e-19,\n",
              "         1.0426e-08, -2.3866e+10, -1.7558e+10,  1.2102e+25,  1.0836e+24,\n",
              "         1.4607e-19,  1.7905e+28,  4.3858e+31,  4.2964e+24,  1.8515e+28,\n",
              "         1.7744e+28,  2.0535e-19,  1.3563e-19,  2.3862e-06, -6.0573e-09,\n",
              "        -3.0816e-37,  1.4627e-19,  7.2143e+22,  3.4447e-12,  1.1024e+24,\n",
              "         1.0997e-32,  4.7429e+30,  1.7441e+02,  4.1641e+12,  7.5338e+28,\n",
              "         1.3563e-19,  8.6804e-18, -1.0752e+10, -9.9222e+10,  1.2102e+25,\n",
              "         1.0836e+24,  1.4607e-19,  1.7905e+28,  4.3858e+31,  4.2964e+24])"
            ]
          },
          "execution_count": 10,
          "metadata": {},
          "output_type": "execute_result"
        }
      ],
      "source": [
        "x = torch.FloatTensor(100)\n",
        "x"
      ]
    },
    {
      "cell_type": "code",
      "execution_count": 11,
      "metadata": {
        "colab": {
          "base_uri": "https://localhost:8080/"
        },
        "id": "uIVhvmzZYJ91",
        "outputId": "01c7077c-bf91-47d0-c753-07fcd9c5f859"
      },
      "outputs": [
        {
          "data": {
            "text/plain": [
              "torch.Size([45, 57, 14, 2])"
            ]
          },
          "execution_count": 11,
          "metadata": {},
          "output_type": "execute_result"
        }
      ],
      "source": [
        "x = torch.IntTensor(45, 57, 14, 2)\n",
        "x.shape"
      ]
    },
    {
      "cell_type": "markdown",
      "metadata": {
        "id": "cUzl8DFRYJ95"
      },
      "source": [
        "**Примечание:** если вы создаете `torch.Tensor` с помощью следующего конструктора, он будет заполнен мусором из \"случайных номеров\":"
      ]
    },
    {
      "cell_type": "code",
      "execution_count": 12,
      "metadata": {
        "colab": {
          "base_uri": "https://localhost:8080/"
        },
        "id": "QX0QcIOzYJ96",
        "outputId": "d41511b7-e3ef-416b-8987-25cfb2915768"
      },
      "outputs": [
        {
          "data": {
            "text/plain": [
              "tensor([[[-1790850304,       21947,          50,          50],\n",
              "         [         45,          48,          51,          45]],\n",
              "\n",
              "        [[         51,          49,          84,          49],\n",
              "         [         48,          58,          51,          48]],\n",
              "\n",
              "        [[         58,          53,          48,          46],\n",
              "         [         48,          50,          57,          55]]],\n",
              "       dtype=torch.int32)"
            ]
          },
          "execution_count": 12,
          "metadata": {},
          "output_type": "execute_result"
        }
      ],
      "source": [
        "x = torch.IntTensor(3, 2, 4)\n",
        "x"
      ]
    },
    {
      "cell_type": "markdown",
      "metadata": {
        "id": "utra2t4SbdQR"
      },
      "source": [
        "### Инициализации тензоров"
      ]
    },
    {
      "cell_type": "code",
      "execution_count": 13,
      "metadata": {
        "id": "XV3w9lVwYJ-A"
      },
      "outputs": [],
      "source": [
        "x1 = torch.FloatTensor(3, 2, 4)\n",
        "x1.zero_() # inplace realization, equal the naxt code line\n",
        "x2 = torch.zeros(3, 2, 4)\n",
        "x3 = torch.zeros_like(x1)\n",
        "\n",
        "assert torch.allclose(x1, x2) and torch.allclose(x1, x3)"
      ]
    },
    {
      "cell_type": "markdown",
      "metadata": {
        "id": "G3el1HwZd9wJ"
      },
      "source": [
        "Инициализация случайного распределения"
      ]
    },
    {
      "cell_type": "code",
      "execution_count": 14,
      "metadata": {
        "colab": {
          "base_uri": "https://localhost:8080/"
        },
        "id": "-ahnCFMXe_9I",
        "outputId": "7982ff74-6861-4d88-eea0-bdeaa2bcd413"
      },
      "outputs": [
        {
          "data": {
            "text/plain": [
              "tensor([[ 0.0088,  1.4638, -0.3880],\n",
              "        [-0.3042,  1.2037,  0.3271]])"
            ]
          },
          "execution_count": 14,
          "metadata": {},
          "output_type": "execute_result"
        }
      ],
      "source": [
        "x = torch.randn((2,3))                # Normal(0, 1) с размером (2, 3)\n",
        "x"
      ]
    },
    {
      "cell_type": "code",
      "execution_count": 15,
      "metadata": {
        "colab": {
          "base_uri": "https://localhost:8080/"
        },
        "id": "FhIy_yuRd9Kf",
        "outputId": "57c87803-f7fb-4727-d5fb-36a23183ce59"
      },
      "outputs": [
        {
          "data": {
            "text/plain": [
              "tensor([[0., 1., 1.],\n",
              "        [1., 0., 0.]])"
            ]
          },
          "execution_count": 15,
          "metadata": {},
          "output_type": "execute_result"
        }
      ],
      "source": [
        "x.random_(0, 10)                      # Дискретное равномерно U[0, 10]\n",
        "x.uniform_(0, 1)                      # Равномерно U[0, 1]\n",
        "x.normal_(mean=0, std=1)              # Нормальное со средним 0 и дисперсией 1\n",
        "x.bernoulli_(p=0.5)                   # bernoulli with parameter p"
      ]
    },
    {
      "cell_type": "markdown",
      "metadata": {
        "id": "bzq1klQuzXA9"
      },
      "source": [
        "## Функции в Torch \n",
        "\n",
        "У всех функций Numpy есть своя пара в Torch! Осталось теперь вспомнить numpy 🙂\n",
        "\n",
        "https://github.com/torch/torch7/wiki/Torch-for-Numpy-users"
      ]
    },
    {
      "cell_type": "markdown",
      "metadata": {
        "id": "SAAmLRwzYJ-E"
      },
      "source": [
        "### Изменение формы\n",
        "`np.reshape()` == `torch.view()`:"
      ]
    },
    {
      "cell_type": "code",
      "execution_count": 16,
      "metadata": {
        "colab": {
          "base_uri": "https://localhost:8080/"
        },
        "id": "LLOoLEMDl8Cl",
        "outputId": "23eb7f13-9d4e-4b56-e75d-fc4858e8c584"
      },
      "outputs": [
        {
          "data": {
            "text/plain": [
              "tensor([[1., 2., 3.],\n",
              "        [4., 5., 6.]])"
            ]
          },
          "execution_count": 16,
          "metadata": {},
          "output_type": "execute_result"
        }
      ],
      "source": [
        "b"
      ]
    },
    {
      "cell_type": "code",
      "execution_count": 17,
      "metadata": {
        "colab": {
          "base_uri": "https://localhost:8080/"
        },
        "id": "vLu6QvQihvGA",
        "outputId": "60335d0b-2b14-473f-b6f5-8112c49dfc22"
      },
      "outputs": [
        {
          "data": {
            "text/plain": [
              "torch.Size([3, 2])"
            ]
          },
          "execution_count": 17,
          "metadata": {},
          "output_type": "execute_result"
        }
      ],
      "source": [
        "b.view(3, 2).shape # return copy"
      ]
    },
    {
      "cell_type": "code",
      "execution_count": 18,
      "metadata": {
        "colab": {
          "base_uri": "https://localhost:8080/"
        },
        "id": "BAET_xQhl_2f",
        "outputId": "5f2aab2e-bcb7-4a36-b852-87a80266043d"
      },
      "outputs": [
        {
          "data": {
            "text/plain": [
              "tensor([[1., 2., 3.],\n",
              "        [4., 5., 6.]])"
            ]
          },
          "execution_count": 18,
          "metadata": {},
          "output_type": "execute_result"
        }
      ],
      "source": [
        "b"
      ]
    },
    {
      "cell_type": "code",
      "execution_count": 19,
      "metadata": {
        "colab": {
          "base_uri": "https://localhost:8080/"
        },
        "id": "spMYG2xXYJ-L",
        "outputId": "ceefb73d-8be5-4aba-c8ab-8deaae080fe4"
      },
      "outputs": [
        {
          "data": {
            "text/plain": [
              "(tensor([[1., 2., 3.],\n",
              "         [4., 5., 6.]]), (3, 1))"
            ]
          },
          "execution_count": 19,
          "metadata": {},
          "output_type": "execute_result"
        }
      ],
      "source": [
        "b, b.stride()"
      ]
    },
    {
      "cell_type": "code",
      "execution_count": 20,
      "metadata": {
        "colab": {
          "base_uri": "https://localhost:8080/"
        },
        "id": "ePjL3X3GYJ-H",
        "outputId": "c9a7de6e-f968-4ee0-8d0d-44bb45e1a8d1"
      },
      "outputs": [
        {
          "data": {
            "text/plain": [
              "(tensor([[1., 2.],\n",
              "         [3., 4.],\n",
              "         [5., 6.]]), (2, 1))"
            ]
          },
          "execution_count": 20,
          "metadata": {},
          "output_type": "execute_result"
        }
      ],
      "source": [
        "b.view(3, 2), b.view(3, 2).stride()  "
      ]
    },
    {
      "cell_type": "markdown",
      "metadata": {
        "id": "amVu0N1zYJ-O"
      },
      "source": [
        "**Примечание:** `torch.view ()` создает новый тензор, но старый остается неизменным"
      ]
    },
    {
      "cell_type": "code",
      "execution_count": 21,
      "metadata": {
        "colab": {
          "base_uri": "https://localhost:8080/"
        },
        "id": "hWqyugOSYJ-Q",
        "outputId": "1ee22931-372e-4a84-ca7c-1a8b5e89022a"
      },
      "outputs": [
        {
          "data": {
            "text/plain": [
              "tensor([[1., 2.],\n",
              "        [3., 4.],\n",
              "        [5., 6.]])"
            ]
          },
          "execution_count": 21,
          "metadata": {},
          "output_type": "execute_result"
        }
      ],
      "source": [
        "b.view(-1, 2)"
      ]
    },
    {
      "cell_type": "code",
      "execution_count": 22,
      "metadata": {
        "colab": {
          "base_uri": "https://localhost:8080/"
        },
        "id": "S9CvF56uYJ-U",
        "outputId": "6b56eed1-cce5-4f7a-908f-e2465a03ad1a"
      },
      "outputs": [
        {
          "data": {
            "text/plain": [
              "tensor([[1., 2., 3.],\n",
              "        [4., 5., 6.]])"
            ]
          },
          "execution_count": 22,
          "metadata": {},
          "output_type": "execute_result"
        }
      ],
      "source": [
        "b"
      ]
    },
    {
      "cell_type": "code",
      "execution_count": 23,
      "metadata": {
        "colab": {
          "base_uri": "https://localhost:8080/"
        },
        "id": "MVrFVwTNYd3S",
        "outputId": "33bace38-258a-4653-c761-8e362c37dcd7"
      },
      "outputs": [
        {
          "data": {
            "text/plain": [
              "((1, 3), True, False)"
            ]
          },
          "execution_count": 23,
          "metadata": {},
          "output_type": "execute_result"
        }
      ],
      "source": [
        "b.T.stride(), b.is_contiguous(), b.T.is_contiguous()"
      ]
    },
    {
      "cell_type": "code",
      "execution_count": 23,
      "metadata": {
        "id": "0hZucnNac_x1"
      },
      "outputs": [],
      "source": []
    },
    {
      "cell_type": "markdown",
      "metadata": {
        "id": "IVYx1j_HUl2d"
      },
      "source": [
        "<img src='https://lh3.googleusercontent.com/proxy/pbQ8C9YLVguU2LzlfE2-57lC3KK3yIRsQnpaTOK9S2UPpopvnZ3JhgeMcT6_kqYL56xq18ZFqddzPhszZg1W9YY--y-qDD2-bJrjVYivMdpQgRqiumwh6PpJYU3cL5Mua9RNeVp6xK0'>"
      ]
    },
    {
      "cell_type": "code",
      "execution_count": 24,
      "metadata": {
        "colab": {
          "base_uri": "https://localhost:8080/"
        },
        "id": "mjBCZ1fEJN5B",
        "outputId": "158a3af5-ddf3-4178-fd55-2cdeca7af925"
      },
      "outputs": [
        {
          "data": {
            "text/plain": [
              "tensor([1., 2., 3., 4., 5., 6.])"
            ]
          },
          "execution_count": 24,
          "metadata": {},
          "output_type": "execute_result"
        }
      ],
      "source": [
        "b.reshape(-1) # возвращает view или contigues тензор"
      ]
    },
    {
      "cell_type": "code",
      "execution_count": 25,
      "metadata": {
        "colab": {
          "base_uri": "https://localhost:8080/"
        },
        "id": "wet5p_4uJRm6",
        "outputId": "b173be0c-243e-4134-d1cd-fcb1f37e83f6"
      },
      "outputs": [
        {
          "data": {
            "text/plain": [
              "tensor([[1., 2., 3.],\n",
              "        [4., 5., 6.]])"
            ]
          },
          "execution_count": 25,
          "metadata": {},
          "output_type": "execute_result"
        }
      ],
      "source": [
        "b"
      ]
    },
    {
      "cell_type": "markdown",
      "metadata": {
        "id": "t401j1E2YJ-Z"
      },
      "source": [
        "### Изменение типа тензора"
      ]
    },
    {
      "cell_type": "code",
      "execution_count": 26,
      "metadata": {
        "id": "f_iDUEH4YJ-Z"
      },
      "outputs": [],
      "source": [
        "a = torch.FloatTensor([1.5, 3.2, -7])"
      ]
    },
    {
      "cell_type": "code",
      "execution_count": 27,
      "metadata": {
        "colab": {
          "base_uri": "https://localhost:8080/"
        },
        "id": "EzJOrXitYJ-e",
        "outputId": "46ec54a9-f315-49ca-b52d-ab6ddfc01bf1"
      },
      "outputs": [
        {
          "data": {
            "text/plain": [
              "tensor([ 1,  3, -7], dtype=torch.int32)"
            ]
          },
          "execution_count": 27,
          "metadata": {},
          "output_type": "execute_result"
        }
      ],
      "source": [
        "a.type_as(torch.IntTensor())"
      ]
    },
    {
      "cell_type": "code",
      "execution_count": 28,
      "metadata": {
        "colab": {
          "base_uri": "https://localhost:8080/"
        },
        "id": "5LrO73QgJuGb",
        "outputId": "2cf4a3e4-b772-4c84-ce36-69c9d5d67e07"
      },
      "outputs": [
        {
          "data": {
            "text/plain": [
              "tensor([ 1,  3, -7], dtype=torch.int32)"
            ]
          },
          "execution_count": 28,
          "metadata": {},
          "output_type": "execute_result"
        }
      ],
      "source": [
        "a.to(torch.int32)"
      ]
    },
    {
      "cell_type": "code",
      "execution_count": 29,
      "metadata": {
        "colab": {
          "base_uri": "https://localhost:8080/"
        },
        "id": "hAe3OWWUYJ-i",
        "outputId": "77129ea8-e8e2-43a9-b90d-018b6ada1a1b"
      },
      "outputs": [
        {
          "data": {
            "text/plain": [
              "tensor([  1,   3, 249], dtype=torch.uint8)"
            ]
          },
          "execution_count": 29,
          "metadata": {},
          "output_type": "execute_result"
        }
      ],
      "source": [
        "a.type_as(torch.ByteTensor())"
      ]
    },
    {
      "cell_type": "code",
      "execution_count": 30,
      "metadata": {
        "colab": {
          "base_uri": "https://localhost:8080/"
        },
        "id": "6rOGMU_xJ450",
        "outputId": "757161f3-88bb-47a2-fb7f-db8566b4c1df"
      },
      "outputs": [
        {
          "data": {
            "text/plain": [
              "tensor([  1,   3, 249], dtype=torch.uint8)"
            ]
          },
          "execution_count": 30,
          "metadata": {},
          "output_type": "execute_result"
        }
      ],
      "source": [
        "a.to(torch.uint8)"
      ]
    },
    {
      "cell_type": "markdown",
      "metadata": {
        "id": "4rkatrUeYJ-n"
      },
      "source": [
        "**Note:** `.type_as()` creates a new tensor, the old one remains unchanged"
      ]
    },
    {
      "cell_type": "code",
      "execution_count": 31,
      "metadata": {
        "colab": {
          "base_uri": "https://localhost:8080/"
        },
        "id": "fCgDT14MYJ-o",
        "outputId": "928404cf-770b-4e74-fd9a-aa66c632326b"
      },
      "outputs": [
        {
          "data": {
            "text/plain": [
              "tensor([ 1.5000,  3.2000, -7.0000])"
            ]
          },
          "execution_count": 31,
          "metadata": {},
          "output_type": "execute_result"
        }
      ],
      "source": [
        "a"
      ]
    },
    {
      "cell_type": "markdown",
      "metadata": {
        "id": "hG1OwtFBYJ-r"
      },
      "source": [
        "* Indexing is just like in `NumPy`:"
      ]
    },
    {
      "cell_type": "code",
      "execution_count": 32,
      "metadata": {
        "colab": {
          "base_uri": "https://localhost:8080/"
        },
        "id": "prr0EGIYYJ-r",
        "outputId": "d226c2a2-8130-4abe-9ccf-3b2162193a0a"
      },
      "outputs": [
        {
          "data": {
            "text/plain": [
              "tensor([[100.,  20.,  35.],\n",
              "        [ 15., 163., 534.],\n",
              "        [ 52.,  90.,  66.]])"
            ]
          },
          "execution_count": 32,
          "metadata": {},
          "output_type": "execute_result"
        }
      ],
      "source": [
        "a = torch.FloatTensor([[100, 20, 35], [15, 163, 534], [52, 90, 66]])\n",
        "a"
      ]
    },
    {
      "cell_type": "code",
      "execution_count": 33,
      "metadata": {
        "colab": {
          "base_uri": "https://localhost:8080/"
        },
        "id": "IBq7JiccYJ-w",
        "outputId": "12f77aaf-279b-47ef-c356-b026f309bc11"
      },
      "outputs": [
        {
          "data": {
            "text/plain": [
              "tensor(100.)"
            ]
          },
          "execution_count": 33,
          "metadata": {},
          "output_type": "execute_result"
        }
      ],
      "source": [
        "a[0, 0]"
      ]
    },
    {
      "cell_type": "code",
      "execution_count": 34,
      "metadata": {
        "colab": {
          "base_uri": "https://localhost:8080/"
        },
        "id": "UUZzx2F_YJ-2",
        "outputId": "fccdd2f0-6625-4228-e515-398a17222588"
      },
      "outputs": [
        {
          "data": {
            "text/plain": [
              "tensor([ 20., 163.])"
            ]
          },
          "execution_count": 34,
          "metadata": {},
          "output_type": "execute_result"
        }
      ],
      "source": [
        "a[0:2, 1]"
      ]
    },
    {
      "cell_type": "markdown",
      "metadata": {
        "id": "KffQsYwWYJ_D"
      },
      "source": [
        "### Арифметические операции\n",
        "\n",
        "| операция | аналоги |\n",
        "|:-:|:-:|\n",
        "|`+`| `torch.add()` |\n",
        "|`-`| `torch.sub()` |\n",
        "|`*`| `torch.mul()` |\n",
        "|`/`| `torch.div()` |"
      ]
    },
    {
      "cell_type": "markdown",
      "metadata": {
        "id": "UMpR8T11YJ_D"
      },
      "source": [
        "#### Сложение"
      ]
    },
    {
      "cell_type": "code",
      "execution_count": 35,
      "metadata": {
        "id": "1XHkSjEUYJ_D"
      },
      "outputs": [],
      "source": [
        "a = torch.FloatTensor([[1, 2, 3], [10, 20, 30], [100, 200, 300]])\n",
        "b = torch.FloatTensor([[-1, -2, -3], [-10, -20, -30], [100, 200, 300]])"
      ]
    },
    {
      "cell_type": "code",
      "execution_count": 36,
      "metadata": {
        "colab": {
          "base_uri": "https://localhost:8080/"
        },
        "id": "td25tuFKYJ_H",
        "outputId": "c0cc71fd-eeac-466a-d1f6-f184e167e432"
      },
      "outputs": [
        {
          "data": {
            "text/plain": [
              "tensor([[  0.,   0.,   0.],\n",
              "        [  0.,   0.,   0.],\n",
              "        [200., 400., 600.]])"
            ]
          },
          "execution_count": 36,
          "metadata": {},
          "output_type": "execute_result"
        }
      ],
      "source": [
        "a + b"
      ]
    },
    {
      "cell_type": "code",
      "execution_count": 37,
      "metadata": {
        "colab": {
          "base_uri": "https://localhost:8080/"
        },
        "id": "wHka8PxFYJ_N",
        "outputId": "42da15bb-bca2-42ae-d211-c979a9926952"
      },
      "outputs": [
        {
          "data": {
            "text/plain": [
              "tensor([[  0.,   0.,   0.],\n",
              "        [  0.,   0.,   0.],\n",
              "        [200., 400., 600.]])"
            ]
          },
          "execution_count": 37,
          "metadata": {},
          "output_type": "execute_result"
        }
      ],
      "source": [
        "a.add(b)"
      ]
    },
    {
      "cell_type": "code",
      "execution_count": 38,
      "metadata": {
        "colab": {
          "base_uri": "https://localhost:8080/"
        },
        "id": "FHQj4DbBYJ_Q",
        "outputId": "672e3e20-c691-480d-bd1c-92f9c6a47b1e"
      },
      "outputs": [
        {
          "data": {
            "text/plain": [
              "tensor([[  -1.,   -2.,   -3.],\n",
              "        [ -10.,  -20.,  -30.],\n",
              "        [-100., -200., -300.]])"
            ]
          },
          "execution_count": 38,
          "metadata": {},
          "output_type": "execute_result"
        }
      ],
      "source": [
        "b = -a\n",
        "b"
      ]
    },
    {
      "cell_type": "code",
      "execution_count": 39,
      "metadata": {
        "colab": {
          "base_uri": "https://localhost:8080/"
        },
        "id": "xLCDzO7iYJ_V",
        "outputId": "5a741222-6aac-4594-91f7-e88aa5683ab4"
      },
      "outputs": [
        {
          "data": {
            "text/plain": [
              "tensor([[0., 0., 0.],\n",
              "        [0., 0., 0.],\n",
              "        [0., 0., 0.]])"
            ]
          },
          "execution_count": 39,
          "metadata": {},
          "output_type": "execute_result"
        }
      ],
      "source": [
        "a + b"
      ]
    },
    {
      "cell_type": "markdown",
      "metadata": {
        "id": "z_3gVLY3YJ_Z"
      },
      "source": [
        "#### Вычитание"
      ]
    },
    {
      "cell_type": "code",
      "execution_count": 40,
      "metadata": {
        "colab": {
          "base_uri": "https://localhost:8080/"
        },
        "id": "PANHq3eFYJ_a",
        "outputId": "017a78ce-db44-45a4-e244-5500f0fb53a8"
      },
      "outputs": [
        {
          "data": {
            "text/plain": [
              "tensor([[  2.,   4.,   6.],\n",
              "        [ 20.,  40.,  60.],\n",
              "        [200., 400., 600.]])"
            ]
          },
          "execution_count": 40,
          "metadata": {},
          "output_type": "execute_result"
        }
      ],
      "source": [
        "a - b"
      ]
    },
    {
      "cell_type": "code",
      "execution_count": 41,
      "metadata": {
        "colab": {
          "base_uri": "https://localhost:8080/"
        },
        "id": "AH7xhdkRYJ_i",
        "outputId": "e76c69ff-10a2-4d14-eb15-86f171949c6a"
      },
      "outputs": [
        {
          "data": {
            "text/plain": [
              "tensor([[  2.,   4.,   6.],\n",
              "        [ 20.,  40.,  60.],\n",
              "        [200., 400., 600.]])"
            ]
          },
          "execution_count": 41,
          "metadata": {},
          "output_type": "execute_result"
        }
      ],
      "source": [
        "a.sub(b) # copy"
      ]
    },
    {
      "cell_type": "code",
      "execution_count": 42,
      "metadata": {
        "colab": {
          "base_uri": "https://localhost:8080/"
        },
        "id": "v-sls6QjK98V",
        "outputId": "a0b2a46c-9677-4973-c17c-868e5873e19e"
      },
      "outputs": [
        {
          "data": {
            "text/plain": [
              "tensor([[  2.,   4.,   6.],\n",
              "        [ 20.,  40.,  60.],\n",
              "        [200., 400., 600.]])"
            ]
          },
          "execution_count": 42,
          "metadata": {},
          "output_type": "execute_result"
        }
      ],
      "source": [
        "a.sub_(b) # inplace"
      ]
    },
    {
      "cell_type": "markdown",
      "metadata": {
        "id": "KOX3dTuZYJ_l"
      },
      "source": [
        "#### Умножение (поэлементное)"
      ]
    },
    {
      "cell_type": "code",
      "execution_count": 43,
      "metadata": {
        "colab": {
          "base_uri": "https://localhost:8080/"
        },
        "id": "J380CvNGYJ_m",
        "outputId": "67d201f4-4cf8-404e-ef89-0320facd6c09"
      },
      "outputs": [
        {
          "data": {
            "text/plain": [
              "tensor([[-2.0000e+00, -8.0000e+00, -1.8000e+01],\n",
              "        [-2.0000e+02, -8.0000e+02, -1.8000e+03],\n",
              "        [-2.0000e+04, -8.0000e+04, -1.8000e+05]])"
            ]
          },
          "execution_count": 43,
          "metadata": {},
          "output_type": "execute_result"
        }
      ],
      "source": [
        "a * b"
      ]
    },
    {
      "cell_type": "code",
      "execution_count": 44,
      "metadata": {
        "colab": {
          "base_uri": "https://localhost:8080/"
        },
        "id": "cixW0jgdYJ_o",
        "outputId": "e66a1ad6-065c-4f03-d545-6dc0c1dcb5ba"
      },
      "outputs": [
        {
          "data": {
            "text/plain": [
              "tensor([[-2.0000e+00, -8.0000e+00, -1.8000e+01],\n",
              "        [-2.0000e+02, -8.0000e+02, -1.8000e+03],\n",
              "        [-2.0000e+04, -8.0000e+04, -1.8000e+05]])"
            ]
          },
          "execution_count": 44,
          "metadata": {},
          "output_type": "execute_result"
        }
      ],
      "source": [
        "a.mul(b)"
      ]
    },
    {
      "cell_type": "markdown",
      "metadata": {
        "id": "V-GYTERKYJ_q"
      },
      "source": [
        "#### Деление (поэлементное):"
      ]
    },
    {
      "cell_type": "code",
      "execution_count": 45,
      "metadata": {
        "id": "fUBQns2SYJ_r"
      },
      "outputs": [],
      "source": [
        "a = torch.FloatTensor([[1, 2, 3], [10, 20, 30], [100, 200, 300]])\n",
        "b = torch.FloatTensor([[-1, -2, -3], [-10, -20, -30], [100, 200, 300]])"
      ]
    },
    {
      "cell_type": "code",
      "execution_count": 46,
      "metadata": {
        "colab": {
          "base_uri": "https://localhost:8080/"
        },
        "id": "2hrKeMjAYJ_v",
        "outputId": "ab96586b-640f-4295-8ca9-76fdefb517b0"
      },
      "outputs": [
        {
          "data": {
            "text/plain": [
              "tensor([[-1., -1., -1.],\n",
              "        [-1., -1., -1.],\n",
              "        [ 1.,  1.,  1.]])"
            ]
          },
          "execution_count": 46,
          "metadata": {},
          "output_type": "execute_result"
        }
      ],
      "source": [
        "a / b"
      ]
    },
    {
      "cell_type": "code",
      "execution_count": 47,
      "metadata": {
        "colab": {
          "base_uri": "https://localhost:8080/"
        },
        "id": "cpg3YFVPYJ_2",
        "outputId": "23843035-1e8a-434c-ce49-e9cac736281a"
      },
      "outputs": [
        {
          "data": {
            "text/plain": [
              "tensor([[-1., -1., -1.],\n",
              "        [-1., -1., -1.],\n",
              "        [ 1.,  1.,  1.]])"
            ]
          },
          "execution_count": 47,
          "metadata": {},
          "output_type": "execute_result"
        }
      ],
      "source": [
        "a.div(b)"
      ]
    },
    {
      "cell_type": "markdown",
      "metadata": {
        "id": "VeLAbx1tYJ_7"
      },
      "source": [
        "**Примечание:** все эти операции создают новые тензоры, старые тензоры остаются неизменными."
      ]
    },
    {
      "cell_type": "code",
      "execution_count": 48,
      "metadata": {
        "colab": {
          "base_uri": "https://localhost:8080/"
        },
        "id": "57BFtnlgYJ_8",
        "outputId": "9c9a074f-84bf-44e7-f41d-4bd85ee03f12"
      },
      "outputs": [
        {
          "data": {
            "text/plain": [
              "tensor([[  1.,   2.,   3.],\n",
              "        [ 10.,  20.,  30.],\n",
              "        [100., 200., 300.]])"
            ]
          },
          "execution_count": 48,
          "metadata": {},
          "output_type": "execute_result"
        }
      ],
      "source": [
        "a"
      ]
    },
    {
      "cell_type": "code",
      "execution_count": 49,
      "metadata": {
        "colab": {
          "base_uri": "https://localhost:8080/"
        },
        "id": "UziXyvtDYJ_-",
        "outputId": "1648ca1a-2809-4a4d-a051-e5e8e03dfa17"
      },
      "outputs": [
        {
          "data": {
            "text/plain": [
              "tensor([[ -1.,  -2.,  -3.],\n",
              "        [-10., -20., -30.],\n",
              "        [100., 200., 300.]])"
            ]
          },
          "execution_count": 49,
          "metadata": {},
          "output_type": "execute_result"
        }
      ],
      "source": [
        "b"
      ]
    },
    {
      "cell_type": "markdown",
      "metadata": {
        "id": "vLpwZPc3YKAC"
      },
      "source": [
        "### Операторы сравнения"
      ]
    },
    {
      "cell_type": "code",
      "execution_count": 50,
      "metadata": {
        "id": "FfRzvw_UYKAC"
      },
      "outputs": [],
      "source": [
        "a = torch.FloatTensor([[1, 2, 3], [10, 20, 30], [100, 200, 300]])\n",
        "b = torch.FloatTensor([[-1, -2, -3], [-10, -20, -30], [100, 200, 300]])"
      ]
    },
    {
      "cell_type": "code",
      "execution_count": 51,
      "metadata": {
        "colab": {
          "base_uri": "https://localhost:8080/"
        },
        "id": "o1RUTP2BYKAD",
        "outputId": "a21207d1-5b9f-4b25-cc0e-9417ef878ed4"
      },
      "outputs": [
        {
          "data": {
            "text/plain": [
              "tensor([[False, False, False],\n",
              "        [False, False, False],\n",
              "        [ True,  True,  True]])"
            ]
          },
          "execution_count": 51,
          "metadata": {},
          "output_type": "execute_result"
        }
      ],
      "source": [
        "a == b"
      ]
    },
    {
      "cell_type": "code",
      "execution_count": 52,
      "metadata": {
        "colab": {
          "base_uri": "https://localhost:8080/"
        },
        "id": "JO3HaVIAYKAF",
        "outputId": "2f7632c1-d202-42cc-8b79-5a94c6e3478f"
      },
      "outputs": [
        {
          "data": {
            "text/plain": [
              "tensor([[ True,  True,  True],\n",
              "        [ True,  True,  True],\n",
              "        [False, False, False]])"
            ]
          },
          "execution_count": 52,
          "metadata": {},
          "output_type": "execute_result"
        }
      ],
      "source": [
        "a != b"
      ]
    },
    {
      "cell_type": "code",
      "execution_count": 53,
      "metadata": {
        "colab": {
          "base_uri": "https://localhost:8080/"
        },
        "id": "DExLBj4VYKAH",
        "outputId": "4ec6079c-effb-4412-a499-de9453f09d87"
      },
      "outputs": [
        {
          "data": {
            "text/plain": [
              "tensor([[False, False, False],\n",
              "        [False, False, False],\n",
              "        [False, False, False]])"
            ]
          },
          "execution_count": 53,
          "metadata": {},
          "output_type": "execute_result"
        }
      ],
      "source": [
        "a < b"
      ]
    },
    {
      "cell_type": "code",
      "execution_count": 54,
      "metadata": {
        "colab": {
          "base_uri": "https://localhost:8080/"
        },
        "id": "0_IH_FUNYKAJ",
        "outputId": "d096bba1-6bbe-441a-fd0c-71ac99fde624"
      },
      "outputs": [
        {
          "data": {
            "text/plain": [
              "tensor([[ True,  True,  True],\n",
              "        [ True,  True,  True],\n",
              "        [False, False, False]])"
            ]
          },
          "execution_count": 54,
          "metadata": {},
          "output_type": "execute_result"
        }
      ],
      "source": [
        "a > b"
      ]
    },
    {
      "cell_type": "markdown",
      "metadata": {
        "id": "24nzBJR8YKAM"
      },
      "source": [
        "### Использование индексации по логической маске"
      ]
    },
    {
      "cell_type": "code",
      "execution_count": 55,
      "metadata": {
        "colab": {
          "base_uri": "https://localhost:8080/"
        },
        "id": "C-xVDslwYKAN",
        "outputId": "eb89e9f3-0a79-4135-ce9f-ee528083ed45"
      },
      "outputs": [
        {
          "data": {
            "text/plain": [
              "tensor([ 1.,  2.,  3., 10., 20., 30.])"
            ]
          },
          "execution_count": 55,
          "metadata": {},
          "output_type": "execute_result"
        }
      ],
      "source": [
        "a[a > b]"
      ]
    },
    {
      "cell_type": "code",
      "execution_count": 56,
      "metadata": {
        "colab": {
          "base_uri": "https://localhost:8080/"
        },
        "id": "XatDJF5YYKAQ",
        "outputId": "1e5f26f0-7a16-40e5-af38-9952f23f7f13"
      },
      "outputs": [
        {
          "data": {
            "text/plain": [
              "tensor([100., 200., 300.])"
            ]
          },
          "execution_count": 56,
          "metadata": {},
          "output_type": "execute_result"
        }
      ],
      "source": [
        "b[a == b]"
      ]
    },
    {
      "cell_type": "markdown",
      "metadata": {
        "id": "54bQky1bYKAf"
      },
      "source": [
        "### Поэлементное применение **универсальных функций**"
      ]
    },
    {
      "cell_type": "code",
      "execution_count": 57,
      "metadata": {
        "id": "lWnGSuUhYKAf"
      },
      "outputs": [],
      "source": [
        "a = torch.FloatTensor([[1, 2, 3], [10, 20, 30], [100, 200, 300]])"
      ]
    },
    {
      "cell_type": "code",
      "execution_count": 58,
      "metadata": {
        "colab": {
          "base_uri": "https://localhost:8080/"
        },
        "id": "J6ZyxZBNYKAl",
        "outputId": "152a9e38-fc30-4d1b-d1a8-ae42c19e4ec0"
      },
      "outputs": [
        {
          "data": {
            "text/plain": [
              "tensor([[ 0.8415,  0.9093,  0.1411],\n",
              "        [-0.5440,  0.9129, -0.9880],\n",
              "        [-0.5064, -0.8733, -0.9998]])"
            ]
          },
          "execution_count": 58,
          "metadata": {},
          "output_type": "execute_result"
        }
      ],
      "source": [
        "a.sin()"
      ]
    },
    {
      "cell_type": "code",
      "execution_count": 59,
      "metadata": {
        "colab": {
          "base_uri": "https://localhost:8080/"
        },
        "id": "SScTSkJMYKAo",
        "outputId": "8e0299b7-fa12-4d67-eff0-075327ac0f60"
      },
      "outputs": [
        {
          "data": {
            "text/plain": [
              "tensor([[ 0.8415,  0.9093,  0.1411],\n",
              "        [-0.5440,  0.9129, -0.9880],\n",
              "        [-0.5064, -0.8733, -0.9998]])"
            ]
          },
          "execution_count": 59,
          "metadata": {},
          "output_type": "execute_result"
        }
      ],
      "source": [
        "torch.sin(a)"
      ]
    },
    {
      "cell_type": "code",
      "execution_count": 60,
      "metadata": {
        "colab": {
          "base_uri": "https://localhost:8080/"
        },
        "id": "0bYVYVV7YKAr",
        "outputId": "169ba992-56f7-4b8e-9ebd-44479334ee60"
      },
      "outputs": [
        {
          "data": {
            "text/plain": [
              "tensor([[ 1.5574, -2.1850, -0.1425],\n",
              "        [ 0.6484,  2.2372, -6.4053],\n",
              "        [-0.5872, -1.7925, 45.2447]])"
            ]
          },
          "execution_count": 60,
          "metadata": {},
          "output_type": "execute_result"
        }
      ],
      "source": [
        "a.tan()"
      ]
    },
    {
      "cell_type": "code",
      "execution_count": 61,
      "metadata": {
        "colab": {
          "base_uri": "https://localhost:8080/"
        },
        "id": "c-rYL8HQYKAt",
        "outputId": "c7baf945-d475-4440-e3c9-7681812eb3c7"
      },
      "outputs": [
        {
          "data": {
            "text/plain": [
              "tensor([[2.7183e+00, 7.3891e+00, 2.0086e+01],\n",
              "        [2.2026e+04, 4.8517e+08, 1.0686e+13],\n",
              "        [       inf,        inf,        inf]])"
            ]
          },
          "execution_count": 61,
          "metadata": {},
          "output_type": "execute_result"
        }
      ],
      "source": [
        "a.exp()"
      ]
    },
    {
      "cell_type": "code",
      "execution_count": 62,
      "metadata": {
        "colab": {
          "base_uri": "https://localhost:8080/"
        },
        "id": "EbiCDYUzYKAw",
        "outputId": "c84e3963-a8ab-4828-9961-0f51a8e066cc"
      },
      "outputs": [
        {
          "data": {
            "text/plain": [
              "tensor([[0.0000, 0.6931, 1.0986],\n",
              "        [2.3026, 2.9957, 3.4012],\n",
              "        [4.6052, 5.2983, 5.7038]])"
            ]
          },
          "execution_count": 62,
          "metadata": {},
          "output_type": "execute_result"
        }
      ],
      "source": [
        "a.log()"
      ]
    },
    {
      "cell_type": "code",
      "execution_count": 63,
      "metadata": {
        "colab": {
          "base_uri": "https://localhost:8080/"
        },
        "id": "yh1sySpiYKAy",
        "outputId": "1f3d61e7-f051-4386-c45f-07d6022a7873"
      },
      "outputs": [
        {
          "data": {
            "text/plain": [
              "tensor([[  -1.,   -2.,   -3.],\n",
              "        [ -10.,  -20.,  -30.],\n",
              "        [-100., -200., -300.]])"
            ]
          },
          "execution_count": 63,
          "metadata": {},
          "output_type": "execute_result"
        }
      ],
      "source": [
        "b = -a\n",
        "b"
      ]
    },
    {
      "cell_type": "code",
      "execution_count": 64,
      "metadata": {
        "colab": {
          "base_uri": "https://localhost:8080/"
        },
        "id": "PNU0UxqIYKA2",
        "outputId": "c97577da-781b-4b4c-f029-df6312663dd6"
      },
      "outputs": [
        {
          "data": {
            "text/plain": [
              "tensor([[  1.,   2.,   3.],\n",
              "        [ 10.,  20.,  30.],\n",
              "        [100., 200., 300.]])"
            ]
          },
          "execution_count": 64,
          "metadata": {},
          "output_type": "execute_result"
        }
      ],
      "source": [
        "b.abs()"
      ]
    },
    {
      "cell_type": "markdown",
      "metadata": {
        "id": "eqERQjISYKA9"
      },
      "source": [
        "### Агрегация и работа с осями\n",
        "#### sum, mean, max, min:"
      ]
    },
    {
      "cell_type": "code",
      "execution_count": 65,
      "metadata": {
        "colab": {
          "base_uri": "https://localhost:8080/"
        },
        "id": "HLmJGdl9YKA-",
        "outputId": "092bed50-893d-4322-90bd-fdfbd7aebd48"
      },
      "outputs": [
        {
          "data": {
            "text/plain": [
              "tensor([  6.,  60., 600.])"
            ]
          },
          "execution_count": 65,
          "metadata": {},
          "output_type": "execute_result"
        }
      ],
      "source": [
        "a.sum(dim=1)"
      ]
    },
    {
      "cell_type": "code",
      "execution_count": 66,
      "metadata": {
        "colab": {
          "base_uri": "https://localhost:8080/"
        },
        "id": "ervIuNGnYKBD",
        "outputId": "11ccce91-9116-45a0-906b-490c70ad142c"
      },
      "outputs": [
        {
          "data": {
            "text/plain": [
              "tensor(74.)"
            ]
          },
          "execution_count": 66,
          "metadata": {},
          "output_type": "execute_result"
        }
      ],
      "source": [
        "a.mean()"
      ]
    },
    {
      "cell_type": "markdown",
      "metadata": {
        "id": "1qxkdUQ2YKBF"
      },
      "source": [
        "#### Применение функции вдоль оси"
      ]
    },
    {
      "cell_type": "code",
      "execution_count": 67,
      "metadata": {
        "colab": {
          "base_uri": "https://localhost:8080/"
        },
        "id": "OzU2H7jBbdS-",
        "outputId": "404acb52-9ca3-4f8a-f30d-8f0047d59428"
      },
      "outputs": [
        {
          "data": {
            "text/plain": [
              "tensor([[  1.,   2.,   3.],\n",
              "        [ 10.,  20.,  30.],\n",
              "        [100., 200., 300.]])"
            ]
          },
          "execution_count": 67,
          "metadata": {},
          "output_type": "execute_result"
        }
      ],
      "source": [
        "a"
      ]
    },
    {
      "cell_type": "code",
      "execution_count": 68,
      "metadata": {
        "colab": {
          "base_uri": "https://localhost:8080/"
        },
        "id": "cc6RjJYeYKBG",
        "outputId": "d62d9ff0-8255-4139-cf94-51fe265fb8fe"
      },
      "outputs": [
        {
          "data": {
            "text/plain": [
              "tensor([111., 222., 333.])"
            ]
          },
          "execution_count": 68,
          "metadata": {},
          "output_type": "execute_result"
        }
      ],
      "source": [
        "a.sum(dim=0)"
      ]
    },
    {
      "cell_type": "code",
      "execution_count": 69,
      "metadata": {
        "colab": {
          "base_uri": "https://localhost:8080/"
        },
        "id": "Dgi5BmhOYKBJ",
        "outputId": "d9f8f55a-a274-463b-9038-0d82a0b191a7"
      },
      "outputs": [
        {
          "data": {
            "text/plain": [
              "tensor([  6.,  60., 600.])"
            ]
          },
          "execution_count": 69,
          "metadata": {},
          "output_type": "execute_result"
        }
      ],
      "source": [
        "a.sum(dim=1)"
      ]
    },
    {
      "cell_type": "code",
      "execution_count": 70,
      "metadata": {
        "colab": {
          "base_uri": "https://localhost:8080/"
        },
        "id": "-tIkcTENYKBK",
        "outputId": "29b9e92c-d7d3-40e8-eba6-06078cb43039"
      },
      "outputs": [
        {
          "data": {
            "text/plain": [
              "tensor(300.)"
            ]
          },
          "execution_count": 70,
          "metadata": {},
          "output_type": "execute_result"
        }
      ],
      "source": [
        "a.max()"
      ]
    },
    {
      "cell_type": "code",
      "execution_count": 71,
      "metadata": {
        "colab": {
          "base_uri": "https://localhost:8080/"
        },
        "id": "V4U_LyyPYKBL",
        "outputId": "74a25c4e-4082-4f6e-b961-ba2520bfc480"
      },
      "outputs": [
        {
          "data": {
            "text/plain": [
              "torch.return_types.max(values=tensor([100., 200., 300.]), indices=tensor([2, 2, 2]))"
            ]
          },
          "execution_count": 71,
          "metadata": {},
          "output_type": "execute_result"
        }
      ],
      "source": [
        "a.max(0)"
      ]
    },
    {
      "cell_type": "markdown",
      "metadata": {
        "id": "Ys-9hnr4YKBS"
      },
      "source": [
        "**Примечание:** второй тензор, возвращаемый `.max()`, содержит индексы элементов max вдоль этой оси. Например. в этом случае `a.max ()` вернула `(100, 200, 300)`, которые являются минимальными элементами по оси 0 (вдоль столбцов), а их индексы по оси 0 равны `(2, 2, 2)`.\n"
      ]
    },
    {
      "cell_type": "markdown",
      "metadata": {
        "id": "utha2fm_zdmx"
      },
      "source": [
        "#### Фиктивные оси\n",
        "\n",
        "Иногда очень сложно бывает разобраться, как правильно выбрать оси для применения операций с многомерными массивами. Поэтому сейчас мы решим на эту тему пару задач.\n",
        "Сначала посмотрим, как создавать у массивов новые фиктивные оси, это нам пригодится."
      ]
    },
    {
      "cell_type": "code",
      "execution_count": 72,
      "metadata": {
        "colab": {
          "base_uri": "https://localhost:8080/"
        },
        "id": "0E6stC7-0J1r",
        "outputId": "d2be9c07-07d7-4007-a841-56dac906b53d"
      },
      "outputs": [
        {
          "data": {
            "text/plain": [
              "tensor([[  1.,   2.,   3.],\n",
              "        [ 10.,  20.,  30.],\n",
              "        [100., 200., 300.]])"
            ]
          },
          "execution_count": 72,
          "metadata": {},
          "output_type": "execute_result"
        }
      ],
      "source": [
        "a = torch.FloatTensor([[1, 2, 3], [10, 20, 30], [100, 200, 300]])\n",
        "a"
      ]
    },
    {
      "cell_type": "code",
      "execution_count": 73,
      "metadata": {
        "colab": {
          "base_uri": "https://localhost:8080/"
        },
        "id": "5B-SyoQmhW-H",
        "outputId": "f456cdce-700b-4111-9b87-3850caf2e300"
      },
      "outputs": [
        {
          "data": {
            "text/plain": [
              "torch.Size([3, 1, 3])"
            ]
          },
          "execution_count": 73,
          "metadata": {},
          "output_type": "execute_result"
        }
      ],
      "source": [
        "\n",
        "a[:, None, :].shape"
      ]
    },
    {
      "cell_type": "code",
      "execution_count": 74,
      "metadata": {
        "colab": {
          "base_uri": "https://localhost:8080/"
        },
        "id": "ZW_JfCJRhW-I",
        "outputId": "cb31f829-c54f-42f7-dc05-24003abeca05"
      },
      "outputs": [
        {
          "data": {
            "text/plain": [
              "tensor([[[  1.,   2.,   3.]],\n",
              "\n",
              "        [[ 10.,  20.,  30.]],\n",
              "\n",
              "        [[100., 200., 300.]]])"
            ]
          },
          "execution_count": 74,
          "metadata": {},
          "output_type": "execute_result"
        }
      ],
      "source": [
        "a[:, None, :]"
      ]
    },
    {
      "cell_type": "code",
      "execution_count": 75,
      "metadata": {
        "colab": {
          "base_uri": "https://localhost:8080/"
        },
        "id": "FgfUrKpk0fLg",
        "outputId": "3b3bbec3-9af0-4142-845d-2afe73ef8c7a"
      },
      "outputs": [
        {
          "data": {
            "text/plain": [
              "tensor([[[  1.],\n",
              "         [  2.],\n",
              "         [  3.]],\n",
              "\n",
              "        [[ 10.],\n",
              "         [ 20.],\n",
              "         [ 30.]],\n",
              "\n",
              "        [[100.],\n",
              "         [200.],\n",
              "         [300.]]])"
            ]
          },
          "execution_count": 75,
          "metadata": {},
          "output_type": "execute_result"
        }
      ],
      "source": [
        "a[:, :, None]"
      ]
    },
    {
      "cell_type": "markdown",
      "metadata": {
        "id": "vwF56ibrw1Hz"
      },
      "source": [
        "#### Безобидная задача на кумулятивные суммы\n",
        "Дана матрица $M \\times N$. Напишите функцию, которая возвращает вектор средних значений по вертикали. \n",
        "\n"
      ]
    },
    {
      "cell_type": "code",
      "execution_count": 76,
      "metadata": {
        "colab": {
          "base_uri": "https://localhost:8080/"
        },
        "id": "29X7MxuqxwIU",
        "outputId": "d6e17af6-5e25-4e0f-bbc7-a521953af686"
      },
      "outputs": [
        {
          "data": {
            "text/plain": [
              "tensor([1.5000, 5.5000])"
            ]
          },
          "execution_count": 76,
          "metadata": {},
          "output_type": "execute_result"
        }
      ],
      "source": [
        "def vertical_means(A):\n",
        "    \"\"\"\n",
        "    param A: torch.tensor[m,n]\n",
        "    \"\"\"\n",
        "\n",
        "    result = A.mean(dim=0)\n",
        "\n",
        "    return result # <YOUR CODE>\n",
        "\n",
        "A = torch.FloatTensor([[1, 4], \n",
        "                       [2, 7]] )\n",
        "\n",
        "vertical_means(A)"
      ]
    },
    {
      "cell_type": "markdown",
      "metadata": {
        "id": "T6YOmemux0SI"
      },
      "source": [
        "**Проблемы:**\n",
        "\n",
        "* Что такое вертикальная ось? \n",
        "* По какой оси необходимо суммировать?\n",
        "* Как не ошибиться?\n",
        "\n",
        "**Ответ:** Операции всегда производятся по той оси, которая **исчезнет** после применения операции."
      ]
    },
    {
      "cell_type": "markdown",
      "metadata": {
        "id": "5YEpNZ3YyKzi"
      },
      "source": [
        "#### Задача на нормализацию изображения\n",
        "Реализуйте функцию ``normalize_pictures(A)``, которая принимает на вход четырёхмерный тензор --- батч из ``batch_size`` изображений, каждое из которых является трехмерным тензором формы (num_channels, width, height). Нужно стандартизировать изображение по каждому каналу, то есть сделать так, чтобы среднее значение яркости каждого канала (по всем изображениям и всем пикселям) было равно 0, а стандартное отклонение --- 1."
      ]
    },
    {
      "cell_type": "code",
      "execution_count": 77,
      "metadata": {
        "id": "jNGjlcaVy3WT"
      },
      "outputs": [],
      "source": [
        "def normalize_pictures(A):\n",
        "    \"\"\"\n",
        "    param A: torch.Tensor[batch_size, num_channels, width, height]\n",
        "    \"\"\"\n",
        "\n",
        "    m = A.mean(dim=(2,3))\n",
        "    sigma = A.std(dim =(2, 3))\n",
        "\n",
        "    result = (A - m[:, :, None, None])/sigma[:, :, None, None]\n",
        "\n",
        "\n",
        "    return result"
      ]
    },
    {
      "cell_type": "code",
      "execution_count": 78,
      "metadata": {
        "colab": {
          "base_uri": "https://localhost:8080/"
        },
        "id": "ZFUY4oookJ9i",
        "outputId": "bbac4bd0-aef4-41dd-a3e7-90e3556dbf35"
      },
      "outputs": [
        {
          "data": {
            "text/plain": [
              "torch.Size([64, 3])"
            ]
          },
          "execution_count": 78,
          "metadata": {},
          "output_type": "execute_result"
        }
      ],
      "source": [
        "batch = torch.randint(0, 156, (64, 3, 300, 300), dtype=torch.float32)\n",
        "batch.mean(dim=(2,3)).shape"
      ]
    },
    {
      "cell_type": "code",
      "execution_count": 79,
      "metadata": {
        "colab": {
          "base_uri": "https://localhost:8080/"
        },
        "id": "OttmzUHWzOiA",
        "outputId": "c5dffc34-378e-49e2-a6a7-d15411138df9"
      },
      "outputs": [
        {
          "name": "stdout",
          "output_type": "stream",
          "text": [
            "torch.Size([64, 3])\n",
            "tensor([[1.0000, 1.0000, 1.0000],\n",
            "        [1.0000, 1.0000, 1.0000],\n",
            "        [1.0000, 1.0000, 1.0000],\n",
            "        [1.0000, 1.0000, 1.0000],\n",
            "        [1.0000, 1.0000, 1.0000],\n",
            "        [1.0000, 1.0000, 1.0000],\n",
            "        [1.0000, 1.0000, 1.0000],\n",
            "        [1.0000, 1.0000, 1.0000],\n",
            "        [1.0000, 1.0000, 1.0000],\n",
            "        [1.0000, 1.0000, 1.0000],\n",
            "        [1.0000, 1.0000, 1.0000],\n",
            "        [1.0000, 1.0000, 1.0000],\n",
            "        [1.0000, 1.0000, 1.0000],\n",
            "        [1.0000, 1.0000, 1.0000],\n",
            "        [1.0000, 1.0000, 1.0000],\n",
            "        [1.0000, 1.0000, 1.0000],\n",
            "        [1.0000, 1.0000, 1.0000],\n",
            "        [1.0000, 1.0000, 1.0000],\n",
            "        [1.0000, 1.0000, 1.0000],\n",
            "        [1.0000, 1.0000, 1.0000],\n",
            "        [1.0000, 1.0000, 1.0000],\n",
            "        [1.0000, 1.0000, 1.0000],\n",
            "        [1.0000, 1.0000, 1.0000],\n",
            "        [1.0000, 1.0000, 1.0000],\n",
            "        [1.0000, 1.0000, 1.0000],\n",
            "        [1.0000, 1.0000, 1.0000],\n",
            "        [1.0000, 1.0000, 1.0000],\n",
            "        [1.0000, 1.0000, 1.0000],\n",
            "        [1.0000, 1.0000, 1.0000],\n",
            "        [1.0000, 1.0000, 1.0000],\n",
            "        [1.0000, 1.0000, 1.0000],\n",
            "        [1.0000, 1.0000, 1.0000],\n",
            "        [1.0000, 1.0000, 1.0000],\n",
            "        [1.0000, 1.0000, 1.0000],\n",
            "        [1.0000, 1.0000, 1.0000],\n",
            "        [1.0000, 1.0000, 1.0000],\n",
            "        [1.0000, 1.0000, 1.0000],\n",
            "        [1.0000, 1.0000, 1.0000],\n",
            "        [1.0000, 1.0000, 1.0000],\n",
            "        [1.0000, 1.0000, 1.0000],\n",
            "        [1.0000, 1.0000, 1.0000],\n",
            "        [1.0000, 1.0000, 1.0000],\n",
            "        [1.0000, 1.0000, 1.0000],\n",
            "        [1.0000, 1.0000, 1.0000],\n",
            "        [1.0000, 1.0000, 1.0000],\n",
            "        [1.0000, 1.0000, 1.0000],\n",
            "        [1.0000, 1.0000, 1.0000],\n",
            "        [1.0000, 1.0000, 1.0000],\n",
            "        [1.0000, 1.0000, 1.0000],\n",
            "        [1.0000, 1.0000, 1.0000],\n",
            "        [1.0000, 1.0000, 1.0000],\n",
            "        [1.0000, 1.0000, 1.0000],\n",
            "        [1.0000, 1.0000, 1.0000],\n",
            "        [1.0000, 1.0000, 1.0000],\n",
            "        [1.0000, 1.0000, 1.0000],\n",
            "        [1.0000, 1.0000, 1.0000],\n",
            "        [1.0000, 1.0000, 1.0000],\n",
            "        [1.0000, 1.0000, 1.0000],\n",
            "        [1.0000, 1.0000, 1.0000],\n",
            "        [1.0000, 1.0000, 1.0000],\n",
            "        [1.0000, 1.0000, 1.0000],\n",
            "        [1.0000, 1.0000, 1.0000],\n",
            "        [1.0000, 1.0000, 1.0000],\n",
            "        [1.0000, 1.0000, 1.0000]])\n"
          ]
        }
      ],
      "source": [
        "batch = torch.randint(0, 256, (64, 3, 300, 300), dtype=torch.float32)\n",
        "\n",
        "B = normalize_pictures(batch)\n",
        "print(B.mean(dim=(2,3)).shape)\n",
        "print(B.std(dim=(2,3)))"
      ]
    },
    {
      "cell_type": "markdown",
      "metadata": {
        "id": "kepFeTZ0YKBV"
      },
      "source": [
        "## Матричные операции"
      ]
    },
    {
      "cell_type": "markdown",
      "metadata": {
        "id": "7RYm3mdrYKBX"
      },
      "source": [
        "#### Транспонирование тензора"
      ]
    },
    {
      "cell_type": "code",
      "execution_count": 80,
      "metadata": {
        "colab": {
          "base_uri": "https://localhost:8080/"
        },
        "id": "T8-1TSkeYKBY",
        "outputId": "63440ab4-e71f-48eb-92c9-6cde4c49165e"
      },
      "outputs": [
        {
          "data": {
            "text/plain": [
              "tensor([[  1.,   2.,   3.],\n",
              "        [ 10.,  20.,  30.],\n",
              "        [100., 200., 300.]])"
            ]
          },
          "execution_count": 80,
          "metadata": {},
          "output_type": "execute_result"
        }
      ],
      "source": [
        "a = torch.FloatTensor([[1, 2, 3], [10, 20, 30], [100, 200, 300]])\n",
        "a"
      ]
    },
    {
      "cell_type": "code",
      "execution_count": 81,
      "metadata": {
        "colab": {
          "base_uri": "https://localhost:8080/"
        },
        "id": "HSAZwai7YKBa",
        "outputId": "4059443b-9e32-4906-8a24-0b0cea122939"
      },
      "outputs": [
        {
          "data": {
            "text/plain": [
              "tensor([[  1.,  10., 100.],\n",
              "        [  2.,  20., 200.],\n",
              "        [  3.,  30., 300.]])"
            ]
          },
          "execution_count": 81,
          "metadata": {},
          "output_type": "execute_result"
        }
      ],
      "source": [
        "a.t()"
      ]
    },
    {
      "cell_type": "markdown",
      "metadata": {
        "id": "QqsPkleRYKBd"
      },
      "source": [
        "Это тоже не inplace-операция:"
      ]
    },
    {
      "cell_type": "code",
      "execution_count": 82,
      "metadata": {
        "colab": {
          "base_uri": "https://localhost:8080/"
        },
        "id": "NRPamd2EYKBe",
        "outputId": "6a4317e9-7c67-462c-81bf-7f44ee4b5d10"
      },
      "outputs": [
        {
          "data": {
            "text/plain": [
              "tensor([[  1.,   2.,   3.],\n",
              "        [ 10.,  20.,  30.],\n",
              "        [100., 200., 300.]])"
            ]
          },
          "execution_count": 82,
          "metadata": {},
          "output_type": "execute_result"
        }
      ],
      "source": [
        "a"
      ]
    },
    {
      "cell_type": "markdown",
      "metadata": {
        "id": "q8YhoxHPYKBh"
      },
      "source": [
        "#### Скалярное произведение векторов"
      ]
    },
    {
      "cell_type": "code",
      "execution_count": 83,
      "metadata": {
        "id": "i1pRtl7HYKBi"
      },
      "outputs": [],
      "source": [
        "a = torch.FloatTensor([1, 2, 3, 4, 5, 6])\n",
        "b = torch.FloatTensor([-1, -2, -4, -6, -8, -10])"
      ]
    },
    {
      "cell_type": "code",
      "execution_count": 84,
      "metadata": {
        "colab": {
          "base_uri": "https://localhost:8080/"
        },
        "id": "qcS-28dwYKBp",
        "outputId": "7e8488e2-8cb6-4b0e-f8d6-bb1d1627e169"
      },
      "outputs": [
        {
          "data": {
            "text/plain": [
              "tensor(-141.)"
            ]
          },
          "execution_count": 84,
          "metadata": {},
          "output_type": "execute_result"
        }
      ],
      "source": [
        "a.dot(b)"
      ]
    },
    {
      "cell_type": "code",
      "execution_count": 85,
      "metadata": {
        "colab": {
          "base_uri": "https://localhost:8080/"
        },
        "id": "sBiRR1V3LP-r",
        "outputId": "792f4d7a-7903-4e9a-9240-9665c0fd6a18"
      },
      "outputs": [
        {
          "data": {
            "text/plain": [
              "(torch.Size([6]), torch.Size([6]))"
            ]
          },
          "execution_count": 85,
          "metadata": {},
          "output_type": "execute_result"
        }
      ],
      "source": [
        "a.shape, b.shape"
      ]
    },
    {
      "cell_type": "code",
      "execution_count": 86,
      "metadata": {
        "colab": {
          "base_uri": "https://localhost:8080/"
        },
        "id": "MXyhOelQYKBs",
        "outputId": "e7a78286-e8a7-469e-c4d7-9331e36fff85"
      },
      "outputs": [
        {
          "data": {
            "text/plain": [
              "tensor(-141.)"
            ]
          },
          "execution_count": 86,
          "metadata": {},
          "output_type": "execute_result"
        }
      ],
      "source": [
        "a @ b"
      ]
    },
    {
      "cell_type": "code",
      "execution_count": 87,
      "metadata": {
        "colab": {
          "base_uri": "https://localhost:8080/"
        },
        "id": "sxqg4xhoYKBt",
        "outputId": "16d5ef77-e93d-42db-b560-9fd3aa382f2b"
      },
      "outputs": [
        {
          "data": {
            "text/plain": [
              "torch.Tensor"
            ]
          },
          "execution_count": 87,
          "metadata": {},
          "output_type": "execute_result"
        }
      ],
      "source": [
        "type(a)"
      ]
    },
    {
      "cell_type": "code",
      "execution_count": 88,
      "metadata": {
        "colab": {
          "base_uri": "https://localhost:8080/"
        },
        "id": "_v2ZjPqDYKBz",
        "outputId": "392451b4-8c27-4f52-a008-50c429ab7005"
      },
      "outputs": [
        {
          "data": {
            "text/plain": [
              "torch.Tensor"
            ]
          },
          "execution_count": 88,
          "metadata": {},
          "output_type": "execute_result"
        }
      ],
      "source": [
        "type(b)"
      ]
    },
    {
      "cell_type": "code",
      "execution_count": 89,
      "metadata": {
        "colab": {
          "base_uri": "https://localhost:8080/"
        },
        "id": "UsWB9vTuYKB0",
        "outputId": "941b0bb8-d034-4ffb-f88d-6922e8421bf4"
      },
      "outputs": [
        {
          "data": {
            "text/plain": [
              "torch.Tensor"
            ]
          },
          "execution_count": 89,
          "metadata": {},
          "output_type": "execute_result"
        }
      ],
      "source": [
        "type(a @ b)"
      ]
    },
    {
      "cell_type": "markdown",
      "metadata": {
        "id": "KSrnLwkGYKB1"
      },
      "source": [
        "#### Матричное произведение"
      ]
    },
    {
      "cell_type": "code",
      "execution_count": 90,
      "metadata": {
        "id": "ViurnbjPYKB2"
      },
      "outputs": [],
      "source": [
        "a = torch.FloatTensor([[1, 2, 3], [10, 20, 30], [100, 200, 300]])\n",
        "b = torch.FloatTensor([[-1, -2, -3], [-10, -20, -30], [100, 200, 300]])"
      ]
    },
    {
      "cell_type": "code",
      "execution_count": 91,
      "metadata": {
        "colab": {
          "base_uri": "https://localhost:8080/"
        },
        "id": "5TrCnfWiYKB3",
        "outputId": "ed6e63cd-9949-48e7-ec7b-5b4f0908182b"
      },
      "outputs": [
        {
          "data": {
            "text/plain": [
              "tensor([[  279.,   558.,   837.],\n",
              "        [ 2790.,  5580.,  8370.],\n",
              "        [27900., 55800., 83700.]])"
            ]
          },
          "execution_count": 91,
          "metadata": {},
          "output_type": "execute_result"
        }
      ],
      "source": [
        "a.mm(b)"
      ]
    },
    {
      "cell_type": "code",
      "execution_count": 92,
      "metadata": {
        "colab": {
          "base_uri": "https://localhost:8080/"
        },
        "id": "HMzIz-_MYKB4",
        "outputId": "8f522bd8-c348-45e7-9c1c-20da857a8495"
      },
      "outputs": [
        {
          "data": {
            "text/plain": [
              "tensor([[  279.,   558.,   837.],\n",
              "        [ 2790.,  5580.,  8370.],\n",
              "        [27900., 55800., 83700.]])"
            ]
          },
          "execution_count": 92,
          "metadata": {},
          "output_type": "execute_result"
        }
      ],
      "source": [
        "a @ b"
      ]
    },
    {
      "cell_type": "code",
      "execution_count": 93,
      "metadata": {
        "id": "vtuvt20-YKB8"
      },
      "outputs": [],
      "source": [
        "a = torch.FloatTensor([[1, 2, 3], [10, 20, 30], [100, 200, 300]])\n",
        "b = torch.FloatTensor([[-1], [-10], [100]])"
      ]
    },
    {
      "cell_type": "code",
      "execution_count": 94,
      "metadata": {
        "colab": {
          "base_uri": "https://localhost:8080/"
        },
        "id": "fdDnu5XjYKB9",
        "outputId": "0deff6d2-647c-4497-c1a2-f9bf31cb2a71"
      },
      "outputs": [
        {
          "name": "stdout",
          "output_type": "stream",
          "text": [
            "torch.Size([3, 3]) torch.Size([3, 1])\n"
          ]
        }
      ],
      "source": [
        "print(a.shape, b.shape)"
      ]
    },
    {
      "cell_type": "code",
      "execution_count": 95,
      "metadata": {
        "colab": {
          "base_uri": "https://localhost:8080/"
        },
        "id": "oD4N4WN8YKB_",
        "outputId": "4caecf6b-fac3-4748-ff9a-18f1af74552b"
      },
      "outputs": [
        {
          "data": {
            "text/plain": [
              "tensor([[  279.],\n",
              "        [ 2790.],\n",
              "        [27900.]])"
            ]
          },
          "execution_count": 95,
          "metadata": {},
          "output_type": "execute_result"
        }
      ],
      "source": [
        "a @ b"
      ]
    },
    {
      "cell_type": "markdown",
      "metadata": {
        "id": "va9w-BavYKCB"
      },
      "source": [
        "Тензор `b` можно развернуть в одномерный массив с помощью функции `torch.view(-1)`, чтобы результат был вектором"
      ]
    },
    {
      "cell_type": "code",
      "execution_count": 96,
      "metadata": {
        "colab": {
          "base_uri": "https://localhost:8080/"
        },
        "id": "V7KsdYcBYKCC",
        "outputId": "7ea55657-d5b3-497a-b13f-9e07861d26c0"
      },
      "outputs": [
        {
          "data": {
            "text/plain": [
              "tensor([[ -1.],\n",
              "        [-10.],\n",
              "        [100.]])"
            ]
          },
          "execution_count": 96,
          "metadata": {},
          "output_type": "execute_result"
        }
      ],
      "source": [
        "b"
      ]
    },
    {
      "cell_type": "code",
      "execution_count": 97,
      "metadata": {
        "colab": {
          "base_uri": "https://localhost:8080/"
        },
        "id": "t7k6spayYKCF",
        "outputId": "a7258c11-5b2b-4380-8668-9a180ab23a7a"
      },
      "outputs": [
        {
          "data": {
            "text/plain": [
              "tensor([ -1., -10., 100.])"
            ]
          },
          "execution_count": 97,
          "metadata": {},
          "output_type": "execute_result"
        }
      ],
      "source": [
        "b.view(-1)"
      ]
    },
    {
      "cell_type": "code",
      "execution_count": 98,
      "metadata": {
        "colab": {
          "base_uri": "https://localhost:8080/"
        },
        "id": "8u8xQ20bYKCH",
        "outputId": "06a13422-823e-4ef1-e776-ee7076343db7"
      },
      "outputs": [
        {
          "data": {
            "text/plain": [
              "tensor([  279.,  2790., 27900.])"
            ]
          },
          "execution_count": 98,
          "metadata": {},
          "output_type": "execute_result"
        }
      ],
      "source": [
        "a @ b.view(-1)"
      ]
    },
    {
      "cell_type": "code",
      "execution_count": 99,
      "metadata": {
        "colab": {
          "base_uri": "https://localhost:8080/"
        },
        "id": "QvCu1sJEYKCJ",
        "outputId": "6a028cde-0b11-4c92-c1b3-2e9d7da8d11c"
      },
      "outputs": [
        {
          "data": {
            "text/plain": [
              "tensor([  279.,  2790., 27900.])"
            ]
          },
          "execution_count": 99,
          "metadata": {},
          "output_type": "execute_result"
        }
      ],
      "source": [
        "a.mv(b.view(-1))"
      ]
    },
    {
      "cell_type": "code",
      "execution_count": 100,
      "metadata": {
        "colab": {
          "base_uri": "https://localhost:8080/"
        },
        "id": "MAuGNC7EL3lq",
        "outputId": "cb9198fa-058b-4974-ed33-06ed3e4de418"
      },
      "outputs": [
        {
          "data": {
            "text/plain": [
              "torch.Size([2, 3, 4, 6])"
            ]
          },
          "execution_count": 100,
          "metadata": {},
          "output_type": "execute_result"
        }
      ],
      "source": [
        "y = torch.Tensor(2, 3, 4, 5)\n",
        "z = torch.Tensor(2, 3, 5, 6)\n",
        "(y @ z).shape"
      ]
    },
    {
      "cell_type": "markdown",
      "metadata": {
        "id": "gZitrCN6YKCL"
      },
      "source": [
        "## Конвертация\n",
        "#### Конвертация из Numpy в Pytorch:"
      ]
    },
    {
      "cell_type": "code",
      "execution_count": 101,
      "metadata": {
        "colab": {
          "base_uri": "https://localhost:8080/"
        },
        "id": "bnLS4CGXYKCL",
        "outputId": "fe4bf94c-006e-4152-f68f-a118fee0dadc"
      },
      "outputs": [
        {
          "data": {
            "text/plain": [
              "array([[0.12474047, 0.62341418, 0.66843313],\n",
              "       [0.02784663, 0.24679044, 0.00793789],\n",
              "       [0.62719305, 0.83438902, 0.47436651]])"
            ]
          },
          "execution_count": 101,
          "metadata": {},
          "output_type": "execute_result"
        }
      ],
      "source": [
        "import numpy as np\n",
        "\n",
        "a = np.random.rand(3, 3)\n",
        "a"
      ]
    },
    {
      "cell_type": "code",
      "execution_count": 102,
      "metadata": {
        "colab": {
          "base_uri": "https://localhost:8080/"
        },
        "id": "PXge57waYKCM",
        "outputId": "28b48d9f-12d0-4ab9-bce3-5884fab1fa2e"
      },
      "outputs": [
        {
          "data": {
            "text/plain": [
              "tensor([[0.1247, 0.6234, 0.6684],\n",
              "        [0.0278, 0.2468, 0.0079],\n",
              "        [0.6272, 0.8344, 0.4744]], dtype=torch.float64)"
            ]
          },
          "execution_count": 102,
          "metadata": {},
          "output_type": "execute_result"
        }
      ],
      "source": [
        "b = torch.from_numpy(a)\n",
        "b"
      ]
    },
    {
      "cell_type": "markdown",
      "metadata": {
        "id": "Nvcr3ymPYKCN"
      },
      "source": [
        "**Внимание!** `a` и `b` хранятся в одной и той же ячейке данных. Если именить один тензор, то изменится и другой."
      ]
    },
    {
      "cell_type": "code",
      "execution_count": 103,
      "metadata": {
        "colab": {
          "base_uri": "https://localhost:8080/"
        },
        "id": "0N_ZW6TQYKCN",
        "outputId": "1bae2a82-bdfa-4473-8267-7bf9e610dcdf"
      },
      "outputs": [
        {
          "data": {
            "text/plain": [
              "tensor([[0., 0., 0.],\n",
              "        [0., 0., 0.],\n",
              "        [0., 0., 0.]], dtype=torch.float64)"
            ]
          },
          "execution_count": 103,
          "metadata": {},
          "output_type": "execute_result"
        }
      ],
      "source": [
        "b -= b\n",
        "b"
      ]
    },
    {
      "cell_type": "code",
      "execution_count": 104,
      "metadata": {
        "colab": {
          "base_uri": "https://localhost:8080/"
        },
        "id": "wzUnCKsiYKCP",
        "outputId": "1dd73eb6-595f-4273-c4a2-ff133646b6f3"
      },
      "outputs": [
        {
          "data": {
            "text/plain": [
              "array([[0., 0., 0.],\n",
              "       [0., 0., 0.],\n",
              "       [0., 0., 0.]])"
            ]
          },
          "execution_count": 104,
          "metadata": {},
          "output_type": "execute_result"
        }
      ],
      "source": [
        "a"
      ]
    },
    {
      "cell_type": "markdown",
      "metadata": {
        "id": "Al73RqKSYKCR"
      },
      "source": [
        "#### Конвертация из Torch в Numpy"
      ]
    },
    {
      "cell_type": "code",
      "execution_count": 105,
      "metadata": {
        "colab": {
          "base_uri": "https://localhost:8080/"
        },
        "id": "u5rngw4vYKCR",
        "outputId": "12ea83e6-8300-48e4-f8e5-31d7a8a38474"
      },
      "outputs": [
        {
          "data": {
            "text/plain": [
              "tensor([[[-3.9152e-26,  3.0754e-41,  7.0065e-44,  7.0065e-44],\n",
              "         [ 6.3058e-44,  6.7262e-44,  7.1466e-44,  6.3058e-44],\n",
              "         [ 7.1466e-44,  6.8664e-44,  1.1771e-43,  6.8664e-44]],\n",
              "\n",
              "        [[ 6.7262e-44,  8.1275e-44,  7.1466e-44,  6.7262e-44],\n",
              "         [ 8.1275e-44,  7.4269e-44,  6.7262e-44,  6.4460e-44],\n",
              "         [ 6.8664e-44,  7.1466e-44,  7.9874e-44,  7.0065e-44]]])"
            ]
          },
          "execution_count": 105,
          "metadata": {},
          "output_type": "execute_result"
        }
      ],
      "source": [
        "a = torch.FloatTensor(2, 3, 4)\n",
        "a"
      ]
    },
    {
      "cell_type": "code",
      "execution_count": 106,
      "metadata": {
        "colab": {
          "base_uri": "https://localhost:8080/"
        },
        "id": "yjK68Kk-YKCS",
        "outputId": "e64e1e93-3223-48c9-a1e5-9111a61dcc6d"
      },
      "outputs": [
        {
          "data": {
            "text/plain": [
              "torch.Tensor"
            ]
          },
          "execution_count": 106,
          "metadata": {},
          "output_type": "execute_result"
        }
      ],
      "source": [
        "type(a)"
      ]
    },
    {
      "cell_type": "code",
      "execution_count": 107,
      "metadata": {
        "colab": {
          "base_uri": "https://localhost:8080/"
        },
        "id": "viLUF7gQYKCU",
        "outputId": "7a494926-e035-4589-def8-e82928787918"
      },
      "outputs": [
        {
          "data": {
            "text/plain": [
              "array([[[-3.915235e-26,  3.075430e-41,  7.006492e-44,  7.006492e-44],\n",
              "        [ 6.305843e-44,  6.726233e-44,  7.146622e-44,  6.305843e-44],\n",
              "        [ 7.146622e-44,  6.866362e-44,  1.177091e-43,  6.866362e-44]],\n",
              "\n",
              "       [[ 6.726233e-44,  8.127531e-44,  7.146622e-44,  6.726233e-44],\n",
              "        [ 8.127531e-44,  7.426882e-44,  6.726233e-44,  6.445973e-44],\n",
              "        [ 6.866362e-44,  7.146622e-44,  7.987401e-44,  7.006492e-44]]],\n",
              "      dtype=float32)"
            ]
          },
          "execution_count": 107,
          "metadata": {},
          "output_type": "execute_result"
        }
      ],
      "source": [
        "x = a.numpy()\n",
        "x"
      ]
    },
    {
      "cell_type": "code",
      "execution_count": 108,
      "metadata": {
        "colab": {
          "base_uri": "https://localhost:8080/"
        },
        "id": "9HxgiLxKYKCV",
        "outputId": "fe7f7b10-0a01-4067-e1c9-a004b368552f"
      },
      "outputs": [
        {
          "data": {
            "text/plain": [
              "(2, 3, 4)"
            ]
          },
          "execution_count": 108,
          "metadata": {},
          "output_type": "execute_result"
        }
      ],
      "source": [
        "x.shape"
      ]
    },
    {
      "cell_type": "code",
      "execution_count": 109,
      "metadata": {
        "colab": {
          "base_uri": "https://localhost:8080/"
        },
        "id": "SdW5bhmeYKCX",
        "outputId": "5984705e-5a37-4026-bb8b-bec34e74bd11"
      },
      "outputs": [
        {
          "data": {
            "text/plain": [
              "numpy.ndarray"
            ]
          },
          "execution_count": 109,
          "metadata": {},
          "output_type": "execute_result"
        }
      ],
      "source": [
        "type(x)"
      ]
    },
    {
      "cell_type": "code",
      "execution_count": 110,
      "metadata": {
        "id": "GbCc-vnWDj1l"
      },
      "outputs": [],
      "source": [
        "x -= x"
      ]
    },
    {
      "cell_type": "code",
      "execution_count": 111,
      "metadata": {
        "colab": {
          "base_uri": "https://localhost:8080/"
        },
        "id": "Ui-4DptBDlet",
        "outputId": "6993b2f9-8c7b-482a-99c7-394de6714d0d"
      },
      "outputs": [
        {
          "data": {
            "text/plain": [
              "tensor([[[0., 0., 0., 0.],\n",
              "         [0., 0., 0., 0.],\n",
              "         [0., 0., 0., 0.]],\n",
              "\n",
              "        [[0., 0., 0., 0.],\n",
              "         [0., 0., 0., 0.],\n",
              "         [0., 0., 0., 0.]]])"
            ]
          },
          "execution_count": 111,
          "metadata": {},
          "output_type": "execute_result"
        }
      ],
      "source": [
        "a"
      ]
    },
    {
      "cell_type": "markdown",
      "metadata": {
        "id": "7-KS81rUYKCY"
      },
      "source": [
        "#### Задание. Реализация функции forward\n",
        "Реализуйте функцию `forward_pass(X, w)` для одного нейрона нейронной сети с активацией ``sigmoid``. Используйте библиотеку PyTorch"
      ]
    },
    {
      "cell_type": "markdown",
      "metadata": {
        "id": "C8dmwhWGxzwl"
      },
      "source": [
        "<img src='https://radioprog.ru/uploads/media/articles/0001/05/267ad35a9e64a7b92c2e3b94940f686816ea6bf8.jpeg'>"
      ]
    },
    {
      "cell_type": "code",
      "execution_count": 112,
      "metadata": {
        "id": "vkaIwpn6YKCY"
      },
      "outputs": [],
      "source": [
        "def forward_pass(X, w):\n",
        "\n",
        "  logits = X @ w\n",
        "  result  = torch.sigmoid(logits)\n",
        "\n",
        "  return result"
      ]
    },
    {
      "cell_type": "code",
      "execution_count": 113,
      "metadata": {
        "colab": {
          "base_uri": "https://localhost:8080/"
        },
        "id": "VyqlDItxYKCZ",
        "outputId": "c70e7eac-c898-4840-8d1a-74b4eb57911a"
      },
      "outputs": [
        {
          "name": "stdout",
          "output_type": "stream",
          "text": [
            "torch.Size([3, 2])\n",
            "torch.Size([2, 1])\n",
            "result: tensor([[1.0000],\n",
            "        [0.9985],\n",
            "        [0.0474]])\n"
          ]
        }
      ],
      "source": [
        "X = torch.FloatTensor([[-5, 5], [2, 3], [1, -1]])\n",
        "print(X.shape)\n",
        "w = torch.FloatTensor([[-0.5], [2.5]])\n",
        "print(w.shape)\n",
        "result = forward_pass(X, w)\n",
        "print('result: {}'.format(result))"
      ]
    },
    {
      "cell_type": "markdown",
      "metadata": {
        "id": "MzLVLQ2GYKCa"
      },
      "source": [
        "## <h1 style=\"text-align: center;\"><a href=\"https://ru.wikipedia.org/wiki/CUDA\">CUDA</a></h3>\n",
        "\n",
        "CUDA --- это программно-аппаратная архитектура параллельных вычислений, которая позволяет существенно увеличить вычислительную производительность благодаря использованию графических процессоров фирмы Nvidia. Для нас CUDA --- это драйвер, который позволяет нам проводить вычисления на GPU."
      ]
    },
    {
      "cell_type": "markdown",
      "metadata": {
        "id": "PrIicAAiYKCa"
      },
      "source": [
        "[CUDA documentation](https://docs.nvidia.com/cuda/)"
      ]
    },
    {
      "cell_type": "markdown",
      "metadata": {
        "id": "2nDkAG6NYKCa"
      },
      "source": [
        "Для вычислений на Pytorch мы можем использовать как CPU (Central Processing Unit), так и GPU (Graphical Processing Unit). Между ними можно легко переключаться, и это очень важно!"
      ]
    },
    {
      "cell_type": "code",
      "execution_count": 114,
      "metadata": {
        "colab": {
          "base_uri": "https://localhost:8080/"
        },
        "id": "_0Nsl2IoYKCa",
        "outputId": "0db8a542-340c-4e54-927f-0fdc311f45b5"
      },
      "outputs": [
        {
          "data": {
            "text/plain": [
              "tensor([[0.6152, 0.6582, 0.9832,  ..., 0.7897, 0.8209, 0.9519],\n",
              "        [0.0576, 0.0159, 0.1138,  ..., 0.1820, 0.3507, 0.2870],\n",
              "        [0.9625, 0.7824, 0.6779,  ..., 0.8327, 0.9625, 0.8115],\n",
              "        ...,\n",
              "        [0.0825, 0.2453, 0.9544,  ..., 0.1544, 0.8004, 0.8202],\n",
              "        [0.2402, 0.6029, 0.1585,  ..., 0.8395, 0.0087, 0.9892],\n",
              "        [0.0940, 0.1420, 0.3597,  ..., 0.9780, 0.9304, 0.2062]])"
            ]
          },
          "execution_count": 114,
          "metadata": {},
          "output_type": "execute_result"
        }
      ],
      "source": [
        "x = torch.FloatTensor(1024, 10024).uniform_()\n",
        "x"
      ]
    },
    {
      "cell_type": "code",
      "execution_count": 115,
      "metadata": {
        "colab": {
          "base_uri": "https://localhost:8080/"
        },
        "id": "FVr5_SAdYKCb",
        "outputId": "5f0b6006-3085-4b6f-dab5-51e1c0fae917"
      },
      "outputs": [
        {
          "data": {
            "text/plain": [
              "False"
            ]
          },
          "execution_count": 115,
          "metadata": {},
          "output_type": "execute_result"
        }
      ],
      "source": [
        "x.is_cuda"
      ]
    },
    {
      "cell_type": "markdown",
      "metadata": {
        "id": "mAy8GGXAYKCd"
      },
      "source": [
        "#### Кладём тензор на GPU"
      ]
    },
    {
      "cell_type": "code",
      "execution_count": 116,
      "metadata": {
        "colab": {
          "base_uri": "https://localhost:8080/"
        },
        "id": "Pofrx0jug6QM",
        "outputId": "5347b909-7778-4f6c-b08a-3e6a52a17a18"
      },
      "outputs": [
        {
          "name": "stdout",
          "output_type": "stream",
          "text": [
            "Thu Mar 31 10:30:58 2022       \n",
            "+-----------------------------------------------------------------------------+\n",
            "| NVIDIA-SMI 460.32.03    Driver Version: 460.32.03    CUDA Version: 11.2     |\n",
            "|-------------------------------+----------------------+----------------------+\n",
            "| GPU  Name        Persistence-M| Bus-Id        Disp.A | Volatile Uncorr. ECC |\n",
            "| Fan  Temp  Perf  Pwr:Usage/Cap|         Memory-Usage | GPU-Util  Compute M. |\n",
            "|                               |                      |               MIG M. |\n",
            "|===============================+======================+======================|\n",
            "|   0  Tesla K80           Off  | 00000000:00:04.0 Off |                    0 |\n",
            "| N/A   39C    P8    25W / 149W |      0MiB / 11441MiB |      0%      Default |\n",
            "|                               |                      |                  N/A |\n",
            "+-------------------------------+----------------------+----------------------+\n",
            "                                                                               \n",
            "+-----------------------------------------------------------------------------+\n",
            "| Processes:                                                                  |\n",
            "|  GPU   GI   CI        PID   Type   Process name                  GPU Memory |\n",
            "|        ID   ID                                                   Usage      |\n",
            "|=============================================================================|\n",
            "|  No running processes found                                                 |\n",
            "+-----------------------------------------------------------------------------+\n"
          ]
        }
      ],
      "source": [
        "!nvidia-smi"
      ]
    },
    {
      "cell_type": "code",
      "execution_count": 117,
      "metadata": {
        "id": "6UGKZbfyYKCd"
      },
      "outputs": [],
      "source": [
        "x = x.cuda()"
      ]
    },
    {
      "cell_type": "code",
      "execution_count": 118,
      "metadata": {
        "colab": {
          "base_uri": "https://localhost:8080/"
        },
        "id": "RwvXhDD2gezR",
        "outputId": "5288cbf5-4490-4a11-e65c-fd184425ba3f"
      },
      "outputs": [
        {
          "name": "stdout",
          "output_type": "stream",
          "text": [
            "Thu Mar 31 10:32:09 2022       \n",
            "+-----------------------------------------------------------------------------+\n",
            "| NVIDIA-SMI 460.32.03    Driver Version: 460.32.03    CUDA Version: 11.2     |\n",
            "|-------------------------------+----------------------+----------------------+\n",
            "| GPU  Name        Persistence-M| Bus-Id        Disp.A | Volatile Uncorr. ECC |\n",
            "| Fan  Temp  Perf  Pwr:Usage/Cap|         Memory-Usage | GPU-Util  Compute M. |\n",
            "|                               |                      |               MIG M. |\n",
            "|===============================+======================+======================|\n",
            "|   0  Tesla K80           Off  | 00000000:00:04.0 Off |                    0 |\n",
            "| N/A   47C    P0    58W / 149W |    554MiB / 11441MiB |      0%      Default |\n",
            "|                               |                      |                  N/A |\n",
            "+-------------------------------+----------------------+----------------------+\n",
            "                                                                               \n",
            "+-----------------------------------------------------------------------------+\n",
            "| Processes:                                                                  |\n",
            "|  GPU   GI   CI        PID   Type   Process name                  GPU Memory |\n",
            "|        ID   ID                                                   Usage      |\n",
            "|=============================================================================|\n",
            "+-----------------------------------------------------------------------------+\n"
          ]
        }
      ],
      "source": [
        "!nvidia-smi"
      ]
    },
    {
      "cell_type": "code",
      "execution_count": 124,
      "metadata": {
        "colab": {
          "base_uri": "https://localhost:8080/"
        },
        "id": "hyhJsU5ib591",
        "outputId": "1d907eb5-052a-4c1e-e8da-a0a0bda0fa7f"
      },
      "outputs": [
        {
          "data": {
            "text/plain": [
              "tensor([[0.6152, 0.6582, 0.9832,  ..., 0.7897, 0.8209, 0.9519],\n",
              "        [0.0576, 0.0159, 0.1138,  ..., 0.1820, 0.3507, 0.2870],\n",
              "        [0.9625, 0.7824, 0.6779,  ..., 0.8327, 0.9625, 0.8115],\n",
              "        ...,\n",
              "        [0.0825, 0.2453, 0.9544,  ..., 0.1544, 0.8004, 0.8202],\n",
              "        [0.2402, 0.6029, 0.1585,  ..., 0.8395, 0.0087, 0.9892],\n",
              "        [0.0940, 0.1420, 0.3597,  ..., 0.9780, 0.9304, 0.2062]],\n",
              "       device='cuda:0')"
            ]
          },
          "execution_count": 124,
          "metadata": {},
          "output_type": "execute_result"
        }
      ],
      "source": [
        "x"
      ]
    },
    {
      "cell_type": "code",
      "execution_count": 122,
      "metadata": {
        "colab": {
          "base_uri": "https://localhost:8080/"
        },
        "id": "ue2SLd9nYKCd",
        "outputId": "e27b5f3a-a7a6-464e-b8d2-aad71307a06d"
      },
      "outputs": [
        {
          "name": "stdout",
          "output_type": "stream",
          "text": [
            "Thu Mar 31 10:33:01 2022       \n",
            "+-----------------------------------------------------------------------------+\n",
            "| NVIDIA-SMI 460.32.03    Driver Version: 460.32.03    CUDA Version: 11.2     |\n",
            "|-------------------------------+----------------------+----------------------+\n",
            "| GPU  Name        Persistence-M| Bus-Id        Disp.A | Volatile Uncorr. ECC |\n",
            "| Fan  Temp  Perf  Pwr:Usage/Cap|         Memory-Usage | GPU-Util  Compute M. |\n",
            "|                               |                      |               MIG M. |\n",
            "|===============================+======================+======================|\n",
            "|   0  Tesla K80           Off  | 00000000:00:04.0 Off |                    0 |\n",
            "| N/A   51C    P0    59W / 149W |    556MiB / 11441MiB |      0%      Default |\n",
            "|                               |                      |                  N/A |\n",
            "+-------------------------------+----------------------+----------------------+\n",
            "                                                                               \n",
            "+-----------------------------------------------------------------------------+\n",
            "| Processes:                                                                  |\n",
            "|  GPU   GI   CI        PID   Type   Process name                  GPU Memory |\n",
            "|        ID   ID                                                   Usage      |\n",
            "|=============================================================================|\n",
            "+-----------------------------------------------------------------------------+\n",
            "Thu Mar 31 10:33:01 2022       \n",
            "+-----------------------------------------------------------------------------+\n",
            "| NVIDIA-SMI 460.32.03    Driver Version: 460.32.03    CUDA Version: 11.2     |\n",
            "|-------------------------------+----------------------+----------------------+\n",
            "| GPU  Name        Persistence-M| Bus-Id        Disp.A | Volatile Uncorr. ECC |\n",
            "| Fan  Temp  Perf  Pwr:Usage/Cap|         Memory-Usage | GPU-Util  Compute M. |\n",
            "|                               |                      |               MIG M. |\n",
            "|===============================+======================+======================|\n",
            "|   0  Tesla K80           Off  | 00000000:00:04.0 Off |                    0 |\n",
            "| N/A   51C    P0    59W / 149W |    554MiB / 11441MiB |      3%      Default |\n",
            "|                               |                      |                  N/A |\n",
            "+-------------------------------+----------------------+----------------------+\n",
            "                                                                               \n",
            "+-----------------------------------------------------------------------------+\n",
            "| Processes:                                                                  |\n",
            "|  GPU   GI   CI        PID   Type   Process name                  GPU Memory |\n",
            "|        ID   ID                                                   Usage      |\n",
            "|=============================================================================|\n",
            "+-----------------------------------------------------------------------------+\n"
          ]
        }
      ],
      "source": [
        "x = x.cpu()\n",
        "!nvidia-smi\n",
        "\n",
        "torch.cuda.empty_cache()\n",
        "!nvidia-smi"
      ]
    },
    {
      "cell_type": "markdown",
      "metadata": {
        "id": "gGIy1s5Xil2N"
      },
      "source": [
        "Удобный способой перевода на ЦПУ/ГПУ"
      ]
    },
    {
      "cell_type": "code",
      "execution_count": 123,
      "metadata": {
        "colab": {
          "base_uri": "https://localhost:8080/"
        },
        "id": "qVVp6BnbD7fy",
        "outputId": "9dde06a9-edc8-4401-84af-ae55df3b20ec"
      },
      "outputs": [
        {
          "data": {
            "text/plain": [
              "tensor([[0.6152, 0.6582, 0.9832,  ..., 0.7897, 0.8209, 0.9519],\n",
              "        [0.0576, 0.0159, 0.1138,  ..., 0.1820, 0.3507, 0.2870],\n",
              "        [0.9625, 0.7824, 0.6779,  ..., 0.8327, 0.9625, 0.8115],\n",
              "        ...,\n",
              "        [0.0825, 0.2453, 0.9544,  ..., 0.1544, 0.8004, 0.8202],\n",
              "        [0.2402, 0.6029, 0.1585,  ..., 0.8395, 0.0087, 0.9892],\n",
              "        [0.0940, 0.1420, 0.3597,  ..., 0.9780, 0.9304, 0.2062]],\n",
              "       device='cuda:0')"
            ]
          },
          "execution_count": 123,
          "metadata": {},
          "output_type": "execute_result"
        }
      ],
      "source": [
        "device = torch.device(\"cuda:0\") if torch.cuda.is_available() else torch.device(\"cpu\")\n",
        "\n",
        "x = x.to(device)\n",
        "x"
      ]
    },
    {
      "cell_type": "markdown",
      "metadata": {
        "id": "dI73B59PYKCg"
      },
      "source": [
        "Умножим два тензора в GPU и вернём результат обратно на CPU:"
      ]
    },
    {
      "cell_type": "code",
      "execution_count": 137,
      "metadata": {
        "id": "tA-WQOQVjV1X"
      },
      "outputs": [],
      "source": [
        "a = torch.FloatTensor(10000, 10000).uniform_()\n",
        "b = torch.FloatTensor(10000, 10000).uniform_()\n",
        "c = a.cuda().mul(b.cuda()).cpu()"
      ]
    },
    {
      "cell_type": "code",
      "execution_count": 126,
      "metadata": {
        "colab": {
          "base_uri": "https://localhost:8080/"
        },
        "id": "1ImlgEbwYKCg",
        "outputId": "882b6dcf-a4dd-4635-967c-b0d0d3ba36fb"
      },
      "outputs": [
        {
          "data": {
            "text/plain": [
              "tensor([[0.0251, 0.2305, 0.6523,  ..., 0.0592, 0.1178, 0.0687],\n",
              "        [0.0374, 0.6176, 0.0096,  ..., 0.5626, 0.2275, 0.0362],\n",
              "        [0.2201, 0.3112, 0.3644,  ..., 0.6394, 0.0558, 0.7459],\n",
              "        ...,\n",
              "        [0.2372, 0.1531, 0.0760,  ..., 0.0680, 0.7345, 0.3303],\n",
              "        [0.8909, 0.3358, 0.1624,  ..., 0.0098, 0.0201, 0.1935],\n",
              "        [0.0550, 0.0304, 0.3508,  ..., 0.1363, 0.3058, 0.4290]])"
            ]
          },
          "execution_count": 126,
          "metadata": {},
          "output_type": "execute_result"
        }
      ],
      "source": [
        "c"
      ]
    },
    {
      "cell_type": "code",
      "execution_count": 127,
      "metadata": {
        "colab": {
          "base_uri": "https://localhost:8080/"
        },
        "id": "4DAN9MhDYKCh",
        "outputId": "3d85f97e-8a09-4960-cb8f-17289c4f59bf"
      },
      "outputs": [
        {
          "data": {
            "text/plain": [
              "tensor([[0.0346, 0.2976, 0.9788,  ..., 0.1140, 0.1342, 0.7839],\n",
              "        [0.6598, 0.6327, 0.8663,  ..., 0.7061, 0.6690, 0.0784],\n",
              "        [0.7124, 0.7817, 0.9670,  ..., 0.9397, 0.3509, 0.8556],\n",
              "        ...,\n",
              "        [0.3943, 0.4005, 0.0836,  ..., 0.3510, 0.9164, 0.5134],\n",
              "        [0.9595, 0.4254, 0.1834,  ..., 0.1568, 0.0992, 0.2477],\n",
              "        [0.9430, 0.1982, 0.3629,  ..., 0.9855, 0.4429, 0.5108]])"
            ]
          },
          "execution_count": 127,
          "metadata": {},
          "output_type": "execute_result"
        }
      ],
      "source": [
        "a"
      ]
    },
    {
      "cell_type": "markdown",
      "metadata": {
        "id": "xWc-PiA9YKCi"
      },
      "source": [
        "Тензоры из разных областей памяти не совместимы:"
      ]
    },
    {
      "cell_type": "code",
      "execution_count": 138,
      "metadata": {
        "id": "1lwV1sgSYKCi"
      },
      "outputs": [],
      "source": [
        "a = torch.FloatTensor(10000, 10000).uniform_().cpu()\n",
        "b = torch.FloatTensor(10000, 10000).uniform_().cuda()"
      ]
    },
    {
      "cell_type": "code",
      "execution_count": null,
      "metadata": {
        "colab": {
          "base_uri": "https://localhost:8080/",
          "height": 162
        },
        "id": "G6tYdYtTYKCj",
        "outputId": "f92ecd9b-052a-401f-b0db-530e7bd20579"
      },
      "outputs": [
        {
          "ename": "RuntimeError",
          "evalue": "ignored",
          "output_type": "error",
          "traceback": [
            "\u001b[0;31m---------------------------------------------------------------------------\u001b[0m",
            "\u001b[0;31mRuntimeError\u001b[0m                              Traceback (most recent call last)",
            "\u001b[0;32m<ipython-input-158-bd58363a63fc>\u001b[0m in \u001b[0;36m<module>\u001b[0;34m()\u001b[0m\n\u001b[0;32m----> 1\u001b[0;31m \u001b[0ma\u001b[0m \u001b[0;34m+\u001b[0m \u001b[0mb\u001b[0m\u001b[0;34m\u001b[0m\u001b[0;34m\u001b[0m\u001b[0m\n\u001b[0m",
            "\u001b[0;31mRuntimeError\u001b[0m: Expected all tensors to be on the same device, but found at least two devices, cuda:0 and cpu!"
          ]
        }
      ],
      "source": [
        "a + b"
      ]
    },
    {
      "cell_type": "markdown",
      "metadata": {
        "id": "QEtwaIxDYKCk"
      },
      "source": [
        "### Пример работы на GPU"
      ]
    },
    {
      "cell_type": "code",
      "execution_count": null,
      "metadata": {
        "id": "PRmnPD5EcpcF"
      },
      "outputs": [],
      "source": [
        "device = 'cuda' if torch.cuda.is_available() else 'cpu'"
      ]
    },
    {
      "cell_type": "code",
      "execution_count": 139,
      "metadata": {
        "colab": {
          "base_uri": "https://localhost:8080/"
        },
        "id": "bJgVfAbUYKCk",
        "outputId": "b5c1875f-9b45-4ced-94ca-01470a030cf5",
        "scrolled": true
      },
      "outputs": [
        {
          "name": "stdout",
          "output_type": "stream",
          "text": [
            "tensor([[[1.7063, 1.4750, 1.2276, 1.7523, 1.4049],\n",
            "         [1.3869, 1.6311, 1.7740, 1.2658, 1.4127],\n",
            "         [1.5529, 1.2748, 1.3835, 1.5655, 1.7126],\n",
            "         [1.3132, 1.5652, 1.7782, 1.7928, 1.6647],\n",
            "         [1.2433, 1.8936, 1.6671, 1.7121, 1.4216]],\n",
            "\n",
            "        [[1.0130, 1.8276, 1.6246, 1.2229, 1.5399],\n",
            "         [1.8321, 1.4671, 1.7405, 1.1040, 1.5557],\n",
            "         [1.1068, 1.5182, 1.0166, 1.9734, 1.7935],\n",
            "         [1.3533, 1.2881, 1.6406, 1.5526, 1.8521],\n",
            "         [1.8552, 1.6599, 1.3428, 1.8215, 1.9576]],\n",
            "\n",
            "        [[1.0012, 1.0786, 1.8701, 1.4099, 1.7189],\n",
            "         [1.0175, 1.4195, 1.6537, 1.1808, 1.4588],\n",
            "         [1.2695, 1.5470, 1.4540, 1.5368, 1.1987],\n",
            "         [1.9200, 1.8454, 1.7007, 1.9713, 1.3406],\n",
            "         [1.5413, 1.6374, 1.0155, 1.1869, 1.2981]],\n",
            "\n",
            "        [[1.7685, 1.9484, 1.1500, 1.5436, 1.8334],\n",
            "         [1.8987, 1.9369, 1.8420, 1.1812, 1.4225],\n",
            "         [1.1699, 1.1372, 1.9524, 1.2254, 1.9185],\n",
            "         [1.9713, 1.6813, 1.5288, 1.6267, 1.4832],\n",
            "         [1.1453, 1.5164, 1.8828, 1.1207, 1.1928]],\n",
            "\n",
            "        [[1.8614, 1.6667, 1.7517, 1.8213, 1.7706],\n",
            "         [1.8174, 1.9578, 1.2800, 1.0894, 1.9927],\n",
            "         [1.1080, 1.7215, 1.6080, 1.6796, 1.0626],\n",
            "         [1.4178, 1.7451, 1.7515, 1.4536, 1.4393],\n",
            "         [1.9943, 1.3361, 1.9427, 1.8113, 1.1431]]], device='cuda:0')\n",
            "tensor([[[1.7063, 1.4750, 1.2276, 1.7523, 1.4049],\n",
            "         [1.3869, 1.6311, 1.7740, 1.2658, 1.4127],\n",
            "         [1.5529, 1.2748, 1.3835, 1.5655, 1.7126],\n",
            "         [1.3132, 1.5652, 1.7782, 1.7928, 1.6647],\n",
            "         [1.2433, 1.8936, 1.6671, 1.7121, 1.4216]],\n",
            "\n",
            "        [[1.0130, 1.8276, 1.6246, 1.2229, 1.5399],\n",
            "         [1.8321, 1.4671, 1.7405, 1.1040, 1.5557],\n",
            "         [1.1068, 1.5182, 1.0166, 1.9734, 1.7935],\n",
            "         [1.3533, 1.2881, 1.6406, 1.5526, 1.8521],\n",
            "         [1.8552, 1.6599, 1.3428, 1.8215, 1.9576]],\n",
            "\n",
            "        [[1.0012, 1.0786, 1.8701, 1.4099, 1.7189],\n",
            "         [1.0175, 1.4195, 1.6537, 1.1808, 1.4588],\n",
            "         [1.2695, 1.5470, 1.4540, 1.5368, 1.1987],\n",
            "         [1.9200, 1.8454, 1.7007, 1.9713, 1.3406],\n",
            "         [1.5413, 1.6374, 1.0155, 1.1869, 1.2981]],\n",
            "\n",
            "        [[1.7685, 1.9484, 1.1500, 1.5436, 1.8334],\n",
            "         [1.8987, 1.9369, 1.8420, 1.1812, 1.4225],\n",
            "         [1.1699, 1.1372, 1.9524, 1.2254, 1.9185],\n",
            "         [1.9713, 1.6813, 1.5288, 1.6267, 1.4832],\n",
            "         [1.1453, 1.5164, 1.8828, 1.1207, 1.1928]],\n",
            "\n",
            "        [[1.8614, 1.6667, 1.7517, 1.8213, 1.7706],\n",
            "         [1.8174, 1.9578, 1.2800, 1.0894, 1.9927],\n",
            "         [1.1080, 1.7215, 1.6080, 1.6796, 1.0626],\n",
            "         [1.4178, 1.7451, 1.7515, 1.4536, 1.4393],\n",
            "         [1.9943, 1.3361, 1.9427, 1.8113, 1.1431]]], dtype=torch.float64)\n"
          ]
        }
      ],
      "source": [
        "x = torch.FloatTensor(5, 5, 5).uniform_()\n",
        "\n",
        "# проверить наличие CUDA (NVIDIA GPU)\n",
        "if torch.cuda.is_available():\n",
        "    # получить имя устройства CUDA\n",
        "    device = torch.device('cuda')          # Объект CUDA-устройства\n",
        "    y = torch.ones_like(x, device=device)  # создаем тензор на GPU\n",
        "    x = x.to(device)                       # или просто `.to(\"cuda\")`\n",
        "    z = x + y\n",
        "    print(z)\n",
        "    # вы можете установить тип во время операции `.to`\n",
        "    print(z.to(\"cpu\", torch.double))"
      ]
    },
    {
      "cell_type": "markdown",
      "metadata": {
        "id": "iFg82MJIYKCl"
      },
      "source": [
        "## AutoGrad\n",
        "\n",
        "За что мы любим PyTorch --- за то, что в нём можно автоматически дифференцировать функции! Об этом можно было бы только мечтать в Numpy. Дифференцирование функций происходит по формуле производной композиции."
      ]
    },
    {
      "cell_type": "markdown",
      "metadata": {
        "id": "63BaBsy4iuwl"
      },
      "source": [
        "**Правило производной композиции (a.k.a. backpropagation)**\n",
        "\n",
        "Пусть есть функция $f(w(\\theta))$. Вычислим её производную:\n",
        "$${\\frac  {\\partial{f}}{\\partial{\\theta}}}\n",
        "={\\frac  {\\partial{f}}{\\partial{w}}}\\cdot {\\frac  {\\partial{w}}{\\partial{\\theta}}}$$\n",
        "\n",
        "\n",
        "*Как рассказывалось на лекции, в многомерном случае можно записать аналог этой формулы:*\n",
        "$$\n",
        "D_\\theta(f\\circ w) = D_{w(\\theta)}(f)\\circ D_\\theta(w)\n",
        "$$\n",
        "\n",
        "Простой пример обратного распространения градиента:\n",
        "\n",
        "$$y = \\sin \\left(x_2^2(x_1 + x_2)\\right)$$\n",
        "\n",
        "<img src=\"https://ars.els-cdn.com/content/image/1-s2.0-S0010465515004099-gr1.jpg\" width=700></img>\n"
      ]
    },
    {
      "cell_type": "markdown",
      "metadata": {
        "id": "udpOWYK-YKCm"
      },
      "source": [
        "Autograd позволяет производить автоматическое дифференцирование для всех операций на тензорах. Граф вычислений, в отличие от Tensorflow, строится динамически. Давайте посмотрим, как это работает."
      ]
    },
    {
      "cell_type": "markdown",
      "metadata": {
        "id": "AEDz971fYKCn"
      },
      "source": [
        "#### Задание. Реализуйте обучение в логистической регрессии"
      ]
    },
    {
      "cell_type": "code",
      "execution_count": null,
      "metadata": {
        "id": "bpie5O9zh0Ar"
      },
      "outputs": [],
      "source": [
        "# Разберем пример: применим линейную регрессию цен на жилье в Бостоне."
      ]
    },
    {
      "cell_type": "code",
      "execution_count": 141,
      "metadata": {
        "colab": {
          "base_uri": "https://localhost:8080/",
          "height": 890
        },
        "id": "Z3IzUjAxh0Oy",
        "outputId": "2dba8e64-b789-4432-94b1-f42c4f64d762"
      },
      "outputs": [
        {
          "name": "stderr",
          "output_type": "stream",
          "text": [
            "/usr/local/lib/python3.7/dist-packages/sklearn/utils/deprecation.py:87: FutureWarning: Function load_boston is deprecated; `load_boston` is deprecated in 1.0 and will be removed in 1.2.\n",
            "\n",
            "    The Boston housing prices dataset has an ethical problem. You can refer to\n",
            "    the documentation of this function for further details.\n",
            "\n",
            "    The scikit-learn maintainers therefore strongly discourage the use of this\n",
            "    dataset unless the purpose of the code is to study and educate about\n",
            "    ethical issues in data science and machine learning.\n",
            "\n",
            "    In this special case, you can fetch the dataset from the original\n",
            "    source::\n",
            "\n",
            "        import pandas as pd\n",
            "        import numpy as np\n",
            "\n",
            "\n",
            "        data_url = \"http://lib.stat.cmu.edu/datasets/boston\"\n",
            "        raw_df = pd.read_csv(data_url, sep=\"\\s+\", skiprows=22, header=None)\n",
            "        data = np.hstack([raw_df.values[::2, :], raw_df.values[1::2, :2]])\n",
            "        target = raw_df.values[1::2, 2]\n",
            "\n",
            "    Alternative datasets include the California housing dataset (i.e.\n",
            "    :func:`~sklearn.datasets.fetch_california_housing`) and the Ames housing\n",
            "    dataset. You can load the datasets as follows::\n",
            "\n",
            "        from sklearn.datasets import fetch_california_housing\n",
            "        housing = fetch_california_housing()\n",
            "\n",
            "    for the California housing dataset and::\n",
            "\n",
            "        from sklearn.datasets import fetch_openml\n",
            "        housing = fetch_openml(name=\"house_prices\", as_frame=True)\n",
            "\n",
            "    for the Ames housing dataset.\n",
            "    \n",
            "  warnings.warn(msg, category=FutureWarning)\n"
          ]
        },
        {
          "data": {
            "image/png": "[encoded data removed]",
            "text/plain": [
              "<Figure size 432x288 with 1 Axes>"
            ]
          },
          "metadata": {
            "needs_background": "light"
          },
          "output_type": "display_data"
        }
      ],
      "source": [
        "import matplotlib.pyplot as plt\n",
        "import torch\n",
        "%matplotlib inline\n",
        "\n",
        "from sklearn.datasets import load_boston\n",
        "boston = load_boston()\n",
        "plt.scatter(boston.data[:, -1], boston.target)\n",
        "None"
      ]
    },
    {
      "cell_type": "code",
      "execution_count": 142,
      "metadata": {
        "id": "PqGRzUWDh0Sz"
      },
      "outputs": [],
      "source": [
        "w = torch.zeros(1, requires_grad=True)\n",
        "b = torch.zeros(1, requires_grad=True)\n",
        "\n",
        "x = torch.tensor(boston.data[:, -1] / 10, dtype=torch.float32)\n",
        "y = torch.tensor(boston.target, dtype=torch.float32)"
      ]
    },
    {
      "cell_type": "code",
      "execution_count": 143,
      "metadata": {
        "id": "ZfSUm56t35Id"
      },
      "outputs": [],
      "source": [
        "y_pred = w * x + b\n",
        "loss = torch.mean((y_pred - y)**2)\n",
        "\n",
        "# propagete gradients\n",
        "loss.backward()"
      ]
    },
    {
      "cell_type": "code",
      "execution_count": 145,
      "metadata": {
        "colab": {
          "base_uri": "https://localhost:8080/"
        },
        "id": "t715-JTs3_fl",
        "outputId": "35f354fc-88d0-4ec5-fedc-96f08226e247"
      },
      "outputs": [
        {
          "name": "stdout",
          "output_type": "stream",
          "text": [
            "dL/dw = \n",
            " tensor([-47.3514])\n",
            "dL/db = \n",
            " tensor([-45.0656])\n"
          ]
        }
      ],
      "source": [
        "print(\"dL/dw = \\n\", w.grad)\n",
        "print(\"dL/db = \\n\", b.grad)"
      ]
    },
    {
      "cell_type": "code",
      "execution_count": 147,
      "metadata": {
        "colab": {
          "base_uri": "https://localhost:8080/",
          "height": 282
        },
        "id": "oFUyNOs335d_",
        "outputId": "451bc549-457c-48cf-d28a-607d3c2aa971"
      },
      "outputs": [
        {
          "data": {
            "image/png": "[encoded data removed]",
            "text/plain": [
              "<Figure size 432x288 with 1 Axes>"
            ]
          },
          "metadata": {
            "needs_background": "light"
          },
          "output_type": "display_data"
        },
        {
          "name": "stdout",
          "output_type": "stream",
          "text": [
            "loss =  38.668156\n"
          ]
        }
      ],
      "source": [
        "from IPython.display import clear_output\n",
        "\n",
        "for i in range(100):\n",
        "\n",
        "    y_pred = w * x + b\n",
        "\n",
        "    # Вычисляем функцию ошибок\n",
        "    loss = torch.mean((y_pred - y)**2)\n",
        "\n",
        "    # Вычисляем градиенты\n",
        "    loss.backward()\n",
        "\n",
        "\n",
        "    # Делаем шаг градиентного спуска по матрице весов\n",
        "    w.data -= 0.05*w.grad.data\n",
        "    b.data -= 0.05*b.grad.data\n",
        "\n",
        "    # обнуляем градиенты\n",
        "    w.grad.data.zero_()\n",
        "    b.grad.data.zero_()\n",
        "\n",
        "\n",
        "\n",
        "    # the rest of code is just bells and whistles\n",
        "    if (i+1) % 5 == 0:\n",
        "        clear_output(True)\n",
        "        plt.scatter(x.data.numpy(), y.data.numpy())\n",
        "        plt.scatter(x.data.numpy(), y_pred.data.numpy(),\n",
        "                    color='orange', linewidth=5)\n",
        "        plt.show()\n",
        "\n",
        "        print(\"loss = \", loss.data.numpy())\n",
        "        if loss.data.numpy() < 0.5:\n",
        "            print(\"Done!\")\n",
        "            break"
      ]
    },
    {
      "cell_type": "markdown",
      "metadata": {
        "id": "N8QDKc1D4HHo"
      },
      "source": [
        "Посмотрим градиенты на примере двухслойной сети"
      ]
    },
    {
      "cell_type": "code",
      "execution_count": 148,
      "metadata": {
        "id": "rYWqXsAjYKCn"
      },
      "outputs": [],
      "source": [
        "dtype = torch.float\n",
        "device = torch.device(\"cuda:0\")\n",
        "# device = torch.device(\"cuda:0\") # Раскомментируйте это, чтобы запустить на GPU\n",
        "\n",
        "# N - размер батча; D_in - входной размер;\n",
        "# H - размер скрытого слоя; D_out - размер вывода.\n",
        "N, D_in, H, D_out = 64, 3, 3, 10\n",
        "N, D_in, H, D_out = 64, 3, 3, 10\n",
        "\n",
        "# Создание случайных тензоров для хранения входных и выходных данных.\n",
        "# Настройка requires_grad = False указывает, что нам не нужно вычислять градиенты\n",
        "# по отношению к этим тензорам во время обратного прохода.\n",
        "x = torch.randn(N, D_in, device=device, dtype=dtype)\n",
        "y = torch.randn(N, D_out, device=device, dtype=dtype)\n",
        "\n",
        "# Создаем тензоры случайных весов.\n",
        "# Настройка requires_grad = True указывает, что мы хотим вычислять градиенты с\n",
        "# уважение к этим тензорам во время обратного прохода.\n",
        "\n",
        "# Create random Tensors for weights.\n",
        "# Установка requires_grad = True указывает, что мы хотим вычислить градиенты \n",
        "# относительно этих тензоров во время обратного прохода.\n",
        "w1 = torch.randn(D_in, H, device=device, dtype=dtype, requires_grad=True)\n",
        "w2 = torch.randn(H, D_out, device=device, dtype=dtype, requires_grad=True)"
      ]
    },
    {
      "cell_type": "code",
      "execution_count": 150,
      "metadata": {
        "id": "cpDU8Q-LifdW"
      },
      "outputs": [],
      "source": [
        "y_pred = (x @ w1).clamp(min=0).matmul(w2)\n",
        "loss = (y_pred - y).pow(2).sum()\n",
        "\n",
        "# вычисляем градиенты\n",
        "loss.backward()"
      ]
    },
    {
      "cell_type": "code",
      "execution_count": 151,
      "metadata": {
        "colab": {
          "base_uri": "https://localhost:8080/"
        },
        "id": "T3vfuF-wXS8O",
        "outputId": "e4bbeaa1-c403-4ab4-f54c-81c346d294eb"
      },
      "outputs": [
        {
          "name": "stdout",
          "output_type": "stream",
          "text": [
            "tensor(1838.9771, device='cuda:0', grad_fn=<SumBackward0>)\n"
          ]
        }
      ],
      "source": [
        "print((y_pred - y).pow(2).sum())"
      ]
    },
    {
      "cell_type": "code",
      "execution_count": 152,
      "metadata": {
        "colab": {
          "base_uri": "https://localhost:8080/"
        },
        "id": "qLkn5C7JYKCp",
        "outputId": "e0581219-feb9-4c8d-ede3-66450d61183f"
      },
      "outputs": [
        {
          "data": {
            "text/plain": [
              "(tensor([[  368.7816,   546.1637,  -463.6481],\n",
              "         [-1043.1340, -1491.6526,  1267.4487],\n",
              "         [ -762.0441,  -546.2084,   770.9975]], device='cuda:0'),\n",
              " tensor([[ -443.8810,   -40.1662,  -181.8093,   106.8646,   331.9453,   -29.8599,\n",
              "             86.4339,   331.9987,  -845.1512,  -125.1633],\n",
              "         [ -928.9766,   -76.4074,  -369.6237,   220.1848,   684.0796,   -70.5497,\n",
              "            178.8335,   682.7761, -1757.8671,  -255.8508],\n",
              "         [ -429.4583,    -5.2751,  -131.1173,    95.7368,   286.6295,   -59.2716,\n",
              "             75.5480,   277.9562,  -771.3682,  -101.7390]], device='cuda:0'))"
            ]
          },
          "execution_count": 152,
          "metadata": {},
          "output_type": "execute_result"
        }
      ],
      "source": [
        "w1.grad, w2.grad"
      ]
    },
    {
      "cell_type": "code",
      "execution_count": 153,
      "metadata": {
        "colab": {
          "base_uri": "https://localhost:8080/"
        },
        "id": "jr19Gh3ZU2Ws",
        "outputId": "df8f6224-c01b-4d6c-e6e0-1aee0ac2eb46"
      },
      "outputs": [
        {
          "name": "stderr",
          "output_type": "stream",
          "text": [
            "/usr/local/lib/python3.7/dist-packages/torch/_tensor.py:1013: UserWarning: The .grad attribute of a Tensor that is not a leaf Tensor is being accessed. Its .grad attribute won't be populated during autograd.backward(). If you indeed want the .grad field to be populated for a non-leaf Tensor, use .retain_grad() on the non-leaf Tensor. If you access the non-leaf Tensor by mistake, make sure you access the leaf Tensor instead. See github.com/pytorch/pytorch/pull/30531 for more informations. (Triggered internally at  aten/src/ATen/core/TensorBody.h:417.)\n",
            "  return self._grad\n"
          ]
        }
      ],
      "source": [
        "loss.grad # нет доступа к нелистовым градиентам в дереве AD"
      ]
    },
    {
      "cell_type": "code",
      "execution_count": 154,
      "metadata": {
        "id": "9U4CN8EQSrrr"
      },
      "outputs": [],
      "source": [
        "# заставляем переменную запоминать градиенты фнукции потерь\n",
        "y_pred = (x @ w1).clamp(min=0).matmul(w2)\n",
        "y_pred.retain_grad()\n",
        "\n",
        "loss = (y_pred - y).pow(2).sum()\n",
        "loss.retain_grad()\n",
        "\n",
        "loss.backward()"
      ]
    },
    {
      "cell_type": "code",
      "execution_count": 155,
      "metadata": {
        "colab": {
          "base_uri": "https://localhost:8080/"
        },
        "id": "IKj2jd0LSwI_",
        "outputId": "7e15d035-125e-4eb2-ded6-49a7954c2235"
      },
      "outputs": [
        {
          "data": {
            "text/plain": [
              "tensor(1., device='cuda:0')"
            ]
          },
          "execution_count": 155,
          "metadata": {},
          "output_type": "execute_result"
        }
      ],
      "source": [
        "loss.grad"
      ]
    },
    {
      "cell_type": "code",
      "execution_count": 156,
      "metadata": {
        "id": "CYkrFbD5YKCq"
      },
      "outputs": [],
      "source": [
        "x.grad # не требует градиента"
      ]
    },
    {
      "cell_type": "code",
      "execution_count": 157,
      "metadata": {
        "id": "ouMNnbtXYKCr"
      },
      "outputs": [],
      "source": [
        "y.grad # не требует градиента"
      ]
    },
    {
      "cell_type": "markdown",
      "metadata": {
        "id": "DIsqxWIvYKCs"
      },
      "source": [
        "**Замечание:** Градиенты помещаются в поле `.grad` тензоров, на которых они вычисляются."
      ]
    },
    {
      "cell_type": "code",
      "execution_count": 158,
      "metadata": {
        "colab": {
          "base_uri": "https://localhost:8080/"
        },
        "id": "5wU_TFedYKCt",
        "outputId": "1a3b25d0-0406-4ebb-bcbd-1dd966f07493"
      },
      "outputs": [
        {
          "data": {
            "text/plain": [
              "tensor([[ 0.4378,  0.9064,  0.5335],\n",
              "        [-1.2078, -2.5513, -1.1932],\n",
              "        [-0.6893, -1.3248, -0.2380]], device='cuda:0', requires_grad=True)"
            ]
          },
          "execution_count": 158,
          "metadata": {},
          "output_type": "execute_result"
        }
      ],
      "source": [
        "w1"
      ]
    },
    {
      "cell_type": "code",
      "execution_count": 159,
      "metadata": {
        "id": "UhhUL-mwTKaZ"
      },
      "outputs": [],
      "source": [
        "with torch.no_grad():\n",
        "  \n",
        "    pass"
      ]
    },
    {
      "cell_type": "markdown",
      "metadata": {
        "id": "J094WEHQYKCv"
      },
      "source": [
        "## Дополнительные материалы"
      ]
    },
    {
      "cell_type": "markdown",
      "metadata": {
        "id": "ftVUTfvUYKCv"
      },
      "source": [
        "*1). Official PyTorch tutorials: https://pytorch.org/tutorials/beginner/blitz/tensor_tutorial.html#sphx-glr-beginner-blitz-tensor-tutorial-py*"
      ]
    },
    {
      "cell_type": "markdown",
      "metadata": {
        "id": "ovymy5F6YKCw"
      },
      "source": [
        "*2). arXiv article about the deep learning frameworks comparison: https://arxiv.org/pdf/1511.06435.pdf*"
      ]
    },
    {
      "cell_type": "markdown",
      "metadata": {
        "id": "VXEEowQAYKCx"
      },
      "source": [
        "*3). Useful repo with different tutorials: https://github.com/yunjey/pytorch-tutorial*"
      ]
    },
    {
      "cell_type": "markdown",
      "metadata": {
        "id": "9cROZcrYYKC0"
      },
      "source": [
        "*4). Facebook AI Research (main contributor of PyTorch) website: https://facebook.ai/developers/tools*"
      ]
    },
    {
      "cell_type": "code",
      "execution_count": null,
      "metadata": {
        "id": "tNV-701mhorZ"
      },
      "outputs": [],
      "source": []
    },
    {
      "cell_type": "code",
      "execution_count": null,
      "metadata": {
        "id": "E6q3LRiniE13"
      },
      "outputs": [],
      "source": []
    },
    {
      "cell_type": "code",
      "execution_count": null,
      "metadata": {
        "id": "cZSzhGn1l2xi"
      },
      "outputs": [],
      "source": []
    }
  ],
  "metadata": {
    "accelerator": "GPU",
    "colab": {
      "collapsed_sections": [],
      "name": "[seminar]pytorch_basics.ipynb",
      "provenance": []
    },
    "kernelspec": {
      "display_name": "Python 3",
      "name": "python3"
    },
    "language_info": {
      "codemirror_mode": {
        "name": "ipython",
        "version": 3
      },
      "file_extension": ".py",
      "mimetype": "text/x-python",
      "name": "python",
      "nbconvert_exporter": "python",
      "pygments_lexer": "ipython3",
      "version": "3.9.7"
    }
  },
  "nbformat": 4,
  "nbformat_minor": 0
}
