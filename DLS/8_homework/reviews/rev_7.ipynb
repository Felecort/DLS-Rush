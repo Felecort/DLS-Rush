{
 "cells": [
  {
   "cell_type": "markdown",
   "metadata": {
    "id": "TK7oX5qdEEYr"
   },
   "source": [
    "<p style=\"align: center;\"><img align=center src=\"https://s8.hostingkartinok.com/uploads/images/2018/08/308b49fcfbc619d629fe4604bceb67ac.jpg\" width=500 height=450/></p>\n",
    "\n",
    "<h3 style=\"text-align: center;\"><b>Школа глубокого обучения ФПМИ МФТИ</b></h3>\n",
    "\n",
    "<h3 style=\"text-align: center;\"><b>Домашнее задание. Продвинутый поток. Весна 2021</b></h3>\n",
    "\n",
    "Это домашнее задание будет посвящено полноценному решению задачи машинного обучения."
   ]
  },
  {
   "cell_type": "markdown",
   "metadata": {
    "id": "zlB-owfaEEYs"
   },
   "source": [
    "Есть две части этого домашнего задания: \n",
    "* Сделать полноценный отчет о вашей работе: как вы обработали данные, какие модели попробовали и какие результаты получились (максимум 10 баллов). За каждую выполненную часть будет начислено определенное количество баллов.\n",
    "* Лучшее решение отправить в соревнование на [kaggle](https://www.kaggle.com/c/advanced-dls-spring-2021/) (максимум 5 баллов). За прохождение определенного порогов будут начисляться баллы.\n",
    "\n",
    "\n",
    "**Обе части будут проверяться в формате peer-review. Т.е. вашу посылку на степик будут проверять несколько других студентов и аггрегация их оценок будет выставлена. В то же время вам тоже нужно будет проверить несколько других учеников.**\n",
    "\n",
    "**Пожалуйста, делайте свою работу чистой и понятной, чтобы облегчить проверку. Если у вас будут проблемы с решением или хочется совета, то пишите в наш чат в телеграме или в лс @runfme. Если вы захотите проаппелировать оценку, то пипшите в лс @runfme.**\n",
    "\n",
    "**Во всех пунктах указания это минимальный набор вещей, которые стоит сделать. Если вы можете сделать какой-то шаг лучше или добавить что-то свое - дерзайте!**"
   ]
  },
  {
   "cell_type": "markdown",
   "metadata": {
    "id": "Tu_JvqcBEN8Y"
   },
   "source": [
    "# Как проверять?\n",
    "\n",
    "Ставьте полный балл, если выполнены все рекомендации или сделано что-то более интересное и сложное. За каждый отсустствующий пункт из рекомендация снижайте 1 балл."
   ]
  },
  {
   "cell_type": "markdown",
   "metadata": {
    "id": "ninJ63mJEEYt"
   },
   "source": [
    "# Метрика\n",
    "\n",
    "Перед решением любой задачи важно понимать, как будет оцениваться ваше решение. В данном случае мы используем стандартную для задачи классификации метрику ROC-AUC. Ее можно вычислить используя только предсказанные вероятности и истинные классы без конкретного порога классификации + она раотает даже если классы в данных сильно несбалансированны (примеров одного класса в десятки раз больше примеров длугого). Именно поэтому она очень удобна для соревнований.\n",
    "\n",
    "Посчитать ее легко:\n"
   ]
  },
  {
   "cell_type": "code",
   "execution_count": 13,
   "metadata": {
    "ExecuteTime": {
     "end_time": "2022-04-06T17:14:33.355424Z",
     "start_time": "2022-04-06T17:14:33.348438Z"
    },
    "id": "SQIrka7yEEYu",
    "outputId": "ef45a9f2-7571-47b1-e697-b474b65cb0fb"
   },
   "outputs": [
    {
     "data": {
      "text/plain": [
       "0.8333333333333333"
      ]
     },
     "execution_count": 13,
     "metadata": {},
     "output_type": "execute_result"
    }
   ],
   "source": [
    "from sklearn.metrics import roc_auc_score\n",
    "\n",
    "y_true = [\n",
    "    0,\n",
    "    1,\n",
    "    1,\n",
    "    0,\n",
    "    1\n",
    "]\n",
    "\n",
    "y_predictions = [\n",
    "    0.1,\n",
    "    0.9,\n",
    "    0.4,\n",
    "    0.6,\n",
    "    0.61\n",
    "]\n",
    "\n",
    "roc_auc_score(y_true, y_predictions)"
   ]
  },
  {
   "cell_type": "markdown",
   "metadata": {
    "id": "IrDNNkNTEEYz"
   },
   "source": [
    "# Первая часть. Исследование"
   ]
  },
  {
   "cell_type": "code",
   "execution_count": 14,
   "metadata": {
    "ExecuteTime": {
     "end_time": "2022-04-06T17:14:35.303423Z",
     "start_time": "2022-04-06T17:14:35.292438Z"
    },
    "id": "lzLqEeZKEEYz"
   },
   "outputs": [],
   "source": [
    "import pandas as pd\n",
    "import numpy as np\n",
    "from matplotlib import pyplot as plt\n",
    "import seaborn as sns"
   ]
  },
  {
   "cell_type": "markdown",
   "metadata": {
    "id": "LOlxdURSEEY3"
   },
   "source": [
    "## Загрузка данных (2 балла)\n",
    "\n",
    "1) Посмотрите на случайные строчки. \n",
    "\n",
    "2) Посмотрите, есть ли в датасете незаполненные значения (nan'ы) с помощью data.isna() или data.info() и, если нужно, замените их на что-то. Будет хорошо, если вы построите табличку с количеством nan в каждой колонке."
   ]
  },
  {
   "cell_type": "code",
   "execution_count": 15,
   "metadata": {
    "ExecuteTime": {
     "end_time": "2022-04-06T17:14:41.107327Z",
     "start_time": "2022-04-06T17:14:41.069286Z"
    },
    "id": "pw-Brue9EEY3"
   },
   "outputs": [],
   "source": [
    "data_Train = pd.read_csv('./train.csv')\n",
    "data_test = pd.read_csv('./test.csv')"
   ]
  },
  {
   "cell_type": "code",
   "execution_count": 16,
   "metadata": {
    "ExecuteTime": {
     "end_time": "2022-04-06T17:14:42.365196Z",
     "start_time": "2022-04-06T17:14:42.346542Z"
    },
    "id": "KgnkkF5bEEY9"
   },
   "outputs": [],
   "source": [
    "# Для вашего удобства списки с именами разных колонок\n",
    "\n",
    "# Числовые признаки\n",
    "num_cols = [\n",
    "    'ClientPeriod',\n",
    "    'MonthlySpending',\n",
    "    'TotalSpent'\n",
    "]\n",
    "\n",
    "# Категориальные признаки\n",
    "cat_cols = [\n",
    "    'Sex',\n",
    "    'IsSeniorCitizen',\n",
    "    'HasPartner',\n",
    "    'HasChild',\n",
    "    'HasPhoneService',\n",
    "    'HasMultiplePhoneNumbers',\n",
    "    'HasInternetService',\n",
    "    'HasOnlineSecurityService',\n",
    "    'HasOnlineBackup',\n",
    "    'HasDeviceProtection',\n",
    "    'HasTechSupportAccess',\n",
    "    'HasOnlineTV',\n",
    "    'HasMovieSubscription',\n",
    "    'HasContractPhone',\n",
    "    'IsBillingPaperless',\n",
    "    'PaymentMethod'\n",
    "]\n",
    "\n",
    "feature_cols = num_cols + cat_cols\n",
    "target_col = 'Churn'"
   ]
  },
  {
   "cell_type": "code",
   "execution_count": 17,
   "metadata": {
    "ExecuteTime": {
     "end_time": "2022-04-06T17:14:43.672467Z",
     "start_time": "2022-04-06T17:14:43.645463Z"
    },
    "id": "tHC6gWabEEZA"
   },
   "outputs": [
    {
     "data": {
      "text/html": [
       "<div>\n",
       "<style scoped>\n",
       "    .dataframe tbody tr th:only-of-type {\n",
       "        vertical-align: middle;\n",
       "    }\n",
       "\n",
       "    .dataframe tbody tr th {\n",
       "        vertical-align: top;\n",
       "    }\n",
       "\n",
       "    .dataframe thead th {\n",
       "        text-align: right;\n",
       "    }\n",
       "</style>\n",
       "<table border=\"1\" class=\"dataframe\">\n",
       "  <thead>\n",
       "    <tr style=\"text-align: right;\">\n",
       "      <th></th>\n",
       "      <th>ClientPeriod</th>\n",
       "      <th>MonthlySpending</th>\n",
       "      <th>TotalSpent</th>\n",
       "      <th>Sex</th>\n",
       "      <th>IsSeniorCitizen</th>\n",
       "      <th>HasPartner</th>\n",
       "      <th>HasChild</th>\n",
       "      <th>HasPhoneService</th>\n",
       "      <th>HasMultiplePhoneNumbers</th>\n",
       "      <th>HasInternetService</th>\n",
       "      <th>HasOnlineSecurityService</th>\n",
       "      <th>HasOnlineBackup</th>\n",
       "      <th>HasDeviceProtection</th>\n",
       "      <th>HasTechSupportAccess</th>\n",
       "      <th>HasOnlineTV</th>\n",
       "      <th>HasMovieSubscription</th>\n",
       "      <th>HasContractPhone</th>\n",
       "      <th>IsBillingPaperless</th>\n",
       "      <th>PaymentMethod</th>\n",
       "      <th>Churn</th>\n",
       "    </tr>\n",
       "  </thead>\n",
       "  <tbody>\n",
       "    <tr>\n",
       "      <th>0</th>\n",
       "      <td>55</td>\n",
       "      <td>19.50</td>\n",
       "      <td>1026.35</td>\n",
       "      <td>Male</td>\n",
       "      <td>0</td>\n",
       "      <td>Yes</td>\n",
       "      <td>Yes</td>\n",
       "      <td>Yes</td>\n",
       "      <td>No</td>\n",
       "      <td>No</td>\n",
       "      <td>No internet service</td>\n",
       "      <td>No internet service</td>\n",
       "      <td>No internet service</td>\n",
       "      <td>No internet service</td>\n",
       "      <td>No internet service</td>\n",
       "      <td>No internet service</td>\n",
       "      <td>One year</td>\n",
       "      <td>No</td>\n",
       "      <td>Mailed check</td>\n",
       "      <td>0</td>\n",
       "    </tr>\n",
       "    <tr>\n",
       "      <th>1</th>\n",
       "      <td>72</td>\n",
       "      <td>25.85</td>\n",
       "      <td>1872.2</td>\n",
       "      <td>Male</td>\n",
       "      <td>0</td>\n",
       "      <td>Yes</td>\n",
       "      <td>No</td>\n",
       "      <td>Yes</td>\n",
       "      <td>Yes</td>\n",
       "      <td>No</td>\n",
       "      <td>No internet service</td>\n",
       "      <td>No internet service</td>\n",
       "      <td>No internet service</td>\n",
       "      <td>No internet service</td>\n",
       "      <td>No internet service</td>\n",
       "      <td>No internet service</td>\n",
       "      <td>Two year</td>\n",
       "      <td>No</td>\n",
       "      <td>Credit card (automatic)</td>\n",
       "      <td>0</td>\n",
       "    </tr>\n",
       "    <tr>\n",
       "      <th>2</th>\n",
       "      <td>1</td>\n",
       "      <td>75.90</td>\n",
       "      <td>75.9</td>\n",
       "      <td>Male</td>\n",
       "      <td>0</td>\n",
       "      <td>No</td>\n",
       "      <td>No</td>\n",
       "      <td>Yes</td>\n",
       "      <td>No</td>\n",
       "      <td>Fiber optic</td>\n",
       "      <td>No</td>\n",
       "      <td>No</td>\n",
       "      <td>No</td>\n",
       "      <td>Yes</td>\n",
       "      <td>No</td>\n",
       "      <td>No</td>\n",
       "      <td>Month-to-month</td>\n",
       "      <td>Yes</td>\n",
       "      <td>Electronic check</td>\n",
       "      <td>1</td>\n",
       "    </tr>\n",
       "    <tr>\n",
       "      <th>3</th>\n",
       "      <td>32</td>\n",
       "      <td>79.30</td>\n",
       "      <td>2570</td>\n",
       "      <td>Female</td>\n",
       "      <td>1</td>\n",
       "      <td>Yes</td>\n",
       "      <td>No</td>\n",
       "      <td>Yes</td>\n",
       "      <td>Yes</td>\n",
       "      <td>Fiber optic</td>\n",
       "      <td>No</td>\n",
       "      <td>No</td>\n",
       "      <td>Yes</td>\n",
       "      <td>No</td>\n",
       "      <td>No</td>\n",
       "      <td>No</td>\n",
       "      <td>Month-to-month</td>\n",
       "      <td>No</td>\n",
       "      <td>Mailed check</td>\n",
       "      <td>0</td>\n",
       "    </tr>\n",
       "    <tr>\n",
       "      <th>4</th>\n",
       "      <td>60</td>\n",
       "      <td>115.25</td>\n",
       "      <td>6758.45</td>\n",
       "      <td>Female</td>\n",
       "      <td>0</td>\n",
       "      <td>Yes</td>\n",
       "      <td>Yes</td>\n",
       "      <td>Yes</td>\n",
       "      <td>Yes</td>\n",
       "      <td>Fiber optic</td>\n",
       "      <td>Yes</td>\n",
       "      <td>Yes</td>\n",
       "      <td>Yes</td>\n",
       "      <td>Yes</td>\n",
       "      <td>Yes</td>\n",
       "      <td>Yes</td>\n",
       "      <td>Two year</td>\n",
       "      <td>No</td>\n",
       "      <td>Credit card (automatic)</td>\n",
       "      <td>0</td>\n",
       "    </tr>\n",
       "  </tbody>\n",
       "</table>\n",
       "</div>"
      ],
      "text/plain": [
       "   ClientPeriod  MonthlySpending TotalSpent     Sex  IsSeniorCitizen  \\\n",
       "0            55            19.50    1026.35    Male                0   \n",
       "1            72            25.85     1872.2    Male                0   \n",
       "2             1            75.90       75.9    Male                0   \n",
       "3            32            79.30       2570  Female                1   \n",
       "4            60           115.25    6758.45  Female                0   \n",
       "\n",
       "  HasPartner HasChild HasPhoneService HasMultiplePhoneNumbers  \\\n",
       "0        Yes      Yes             Yes                      No   \n",
       "1        Yes       No             Yes                     Yes   \n",
       "2         No       No             Yes                      No   \n",
       "3        Yes       No             Yes                     Yes   \n",
       "4        Yes      Yes             Yes                     Yes   \n",
       "\n",
       "  HasInternetService HasOnlineSecurityService      HasOnlineBackup  \\\n",
       "0                 No      No internet service  No internet service   \n",
       "1                 No      No internet service  No internet service   \n",
       "2        Fiber optic                       No                   No   \n",
       "3        Fiber optic                       No                   No   \n",
       "4        Fiber optic                      Yes                  Yes   \n",
       "\n",
       "   HasDeviceProtection HasTechSupportAccess          HasOnlineTV  \\\n",
       "0  No internet service  No internet service  No internet service   \n",
       "1  No internet service  No internet service  No internet service   \n",
       "2                   No                  Yes                   No   \n",
       "3                  Yes                   No                   No   \n",
       "4                  Yes                  Yes                  Yes   \n",
       "\n",
       "  HasMovieSubscription HasContractPhone IsBillingPaperless  \\\n",
       "0  No internet service         One year                 No   \n",
       "1  No internet service         Two year                 No   \n",
       "2                   No   Month-to-month                Yes   \n",
       "3                   No   Month-to-month                 No   \n",
       "4                  Yes         Two year                 No   \n",
       "\n",
       "             PaymentMethod  Churn  \n",
       "0             Mailed check      0  \n",
       "1  Credit card (automatic)      0  \n",
       "2         Electronic check      1  \n",
       "3             Mailed check      0  \n",
       "4  Credit card (automatic)      0  "
      ]
     },
     "execution_count": 17,
     "metadata": {},
     "output_type": "execute_result"
    }
   ],
   "source": [
    "# Выводим первые 5 элементов учебного датасета\n",
    "data_Train.head(5)"
   ]
  },
  {
   "cell_type": "code",
   "execution_count": 18,
   "metadata": {
    "ExecuteTime": {
     "end_time": "2022-04-06T17:14:49.554438Z",
     "start_time": "2022-04-06T17:14:49.537431Z"
    }
   },
   "outputs": [
    {
     "name": "stdout",
     "output_type": "stream",
     "text": [
      "<class 'pandas.core.frame.DataFrame'>\n",
      "RangeIndex: 5282 entries, 0 to 5281\n",
      "Data columns (total 20 columns):\n",
      " #   Column                    Non-Null Count  Dtype  \n",
      "---  ------                    --------------  -----  \n",
      " 0   ClientPeriod              5282 non-null   int64  \n",
      " 1   MonthlySpending           5282 non-null   float64\n",
      " 2   TotalSpent                5282 non-null   object \n",
      " 3   Sex                       5282 non-null   object \n",
      " 4   IsSeniorCitizen           5282 non-null   int64  \n",
      " 5   HasPartner                5282 non-null   object \n",
      " 6   HasChild                  5282 non-null   object \n",
      " 7   HasPhoneService           5282 non-null   object \n",
      " 8   HasMultiplePhoneNumbers   5282 non-null   object \n",
      " 9   HasInternetService        5282 non-null   object \n",
      " 10  HasOnlineSecurityService  5282 non-null   object \n",
      " 11  HasOnlineBackup           5282 non-null   object \n",
      " 12  HasDeviceProtection       5282 non-null   object \n",
      " 13  HasTechSupportAccess      5282 non-null   object \n",
      " 14  HasOnlineTV               5282 non-null   object \n",
      " 15  HasMovieSubscription      5282 non-null   object \n",
      " 16  HasContractPhone          5282 non-null   object \n",
      " 17  IsBillingPaperless        5282 non-null   object \n",
      " 18  PaymentMethod             5282 non-null   object \n",
      " 19  Churn                     5282 non-null   int64  \n",
      "dtypes: float64(1), int64(3), object(16)\n",
      "memory usage: 825.4+ KB\n"
     ]
    }
   ],
   "source": [
    "#  и выводим характеристику датасета в целом\n",
    "data_Train.info()\n",
    "# NaN-ов нет."
   ]
  },
  {
   "cell_type": "markdown",
   "metadata": {
    "id": "dK370bPCEEZD"
   },
   "source": [
    "## Анализ данных (3 балла)\n",
    "\n",
    "1) Для численных призанков постройте гистограмму (*plt.hist(...)*) или boxplot (*plt.boxplot(...)*). Для категориальных посчитайте количество каждого значения для каждого признака. Для каждой колонки надо сделать *data.value_counts()* и построить bar диаграммы *plt.bar(...)* или круговые диаграммы *plt.pie(...)* (хорошо, елси вы сможете это сделать на одном гарфике с помощью *plt.subplots(...)*). \n",
    "\n",
    "2) Посмотрите на распределение целевой переменной и скажите, являются ли классы несбалансированными.\n",
    "\n",
    "3) (Если будет желание) Поиграйте с разными библиотеками для визуализации - *sns*, *pandas_visual_analysis*, etc.\n",
    "\n",
    "Второй пункт очень важен, потому что существуют задачи классификации с несбалансированными классами. Например, это может значить, что в датасете намного больше примеров 0 класса. В таких случаях нужно 1) не использовать accuracy как метрику 2) использовать методы борьбы с imbalanced dataset (обычно если датасет сильно несбалансирован, т.е. класса 1 в 20 раз меньше класса 0)."
   ]
  },
  {
   "cell_type": "code",
   "execution_count": 19,
   "metadata": {
    "ExecuteTime": {
     "end_time": "2022-04-06T17:15:04.459864Z",
     "start_time": "2022-04-06T17:15:03.896436Z"
    },
    "scrolled": true
   },
   "outputs": [
    {
     "name": "stdout",
     "output_type": "stream",
     "text": [
      "<class 'str'>\n",
      "9\n"
     ]
    },
    {
     "data": {
      "text/plain": [
       "<AxesSubplot:xlabel='TotalSpent', ylabel='Count'>"
      ]
     },
     "execution_count": 19,
     "metadata": {},
     "output_type": "execute_result"
    },
    {
     "data": {
      "image/png": "[encoded data removed]",
      "text/plain": [
       "<Figure size 771x648 with 1 Axes>"
      ]
     },
     "metadata": {
      "needs_background": "light"
     },
     "output_type": "display_data"
    },
    {
     "data": {
      "image/png": "[encoded data removed]",
      "text/plain": [
       "<Figure size 720x504 with 1 Axes>"
      ]
     },
     "metadata": {
      "needs_background": "light"
     },
     "output_type": "display_data"
    }
   ],
   "source": [
    "# Total_Spent не отображается, так как записан в виде строки. Переведем значения признака в числа.\n",
    "print(type(num_cols[2]))\n",
    "data_Train[num_cols[2]] = pd.to_numeric(data_Train[num_cols[2]], errors='coerce')\n",
    "\n",
    "# Удаляем NaN-ы\n",
    "print(data_Train[num_cols[2]].isna().sum())\n",
    "data_Train.dropna(inplace=True)\n",
    "\n",
    "# Распределение num_cols без Total_Spent\n",
    "sns.displot(data_Train[num_cols[:2]], height=9)\n",
    "\n",
    "# Total_Spent\n",
    "plt.figure(figsize=(10,7))\n",
    "sns.histplot(data_Train[num_cols[2]])"
   ]
  },
  {
   "cell_type": "code",
   "execution_count": 20,
   "metadata": {
    "ExecuteTime": {
     "end_time": "2022-04-06T17:15:11.796980Z",
     "start_time": "2022-04-06T17:15:10.465635Z"
    }
   },
   "outputs": [
    {
     "data": {
      "image/png": "[encoded data removed]",
      "text/plain": [
       "<Figure size 1440x1080 with 16 Axes>"
      ]
     },
     "metadata": {
      "needs_background": "light"
     },
     "output_type": "display_data"
    }
   ],
   "source": [
    "# Распределение cat_cols\n",
    "fig, axes = plt.subplots(nrows=4, ncols=4, figsize=(20, 15))\n",
    "\n",
    "for row_index, axis_row in enumerate(axes):\n",
    "    for ax_index, axis in enumerate(axis_row):\n",
    "        index = ax_index + 4 * row_index\n",
    "        counts = data_Train[cat_cols[index]].value_counts()\n",
    "        names = [name.split()[0] if index == 15 else name for name in counts.index]\n",
    "        \n",
    "        countplot = sns.barplot(x=names, y=counts.values, ax=axis)\n",
    "        countplot.set_xlabel(cat_cols[index])\n",
    "        countplot.set_ylabel('count')"
   ]
  },
  {
   "cell_type": "code",
   "execution_count": 21,
   "metadata": {
    "ExecuteTime": {
     "end_time": "2022-04-06T17:15:12.083935Z",
     "start_time": "2022-04-06T17:15:11.797980Z"
    }
   },
   "outputs": [
    {
     "data": {
      "text/plain": [
       "<AxesSubplot:xlabel='Churn', ylabel='count'>"
      ]
     },
     "execution_count": 21,
     "metadata": {},
     "output_type": "execute_result"
    },
    {
     "data": {
      "image/png": "[encoded data removed]",
      "text/plain": [
       "<Figure size 432x288 with 1 Axes>"
      ]
     },
     "metadata": {
      "needs_background": "light"
     },
     "output_type": "display_data"
    }
   ],
   "source": [
    "# Распределение целевой переменной, классы в целом сбалансированы.\n",
    "sns.countplot(x=data_Train['Churn'])"
   ]
  },
  {
   "cell_type": "markdown",
   "metadata": {
    "id": "zg60u3QDEEZH"
   },
   "source": [
    "(Дополнительно) Если вы нашли какие-то ошибки в данных или выбросы, то можете их убрать. Тут можно поэксперементировать с обработкой данных как угодно, но не за баллы."
   ]
  },
  {
   "cell_type": "markdown",
   "metadata": {
    "id": "DviiJd8REEZK"
   },
   "source": [
    "## Применение линейных моделей (3 балла)\n",
    "\n",
    "1) Обработайте данные для того, чтобы к ним можно было применить LogisticRegression. Т.е. отнормируйте числовые признаки, а категориальные закодируйте с помощью one-hot-encoding'а. \n",
    "\n",
    "2) С помощью кроссвалидации или разделения на train/valid выборку протестируйте разные значения гиперпараметра C и выберите лучший (можно тестировать С=100, 10, 1, 0.1, 0.01, 0.001) по метрике ROC-AUC. \n",
    "\n",
    "Если вы разделяете на train/valid, то используйте LogisticRegressionCV. Он сам при вызове .fit() подберет параметр С. (не забудьте передать scroing='roc_auc', чтобы при кроссвалидации сравнивались значения этой метрики, и refit=True, чтобы при потом модель обучилась на всем датасете с лучшим параметром C). \n",
    "\n",
    "\n",
    "(более сложный вариант) Если вы будете использовать кроссвалидацию, то преобразования данных и LogisticRegression нужно соединить в один Pipeline с помощью make_pipeline, как это делалось во втором семинаре. Потом pipeline надо передать в GridSearchCV. Для one-hot-encoding'a можно испльзовать комбинацию LabelEncoder + OneHotEncoder (сначала превращаем строчки в числа, а потом числа првращаем в one-hot вектора.)"
   ]
  },
  {
   "cell_type": "code",
   "execution_count": 22,
   "metadata": {
    "ExecuteTime": {
     "end_time": "2022-04-06T17:15:27.865444Z",
     "start_time": "2022-04-06T17:15:27.861446Z"
    },
    "id": "xHCLDmwqEEZL"
   },
   "outputs": [],
   "source": [
    "from sklearn.linear_model import LogisticRegression, LogisticRegressionCV\n",
    "from sklearn.model_selection import train_test_split, GridSearchCV\n",
    "from sklearn.preprocessing import StandardScaler, RobustScaler, LabelEncoder, OneHotEncoder\n",
    "from sklearn.pipeline import make_pipeline\n",
    "from sklearn.impute import SimpleImputer"
   ]
  },
  {
   "cell_type": "code",
   "execution_count": 23,
   "metadata": {
    "ExecuteTime": {
     "end_time": "2022-04-06T17:15:31.128440Z",
     "start_time": "2022-04-06T17:15:31.105447Z"
    }
   },
   "outputs": [],
   "source": [
    "# Разделяем выборку на тестовую и вектор таргетов\n",
    "X_train, X_test, y_train, y_test = train_test_split(data_Train[feature_cols], data_Train[target_col], test_size=0.3, random_state=42)"
   ]
  },
  {
   "cell_type": "code",
   "execution_count": 24,
   "metadata": {
    "ExecuteTime": {
     "end_time": "2022-04-06T17:19:20.733777Z",
     "start_time": "2022-04-06T17:19:18.063695Z"
    }
   },
   "outputs": [
    {
     "name": "stdout",
     "output_type": "stream",
     "text": [
      "roc-auc score : 0.8443653252973515\n",
      "best params : {'logisticregression__C': 100, 'logisticregression__penalty': 'l2', 'logisticregression__solver': 'lbfgs'}\n"
     ]
    }
   ],
   "source": [
    "# Нормируем/Я так и не разобрался как реализовать OneHotEncoding и LabelEncoding в пайплайне :( Буду благодарен, если вы мне подскажете :)\n",
    "for i in cat_cols:\n",
    "    X_train[i] = LabelEncoder().fit_transform(X_train[i])\n",
    "    X_test[i] = LabelEncoder().fit_transform(X_test[i])\n",
    "OneHotEncoder().fit_transform(X_train)\n",
    "OneHotEncoder().fit_transform(X_test)\n",
    "\n",
    "# Pipeline\n",
    "pipe = make_pipeline(StandardScaler(), LogisticRegression())\n",
    "\n",
    "# Параметры сетки\n",
    "params = {}\n",
    "params['logisticregression__C'] = [0.001,0.01,0.1,1,10,100]\n",
    "params['logisticregression__penalty'] = ['l2']\n",
    "params['logisticregression__solver'] = ['liblinear', 'newton-cg', 'sag', 'saga', 'lbfgs']\n",
    "\n",
    "# Модель\n",
    "grid = GridSearchCV(estimator=pipe, param_grid=params, cv=5, scoring='roc_auc', refit=True)\n",
    "grid.fit(X_train, y_train)\n",
    "\n",
    "# Results\n",
    "print(f'roc-auc score : {grid.best_score_}')\n",
    "print(f'best params : {grid.best_params_}')\n",
    "\n",
    "# На данных из Каггла будет 0.76, модель переобучилась"
   ]
  },
  {
   "cell_type": "markdown",
   "metadata": {
    "id": "uVahy6JKEEZQ"
   },
   "source": [
    "Выпишите какое лучшее качество и с какими параметрами вам удалось получить"
   ]
  },
  {
   "cell_type": "markdown",
   "metadata": {
    "id": "BlTeVy7fEEZR"
   },
   "source": [
    "## Применение градиентного бустинга (2 балла)\n",
    "\n",
    "Если вы хотите получить баллы за точный ответ, то стоит попробовать градиентный бустинг. Часто градиентный бустинг с дефолтными параметрами даст вам 80% результата за 0% усилий.\n",
    "\n",
    "Мы будем использовать catboost, поэтому нам не надо кодировать категориальные признаки. catboost сделает это сам (в .fit() надо передать cat_features=cat_cols). А численные признаки нормировать для моделей, основанных на деревьях не нужно.\n",
    "\n",
    "1) Разделите выборку на train/valid. Протестируйте catboost cо стандартными параметрами.\n",
    "\n",
    "2) Протестируйте разные занчения параметроа количества деревьев и learning_rate'а и выберите лучшую по метрике ROC-AUC комбинацию. \n",
    "\n",
    "(Дополнительно) Есть некоторые сложности с тем, чтобы использовать CatBoostClassifier вместе с GridSearchCV, поэтому мы не просим использовать кроссвалидацию. Но можете попробовать)"
   ]
  },
  {
   "cell_type": "code",
   "execution_count": 25,
   "metadata": {
    "ExecuteTime": {
     "end_time": "2022-04-06T17:20:28.235349Z",
     "start_time": "2022-04-06T17:20:28.222340Z"
    }
   },
   "outputs": [],
   "source": [
    "from catboost import CatBoostClassifier\n",
    "\n",
    "# Разделяем выборку на тестовую и вектор таргетов\n",
    "X_train, X_test, y_train, y_test = train_test_split(data_Train[feature_cols], data_Train[target_col], test_size=0.5, random_state=42)"
   ]
  },
  {
   "cell_type": "code",
   "execution_count": 26,
   "metadata": {
    "ExecuteTime": {
     "end_time": "2022-04-06T17:25:38.641921Z",
     "start_time": "2022-04-06T17:25:15.392668Z"
    }
   },
   "outputs": [
    {
     "ename": "NameError",
     "evalue": "name 'cbcv' is not defined",
     "output_type": "error",
     "traceback": [
      "\u001b[1;31m---------------------------------------------------------------------------\u001b[0m",
      "\u001b[1;31mNameError\u001b[0m                                 Traceback (most recent call last)",
      "\u001b[1;32m~\\AppData\\Local\\Temp/ipykernel_5296/1190260645.py\u001b[0m in \u001b[0;36m<module>\u001b[1;34m\u001b[0m\n\u001b[0;32m      4\u001b[0m \u001b[1;33m\u001b[0m\u001b[0m\n\u001b[0;32m      5\u001b[0m \u001b[0mcbcvd\u001b[0m\u001b[1;33m.\u001b[0m\u001b[0mfit\u001b[0m\u001b[1;33m(\u001b[0m\u001b[0mdata_Train\u001b[0m\u001b[1;33m[\u001b[0m\u001b[0mfeature_cols\u001b[0m\u001b[1;33m]\u001b[0m\u001b[1;33m,\u001b[0m \u001b[0mdata_Train\u001b[0m\u001b[1;33m[\u001b[0m\u001b[0mtarget_col\u001b[0m\u001b[1;33m]\u001b[0m\u001b[1;33m,\u001b[0m \u001b[0mcat_features\u001b[0m\u001b[1;33m=\u001b[0m\u001b[0mcat_cols\u001b[0m\u001b[1;33m,\u001b[0m \u001b[0mverbose\u001b[0m\u001b[1;33m=\u001b[0m\u001b[1;32mFalse\u001b[0m\u001b[1;33m)\u001b[0m\u001b[1;33m\u001b[0m\u001b[1;33m\u001b[0m\u001b[0m\n\u001b[1;32m----> 6\u001b[1;33m \u001b[0mprint\u001b[0m\u001b[1;33m(\u001b[0m\u001b[1;34mf'roc-auc score : {cbcv.best_score_}'\u001b[0m\u001b[1;33m)\u001b[0m\u001b[1;33m\u001b[0m\u001b[1;33m\u001b[0m\u001b[0m\n\u001b[0m",
      "\u001b[1;31mNameError\u001b[0m: name 'cbcv' is not defined"
     ]
    }
   ],
   "source": [
    "# default\n",
    "\n",
    "cbcvd = CatBoostClassifier(cat_features=cat_cols)\n",
    "\n",
    "cbcvd.fit(data_Train[feature_cols], data_Train[target_col], cat_features=cat_cols, verbose=False)\n"
   ]
  },
  {
   "cell_type": "code",
   "execution_count": 27,
   "metadata": {},
   "outputs": [
    {
     "name": "stdout",
     "output_type": "stream",
     "text": [
      "roc-auc score : {'learn': {'Logloss': 0.33171478267597737}}\n"
     ]
    }
   ],
   "source": [
    "\n",
    "print(f'roc-auc score : {cbcvd.best_score_}')"
   ]
  },
  {
   "cell_type": "code",
   "execution_count": 28,
   "metadata": {
    "ExecuteTime": {
     "end_time": "2022-04-06T17:28:31.913588Z",
     "start_time": "2022-04-06T17:26:43.967701Z"
    }
   },
   "outputs": [
    {
     "name": "stdout",
     "output_type": "stream",
     "text": [
      "roc-auc score : 0.8076634466103156\n",
      "best params : {'depth': 3, 'learning_rate': 0.05, 'min_data_in_leaf': 10}\n"
     ]
    }
   ],
   "source": [
    "# Custom модель CatBoost\n",
    "cat_boost_model = CatBoostClassifier(\n",
    "    cat_features=cat_cols,\n",
    "    loss_function = 'Logloss',\n",
    "    eval_metric='AUC',\n",
    "    verbose=False,\n",
    "    iterations=250\n",
    ")\n",
    "\n",
    "# Сетка параметров\n",
    "grid = {\n",
    "    'learning_rate': [0.05,0.1,0.2],\n",
    "    'depth': [3,4,5],\n",
    "    'min_data_in_leaf': [10,100],\n",
    "}\n",
    "\n",
    "# Кроссвалидация по сетке\n",
    "cbcv = GridSearchCV(cat_boost_model, param_grid=grid, n_jobs=-1)\n",
    "cbcv.fit(X_train, y_train, cat_features=cat_cols)\n",
    "\n",
    "# Лучшая оценка и параметры\n",
    "print(f'roc-auc score : {cbcv.best_score_}')\n",
    "print(f'best params : {cbcv.best_params_}')"
   ]
  },
  {
   "cell_type": "markdown",
   "metadata": {
    "id": "rf4Kjt96EEZU"
   },
   "source": [
    "Выпишите какое лучшее качество и с какими параметрами вам удалось получить"
   ]
  },
  {
   "cell_type": "markdown",
   "metadata": {
    "id": "d2d9GolXEEZV"
   },
   "source": []
  },
  {
   "cell_type": "markdown",
   "metadata": {
    "id": "dDMXbvNZEEZV"
   },
   "source": [
    "# Предсказания"
   ]
  },
  {
   "cell_type": "code",
   "execution_count": 182,
   "metadata": {
    "ExecuteTime": {
     "end_time": "2022-04-06T17:16:49.043059Z",
     "start_time": "2022-04-06T17:16:49.010085Z"
    },
    "id": "FfSufx0CEEZZ"
   },
   "outputs": [],
   "source": [
    "X_test = data_test\n",
    "X_test['TotalSpent'] = pd.to_numeric(X_test['TotalSpent'], errors='coerce')\n",
    "\n",
    "submission = pd.read_csv('submission.csv')\n",
    "submission['Churn'] = cbcv.predict_proba(X_test)[:, 1]\n",
    "submission.to_csv('./my_submission.csv', index=False)"
   ]
  },
  {
   "cell_type": "markdown",
   "metadata": {
    "id": "mkxjbGkVEEZc"
   },
   "source": [
    "# Kaggle (5 баллов)\n",
    "\n",
    "Как выставить баллы:\n",
    "\n",
    "1) 1 >= roc auc > 0.84 это 5 баллов\n",
    "\n",
    "2) 0.84 >= roc auc > 0.7 это 3 балла\n",
    "\n",
    "3) 0.7 >= roc auc > 0.6 это 1 балл\n",
    "\n",
    "4) 0.6 >= roc auc это 0 баллов\n",
    "\n",
    "\n",
    "Для выполнения задания необходимо выполнить следующие шаги.\n",
    "* Зарегистрироваться на платформе [kaggle.com](kaggle.com). Процесс выставления оценок будет проходить при подведении итогового рейтинга. Пожалуйста, укажите во вкладке Team -> Team name свои имя и фамилию в формате Имя_Фамилия (важно, чтобы имя и фамилия совпадали с данными на Stepik).\n",
    "* Обучить модель, получить файл с ответами в формате .csv и сдать его в конкурс. Пробуйте и экспериментируйте. Обратите внимание, что вы можете выполнять до 20 попыток сдачи на kaggle в день.\n",
    "* После окончания соревнования отправить в итоговый ноутбук с решением на степик. \n",
    "* После дедлайна проверьте посылки других участников по критериям. Для этого надо зайти на степик, скачать их ноутбук и проверить скор в соревновании."
   ]
  }
 ],
 "metadata": {
  "colab": {
   "collapsed_sections": [],
   "name": "baseline.ipynb",
   "provenance": []
  },
  "kernelspec": {
   "display_name": "Python 3",
   "language": "python",
   "name": "python3"
  },
  "language_info": {
   "codemirror_mode": {
    "name": "ipython",
    "version": 3
   },
   "file_extension": ".py",
   "mimetype": "text/x-python",
   "name": "python",
   "nbconvert_exporter": "python",
   "pygments_lexer": "ipython3",
   "version": "3.9.7"
  }
 },
 "nbformat": 4,
 "nbformat_minor": 1
}
